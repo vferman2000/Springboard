{
  "nbformat": 4,
  "nbformat_minor": 0,
  "metadata": {
    "colab": {
      "name": "Ultimate_Technologies_Exploratory_Analysis_.ipynb",
      "provenance": [],
      "collapsed_sections": [],
      "mount_file_id": "10T7_SpneyHlmAWe1tRbraSxCF66vLv-4",
      "authorship_tag": "ABX9TyPaGqjMekv4EdHVn6aWa+lz",
      "include_colab_link": true
    },
    "kernelspec": {
      "name": "python3",
      "display_name": "Python 3"
    }
  },
  "cells": [
    {
      "cell_type": "markdown",
      "metadata": {
        "id": "view-in-github",
        "colab_type": "text"
      },
      "source": [
        "<a href=\"https://colab.research.google.com/github/vferman2000/Springboard/blob/master/Ultimate_Technologies_Exploratory_Analysis_.ipynb\" target=\"_parent\"><img src=\"https://colab.research.google.com/assets/colab-badge.svg\" alt=\"Open In Colab\"/></a>"
      ]
    },
    {
      "cell_type": "markdown",
      "metadata": {
        "id": "WNiUln2PvwAe",
        "colab_type": "text"
      },
      "source": [
        "# Data Analysis Interview Challenge"
      ]
    },
    {
      "cell_type": "markdown",
      "metadata": {
        "id": "8p58MSC7HYXc",
        "colab_type": "text"
      },
      "source": [
        "# Exploratory Data Analysis"
      ]
    },
    {
      "cell_type": "markdown",
      "metadata": {
        "id": "0sP2KO-7HZ1e",
        "colab_type": "text"
      },
      "source": [
        "The attached logins.json file contains (simulated) timestamps of user logins in a particular\n",
        "geographic location. Aggregate these login counts based on 15minute\n",
        "time intervals, and\n",
        "visualize and describe the resulting time series of login counts in ways that best characterize the\n",
        "underlying patterns of the demand. Please report/illustrate important features of the demand,\n",
        "such as daily cycles. If there are data quality issues, please report them."
      ]
    },
    {
      "cell_type": "code",
      "metadata": {
        "id": "_sBeU1r4lqTV",
        "colab_type": "code",
        "colab": {
          "base_uri": "https://localhost:8080/",
          "height": 71
        },
        "outputId": "617d3b1b-28b2-42b5-9388-a861109e917b"
      },
      "source": [
        "#Importing libraries\n",
        "import pandas as pd\n",
        "import json\n",
        "from pandas.io.json import json_normalize\n",
        "import numpy as np\n",
        "import random\n",
        "import datetime as dt\n",
        "import matplotlib.pyplot as plt\n",
        "import seaborn as sns\n"
      ],
      "execution_count": 1,
      "outputs": [
        {
          "output_type": "stream",
          "text": [
            "/usr/local/lib/python3.6/dist-packages/statsmodels/tools/_testing.py:19: FutureWarning: pandas.util.testing is deprecated. Use the functions in the public API at pandas.testing instead.\n",
            "  import pandas.util.testing as tm\n"
          ],
          "name": "stderr"
        }
      ]
    },
    {
      "cell_type": "code",
      "metadata": {
        "id": "KYBvVY59zhKp",
        "colab_type": "code",
        "colab": {
          "resources": {
            "http://localhost:8080/nbextensions/google.colab/files.js": {
              "data": "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",
              "ok": true,
              "headers": [
                [
                  "content-type",
                  "application/javascript"
                ]
              ],
              "status": 200,
              "status_text": ""
            }
          },
          "base_uri": "https://localhost:8080/",
          "height": 72
        },
        "outputId": "25bb4de3-6c7d-4328-f3c7-1110c2e3b4b5"
      },
      "source": [
        "#uploading files to Google collab\n",
        "\n",
        "from google.colab import files\n",
        "def getLocalFiles():\n",
        "    _files = files.upload()\n",
        "    if len(_files) >0:\n",
        "       for k,v in _files.items():\n",
        "         open(k,'wb').write(v)\n",
        "getLocalFiles()"
      ],
      "execution_count": null,
      "outputs": [
        {
          "output_type": "display_data",
          "data": {
            "text/html": [
              "\n",
              "     <input type=\"file\" id=\"files-dfdcd278-49a9-4149-a3ba-f5be3a85b660\" name=\"files[]\" multiple disabled\n",
              "        style=\"border:none\" />\n",
              "     <output id=\"result-dfdcd278-49a9-4149-a3ba-f5be3a85b660\">\n",
              "      Upload widget is only available when the cell has been executed in the\n",
              "      current browser session. Please rerun this cell to enable.\n",
              "      </output>\n",
              "      <script src=\"/nbextensions/google.colab/files.js\"></script> "
            ],
            "text/plain": [
              "<IPython.core.display.HTML object>"
            ]
          },
          "metadata": {
            "tags": []
          }
        },
        {
          "output_type": "stream",
          "text": [
            "Saving logins.json to logins.json\n"
          ],
          "name": "stdout"
        }
      ]
    },
    {
      "cell_type": "code",
      "metadata": {
        "id": "2B0D5Lt6z7MH",
        "colab_type": "code",
        "colab": {
          "base_uri": "https://localhost:8080/",
          "height": 170
        },
        "outputId": "e710f932-dba1-4fb4-cb11-abd6f660121e"
      },
      "source": [
        "# Importing login json file into pandas DataFrame\n",
        "# Logins DataFrame has one column with 93142 entries\n",
        "\n",
        "logins = pd.read_json('/content/logins.json', orient=\"records\")\n",
        "print(len(logins.login_time))\n",
        "logins.info()"
      ],
      "execution_count": null,
      "outputs": [
        {
          "output_type": "stream",
          "text": [
            "93142\n",
            "<class 'pandas.core.frame.DataFrame'>\n",
            "RangeIndex: 93142 entries, 0 to 93141\n",
            "Data columns (total 1 columns):\n",
            " #   Column      Non-Null Count  Dtype         \n",
            "---  ------      --------------  -----         \n",
            " 0   login_time  93142 non-null  datetime64[ns]\n",
            "dtypes: datetime64[ns](1)\n",
            "memory usage: 727.8 KB\n"
          ],
          "name": "stdout"
        }
      ]
    },
    {
      "cell_type": "code",
      "metadata": {
        "id": "pCrBfvs_8N6W",
        "colab_type": "code",
        "colab": {
          "base_uri": "https://localhost:8080/",
          "height": 204
        },
        "outputId": "9d989774-6d0b-4936-99bc-6ebeedff9636"
      },
      "source": [
        "logins.head()"
      ],
      "execution_count": null,
      "outputs": [
        {
          "output_type": "execute_result",
          "data": {
            "text/html": [
              "<div>\n",
              "<style scoped>\n",
              "    .dataframe tbody tr th:only-of-type {\n",
              "        vertical-align: middle;\n",
              "    }\n",
              "\n",
              "    .dataframe tbody tr th {\n",
              "        vertical-align: top;\n",
              "    }\n",
              "\n",
              "    .dataframe thead th {\n",
              "        text-align: right;\n",
              "    }\n",
              "</style>\n",
              "<table border=\"1\" class=\"dataframe\">\n",
              "  <thead>\n",
              "    <tr style=\"text-align: right;\">\n",
              "      <th></th>\n",
              "      <th>login_time</th>\n",
              "    </tr>\n",
              "  </thead>\n",
              "  <tbody>\n",
              "    <tr>\n",
              "      <th>0</th>\n",
              "      <td>1970-01-01 20:13:18</td>\n",
              "    </tr>\n",
              "    <tr>\n",
              "      <th>1</th>\n",
              "      <td>1970-01-01 20:16:10</td>\n",
              "    </tr>\n",
              "    <tr>\n",
              "      <th>2</th>\n",
              "      <td>1970-01-01 20:16:37</td>\n",
              "    </tr>\n",
              "    <tr>\n",
              "      <th>3</th>\n",
              "      <td>1970-01-01 20:16:36</td>\n",
              "    </tr>\n",
              "    <tr>\n",
              "      <th>4</th>\n",
              "      <td>1970-01-01 20:26:21</td>\n",
              "    </tr>\n",
              "  </tbody>\n",
              "</table>\n",
              "</div>"
            ],
            "text/plain": [
              "           login_time\n",
              "0 1970-01-01 20:13:18\n",
              "1 1970-01-01 20:16:10\n",
              "2 1970-01-01 20:16:37\n",
              "3 1970-01-01 20:16:36\n",
              "4 1970-01-01 20:26:21"
            ]
          },
          "metadata": {
            "tags": []
          },
          "execution_count": 4
        }
      ]
    },
    {
      "cell_type": "code",
      "metadata": {
        "id": "yjPfRzGd2WAC",
        "colab_type": "code",
        "colab": {
          "base_uri": "https://localhost:8080/",
          "height": 235
        },
        "outputId": "31a1ab1e-5ff5-43d2-c360-aad5b08ae385"
      },
      "source": [
        "#Converts login_time column to datetime with date/time format\n",
        "#Sets login_time column as DatetimeIndex for date plotting \n",
        "\n",
        "logins['login_time'] =  pd.to_datetime(logins['login_time'], format=\"%Y-%m-%d  %H:%M\")\n",
        "logins['count'] = 1\n",
        "logins = logins.set_index('login_time')\n",
        "logins.head()\n"
      ],
      "execution_count": null,
      "outputs": [
        {
          "output_type": "execute_result",
          "data": {
            "text/html": [
              "<div>\n",
              "<style scoped>\n",
              "    .dataframe tbody tr th:only-of-type {\n",
              "        vertical-align: middle;\n",
              "    }\n",
              "\n",
              "    .dataframe tbody tr th {\n",
              "        vertical-align: top;\n",
              "    }\n",
              "\n",
              "    .dataframe thead th {\n",
              "        text-align: right;\n",
              "    }\n",
              "</style>\n",
              "<table border=\"1\" class=\"dataframe\">\n",
              "  <thead>\n",
              "    <tr style=\"text-align: right;\">\n",
              "      <th></th>\n",
              "      <th>count</th>\n",
              "    </tr>\n",
              "    <tr>\n",
              "      <th>login_time</th>\n",
              "      <th></th>\n",
              "    </tr>\n",
              "  </thead>\n",
              "  <tbody>\n",
              "    <tr>\n",
              "      <th>1970-01-01 20:13:18</th>\n",
              "      <td>1</td>\n",
              "    </tr>\n",
              "    <tr>\n",
              "      <th>1970-01-01 20:16:10</th>\n",
              "      <td>1</td>\n",
              "    </tr>\n",
              "    <tr>\n",
              "      <th>1970-01-01 20:16:37</th>\n",
              "      <td>1</td>\n",
              "    </tr>\n",
              "    <tr>\n",
              "      <th>1970-01-01 20:16:36</th>\n",
              "      <td>1</td>\n",
              "    </tr>\n",
              "    <tr>\n",
              "      <th>1970-01-01 20:26:21</th>\n",
              "      <td>1</td>\n",
              "    </tr>\n",
              "  </tbody>\n",
              "</table>\n",
              "</div>"
            ],
            "text/plain": [
              "                     count\n",
              "login_time                \n",
              "1970-01-01 20:13:18      1\n",
              "1970-01-01 20:16:10      1\n",
              "1970-01-01 20:16:37      1\n",
              "1970-01-01 20:16:36      1\n",
              "1970-01-01 20:26:21      1"
            ]
          },
          "metadata": {
            "tags": []
          },
          "execution_count": 5
        }
      ]
    },
    {
      "cell_type": "code",
      "metadata": {
        "id": "2uSxqepSlr7g",
        "colab_type": "code",
        "colab": {
          "base_uri": "https://localhost:8080/",
          "height": 391
        },
        "outputId": "36cbf74f-c85a-4351-fa2c-93a5b32cb7eb"
      },
      "source": [
        "#All the logins in the dataset were logged in 1970\n",
        "\n",
        "sns.set()\n",
        "ax = logins.groupby(pd.Grouper(freq='Y')).count()\n",
        "ax.plot(kind='bar')\n",
        "plt.show()"
      ],
      "execution_count": null,
      "outputs": [
        {
          "output_type": "display_data",
          "data": {
            "image/png": "[encoded data removed]",
            "text/plain": [
              "<Figure size 432x288 with 1 Axes>"
            ]
          },
          "metadata": {
            "tags": []
          }
        }
      ]
    },
    {
      "cell_type": "code",
      "metadata": {
        "id": "w3-UGvbw50Td",
        "colab_type": "code",
        "colab": {
          "base_uri": "https://localhost:8080/",
          "height": 410
        },
        "outputId": "d4ad8a39-a5cb-46c3-a4a9-a89a6580eb83"
      },
      "source": [
        "# Loggins were recorded from January to April 1970\n",
        "\n",
        "sns.set()\n",
        "plt.figure(figsize=(10,7))\n",
        "ax = logins.groupby(pd.Grouper(freq='M')).count()\n",
        "ax.plot(kind='bar')\n",
        "plt.show()"
      ],
      "execution_count": null,
      "outputs": [
        {
          "output_type": "display_data",
          "data": {
            "text/plain": [
              "<Figure size 720x504 with 0 Axes>"
            ]
          },
          "metadata": {
            "tags": []
          }
        },
        {
          "output_type": "display_data",
          "data": {
            "image/png": "[encoded data removed]",
            "text/plain": [
              "<Figure size 432x288 with 1 Axes>"
            ]
          },
          "metadata": {
            "tags": []
          }
        }
      ]
    },
    {
      "cell_type": "markdown",
      "metadata": {
        "id": "zvBWIQ0wHpuJ",
        "colab_type": "text"
      },
      "source": [
        "##The month of March shows the highest number of logins"
      ]
    },
    {
      "cell_type": "code",
      "metadata": {
        "id": "LDXy2E8MRTLu",
        "colab_type": "code",
        "colab": {
          "base_uri": "https://localhost:8080/",
          "height": 313
        },
        "outputId": "2185ab4c-4208-420d-96f1-395aae987168"
      },
      "source": [
        "plt.figure(figsize=(10,7))\n",
        "sns.set()\n",
        "ax = logins.groupby(pd.Grouper(freq='M')).sum()\n",
        "ax.plot()\n",
        "plt.show()"
      ],
      "execution_count": null,
      "outputs": [
        {
          "output_type": "display_data",
          "data": {
            "text/plain": [
              "<Figure size 720x504 with 0 Axes>"
            ]
          },
          "metadata": {
            "tags": []
          }
        },
        {
          "output_type": "display_data",
          "data": {
            "image/png": "[encoded data removed]",
            "text/plain": [
              "<Figure size 432x288 with 1 Axes>"
            ]
          },
          "metadata": {
            "tags": []
          }
        }
      ]
    },
    {
      "cell_type": "markdown",
      "metadata": {
        "id": "Giu3dwa1H4PB",
        "colab_type": "text"
      },
      "source": [
        "## Data is aggregated into 15 minutes intervals"
      ]
    },
    {
      "cell_type": "code",
      "metadata": {
        "id": "yePdSuIcyQBd",
        "colab_type": "code",
        "colab": {
          "base_uri": "https://localhost:8080/",
          "height": 235
        },
        "outputId": "8d4b1602-03cf-4e6c-d0b8-882f893cc271"
      },
      "source": [
        "#Creates DataFrame with 15 minutes intervals and their login counts \n",
        "#Creates two new columns date and time columns respectively\n",
        "#Creates a column for the day of the week\n",
        "\n",
        "df_15m =  pd.DataFrame()\n",
        "df_15m = logins.reset_index()\n",
        "df_15m = df_15m.set_index(\"login_time\")\n",
        "df_15m = df_15m.resample('15T').count().reset_index()\n",
        "df_15m['date'] = df_15m.login_time.dt.date\n",
        "df_15m['time'] = df_15m.login_time.dt.time\n",
        "df_15m = df_15m.set_index('login_time')\n",
        "df_15m.head()\n"
      ],
      "execution_count": null,
      "outputs": [
        {
          "output_type": "execute_result",
          "data": {
            "text/html": [
              "<div>\n",
              "<style scoped>\n",
              "    .dataframe tbody tr th:only-of-type {\n",
              "        vertical-align: middle;\n",
              "    }\n",
              "\n",
              "    .dataframe tbody tr th {\n",
              "        vertical-align: top;\n",
              "    }\n",
              "\n",
              "    .dataframe thead th {\n",
              "        text-align: right;\n",
              "    }\n",
              "</style>\n",
              "<table border=\"1\" class=\"dataframe\">\n",
              "  <thead>\n",
              "    <tr style=\"text-align: right;\">\n",
              "      <th></th>\n",
              "      <th>count</th>\n",
              "      <th>date</th>\n",
              "      <th>time</th>\n",
              "    </tr>\n",
              "    <tr>\n",
              "      <th>login_time</th>\n",
              "      <th></th>\n",
              "      <th></th>\n",
              "      <th></th>\n",
              "    </tr>\n",
              "  </thead>\n",
              "  <tbody>\n",
              "    <tr>\n",
              "      <th>1970-01-01 20:00:00</th>\n",
              "      <td>2</td>\n",
              "      <td>1970-01-01</td>\n",
              "      <td>20:00:00</td>\n",
              "    </tr>\n",
              "    <tr>\n",
              "      <th>1970-01-01 20:15:00</th>\n",
              "      <td>6</td>\n",
              "      <td>1970-01-01</td>\n",
              "      <td>20:15:00</td>\n",
              "    </tr>\n",
              "    <tr>\n",
              "      <th>1970-01-01 20:30:00</th>\n",
              "      <td>9</td>\n",
              "      <td>1970-01-01</td>\n",
              "      <td>20:30:00</td>\n",
              "    </tr>\n",
              "    <tr>\n",
              "      <th>1970-01-01 20:45:00</th>\n",
              "      <td>7</td>\n",
              "      <td>1970-01-01</td>\n",
              "      <td>20:45:00</td>\n",
              "    </tr>\n",
              "    <tr>\n",
              "      <th>1970-01-01 21:00:00</th>\n",
              "      <td>1</td>\n",
              "      <td>1970-01-01</td>\n",
              "      <td>21:00:00</td>\n",
              "    </tr>\n",
              "  </tbody>\n",
              "</table>\n",
              "</div>"
            ],
            "text/plain": [
              "                     count        date      time\n",
              "login_time                                      \n",
              "1970-01-01 20:00:00      2  1970-01-01  20:00:00\n",
              "1970-01-01 20:15:00      6  1970-01-01  20:15:00\n",
              "1970-01-01 20:30:00      9  1970-01-01  20:30:00\n",
              "1970-01-01 20:45:00      7  1970-01-01  20:45:00\n",
              "1970-01-01 21:00:00      1  1970-01-01  21:00:00"
            ]
          },
          "metadata": {
            "tags": []
          },
          "execution_count": 9
        }
      ]
    },
    {
      "cell_type": "code",
      "metadata": {
        "id": "xkQu-wlnm4j3",
        "colab_type": "code",
        "colab": {
          "base_uri": "https://localhost:8080/",
          "height": 297
        },
        "outputId": "df44a33c-b4f1-4251-a3f1-21d07a5c2663"
      },
      "source": [
        "df_15m.describe()"
      ],
      "execution_count": null,
      "outputs": [
        {
          "output_type": "execute_result",
          "data": {
            "text/html": [
              "<div>\n",
              "<style scoped>\n",
              "    .dataframe tbody tr th:only-of-type {\n",
              "        vertical-align: middle;\n",
              "    }\n",
              "\n",
              "    .dataframe tbody tr th {\n",
              "        vertical-align: top;\n",
              "    }\n",
              "\n",
              "    .dataframe thead th {\n",
              "        text-align: right;\n",
              "    }\n",
              "</style>\n",
              "<table border=\"1\" class=\"dataframe\">\n",
              "  <thead>\n",
              "    <tr style=\"text-align: right;\">\n",
              "      <th></th>\n",
              "      <th>count</th>\n",
              "    </tr>\n",
              "  </thead>\n",
              "  <tbody>\n",
              "    <tr>\n",
              "      <th>count</th>\n",
              "      <td>9788.000000</td>\n",
              "    </tr>\n",
              "    <tr>\n",
              "      <th>mean</th>\n",
              "      <td>9.515938</td>\n",
              "    </tr>\n",
              "    <tr>\n",
              "      <th>std</th>\n",
              "      <td>8.328818</td>\n",
              "    </tr>\n",
              "    <tr>\n",
              "      <th>min</th>\n",
              "      <td>0.000000</td>\n",
              "    </tr>\n",
              "    <tr>\n",
              "      <th>25%</th>\n",
              "      <td>3.000000</td>\n",
              "    </tr>\n",
              "    <tr>\n",
              "      <th>50%</th>\n",
              "      <td>7.000000</td>\n",
              "    </tr>\n",
              "    <tr>\n",
              "      <th>75%</th>\n",
              "      <td>13.000000</td>\n",
              "    </tr>\n",
              "    <tr>\n",
              "      <th>max</th>\n",
              "      <td>73.000000</td>\n",
              "    </tr>\n",
              "  </tbody>\n",
              "</table>\n",
              "</div>"
            ],
            "text/plain": [
              "             count\n",
              "count  9788.000000\n",
              "mean      9.515938\n",
              "std       8.328818\n",
              "min       0.000000\n",
              "25%       3.000000\n",
              "50%       7.000000\n",
              "75%      13.000000\n",
              "max      73.000000"
            ]
          },
          "metadata": {
            "tags": []
          },
          "execution_count": 10
        }
      ]
    },
    {
      "cell_type": "markdown",
      "metadata": {
        "id": "wK5UUOu6IJrW",
        "colab_type": "text"
      },
      "source": [
        "Maximum number of logins in one 15 minute interval was 73 on March 1 at 4:30 am."
      ]
    },
    {
      "cell_type": "code",
      "metadata": {
        "id": "ZCQgnvba3Rg2",
        "colab_type": "code",
        "colab": {
          "base_uri": "https://localhost:8080/",
          "height": 111
        },
        "outputId": "5cb78bd0-526e-40aa-8f94-fbd72ca70ec0"
      },
      "source": [
        "# Max number of logins in one 15 minute interval was 73\n",
        "df_15m.loc[df_15m['count'] == 73]\n"
      ],
      "execution_count": null,
      "outputs": [
        {
          "output_type": "execute_result",
          "data": {
            "text/html": [
              "<div>\n",
              "<style scoped>\n",
              "    .dataframe tbody tr th:only-of-type {\n",
              "        vertical-align: middle;\n",
              "    }\n",
              "\n",
              "    .dataframe tbody tr th {\n",
              "        vertical-align: top;\n",
              "    }\n",
              "\n",
              "    .dataframe thead th {\n",
              "        text-align: right;\n",
              "    }\n",
              "</style>\n",
              "<table border=\"1\" class=\"dataframe\">\n",
              "  <thead>\n",
              "    <tr style=\"text-align: right;\">\n",
              "      <th></th>\n",
              "      <th>count</th>\n",
              "      <th>date</th>\n",
              "      <th>time</th>\n",
              "    </tr>\n",
              "    <tr>\n",
              "      <th>login_time</th>\n",
              "      <th></th>\n",
              "      <th></th>\n",
              "      <th></th>\n",
              "    </tr>\n",
              "  </thead>\n",
              "  <tbody>\n",
              "    <tr>\n",
              "      <th>1970-03-01 04:30:00</th>\n",
              "      <td>73</td>\n",
              "      <td>1970-03-01</td>\n",
              "      <td>04:30:00</td>\n",
              "    </tr>\n",
              "  </tbody>\n",
              "</table>\n",
              "</div>"
            ],
            "text/plain": [
              "                     count        date      time\n",
              "login_time                                      \n",
              "1970-03-01 04:30:00     73  1970-03-01  04:30:00"
            ]
          },
          "metadata": {
            "tags": []
          },
          "execution_count": 11
        }
      ]
    },
    {
      "cell_type": "code",
      "metadata": {
        "id": "Nqs1gCi9UrSe",
        "colab_type": "code",
        "colab": {
          "base_uri": "https://localhost:8080/",
          "height": 312
        },
        "outputId": "badb0a9f-4bc3-4c43-9ed4-462939d5d827"
      },
      "source": [
        "from matplotlib import pyplot\n",
        "df_15m.plot()\n",
        "plt.title('Total Number of Logins Recorded in 15 Minute Intervals')\n",
        "plt.xlabel('Login Time')\n",
        "plt.ylabel('Count')\n",
        "plt.show()"
      ],
      "execution_count": null,
      "outputs": [
        {
          "output_type": "display_data",
          "data": {
            "image/png": "[encoded data removed]",
            "text/plain": [
              "<Figure size 432x288 with 1 Axes>"
            ]
          },
          "metadata": {
            "tags": []
          }
        }
      ]
    },
    {
      "cell_type": "markdown",
      "metadata": {
        "id": "msIOMSTaIrRS",
        "colab_type": "text"
      },
      "source": [
        "## The majority of 15 minute intervals received between 0 and 20 logins.  The mean is 9.515938 logins."
      ]
    },
    {
      "cell_type": "code",
      "metadata": {
        "id": "IMiJuB15SJug",
        "colab_type": "code",
        "colab": {
          "base_uri": "https://localhost:8080/",
          "height": 301
        },
        "outputId": "8db44a88-7591-4ffe-d742-ad63ecd527e6"
      },
      "source": [
        "df_15m.hist()\n",
        "plt.title('Total Number of Logins in a one 15 Minute Interval')\n",
        "plt.xlabel('Number of logins')\n",
        "plt.ylabel('Count')\n",
        "plt.show()"
      ],
      "execution_count": null,
      "outputs": [
        {
          "output_type": "display_data",
          "data": {
            "image/png": "[encoded data removed]",
            "text/plain": [
              "<Figure size 432x288 with 1 Axes>"
            ]
          },
          "metadata": {
            "tags": []
          }
        }
      ]
    },
    {
      "cell_type": "markdown",
      "metadata": {
        "id": "sGqSXYtSJSiR",
        "colab_type": "text"
      },
      "source": [
        "The following plot shows number of logings by time of day across all days. An activity trend can be appreciated starting early in the morning, declining mid-morning and raising again before noon. There is a surge after 5:00 pm."
      ]
    },
    {
      "cell_type": "code",
      "metadata": {
        "id": "u1QlQAe62tpM",
        "colab_type": "code",
        "colab": {
          "base_uri": "https://localhost:8080/",
          "height": 440
        },
        "outputId": "139dae31-cf8b-4319-b59c-0a88f4af77f8"
      },
      "source": [
        "fig, ax = plt.subplots(figsize=(15,7))\n",
        "df_15m.groupby(['time']).sum().reset_index().plot(x='time', y='count', ax=ax)\n",
        "ax.set_ylabel('login_counts')\n",
        "ax.set_title('Number of Logins by Time of the day')\n",
        "plt.show()"
      ],
      "execution_count": null,
      "outputs": [
        {
          "output_type": "display_data",
          "data": {
            "image/png": "[encoded data removed]",
            "text/plain": [
              "<Figure size 1080x504 with 1 Axes>"
            ]
          },
          "metadata": {
            "tags": []
          }
        }
      ]
    },
    {
      "cell_type": "markdown",
      "metadata": {
        "id": "Q-Qd1zNNKc7j",
        "colab_type": "text"
      },
      "source": [
        "## The following plots show the number of logings by time of day of each day of the week individually. It is important to note the difference between the weekday and weekend trends."
      ]
    },
    {
      "cell_type": "code",
      "metadata": {
        "id": "X2WzkzqmqZhk",
        "colab_type": "code",
        "colab": {
          "base_uri": "https://localhost:8080/",
          "height": 1000
        },
        "outputId": "3c8efa02-972f-4236-8d92-5312beff16a7"
      },
      "source": [
        "df = pd.DataFrame()\n",
        "df = df_15m.reset_index()\n",
        "df['dow'] = df.login_time.dt.day_name() #Includes name of week in DataFrame\n",
        "\n",
        "fig, ax = plt.subplots(nrows=7, ncols=1, figsize=(20,30))\n",
        "ax = ax.flatten()  #Far easier to work with a flattened array\n",
        "\n",
        "lsize=12\n",
        "plt.subplots_adjust(wspace=1, hspace=1)  #Controls whitespace between subplots\n",
        "\n",
        "for idx, gp in df.groupby(df.login_time.dt.dayofweek):\n",
        "    ax[idx].set_title(gp.login_time.dt.day_name().iloc[0])  #Set title to the weekday\n",
        "    ax[idx].set_ylabel('Login Counts', fontsize=lsize)\n",
        "    ax[idx].set_xlabel('Login Hour', fontsize=lsize) \n",
        "\n",
        "    (gp.groupby(['dow','time']).sum().reset_index()\n",
        "        .plot(x='time', y='count', ax=ax[idx], rot=1,  legend=False))\n",
        "\n",
        "plt.show()\n",
        "\n"
      ],
      "execution_count": null,
      "outputs": [
        {
          "output_type": "display_data",
          "data": {
            "image/png": "[encoded data removed]",
            "text/plain": [
              "<Figure size 1440x2160 with 7 Axes>"
            ]
          },
          "metadata": {
            "tags": []
          }
        }
      ]
    },
    {
      "cell_type": "markdown",
      "metadata": {
        "id": "fl0QTw6ipRFW",
        "colab_type": "text"
      },
      "source": [
        "# Experiment and Metrics Design"
      ]
    },
    {
      "cell_type": "markdown",
      "metadata": {
        "id": "jf5slDitvJ6w",
        "colab_type": "text"
      },
      "source": [
        "The neighboring cities of Gotham and Metropolis have complementary circadian rhythms: on\n",
        "weekdays, Ultimate Gotham is most active at night, and Ultimate Metropolis is most active\n",
        "during the day. On weekends, there is reasonable activity in both cities.\n",
        "However, a toll bridge, with a two way\n",
        "toll, between the two cities causes driver partners to tend\n",
        "to be exclusive to each city. The Ultimate managers of city operations for the two cities have\n",
        "proposed an experiment to encourage driver partners to be available in both cities, by\n",
        "reimbursing all toll costs.\n",
        "1. What would you choose as the key measure of success of this experiment in\n",
        "encouraging driver partners to serve both cities, and why would you choose this metric?\n",
        "2. Describe a practical experiment you would design to compare the effectiveness of the\n",
        "proposed change in relation to the key measure of success. Please provide details on:\n",
        "a. how you will implement the experiment\n",
        "b. what statistical test(s) you will conduct to verify the significance of the\n",
        "observation\n",
        "c. how you would interpret the results and provide recommendations to the city\n",
        "operations team along with any caveats."
      ]
    },
    {
      "cell_type": "markdown",
      "metadata": {
        "id": "MvkkpMUv8Ht-",
        "colab_type": "text"
      },
      "source": [
        "1) I would choose a correlation metrics to measure the success of the experiment. For the following reasons:\n",
        "\n",
        "*   As it is, the supply of drivers in the cities of Gotham and Metropolis is fixed and exclusive to the driver partners in each city.\n",
        "*  The experiment proposed by management would like to  increase the supply of drivers in each city by encouraging driver partners to be available in both locations and ultimately meet more demand and increase number of rides.\n",
        "*  Given that the driver logins are recorded in each city, a successful experiment will increase the number of logins in each city.\n",
        "*   The toll crossing with the corresponding payments would be a good measurement of the number of drivers crossing to the neighboring city.\n",
        "*   The correlation coefficient would indicate whether there is a relationship between the number of toll crossings(payments made) and the increased supply in each city.\n",
        "*   A successful experiment would have a positive correlation between toll crossings and increased driver supply (logins).\n",
        "*   To encourage drivers to be part of the experiment, Ultimate management can show how drivers willing to cross the toll benefited from the increase in rides. Management will make payment on all tolls, hence it is win-win situation for the drivers.\n",
        "\n",
        "2)The experiment design is as follows:\n",
        "*   The experiment will take place during two quarters (three months).\n",
        "*   Tolls payments will be recorded and assuming that the toll is paid both ways.\n",
        "*   Logins will be recorded in each city.\n",
        "\n",
        "**Statistical tests**\n",
        "\n",
        "A correlation coefficient of 1 means there is a perfect association between the variables in such a way that if one variable is increasing (toll crossing payments) then the other is increasing (logins). A value of -1 means there is a perfect inverse relationship between the variables so if one is increasing then the other  is decreasing.  A value of 0 means there is no association between the two variables.\n",
        "\n",
        "In terms of the correlation coefficient, the null hypothesis(H0) states: There IS NOT a significant linear relationship (correlation) between toll crossing payments and number of logins. The population correlation coefficient IS NOT significantly different from zero.\n",
        "\n",
        "The alternative hypothesis states: There IS a significant linear relationship between toll crossing payments and number of logins. The correlation coefficient IS significantly different from zero.\n",
        "\n",
        " **Caveats:**\n",
        "Correlation does not imply causation.  The test will explore relationship if there is one between the variables.\n",
        "\n",
        "**Recommendations to Management**\n",
        "\n",
        "*   If null hypothesis proves true, management needs to assess whether the toll bridge between the two cities is the cause of driver partners keeping exclusively to each city.\n",
        "\n",
        "*   If alterntative hypothesis proves true, management should start a marketing campaign to promote the toll free program with numbers to prove the gains.\n",
        "\n",
        "\n",
        "\n",
        "\n",
        "\n",
        "\n",
        "\n",
        "\n",
        "\n",
        "\n",
        "\n",
        "\n",
        "\n"
      ]
    },
    {
      "cell_type": "markdown",
      "metadata": {
        "id": "BPpdoKLDvBXU",
        "colab_type": "text"
      },
      "source": [
        "# Predicting Modeling"
      ]
    },
    {
      "cell_type": "markdown",
      "metadata": {
        "id": "vzrWqSocvcA1",
        "colab_type": "text"
      },
      "source": [
        "Ultimate is interested in predicting rider retention. To help explore this question, we have\n",
        "provided a sample dataset of a cohort of users who signed up for an Ultimate account in January 2014. The data was pulled several months later; we consider a user retained if they\n",
        "were “active” (i.e. took a trip) in the preceding 30 days.\n",
        "We would like you to use this data set to help understand what factors are the best predictors\n",
        "for retention, and offer suggestions to operationalize those insights to help Ultimate.\n",
        "The data is in the attached file ultimate_data_challenge.json. See below for a detailed\n",
        "description of the dataset. Please include any code you wrote for the analysis and delete the\n",
        "dataset when you have finished with the challenge.\n",
        "1. Perform any cleaning, exploratory analysis, and/or visualizations to use the provided\n",
        "data for this analysis (a few sentences/plots describing your approach will suffice). What\n",
        "fraction of the observed users were retained?\n",
        "2. Build a predictive model to help Ultimate determine whether or not a user will be active\n",
        "in their 6th month on the system. Discuss why you chose your approach, what\n",
        "alternatives you considered, and any concerns you have. How valid is your model?\n",
        "Include any key indicators of model performance.\n",
        "3. Briefly discuss how Ultimate might leverage the insights gained from the model to\n",
        "improve its longterm\n",
        "rider retention (again, a few sentences will suffice)."
      ]
    },
    {
      "cell_type": "code",
      "metadata": {
        "id": "rE2lfAs2vbEq",
        "colab_type": "code",
        "colab": {
          "resources": {
            "http://localhost:8080/nbextensions/google.colab/files.js": {
              "data": "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",
              "ok": true,
              "headers": [
                [
                  "content-type",
                  "application/javascript"
                ]
              ],
              "status": 200,
              "status_text": ""
            }
          },
          "base_uri": "https://localhost:8080/",
          "height": 72
        },
        "outputId": "4040ee35-071d-48eb-fba1-5d64273ec172"
      },
      "source": [
        "from google.colab import files\n",
        "def getLocalFiles():\n",
        "    _files = files.upload()\n",
        "    if len(_files) >0:\n",
        "       for k,v in _files.items():\n",
        "         open(k,'wb').write(v)\n",
        "getLocalFiles()"
      ],
      "execution_count": 438,
      "outputs": [
        {
          "output_type": "display_data",
          "data": {
            "text/html": [
              "\n",
              "     <input type=\"file\" id=\"files-6bf81ff7-fe18-4540-88c7-c9097b6ba2dd\" name=\"files[]\" multiple disabled\n",
              "        style=\"border:none\" />\n",
              "     <output id=\"result-6bf81ff7-fe18-4540-88c7-c9097b6ba2dd\">\n",
              "      Upload widget is only available when the cell has been executed in the\n",
              "      current browser session. Please rerun this cell to enable.\n",
              "      </output>\n",
              "      <script src=\"/nbextensions/google.colab/files.js\"></script> "
            ],
            "text/plain": [
              "<IPython.core.display.HTML object>"
            ]
          },
          "metadata": {
            "tags": []
          }
        },
        {
          "output_type": "stream",
          "text": [
            "Saving ultimate_data_challenge1.json to ultimate_data_challenge1 (1).json\n"
          ],
          "name": "stdout"
        }
      ]
    },
    {
      "cell_type": "code",
      "metadata": {
        "id": "Ud6SvZ3vX2jo",
        "colab_type": "code",
        "colab": {}
      },
      "source": [
        "data = pd.read_json('/content/ultimate_data_challenge1.json', orient='split')"
      ],
      "execution_count": 439,
      "outputs": []
    },
    {
      "cell_type": "code",
      "metadata": {
        "id": "5c6ZC_iYYAEF",
        "colab_type": "code",
        "colab": {
          "base_uri": "https://localhost:8080/",
          "height": 258
        },
        "outputId": "471c37fe-8233-4dbb-c50d-49a98c233be7"
      },
      "source": [
        "data.head()"
      ],
      "execution_count": 440,
      "outputs": [
        {
          "output_type": "execute_result",
          "data": {
            "text/html": [
              "<div>\n",
              "<style scoped>\n",
              "    .dataframe tbody tr th:only-of-type {\n",
              "        vertical-align: middle;\n",
              "    }\n",
              "\n",
              "    .dataframe tbody tr th {\n",
              "        vertical-align: top;\n",
              "    }\n",
              "\n",
              "    .dataframe thead th {\n",
              "        text-align: right;\n",
              "    }\n",
              "</style>\n",
              "<table border=\"1\" class=\"dataframe\">\n",
              "  <thead>\n",
              "    <tr style=\"text-align: right;\">\n",
              "      <th></th>\n",
              "      <th>city</th>\n",
              "      <th>trips_in_first_30_days</th>\n",
              "      <th>signup_date</th>\n",
              "      <th>avg_rating_of_driver</th>\n",
              "      <th>avg_surge</th>\n",
              "      <th>last_trip_date</th>\n",
              "      <th>phone</th>\n",
              "      <th>surge_pct</th>\n",
              "      <th>ultimate_black_user</th>\n",
              "      <th>weekday_pct</th>\n",
              "      <th>avg_dist</th>\n",
              "      <th>avg_rating_by_driver</th>\n",
              "    </tr>\n",
              "  </thead>\n",
              "  <tbody>\n",
              "    <tr>\n",
              "      <th>0</th>\n",
              "      <td>King's Landing</td>\n",
              "      <td>4</td>\n",
              "      <td>2014-01-25</td>\n",
              "      <td>4.7</td>\n",
              "      <td>1.10</td>\n",
              "      <td>2014-06-17</td>\n",
              "      <td>iPhone</td>\n",
              "      <td>15.4</td>\n",
              "      <td>True</td>\n",
              "      <td>46.2</td>\n",
              "      <td>3.67</td>\n",
              "      <td>5.0</td>\n",
              "    </tr>\n",
              "    <tr>\n",
              "      <th>1</th>\n",
              "      <td>Astapor</td>\n",
              "      <td>0</td>\n",
              "      <td>2014-01-29</td>\n",
              "      <td>5.0</td>\n",
              "      <td>1.00</td>\n",
              "      <td>2014-05-05</td>\n",
              "      <td>Android</td>\n",
              "      <td>0.0</td>\n",
              "      <td>False</td>\n",
              "      <td>50.0</td>\n",
              "      <td>8.26</td>\n",
              "      <td>5.0</td>\n",
              "    </tr>\n",
              "    <tr>\n",
              "      <th>2</th>\n",
              "      <td>Astapor</td>\n",
              "      <td>3</td>\n",
              "      <td>2014-01-06</td>\n",
              "      <td>4.3</td>\n",
              "      <td>1.00</td>\n",
              "      <td>2014-01-07</td>\n",
              "      <td>iPhone</td>\n",
              "      <td>0.0</td>\n",
              "      <td>False</td>\n",
              "      <td>100.0</td>\n",
              "      <td>0.77</td>\n",
              "      <td>5.0</td>\n",
              "    </tr>\n",
              "    <tr>\n",
              "      <th>3</th>\n",
              "      <td>King's Landing</td>\n",
              "      <td>9</td>\n",
              "      <td>2014-01-10</td>\n",
              "      <td>4.6</td>\n",
              "      <td>1.14</td>\n",
              "      <td>2014-06-29</td>\n",
              "      <td>iPhone</td>\n",
              "      <td>20.0</td>\n",
              "      <td>True</td>\n",
              "      <td>80.0</td>\n",
              "      <td>2.36</td>\n",
              "      <td>4.9</td>\n",
              "    </tr>\n",
              "    <tr>\n",
              "      <th>4</th>\n",
              "      <td>Winterfell</td>\n",
              "      <td>14</td>\n",
              "      <td>2014-01-27</td>\n",
              "      <td>4.4</td>\n",
              "      <td>1.19</td>\n",
              "      <td>2014-03-15</td>\n",
              "      <td>Android</td>\n",
              "      <td>11.8</td>\n",
              "      <td>False</td>\n",
              "      <td>82.4</td>\n",
              "      <td>3.13</td>\n",
              "      <td>4.9</td>\n",
              "    </tr>\n",
              "  </tbody>\n",
              "</table>\n",
              "</div>"
            ],
            "text/plain": [
              "             city  trips_in_first_30_days  ... avg_dist  avg_rating_by_driver\n",
              "0  King's Landing                       4  ...     3.67                   5.0\n",
              "1         Astapor                       0  ...     8.26                   5.0\n",
              "2         Astapor                       3  ...     0.77                   5.0\n",
              "3  King's Landing                       9  ...     2.36                   4.9\n",
              "4      Winterfell                      14  ...     3.13                   4.9\n",
              "\n",
              "[5 rows x 12 columns]"
            ]
          },
          "metadata": {
            "tags": []
          },
          "execution_count": 440
        }
      ]
    },
    {
      "cell_type": "code",
      "metadata": {
        "id": "n-3qzymHYIRp",
        "colab_type": "code",
        "colab": {
          "base_uri": "https://localhost:8080/",
          "height": 340
        },
        "outputId": "2394167d-c1cd-4a17-d44f-1d1ce7e277a4"
      },
      "source": [
        "data.info()"
      ],
      "execution_count": 441,
      "outputs": [
        {
          "output_type": "stream",
          "text": [
            "<class 'pandas.core.frame.DataFrame'>\n",
            "RangeIndex: 50000 entries, 0 to 49999\n",
            "Data columns (total 12 columns):\n",
            " #   Column                  Non-Null Count  Dtype  \n",
            "---  ------                  --------------  -----  \n",
            " 0   city                    50000 non-null  object \n",
            " 1   trips_in_first_30_days  50000 non-null  int64  \n",
            " 2   signup_date             50000 non-null  object \n",
            " 3   avg_rating_of_driver    41878 non-null  float64\n",
            " 4   avg_surge               50000 non-null  float64\n",
            " 5   last_trip_date          50000 non-null  object \n",
            " 6   phone                   49604 non-null  object \n",
            " 7   surge_pct               50000 non-null  float64\n",
            " 8   ultimate_black_user     50000 non-null  bool   \n",
            " 9   weekday_pct             50000 non-null  float64\n",
            " 10  avg_dist                50000 non-null  float64\n",
            " 11  avg_rating_by_driver    49799 non-null  float64\n",
            "dtypes: bool(1), float64(6), int64(1), object(4)\n",
            "memory usage: 4.2+ MB\n"
          ],
          "name": "stdout"
        }
      ]
    },
    {
      "cell_type": "markdown",
      "metadata": {
        "id": "ESeOQkWgXVd1",
        "colab_type": "text"
      },
      "source": [
        "# Data Cleaning"
      ]
    },
    {
      "cell_type": "code",
      "metadata": {
        "id": "u7YlRvgn2_rq",
        "colab_type": "code",
        "colab": {}
      },
      "source": [
        "# Finding null values\n",
        "data.phone [data.phone.isnull()]\n",
        "\n",
        "#Filling missing phone values \n",
        "data.phone = data.phone.fillna('None')"
      ],
      "execution_count": 442,
      "outputs": []
    },
    {
      "cell_type": "code",
      "metadata": {
        "id": "on89ydAD4SbW",
        "colab_type": "code",
        "colab": {}
      },
      "source": [
        "# Finding null values\n",
        "#Filling missing avg_rating_of_driver values \n",
        "\n",
        "data.avg_rating_of_driver[data.avg_rating_of_driver.isnull()]\n",
        "data.avg_rating_of_driver = data.avg_rating_of_driver.fillna(0)"
      ],
      "execution_count": 443,
      "outputs": []
    },
    {
      "cell_type": "code",
      "metadata": {
        "id": "y3gcfrx65BNu",
        "colab_type": "code",
        "colab": {}
      },
      "source": [
        "# Finding null values\n",
        "#Filling missing avg_rating_by_driver values \n",
        "\n",
        "data.avg_rating_by_driver[data.avg_rating_by_driver.isnull()]\n",
        "data.avg_rating_by_driver = data.avg_rating_by_driver.fillna(0)"
      ],
      "execution_count": 445,
      "outputs": []
    },
    {
      "cell_type": "code",
      "metadata": {
        "id": "sMhGVcbVbqfh",
        "colab_type": "code",
        "colab": {
          "base_uri": "https://localhost:8080/",
          "height": 297
        },
        "outputId": "43e26950-2c16-49e1-8a32-57deebe34c60"
      },
      "source": [
        "data.describe()"
      ],
      "execution_count": 446,
      "outputs": [
        {
          "output_type": "execute_result",
          "data": {
            "text/html": [
              "<div>\n",
              "<style scoped>\n",
              "    .dataframe tbody tr th:only-of-type {\n",
              "        vertical-align: middle;\n",
              "    }\n",
              "\n",
              "    .dataframe tbody tr th {\n",
              "        vertical-align: top;\n",
              "    }\n",
              "\n",
              "    .dataframe thead th {\n",
              "        text-align: right;\n",
              "    }\n",
              "</style>\n",
              "<table border=\"1\" class=\"dataframe\">\n",
              "  <thead>\n",
              "    <tr style=\"text-align: right;\">\n",
              "      <th></th>\n",
              "      <th>trips_in_first_30_days</th>\n",
              "      <th>avg_rating_of_driver</th>\n",
              "      <th>avg_surge</th>\n",
              "      <th>surge_pct</th>\n",
              "      <th>weekday_pct</th>\n",
              "      <th>avg_dist</th>\n",
              "      <th>avg_rating_by_driver</th>\n",
              "    </tr>\n",
              "  </thead>\n",
              "  <tbody>\n",
              "    <tr>\n",
              "      <th>count</th>\n",
              "      <td>50000.000000</td>\n",
              "      <td>50000.000000</td>\n",
              "      <td>50000.000000</td>\n",
              "      <td>50000.000000</td>\n",
              "      <td>50000.000000</td>\n",
              "      <td>50000.000000</td>\n",
              "      <td>50000.000000</td>\n",
              "    </tr>\n",
              "    <tr>\n",
              "      <th>mean</th>\n",
              "      <td>2.278200</td>\n",
              "      <td>3.854082</td>\n",
              "      <td>1.074764</td>\n",
              "      <td>8.849536</td>\n",
              "      <td>60.926084</td>\n",
              "      <td>5.796827</td>\n",
              "      <td>4.758950</td>\n",
              "    </tr>\n",
              "    <tr>\n",
              "      <th>std</th>\n",
              "      <td>3.792684</td>\n",
              "      <td>1.788881</td>\n",
              "      <td>0.222336</td>\n",
              "      <td>19.958811</td>\n",
              "      <td>37.081503</td>\n",
              "      <td>5.707357</td>\n",
              "      <td>0.538617</td>\n",
              "    </tr>\n",
              "    <tr>\n",
              "      <th>min</th>\n",
              "      <td>0.000000</td>\n",
              "      <td>0.000000</td>\n",
              "      <td>1.000000</td>\n",
              "      <td>0.000000</td>\n",
              "      <td>0.000000</td>\n",
              "      <td>0.000000</td>\n",
              "      <td>0.000000</td>\n",
              "    </tr>\n",
              "    <tr>\n",
              "      <th>25%</th>\n",
              "      <td>0.000000</td>\n",
              "      <td>4.000000</td>\n",
              "      <td>1.000000</td>\n",
              "      <td>0.000000</td>\n",
              "      <td>33.300000</td>\n",
              "      <td>2.420000</td>\n",
              "      <td>4.700000</td>\n",
              "    </tr>\n",
              "    <tr>\n",
              "      <th>50%</th>\n",
              "      <td>1.000000</td>\n",
              "      <td>4.700000</td>\n",
              "      <td>1.000000</td>\n",
              "      <td>0.000000</td>\n",
              "      <td>66.700000</td>\n",
              "      <td>3.880000</td>\n",
              "      <td>5.000000</td>\n",
              "    </tr>\n",
              "    <tr>\n",
              "      <th>75%</th>\n",
              "      <td>3.000000</td>\n",
              "      <td>5.000000</td>\n",
              "      <td>1.050000</td>\n",
              "      <td>8.600000</td>\n",
              "      <td>100.000000</td>\n",
              "      <td>6.940000</td>\n",
              "      <td>5.000000</td>\n",
              "    </tr>\n",
              "    <tr>\n",
              "      <th>max</th>\n",
              "      <td>125.000000</td>\n",
              "      <td>5.000000</td>\n",
              "      <td>8.000000</td>\n",
              "      <td>100.000000</td>\n",
              "      <td>100.000000</td>\n",
              "      <td>160.960000</td>\n",
              "      <td>5.000000</td>\n",
              "    </tr>\n",
              "  </tbody>\n",
              "</table>\n",
              "</div>"
            ],
            "text/plain": [
              "       trips_in_first_30_days  ...  avg_rating_by_driver\n",
              "count            50000.000000  ...          50000.000000\n",
              "mean                 2.278200  ...              4.758950\n",
              "std                  3.792684  ...              0.538617\n",
              "min                  0.000000  ...              0.000000\n",
              "25%                  0.000000  ...              4.700000\n",
              "50%                  1.000000  ...              5.000000\n",
              "75%                  3.000000  ...              5.000000\n",
              "max                125.000000  ...              5.000000\n",
              "\n",
              "[8 rows x 7 columns]"
            ]
          },
          "metadata": {
            "tags": []
          },
          "execution_count": 446
        }
      ]
    },
    {
      "cell_type": "markdown",
      "metadata": {
        "id": "QGnjHWBv89lf",
        "colab_type": "text"
      },
      "source": [
        "# Data Visualization\n"
      ]
    },
    {
      "cell_type": "markdown",
      "metadata": {
        "id": "_UzQhpr6YcNy",
        "colab_type": "text"
      },
      "source": [
        "The data spreads from 2014-01-01 when the firs sign up occured to 2014-07-01 when the last trip date was recorded.\n"
      ]
    },
    {
      "cell_type": "code",
      "metadata": {
        "id": "de6XoEDZcU0N",
        "colab_type": "code",
        "colab": {
          "base_uri": "https://localhost:8080/",
          "height": 51
        },
        "outputId": "120725e6-dbfc-4670-ad5e-4a4830413e2c"
      },
      "source": [
        "# Converting sign up date to datetime\n",
        "\n",
        "data['last_trip_date'] = pd.to_datetime(data['last_trip_date'])\n",
        "least_recent_date = data['last_trip_date'].min()\n",
        "most_recent_date = data['last_trip_date'].max()\n",
        "\n",
        "print(\"The least recent date in 'last_trip_date' column is\", least_recent_date)\n",
        "print(\"The most recent date in 'last_trip_date' column is\", most_recent_date)\n",
        "\n"
      ],
      "execution_count": 447,
      "outputs": [
        {
          "output_type": "stream",
          "text": [
            "The least recent date in 'last_trip_date' column is 2014-01-01 00:00:00\n",
            "The most recent date in 'last_trip_date' column is 2014-07-01 00:00:00\n"
          ],
          "name": "stdout"
        }
      ]
    },
    {
      "cell_type": "markdown",
      "metadata": {
        "id": "S4HxEqBGzJXN",
        "colab_type": "text"
      },
      "source": [
        "Plot showing that more than 17,500 drivers had a ride in the month of June and therefore are considered 'active'."
      ]
    },
    {
      "cell_type": "code",
      "metadata": {
        "id": "usBRgo4tzCQZ",
        "colab_type": "code",
        "colab": {
          "base_uri": "https://localhost:8080/",
          "height": 407
        },
        "outputId": "81570853-0df7-425c-ad69-615e3fcb48bc"
      },
      "source": [
        "last_trip = data.filter(['last_trip_date'], axis=1)\n",
        "last_trip['count'] = 1\n",
        "last_trip = last_trip.set_index('last_trip_date')\n",
        "ax = last_trip.groupby(pd.Grouper(freq='M')).count()\n",
        "ax.plot(kind='bar')\n",
        "plt.title(\"Last trip by month\")\n",
        "plt.show()\n"
      ],
      "execution_count": 462,
      "outputs": [
        {
          "output_type": "display_data",
          "data": {
            "image/png": "[encoded data removed]",
            "text/plain": [
              "<Figure size 432x288 with 1 Axes>"
            ]
          },
          "metadata": {
            "tags": []
          }
        }
      ]
    },
    {
      "cell_type": "markdown",
      "metadata": {
        "id": "sRXRLK8xZdJP",
        "colab_type": "text"
      },
      "source": [
        "A new column 'retained' is created to account for active or inactive status of the driver.  1 if the driver has rides in the preceding 30 days and 0 if driver does not have a ride in the preceding 30 days"
      ]
    },
    {
      "cell_type": "code",
      "metadata": {
        "id": "fqkmKG4-duAH",
        "colab_type": "code",
        "colab": {}
      },
      "source": [
        "from datetime import datetime, timedelta\n",
        "#Creating a new column 'retained' with a value of 1 if the driver has rides in the preceding 30 days \n",
        "#and 0 if driver does not have a ride in the preceding 30 days.\n",
        "\n",
        "#adding one day to the last trip date recorded 'most_recent_date\"\n",
        "hours_to_add = 24\n",
        "datetime_new = most_recent_date + timedelta(hours = hours_to_add)\n",
        "\n",
        "#calculating if drivers' last trip is within 30 days\n",
        "data['diff']=(pd.to_datetime(datetime_new)-data.last_trip_date).dt.days\n",
        "data['retained']=pd.cut(data['diff'],bins = [0,30,99999],labels=[1,0]).astype(np.int8)\n"
      ],
      "execution_count": 448,
      "outputs": []
    },
    {
      "cell_type": "markdown",
      "metadata": {
        "id": "PAcIF49j1dMR",
        "colab_type": "text"
      },
      "source": [
        "The following plot clearly shows that once aggregated, the number of inactive drivers is higher than the ones considered active or retained.  Only 36% of drivers were retained.\n",
        "\n"
      ]
    },
    {
      "cell_type": "code",
      "metadata": {
        "id": "4C2PADAKz4S3",
        "colab_type": "code",
        "colab": {
          "base_uri": "https://localhost:8080/",
          "height": 392
        },
        "outputId": "31e34199-0da4-4fe0-e913-ed136b865065"
      },
      "source": [
        "\n",
        "retention_percentage = round(len(data.loc[(data['retained']==1)])/len(data['retained']), 3)*100.0\n",
        "print('The percentage of drivers that was retained is:',retention_percentage, '%' )\n",
        "print()\n",
        "plt.figure(figsize=(7,5))\n",
        "retention = data['retained'].value_counts()\n",
        "retention.plot(kind = 'bar', rot=0, y='Number of retained drivers', color = 'slategrey')\n",
        "plt.title('Number of active drivers vs. inactive drivers', fontsize=15)\n",
        "plt.xlabel('Retention', fontsize=14)\n",
        "plt.ylabel('Number of drivers',fontsize=14)\n",
        "plt.show()"
      ],
      "execution_count": 483,
      "outputs": [
        {
          "output_type": "stream",
          "text": [
            "The percentage of drivers that was retained is: 36.6 %\n",
            "\n"
          ],
          "name": "stdout"
        },
        {
          "output_type": "display_data",
          "data": {
            "image/png": "[encoded data removed]",
            "text/plain": [
              "<Figure size 504x360 with 1 Axes>"
            ]
          },
          "metadata": {
            "tags": []
          }
        }
      ]
    },
    {
      "cell_type": "markdown",
      "metadata": {
        "id": "-uu9M-Pyu1PO",
        "colab_type": "text"
      },
      "source": [
        "Next, a new column 'sixth_month' is created to account for drivers that have been in the system for more than 5 months. This will be used in the model to account for drivers that are active in their sixth month."
      ]
    },
    {
      "cell_type": "code",
      "metadata": {
        "id": "oIQtLgvBouqk",
        "colab_type": "code",
        "colab": {}
      },
      "source": [
        "#Creating a new column 'sixth_month' with a value of 1 if the driver has more than \n",
        "#152 days(5 months from Jan1 to June1) signed up.\n",
        "#0 if the driver has less than 152 days.\n",
        "\n",
        "data['signup_date'] = (pd.to_datetime(data.signup_date))\n",
        "data['sixth_month_diff'] = (pd.to_datetime(most_recent_date)-(data.signup_date)).dt.days\n",
        "data['sixth_month'] = pd.cut(data['sixth_month_diff'],bins = [0,152,99999],labels=[0,1]).astype(np.int8)"
      ],
      "execution_count": 484,
      "outputs": []
    },
    {
      "cell_type": "markdown",
      "metadata": {
        "id": "jiinh9wub7qP",
        "colab_type": "text"
      },
      "source": [
        "# Conversion of categorical variables to numerical values.\n",
        "The data contains columns of categorical data that will be converted to numerical data.\n"
      ]
    },
    {
      "cell_type": "code",
      "metadata": {
        "id": "J0EBHeOFth43",
        "colab_type": "code",
        "colab": {}
      },
      "source": [
        "# Converting 'ultimate_black_user' variable to a 1 if driver is an ultimate_black_user and a 0 if driver \n",
        "#is not an ultimate_black_user\n",
        "\n",
        "data['ultimate_black_user'] = [1 if s == True else 0 for s in data['ultimate_black_user']]"
      ],
      "execution_count": 314,
      "outputs": []
    },
    {
      "cell_type": "code",
      "metadata": {
        "id": "yTn1gUJEv-jc",
        "colab_type": "code",
        "colab": {
          "base_uri": "https://localhost:8080/",
          "height": 34
        },
        "outputId": "c1194d50-c22b-4e77-a599-089a5b2f8051"
      },
      "source": [
        "#Variable 'city' has 4 distinct cities \n",
        "\n",
        "data['city'].unique()"
      ],
      "execution_count": 315,
      "outputs": [
        {
          "output_type": "execute_result",
          "data": {
            "text/plain": [
              "array([\"King's Landing\", 'Astapor', 'Winterfell'], dtype=object)"
            ]
          },
          "metadata": {
            "tags": []
          },
          "execution_count": 315
        }
      ]
    },
    {
      "cell_type": "code",
      "metadata": {
        "id": "7H5fIlkw2yhe",
        "colab_type": "code",
        "colab": {
          "base_uri": "https://localhost:8080/",
          "height": 34
        },
        "outputId": "ed9efab0-c690-442f-cf48-674a84212e66"
      },
      "source": [
        "#Column 'phone' has 2 distinct phone types and one None category \n",
        "\n",
        "data['phone'].unique()"
      ],
      "execution_count": 316,
      "outputs": [
        {
          "output_type": "execute_result",
          "data": {
            "text/plain": [
              "array(['iPhone', 'Android', 'None'], dtype=object)"
            ]
          },
          "metadata": {
            "tags": []
          },
          "execution_count": 316
        }
      ]
    },
    {
      "cell_type": "code",
      "metadata": {
        "id": "HOle10ZR5grI",
        "colab_type": "code",
        "colab": {
          "base_uri": "https://localhost:8080/",
          "height": 241
        },
        "outputId": "7844c657-eb8b-4a75-d425-66c0b34bcc53"
      },
      "source": [
        "# One Hot Encoding is used to create columns to account for 4 cities and 3 phone categories\n",
        "# This method will convert the category values into new columns and assigns a 1 or 0 (True/False) value to the column\n",
        "\n",
        "data_enc = pd.get_dummies(data, columns=[\"city\", \"phone\",])\n",
        "data_enc.head()"
      ],
      "execution_count": 317,
      "outputs": [
        {
          "output_type": "execute_result",
          "data": {
            "text/html": [
              "<div>\n",
              "<style scoped>\n",
              "    .dataframe tbody tr th:only-of-type {\n",
              "        vertical-align: middle;\n",
              "    }\n",
              "\n",
              "    .dataframe tbody tr th {\n",
              "        vertical-align: top;\n",
              "    }\n",
              "\n",
              "    .dataframe thead th {\n",
              "        text-align: right;\n",
              "    }\n",
              "</style>\n",
              "<table border=\"1\" class=\"dataframe\">\n",
              "  <thead>\n",
              "    <tr style=\"text-align: right;\">\n",
              "      <th></th>\n",
              "      <th>trips_in_first_30_days</th>\n",
              "      <th>signup_date</th>\n",
              "      <th>avg_rating_of_driver</th>\n",
              "      <th>avg_surge</th>\n",
              "      <th>last_trip_date</th>\n",
              "      <th>surge_pct</th>\n",
              "      <th>ultimate_black_user</th>\n",
              "      <th>weekday_pct</th>\n",
              "      <th>avg_dist</th>\n",
              "      <th>avg_rating_by_driver</th>\n",
              "      <th>diff</th>\n",
              "      <th>retained</th>\n",
              "      <th>sixth_month_diff</th>\n",
              "      <th>sixth_month</th>\n",
              "      <th>city_Astapor</th>\n",
              "      <th>city_King's Landing</th>\n",
              "      <th>city_Winterfell</th>\n",
              "      <th>phone_Android</th>\n",
              "      <th>phone_None</th>\n",
              "      <th>phone_iPhone</th>\n",
              "    </tr>\n",
              "  </thead>\n",
              "  <tbody>\n",
              "    <tr>\n",
              "      <th>0</th>\n",
              "      <td>4</td>\n",
              "      <td>2014-01-25</td>\n",
              "      <td>4.7</td>\n",
              "      <td>1.10</td>\n",
              "      <td>2014-06-17</td>\n",
              "      <td>15.4</td>\n",
              "      <td>1</td>\n",
              "      <td>46.2</td>\n",
              "      <td>3.67</td>\n",
              "      <td>5.0</td>\n",
              "      <td>15</td>\n",
              "      <td>1</td>\n",
              "      <td>157</td>\n",
              "      <td>1</td>\n",
              "      <td>0</td>\n",
              "      <td>1</td>\n",
              "      <td>0</td>\n",
              "      <td>0</td>\n",
              "      <td>0</td>\n",
              "      <td>1</td>\n",
              "    </tr>\n",
              "    <tr>\n",
              "      <th>1</th>\n",
              "      <td>0</td>\n",
              "      <td>2014-01-29</td>\n",
              "      <td>5.0</td>\n",
              "      <td>1.00</td>\n",
              "      <td>2014-05-05</td>\n",
              "      <td>0.0</td>\n",
              "      <td>0</td>\n",
              "      <td>50.0</td>\n",
              "      <td>8.26</td>\n",
              "      <td>5.0</td>\n",
              "      <td>58</td>\n",
              "      <td>0</td>\n",
              "      <td>153</td>\n",
              "      <td>1</td>\n",
              "      <td>1</td>\n",
              "      <td>0</td>\n",
              "      <td>0</td>\n",
              "      <td>1</td>\n",
              "      <td>0</td>\n",
              "      <td>0</td>\n",
              "    </tr>\n",
              "    <tr>\n",
              "      <th>2</th>\n",
              "      <td>3</td>\n",
              "      <td>2014-01-06</td>\n",
              "      <td>4.3</td>\n",
              "      <td>1.00</td>\n",
              "      <td>2014-01-07</td>\n",
              "      <td>0.0</td>\n",
              "      <td>0</td>\n",
              "      <td>100.0</td>\n",
              "      <td>0.77</td>\n",
              "      <td>5.0</td>\n",
              "      <td>176</td>\n",
              "      <td>0</td>\n",
              "      <td>176</td>\n",
              "      <td>1</td>\n",
              "      <td>1</td>\n",
              "      <td>0</td>\n",
              "      <td>0</td>\n",
              "      <td>0</td>\n",
              "      <td>0</td>\n",
              "      <td>1</td>\n",
              "    </tr>\n",
              "    <tr>\n",
              "      <th>3</th>\n",
              "      <td>9</td>\n",
              "      <td>2014-01-10</td>\n",
              "      <td>4.6</td>\n",
              "      <td>1.14</td>\n",
              "      <td>2014-06-29</td>\n",
              "      <td>20.0</td>\n",
              "      <td>1</td>\n",
              "      <td>80.0</td>\n",
              "      <td>2.36</td>\n",
              "      <td>4.9</td>\n",
              "      <td>3</td>\n",
              "      <td>1</td>\n",
              "      <td>172</td>\n",
              "      <td>1</td>\n",
              "      <td>0</td>\n",
              "      <td>1</td>\n",
              "      <td>0</td>\n",
              "      <td>0</td>\n",
              "      <td>0</td>\n",
              "      <td>1</td>\n",
              "    </tr>\n",
              "    <tr>\n",
              "      <th>4</th>\n",
              "      <td>14</td>\n",
              "      <td>2014-01-27</td>\n",
              "      <td>4.4</td>\n",
              "      <td>1.19</td>\n",
              "      <td>2014-03-15</td>\n",
              "      <td>11.8</td>\n",
              "      <td>0</td>\n",
              "      <td>82.4</td>\n",
              "      <td>3.13</td>\n",
              "      <td>4.9</td>\n",
              "      <td>109</td>\n",
              "      <td>0</td>\n",
              "      <td>155</td>\n",
              "      <td>1</td>\n",
              "      <td>0</td>\n",
              "      <td>0</td>\n",
              "      <td>1</td>\n",
              "      <td>1</td>\n",
              "      <td>0</td>\n",
              "      <td>0</td>\n",
              "    </tr>\n",
              "  </tbody>\n",
              "</table>\n",
              "</div>"
            ],
            "text/plain": [
              "   trips_in_first_30_days signup_date  ...  phone_None  phone_iPhone\n",
              "0                       4  2014-01-25  ...           0             1\n",
              "1                       0  2014-01-29  ...           0             0\n",
              "2                       3  2014-01-06  ...           0             1\n",
              "3                       9  2014-01-10  ...           0             1\n",
              "4                      14  2014-01-27  ...           0             0\n",
              "\n",
              "[5 rows x 20 columns]"
            ]
          },
          "metadata": {
            "tags": []
          },
          "execution_count": 317
        }
      ]
    },
    {
      "cell_type": "markdown",
      "metadata": {
        "id": "0TEtaRiDEiuu",
        "colab_type": "text"
      },
      "source": [
        "## Finally, drivers that are in their sixth month (1) are selected to train the classification model that will predict whether or not they will be active in their sixth month."
      ]
    },
    {
      "cell_type": "code",
      "metadata": {
        "id": "whMyLy0_02gS",
        "colab_type": "code",
        "colab": {}
      },
      "source": [
        "train_data_enc = data_enc.loc[(data_enc['sixth_month'] == 1)]                    "
      ],
      "execution_count": 318,
      "outputs": []
    },
    {
      "cell_type": "markdown",
      "metadata": {
        "id": "D4a1d29bSySt",
        "colab_type": "text"
      },
      "source": [
        "Features DataFrame"
      ]
    },
    {
      "cell_type": "code",
      "metadata": {
        "id": "4SjMHkQf2dTj",
        "colab_type": "code",
        "colab": {
          "base_uri": "https://localhost:8080/",
          "height": 456
        },
        "outputId": "1a46865e-039f-4562-d647-4116999a62a5"
      },
      "source": [
        "train_data_enc.drop(['signup_date','last_trip_date','diff','sixth_month_diff'],axis=1)"
      ],
      "execution_count": 349,
      "outputs": [
        {
          "output_type": "execute_result",
          "data": {
            "text/html": [
              "<div>\n",
              "<style scoped>\n",
              "    .dataframe tbody tr th:only-of-type {\n",
              "        vertical-align: middle;\n",
              "    }\n",
              "\n",
              "    .dataframe tbody tr th {\n",
              "        vertical-align: top;\n",
              "    }\n",
              "\n",
              "    .dataframe thead th {\n",
              "        text-align: right;\n",
              "    }\n",
              "</style>\n",
              "<table border=\"1\" class=\"dataframe\">\n",
              "  <thead>\n",
              "    <tr style=\"text-align: right;\">\n",
              "      <th></th>\n",
              "      <th>trips_in_first_30_days</th>\n",
              "      <th>avg_rating_of_driver</th>\n",
              "      <th>avg_surge</th>\n",
              "      <th>surge_pct</th>\n",
              "      <th>ultimate_black_user</th>\n",
              "      <th>weekday_pct</th>\n",
              "      <th>avg_dist</th>\n",
              "      <th>avg_rating_by_driver</th>\n",
              "      <th>retained</th>\n",
              "      <th>sixth_month</th>\n",
              "      <th>city_Astapor</th>\n",
              "      <th>city_King s Landing</th>\n",
              "      <th>city_Winterfell</th>\n",
              "      <th>phone_Android</th>\n",
              "      <th>phone_None</th>\n",
              "      <th>phone_iPhone</th>\n",
              "    </tr>\n",
              "  </thead>\n",
              "  <tbody>\n",
              "    <tr>\n",
              "      <th>0</th>\n",
              "      <td>4</td>\n",
              "      <td>4.7</td>\n",
              "      <td>1.10</td>\n",
              "      <td>15.4</td>\n",
              "      <td>1</td>\n",
              "      <td>46.2</td>\n",
              "      <td>3.67</td>\n",
              "      <td>5.0</td>\n",
              "      <td>1</td>\n",
              "      <td>1</td>\n",
              "      <td>0</td>\n",
              "      <td>1</td>\n",
              "      <td>0</td>\n",
              "      <td>0</td>\n",
              "      <td>0</td>\n",
              "      <td>1</td>\n",
              "    </tr>\n",
              "    <tr>\n",
              "      <th>1</th>\n",
              "      <td>0</td>\n",
              "      <td>5.0</td>\n",
              "      <td>1.00</td>\n",
              "      <td>0.0</td>\n",
              "      <td>0</td>\n",
              "      <td>50.0</td>\n",
              "      <td>8.26</td>\n",
              "      <td>5.0</td>\n",
              "      <td>0</td>\n",
              "      <td>1</td>\n",
              "      <td>1</td>\n",
              "      <td>0</td>\n",
              "      <td>0</td>\n",
              "      <td>1</td>\n",
              "      <td>0</td>\n",
              "      <td>0</td>\n",
              "    </tr>\n",
              "    <tr>\n",
              "      <th>2</th>\n",
              "      <td>3</td>\n",
              "      <td>4.3</td>\n",
              "      <td>1.00</td>\n",
              "      <td>0.0</td>\n",
              "      <td>0</td>\n",
              "      <td>100.0</td>\n",
              "      <td>0.77</td>\n",
              "      <td>5.0</td>\n",
              "      <td>0</td>\n",
              "      <td>1</td>\n",
              "      <td>1</td>\n",
              "      <td>0</td>\n",
              "      <td>0</td>\n",
              "      <td>0</td>\n",
              "      <td>0</td>\n",
              "      <td>1</td>\n",
              "    </tr>\n",
              "    <tr>\n",
              "      <th>3</th>\n",
              "      <td>9</td>\n",
              "      <td>4.6</td>\n",
              "      <td>1.14</td>\n",
              "      <td>20.0</td>\n",
              "      <td>1</td>\n",
              "      <td>80.0</td>\n",
              "      <td>2.36</td>\n",
              "      <td>4.9</td>\n",
              "      <td>1</td>\n",
              "      <td>1</td>\n",
              "      <td>0</td>\n",
              "      <td>1</td>\n",
              "      <td>0</td>\n",
              "      <td>0</td>\n",
              "      <td>0</td>\n",
              "      <td>1</td>\n",
              "    </tr>\n",
              "    <tr>\n",
              "      <th>4</th>\n",
              "      <td>14</td>\n",
              "      <td>4.4</td>\n",
              "      <td>1.19</td>\n",
              "      <td>11.8</td>\n",
              "      <td>0</td>\n",
              "      <td>82.4</td>\n",
              "      <td>3.13</td>\n",
              "      <td>4.9</td>\n",
              "      <td>0</td>\n",
              "      <td>1</td>\n",
              "      <td>0</td>\n",
              "      <td>0</td>\n",
              "      <td>1</td>\n",
              "      <td>1</td>\n",
              "      <td>0</td>\n",
              "      <td>0</td>\n",
              "    </tr>\n",
              "    <tr>\n",
              "      <th>...</th>\n",
              "      <td>...</td>\n",
              "      <td>...</td>\n",
              "      <td>...</td>\n",
              "      <td>...</td>\n",
              "      <td>...</td>\n",
              "      <td>...</td>\n",
              "      <td>...</td>\n",
              "      <td>...</td>\n",
              "      <td>...</td>\n",
              "      <td>...</td>\n",
              "      <td>...</td>\n",
              "      <td>...</td>\n",
              "      <td>...</td>\n",
              "      <td>...</td>\n",
              "      <td>...</td>\n",
              "      <td>...</td>\n",
              "    </tr>\n",
              "    <tr>\n",
              "      <th>49994</th>\n",
              "      <td>1</td>\n",
              "      <td>4.6</td>\n",
              "      <td>1.44</td>\n",
              "      <td>37.5</td>\n",
              "      <td>0</td>\n",
              "      <td>25.0</td>\n",
              "      <td>2.25</td>\n",
              "      <td>4.5</td>\n",
              "      <td>0</td>\n",
              "      <td>1</td>\n",
              "      <td>1</td>\n",
              "      <td>0</td>\n",
              "      <td>0</td>\n",
              "      <td>0</td>\n",
              "      <td>0</td>\n",
              "      <td>1</td>\n",
              "    </tr>\n",
              "    <tr>\n",
              "      <th>49995</th>\n",
              "      <td>0</td>\n",
              "      <td>5.0</td>\n",
              "      <td>1.00</td>\n",
              "      <td>0.0</td>\n",
              "      <td>0</td>\n",
              "      <td>100.0</td>\n",
              "      <td>5.63</td>\n",
              "      <td>4.2</td>\n",
              "      <td>1</td>\n",
              "      <td>1</td>\n",
              "      <td>0</td>\n",
              "      <td>1</td>\n",
              "      <td>0</td>\n",
              "      <td>0</td>\n",
              "      <td>0</td>\n",
              "      <td>1</td>\n",
              "    </tr>\n",
              "    <tr>\n",
              "      <th>49996</th>\n",
              "      <td>1</td>\n",
              "      <td>0.0</td>\n",
              "      <td>1.00</td>\n",
              "      <td>0.0</td>\n",
              "      <td>0</td>\n",
              "      <td>0.0</td>\n",
              "      <td>0.00</td>\n",
              "      <td>4.0</td>\n",
              "      <td>0</td>\n",
              "      <td>1</td>\n",
              "      <td>1</td>\n",
              "      <td>0</td>\n",
              "      <td>0</td>\n",
              "      <td>0</td>\n",
              "      <td>0</td>\n",
              "      <td>1</td>\n",
              "    </tr>\n",
              "    <tr>\n",
              "      <th>49998</th>\n",
              "      <td>2</td>\n",
              "      <td>3.0</td>\n",
              "      <td>1.00</td>\n",
              "      <td>0.0</td>\n",
              "      <td>0</td>\n",
              "      <td>100.0</td>\n",
              "      <td>4.58</td>\n",
              "      <td>3.5</td>\n",
              "      <td>0</td>\n",
              "      <td>1</td>\n",
              "      <td>1</td>\n",
              "      <td>0</td>\n",
              "      <td>0</td>\n",
              "      <td>0</td>\n",
              "      <td>0</td>\n",
              "      <td>1</td>\n",
              "    </tr>\n",
              "    <tr>\n",
              "      <th>49999</th>\n",
              "      <td>0</td>\n",
              "      <td>0.0</td>\n",
              "      <td>1.00</td>\n",
              "      <td>0.0</td>\n",
              "      <td>0</td>\n",
              "      <td>0.0</td>\n",
              "      <td>3.49</td>\n",
              "      <td>5.0</td>\n",
              "      <td>0</td>\n",
              "      <td>1</td>\n",
              "      <td>1</td>\n",
              "      <td>0</td>\n",
              "      <td>0</td>\n",
              "      <td>1</td>\n",
              "      <td>0</td>\n",
              "      <td>0</td>\n",
              "    </tr>\n",
              "  </tbody>\n",
              "</table>\n",
              "<p>46429 rows × 16 columns</p>\n",
              "</div>"
            ],
            "text/plain": [
              "       trips_in_first_30_days  avg_rating_of_driver  ...  phone_None  phone_iPhone\n",
              "0                           4                   4.7  ...           0             1\n",
              "1                           0                   5.0  ...           0             0\n",
              "2                           3                   4.3  ...           0             1\n",
              "3                           9                   4.6  ...           0             1\n",
              "4                          14                   4.4  ...           0             0\n",
              "...                       ...                   ...  ...         ...           ...\n",
              "49994                       1                   4.6  ...           0             1\n",
              "49995                       0                   5.0  ...           0             1\n",
              "49996                       1                   0.0  ...           0             1\n",
              "49998                       2                   3.0  ...           0             1\n",
              "49999                       0                   0.0  ...           0             0\n",
              "\n",
              "[46429 rows x 16 columns]"
            ]
          },
          "metadata": {
            "tags": []
          },
          "execution_count": 349
        }
      ]
    },
    {
      "cell_type": "code",
      "metadata": {
        "id": "K9C-m3NBuLF3",
        "colab_type": "code",
        "colab": {}
      },
      "source": [
        "# Removing apostrophe from \"King's Landing\" name for modeling\n",
        "\n",
        "train_data_enc.columns = train_data.columns.str.replace(\"'\",\" \")"
      ],
      "execution_count": 320,
      "outputs": []
    },
    {
      "cell_type": "code",
      "metadata": {
        "id": "2CBBoLm6AS_g",
        "colab_type": "code",
        "colab": {
          "base_uri": "https://localhost:8080/",
          "height": 476
        },
        "outputId": "7d8a41ed-7bcc-4d32-d765-dd220b269b23"
      },
      "source": [
        "train_data_enc.info()"
      ],
      "execution_count": 330,
      "outputs": [
        {
          "output_type": "stream",
          "text": [
            "<class 'pandas.core.frame.DataFrame'>\n",
            "Int64Index: 46429 entries, 0 to 49999\n",
            "Data columns (total 20 columns):\n",
            " #   Column                  Non-Null Count  Dtype         \n",
            "---  ------                  --------------  -----         \n",
            " 0   trips_in_first_30_days  46429 non-null  int64         \n",
            " 1   signup_date             46429 non-null  object        \n",
            " 2   avg_rating_of_driver    46429 non-null  float64       \n",
            " 3   avg_surge               46429 non-null  float64       \n",
            " 4   last_trip_date          46429 non-null  datetime64[ns]\n",
            " 5   surge_pct               46429 non-null  float64       \n",
            " 6   ultimate_black_user     46429 non-null  int64         \n",
            " 7   weekday_pct             46429 non-null  float64       \n",
            " 8   avg_dist                46429 non-null  float64       \n",
            " 9   avg_rating_by_driver    46429 non-null  float64       \n",
            " 10  diff                    46429 non-null  int64         \n",
            " 11  retained                46429 non-null  int8          \n",
            " 12  sixth_month_diff        46429 non-null  int64         \n",
            " 13  sixth_month             46429 non-null  int8          \n",
            " 14  city_Astapor            46429 non-null  uint8         \n",
            " 15  city_King s Landing     46429 non-null  uint8         \n",
            " 16  city_Winterfell         46429 non-null  uint8         \n",
            " 17  phone_Android           46429 non-null  uint8         \n",
            " 18  phone_None              46429 non-null  uint8         \n",
            " 19  phone_iPhone            46429 non-null  uint8         \n",
            "dtypes: datetime64[ns](1), float64(6), int64(4), int8(2), object(1), uint8(6)\n",
            "memory usage: 5.0+ MB\n"
          ],
          "name": "stdout"
        }
      ]
    },
    {
      "cell_type": "markdown",
      "metadata": {
        "id": "wCb6RbT7iMVe",
        "colab_type": "text"
      },
      "source": [
        "# Splitting data into train and test data"
      ]
    },
    {
      "cell_type": "code",
      "metadata": {
        "id": "vOR0_Dpz_MX4",
        "colab_type": "code",
        "colab": {}
      },
      "source": [
        "from sklearn.model_selection import train_test_split\n",
        "\n",
        "Xtrain, Xtest, ytrain, ytest = train_test_split(train_data_enc[[\n",
        "'trips_in_first_30_days', \n",
        "'avg_rating_of_driver', \n",
        "'avg_surge',\n",
        "'surge_pct', \n",
        "'weekday_pct', \n",
        "'avg_dist', \n",
        "'avg_rating_by_driver', \n",
        "'city_Astapor',\n",
        "'city_King s Landing',\n",
        "'city_Winterfell',\n",
        "'phone_Android',\n",
        "'phone_None',\n",
        "'phone_iPhone',\n",
        "'ultimate_black_user',\n",
        "      ]], train_data_enc.retained.values, test_size=.20, random_state=42)"
      ],
      "execution_count": 337,
      "outputs": []
    },
    {
      "cell_type": "code",
      "metadata": {
        "id": "k3-b_Xm3Lo1U",
        "colab_type": "code",
        "colab": {
          "base_uri": "https://localhost:8080/",
          "height": 51
        },
        "outputId": "da356eb8-487d-480d-e7a2-88d9ee764d5a"
      },
      "source": [
        "print('The train data has',len(Xtrain),'samples')\n",
        "print('The test data has',len(Xtest),'samples')"
      ],
      "execution_count": 338,
      "outputs": [
        {
          "output_type": "stream",
          "text": [
            "The train data has 37143 samples\n",
            "The test data has 9286 samples\n"
          ],
          "name": "stdout"
        }
      ]
    },
    {
      "cell_type": "markdown",
      "metadata": {
        "id": "6TC7E_f8ic84",
        "colab_type": "text"
      },
      "source": [
        "# Scaling the Data"
      ]
    },
    {
      "cell_type": "code",
      "metadata": {
        "id": "GakqRyZxkS5T",
        "colab_type": "code",
        "colab": {}
      },
      "source": [
        "from sklearn import preprocessing\n",
        "scaler = preprocessing.StandardScaler()"
      ],
      "execution_count": 348,
      "outputs": []
    },
    {
      "cell_type": "code",
      "metadata": {
        "id": "UVuRlnjYkT2W",
        "colab_type": "code",
        "colab": {}
      },
      "source": [
        "#scaling train data\n",
        "Xtrain = pd.DataFrame(scaler.fit_transform(Xtrain), columns=Xtrain.columns).values"
      ],
      "execution_count": 340,
      "outputs": []
    },
    {
      "cell_type": "code",
      "metadata": {
        "id": "hElWft1FkWkn",
        "colab_type": "code",
        "colab": {}
      },
      "source": [
        "#scaling test data\n",
        "\n",
        "Xtest = pd.DataFrame(scaler.fit_transform(Xtest), columns=Xtest.columns).values"
      ],
      "execution_count": 341,
      "outputs": []
    },
    {
      "cell_type": "markdown",
      "metadata": {
        "id": "Mpicl6LKjh5B",
        "colab_type": "text"
      },
      "source": [
        "# Building a XGBoost Model to predict whether or not a user will be active in their 6th month.  XGBoost was selected as a classification model that will predict 1 if the driver will be active and 0 if the driver will inactive."
      ]
    },
    {
      "cell_type": "code",
      "metadata": {
        "id": "jmGwIaZa9g7m",
        "colab_type": "code",
        "colab": {}
      },
      "source": [
        "from numpy import loadtxt\n",
        "from xgboost import XGBClassifier"
      ],
      "execution_count": 342,
      "outputs": []
    },
    {
      "cell_type": "markdown",
      "metadata": {
        "id": "LQ0W19tXRWUo",
        "colab_type": "text"
      },
      "source": [
        "Finding the best hyperparmeters"
      ]
    },
    {
      "cell_type": "code",
      "metadata": {
        "id": "e44CcG9j9LCH",
        "colab_type": "code",
        "colab": {
          "base_uri": "https://localhost:8080/",
          "height": 408
        },
        "outputId": "57a759ce-97fe-4b2e-9fb4-926b8c3c2790"
      },
      "source": [
        "from sklearn.model_selection import RandomizedSearchCV\n",
        "import time\n",
        "\n",
        "\n",
        "Xtrain, ytrain, Xtest, ytest = Xtrain, ytrain, Xtest, ytest\n",
        "clf = XGBClassifier()\n",
        "param_grid = {\n",
        "\n",
        "        'silent': [False],\n",
        "\n",
        "        'max_depth': [6, 10, 15, 20],\n",
        "\n",
        "        'learning_rate': [0.001, 0.01, 0.1, 0.2, 0,3]}\n",
        "\n",
        "\n",
        "randomized_clf = RandomizedSearchCV(clf, param_grid, n_iter=3, n_jobs=1, verbose=2, cv=2,\n",
        "scoring= 'accuracy', refit=False, random_state=42)\n",
        "print(\"Randomized search..\")\n",
        "search_time_start = time.time()\n",
        "randomized_clf.fit(Xtrain, ytrain)\n",
        "print(\"Randomized search time:\", time.time() - search_time_start)\n",
        "\n",
        "best_score = np.mean(randomized_clf.best_score_)\n",
        "best_params = randomized_clf.best_params_\n",
        "print(\"Best score: {}\".format(best_score))\n",
        "print(\"Best params: \")\n",
        "\n",
        "for param_name in sorted(best_params.keys()):\n",
        "\n",
        "    print('%s: %r' % (param_name, best_params[param_name]))"
      ],
      "execution_count": 343,
      "outputs": [
        {
          "output_type": "stream",
          "text": [
            "Randomized search..\n",
            "Fitting 2 folds for each of 3 candidates, totalling 6 fits\n",
            "[CV] silent=False, max_depth=6, learning_rate=0.1 ....................\n"
          ],
          "name": "stdout"
        },
        {
          "output_type": "stream",
          "text": [
            "[Parallel(n_jobs=1)]: Using backend SequentialBackend with 1 concurrent workers.\n"
          ],
          "name": "stderr"
        },
        {
          "output_type": "stream",
          "text": [
            "[CV] ..... silent=False, max_depth=6, learning_rate=0.1, total=   2.2s\n",
            "[CV] silent=False, max_depth=6, learning_rate=0.1 ....................\n"
          ],
          "name": "stdout"
        },
        {
          "output_type": "stream",
          "text": [
            "[Parallel(n_jobs=1)]: Done   1 out of   1 | elapsed:    2.2s remaining:    0.0s\n"
          ],
          "name": "stderr"
        },
        {
          "output_type": "stream",
          "text": [
            "[CV] ..... silent=False, max_depth=6, learning_rate=0.1, total=   2.2s\n",
            "[CV] silent=False, max_depth=6, learning_rate=0 ......................\n",
            "[CV] ....... silent=False, max_depth=6, learning_rate=0, total=   2.2s\n",
            "[CV] silent=False, max_depth=6, learning_rate=0 ......................\n",
            "[CV] ....... silent=False, max_depth=6, learning_rate=0, total=   2.3s\n",
            "[CV] silent=False, max_depth=6, learning_rate=0.001 ..................\n",
            "[CV] ... silent=False, max_depth=6, learning_rate=0.001, total=   2.2s\n",
            "[CV] silent=False, max_depth=6, learning_rate=0.001 ..................\n",
            "[CV] ... silent=False, max_depth=6, learning_rate=0.001, total=   2.4s\n",
            "Randomized search time: 13.43747067451477\n",
            "Best score: 0.7940123892850617\n",
            "Best params: \n",
            "learning_rate: 0.1\n",
            "max_depth: 6\n",
            "silent: False\n"
          ],
          "name": "stdout"
        },
        {
          "output_type": "stream",
          "text": [
            "[Parallel(n_jobs=1)]: Done   6 out of   6 | elapsed:   13.4s finished\n"
          ],
          "name": "stderr"
        }
      ]
    },
    {
      "cell_type": "code",
      "metadata": {
        "id": "F9x9nOqs9wap",
        "colab_type": "code",
        "colab": {
          "base_uri": "https://localhost:8080/",
          "height": 136
        },
        "outputId": "61c4931c-833b-4331-be05-97415910d3c3"
      },
      "source": [
        "model = XGBClassifier(learning_rate = 0.1, max_depth = 6, silent = False)\n",
        "model.fit(Xtrain, ytrain)"
      ],
      "execution_count": 344,
      "outputs": [
        {
          "output_type": "execute_result",
          "data": {
            "text/plain": [
              "XGBClassifier(base_score=0.5, booster='gbtree', colsample_bylevel=1,\n",
              "              colsample_bynode=1, colsample_bytree=1, gamma=0,\n",
              "              learning_rate=0.1, max_delta_step=0, max_depth=6,\n",
              "              min_child_weight=1, missing=None, n_estimators=100, n_jobs=1,\n",
              "              nthread=None, objective='binary:logistic', random_state=0,\n",
              "              reg_alpha=0, reg_lambda=1, scale_pos_weight=1, seed=None,\n",
              "              silent=False, subsample=1, verbosity=1)"
            ]
          },
          "metadata": {
            "tags": []
          },
          "execution_count": 344
        }
      ]
    },
    {
      "cell_type": "markdown",
      "metadata": {
        "id": "1OgDZq2iRctB",
        "colab_type": "text"
      },
      "source": [
        "# Making model predictions"
      ]
    },
    {
      "cell_type": "code",
      "metadata": {
        "id": "FyGmNxgUdOT-",
        "colab_type": "code",
        "colab": {}
      },
      "source": [
        "# make predictions for test data\n",
        "y_pred = model.predict(Xtest)\n",
        "predictions = [round(value) for value in y_pred]"
      ],
      "execution_count": 345,
      "outputs": []
    },
    {
      "cell_type": "code",
      "metadata": {
        "id": "XjcES0so-ewK",
        "colab_type": "code",
        "colab": {
          "base_uri": "https://localhost:8080/",
          "height": 34
        },
        "outputId": "b03e1f8c-46a2-4b79-ea9e-abc8b5b13790"
      },
      "source": [
        "from sklearn.metrics import accuracy_score\n",
        "# evaluate predictions\n",
        "accuracy = accuracy_score(ytest, predictions)\n",
        "print(\"Prediction accuracy: %.2f%%\" % (accuracy * 100.0))"
      ],
      "execution_count": 346,
      "outputs": [
        {
          "output_type": "stream",
          "text": [
            "Accuracy: 79.25%\n"
          ],
          "name": "stdout"
        }
      ]
    },
    {
      "cell_type": "markdown",
      "metadata": {
        "id": "UsSrz16cRyMW",
        "colab_type": "text"
      },
      "source": [
        "# Feature Importance Plot"
      ]
    },
    {
      "cell_type": "code",
      "metadata": {
        "id": "kALHFgMz-f-D",
        "colab_type": "code",
        "colab": {
          "base_uri": "https://localhost:8080/",
          "height": 312
        },
        "outputId": "92f74e5f-c76c-442d-f3ce-09271cdbbdcf"
      },
      "source": [
        "from xgboost import plot_importance\n",
        "plot_importance(model)"
      ],
      "execution_count": 347,
      "outputs": [
        {
          "output_type": "execute_result",
          "data": {
            "text/plain": [
              "<matplotlib.axes._subplots.AxesSubplot at 0x7f452a6ffac8>"
            ]
          },
          "metadata": {
            "tags": []
          },
          "execution_count": 347
        },
        {
          "output_type": "display_data",
          "data": {
            "image/png": "[encoded data removed]",
            "text/plain": [
              "<Figure size 432x288 with 1 Axes>"
            ]
          },
          "metadata": {
            "tags": [],
            "needs_background": "light"
          }
        }
      ]
    },
    {
      "cell_type": "markdown",
      "metadata": {
        "id": "nHjU-M6T-Jy3",
        "colab_type": "text"
      },
      "source": [
        "The model produced an prediction accuracy of 79.25% on the test unseen data which serves as good base for a prediction model. The model can generatlize well on new data.  \n",
        "\n",
        "The three most important features in predicting whether a driver will be active in their sixth month are:\n",
        "\n",
        "1.  'avg_dist'\n",
        "2.  'weekday_pct'\n",
        "1.  'trips_in_first_30_days'\n",
        "1.  'avg_rating_of_driver'\n",
        "2.  'avg_surge',\n",
        "1.  'avg_rating_by_driver'\n",
        "\n",
        "\n",
        "The features provide good insights into what features Ultimate management should be monitoring.  Important features indicate the level of activity of riders and have more weight that the ones indicating geography or device used.  \n",
        "\n",
        "Also, ratings play an important part in the prediction.  Therefore, a machine learning model that monitors ratings could be a good compliment to the prediction model.\n",
        "\n",
        "\n",
        "\n"
      ]
    }
  ]
}
