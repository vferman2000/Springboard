{
  "nbformat": 4,
  "nbformat_minor": 0,
  "metadata": {
    "colab": {
      "name": "InitialDataExploration.ipynb",
      "provenance": [],
      "mount_file_id": "1lKePmWfzQgWaiXVFcHWkbftOsqkvzwYb",
      "authorship_tag": "ABX9TyPUO77oH0+C4ADjWCRSXCoy",
      "include_colab_link": true
    },
    "kernelspec": {
      "name": "python3",
      "display_name": "Python 3"
    },
    "accelerator": "GPU"
  },
  "cells": [
    {
      "cell_type": "markdown",
      "metadata": {
        "id": "view-in-github",
        "colab_type": "text"
      },
      "source": [
        "<a href=\"https://colab.research.google.com/github/vferman2000/Springboard/blob/master/InitialDataExploration.ipynb\" target=\"_parent\"><img src=\"https://colab.research.google.com/assets/colab-badge.svg\" alt=\"Open In Colab\"/></a>"
      ]
    },
    {
      "cell_type": "markdown",
      "metadata": {
        "id": "y9orwGCIGYV1",
        "colab_type": "text"
      },
      "source": [
        "##Fashion Image Classification Project\n",
        "The objective of the project is to build a Convolutional Neural Network model to classify fashion product images using TensorFow and Keras functional API. The model will then predict the class of a given input image.\n",
        "\n",
        "The dataset can be downloaded from https://www.kaggle.com/paramaggarwal/fashion-product-images-dataset\n",
        "\n",
        "The platform selected for the project is Google Collab.\n",
        "\n",
        "This is the initial data exploration."
      ]
    },
    {
      "cell_type": "code",
      "metadata": {
        "id": "PWswQFwfwyqm",
        "colab_type": "code",
        "colab": {
          "base_uri": "https://localhost:8080/",
          "height": 35
        },
        "outputId": "95cf34cf-ea40-4b8d-fdf4-829c64b6c49f"
      },
      "source": [
        "import tensorflow as tf \n",
        "tf.test.gpu_device_name()"
      ],
      "execution_count": 1,
      "outputs": [
        {
          "output_type": "execute_result",
          "data": {
            "application/vnd.google.colaboratory.intrinsic": {
              "type": "string"
            },
            "text/plain": [
              "'/device:GPU:0'"
            ]
          },
          "metadata": {
            "tags": []
          },
          "execution_count": 1
        }
      ]
    },
    {
      "cell_type": "markdown",
      "metadata": {
        "id": "ppkncVV_1wGh",
        "colab_type": "text"
      },
      "source": [
        "from google.colab import drive \n",
        "drive.mount('/mntDrive')  "
      ]
    },
    {
      "cell_type": "code",
      "metadata": {
        "id": "5RHG11IIX0FU",
        "colab_type": "code",
        "colab": {}
      },
      "source": [
        "# importing additional libraries\n",
        "\n",
        "import numpy as np\n",
        "import pandas as pd\n",
        "import matplotlib.pyplot as plt\n",
        "from tensorflow.keras.layers import Input, Conv2D, Dense, Flatten, Dropout, GlobalMaxPooling2D, MaxPooling2D, BatchNormalization\n",
        "from tensorflow.keras.models import Model\n",
        "from mpl_toolkits.mplot3d import Axes3D\n",
        "from sklearn.preprocessing import StandardScaler\n",
        "import matplotlib.image as mpimg\n",
        "from sklearn.model_selection import train_test_split\n",
        "import os"
      ],
      "execution_count": 2,
      "outputs": []
    },
    {
      "cell_type": "code",
      "metadata": {
        "id": "VKBP0EwFiE2m",
        "colab_type": "code",
        "colab": {
          "base_uri": "https://localhost:8080/",
          "height": 34
        },
        "outputId": "cde9ae15-b464-46ee-8a45-83c0e168d32b"
      },
      "source": [
        "# Path to dataset in Google drive\n",
        "\n",
        "DATASET_PATH = \"/content/drive/My Drive/Springboard Data Science/CapstoneTwo/fashion-product-images-small/myntradataset/\"\n",
        "print(os.listdir(DATASET_PATH))\n"
      ],
      "execution_count": 3,
      "outputs": [
        {
          "output_type": "stream",
          "text": [
            "['images', 'styles.csv']\n"
          ],
          "name": "stdout"
        }
      ]
    },
    {
      "cell_type": "code",
      "metadata": {
        "id": "MhLmH7zTk9Ia",
        "colab_type": "code",
        "colab": {}
      },
      "source": [
        "#Creating a Pandas DataFrame with styles.csv\n",
        "#Some rows have an extra column in their productDisplayName which will be ommitted.\n",
        "\n",
        "df_styles = pd.read_csv(DATASET_PATH + 'styles.csv', usecols = lambda column : column not in range(11))\n"
      ],
      "execution_count": 4,
      "outputs": []
    },
    {
      "cell_type": "markdown",
      "metadata": {
        "id": "V3M9IHToGqp-",
        "colab_type": "text"
      },
      "source": [
        "df_styles DataFrame"
      ]
    },
    {
      "cell_type": "code",
      "metadata": {
        "id": "dzImGL2RcZR2",
        "colab_type": "code",
        "colab": {
          "base_uri": "https://localhost:8080/",
          "height": 221
        },
        "outputId": "cb6a34a2-12a8-4ee7-c4ee-5117555221e9"
      },
      "source": [
        "print(\"There are\", len(df_styles),\"items in df_styles\")\n",
        "df_styles.head()"
      ],
      "execution_count": 5,
      "outputs": [
        {
          "output_type": "stream",
          "text": [
            "There are 44446 items in df_styles\n"
          ],
          "name": "stdout"
        },
        {
          "output_type": "execute_result",
          "data": {
            "text/html": [
              "<div>\n",
              "<style scoped>\n",
              "    .dataframe tbody tr th:only-of-type {\n",
              "        vertical-align: middle;\n",
              "    }\n",
              "\n",
              "    .dataframe tbody tr th {\n",
              "        vertical-align: top;\n",
              "    }\n",
              "\n",
              "    .dataframe thead th {\n",
              "        text-align: right;\n",
              "    }\n",
              "</style>\n",
              "<table border=\"1\" class=\"dataframe\">\n",
              "  <thead>\n",
              "    <tr style=\"text-align: right;\">\n",
              "      <th></th>\n",
              "      <th>id</th>\n",
              "      <th>gender</th>\n",
              "      <th>masterCategory</th>\n",
              "      <th>subCategory</th>\n",
              "      <th>articleType</th>\n",
              "      <th>baseColour</th>\n",
              "      <th>season</th>\n",
              "      <th>year</th>\n",
              "      <th>usage</th>\n",
              "      <th>productDisplayName</th>\n",
              "    </tr>\n",
              "  </thead>\n",
              "  <tbody>\n",
              "    <tr>\n",
              "      <th>0</th>\n",
              "      <td>15970</td>\n",
              "      <td>Men</td>\n",
              "      <td>Apparel</td>\n",
              "      <td>Topwear</td>\n",
              "      <td>Shirts</td>\n",
              "      <td>Navy Blue</td>\n",
              "      <td>Fall</td>\n",
              "      <td>2011.0</td>\n",
              "      <td>Casual</td>\n",
              "      <td>Turtle Check Men Navy Blue Shirt</td>\n",
              "    </tr>\n",
              "    <tr>\n",
              "      <th>1</th>\n",
              "      <td>39386</td>\n",
              "      <td>Men</td>\n",
              "      <td>Apparel</td>\n",
              "      <td>Bottomwear</td>\n",
              "      <td>Jeans</td>\n",
              "      <td>Blue</td>\n",
              "      <td>Summer</td>\n",
              "      <td>2012.0</td>\n",
              "      <td>Casual</td>\n",
              "      <td>Peter England Men Party Blue Jeans</td>\n",
              "    </tr>\n",
              "    <tr>\n",
              "      <th>2</th>\n",
              "      <td>59263</td>\n",
              "      <td>Women</td>\n",
              "      <td>Accessories</td>\n",
              "      <td>Watches</td>\n",
              "      <td>Watches</td>\n",
              "      <td>Silver</td>\n",
              "      <td>Winter</td>\n",
              "      <td>2016.0</td>\n",
              "      <td>Casual</td>\n",
              "      <td>Titan Women Silver Watch</td>\n",
              "    </tr>\n",
              "    <tr>\n",
              "      <th>3</th>\n",
              "      <td>21379</td>\n",
              "      <td>Men</td>\n",
              "      <td>Apparel</td>\n",
              "      <td>Bottomwear</td>\n",
              "      <td>Track Pants</td>\n",
              "      <td>Black</td>\n",
              "      <td>Fall</td>\n",
              "      <td>2011.0</td>\n",
              "      <td>Casual</td>\n",
              "      <td>Manchester United Men Solid Black Track Pants</td>\n",
              "    </tr>\n",
              "    <tr>\n",
              "      <th>4</th>\n",
              "      <td>53759</td>\n",
              "      <td>Men</td>\n",
              "      <td>Apparel</td>\n",
              "      <td>Topwear</td>\n",
              "      <td>Tshirts</td>\n",
              "      <td>Grey</td>\n",
              "      <td>Summer</td>\n",
              "      <td>2012.0</td>\n",
              "      <td>Casual</td>\n",
              "      <td>Puma Men Grey T-shirt</td>\n",
              "    </tr>\n",
              "  </tbody>\n",
              "</table>\n",
              "</div>"
            ],
            "text/plain": [
              "      id gender  ...   usage                             productDisplayName\n",
              "0  15970    Men  ...  Casual               Turtle Check Men Navy Blue Shirt\n",
              "1  39386    Men  ...  Casual             Peter England Men Party Blue Jeans\n",
              "2  59263  Women  ...  Casual                       Titan Women Silver Watch\n",
              "3  21379    Men  ...  Casual  Manchester United Men Solid Black Track Pants\n",
              "4  53759    Men  ...  Casual                          Puma Men Grey T-shirt\n",
              "\n",
              "[5 rows x 10 columns]"
            ]
          },
          "metadata": {
            "tags": []
          },
          "execution_count": 5
        }
      ]
    },
    {
      "cell_type": "markdown",
      "metadata": {
        "id": "umPiS2P0HmeW",
        "colab_type": "text"
      },
      "source": [
        "#masterCategory column is selected as target class"
      ]
    },
    {
      "cell_type": "code",
      "metadata": {
        "id": "ZpUQt7n6QjLu",
        "colab_type": "code",
        "colab": {
          "base_uri": "https://localhost:8080/",
          "height": 153
        },
        "outputId": "4b22e394-4b3a-4b52-8c68-f78a2d6e72d1"
      },
      "source": [
        "# Column selected as target class\n",
        "\n",
        "df_styles.masterCategory.value_counts()"
      ],
      "execution_count": 7,
      "outputs": [
        {
          "output_type": "execute_result",
          "data": {
            "text/plain": [
              "Apparel           21400\n",
              "Accessories       11289\n",
              "Footwear           9222\n",
              "Personal Care      2404\n",
              "Free Items          105\n",
              "Sporting Goods       25\n",
              "Home                  1\n",
              "Name: masterCategory, dtype: int64"
            ]
          },
          "metadata": {
            "tags": []
          },
          "execution_count": 7
        }
      ]
    },
    {
      "cell_type": "code",
      "metadata": {
        "id": "WQozvYISHGL6",
        "colab_type": "code",
        "colab": {
          "base_uri": "https://localhost:8080/",
          "height": 479
        },
        "outputId": "69135533-db5b-4e5e-8cd9-6ac8abbb8159"
      },
      "source": [
        "plt.figure(figsize=(12,7))\n",
        "plt.title(\"Breakdown of target classes\")\n",
        "plt.ylabel(\"Classes\", fontsize=14)\n",
        "plt.xlabel(\"Number of items\", fontsize=14)\n",
        "plt.xticks()\n",
        "plt.yticks()\n",
        "df_styles.masterCategory.value_counts().sort_values().plot(kind='barh')"
      ],
      "execution_count": 28,
      "outputs": [
        {
          "output_type": "execute_result",
          "data": {
            "text/plain": [
              "<matplotlib.axes._subplots.AxesSubplot at 0x7f40585c64e0>"
            ]
          },
          "metadata": {
            "tags": []
          },
          "execution_count": 28
        },
        {
          "output_type": "display_data",
          "data": {
            "image/png": "[encoded data removed]",
            "text/plain": [
              "<Figure size 864x504 with 1 Axes>"
            ]
          },
          "metadata": {
            "tags": [],
            "needs_background": "light"
          }
        }
      ]
    },
    {
      "cell_type": "markdown",
      "metadata": {
        "id": "MVfEKyTGGzPN",
        "colab_type": "text"
      },
      "source": [
        "#A new column 'image' is created to map jpg images"
      ]
    },
    {
      "cell_type": "code",
      "metadata": {
        "id": "W78Ns48TnZxG",
        "colab_type": "code",
        "colab": {
          "base_uri": "https://localhost:8080/",
          "height": 376
        },
        "outputId": "5fcf1938-5c6f-4e68-c768-51eba328f913"
      },
      "source": [
        "#new column 'image'\n",
        "\n",
        "df_styles['image'] = df_styles.apply(lambda row: str(row['id']) + \".jpg\", axis=1)\n",
        "\n",
        "\n",
        "df_styles['masterCategory'] = df_styles.masterCategory.apply(lambda row: 'NA' if row is np.nan else row)\n",
        "df_styles = df_styles.reset_index(drop=True)\n",
        "print(len(df_styles))\n",
        "df_styles.head(10)"
      ],
      "execution_count": 8,
      "outputs": [
        {
          "output_type": "stream",
          "text": [
            "44446\n"
          ],
          "name": "stdout"
        },
        {
          "output_type": "execute_result",
          "data": {
            "text/html": [
              "<div>\n",
              "<style scoped>\n",
              "    .dataframe tbody tr th:only-of-type {\n",
              "        vertical-align: middle;\n",
              "    }\n",
              "\n",
              "    .dataframe tbody tr th {\n",
              "        vertical-align: top;\n",
              "    }\n",
              "\n",
              "    .dataframe thead th {\n",
              "        text-align: right;\n",
              "    }\n",
              "</style>\n",
              "<table border=\"1\" class=\"dataframe\">\n",
              "  <thead>\n",
              "    <tr style=\"text-align: right;\">\n",
              "      <th></th>\n",
              "      <th>id</th>\n",
              "      <th>gender</th>\n",
              "      <th>masterCategory</th>\n",
              "      <th>subCategory</th>\n",
              "      <th>articleType</th>\n",
              "      <th>baseColour</th>\n",
              "      <th>season</th>\n",
              "      <th>year</th>\n",
              "      <th>usage</th>\n",
              "      <th>productDisplayName</th>\n",
              "      <th>image</th>\n",
              "    </tr>\n",
              "  </thead>\n",
              "  <tbody>\n",
              "    <tr>\n",
              "      <th>0</th>\n",
              "      <td>15970</td>\n",
              "      <td>Men</td>\n",
              "      <td>Apparel</td>\n",
              "      <td>Topwear</td>\n",
              "      <td>Shirts</td>\n",
              "      <td>Navy Blue</td>\n",
              "      <td>Fall</td>\n",
              "      <td>2011.0</td>\n",
              "      <td>Casual</td>\n",
              "      <td>Turtle Check Men Navy Blue Shirt</td>\n",
              "      <td>15970.jpg</td>\n",
              "    </tr>\n",
              "    <tr>\n",
              "      <th>1</th>\n",
              "      <td>39386</td>\n",
              "      <td>Men</td>\n",
              "      <td>Apparel</td>\n",
              "      <td>Bottomwear</td>\n",
              "      <td>Jeans</td>\n",
              "      <td>Blue</td>\n",
              "      <td>Summer</td>\n",
              "      <td>2012.0</td>\n",
              "      <td>Casual</td>\n",
              "      <td>Peter England Men Party Blue Jeans</td>\n",
              "      <td>39386.jpg</td>\n",
              "    </tr>\n",
              "    <tr>\n",
              "      <th>2</th>\n",
              "      <td>59263</td>\n",
              "      <td>Women</td>\n",
              "      <td>Accessories</td>\n",
              "      <td>Watches</td>\n",
              "      <td>Watches</td>\n",
              "      <td>Silver</td>\n",
              "      <td>Winter</td>\n",
              "      <td>2016.0</td>\n",
              "      <td>Casual</td>\n",
              "      <td>Titan Women Silver Watch</td>\n",
              "      <td>59263.jpg</td>\n",
              "    </tr>\n",
              "    <tr>\n",
              "      <th>3</th>\n",
              "      <td>21379</td>\n",
              "      <td>Men</td>\n",
              "      <td>Apparel</td>\n",
              "      <td>Bottomwear</td>\n",
              "      <td>Track Pants</td>\n",
              "      <td>Black</td>\n",
              "      <td>Fall</td>\n",
              "      <td>2011.0</td>\n",
              "      <td>Casual</td>\n",
              "      <td>Manchester United Men Solid Black Track Pants</td>\n",
              "      <td>21379.jpg</td>\n",
              "    </tr>\n",
              "    <tr>\n",
              "      <th>4</th>\n",
              "      <td>53759</td>\n",
              "      <td>Men</td>\n",
              "      <td>Apparel</td>\n",
              "      <td>Topwear</td>\n",
              "      <td>Tshirts</td>\n",
              "      <td>Grey</td>\n",
              "      <td>Summer</td>\n",
              "      <td>2012.0</td>\n",
              "      <td>Casual</td>\n",
              "      <td>Puma Men Grey T-shirt</td>\n",
              "      <td>53759.jpg</td>\n",
              "    </tr>\n",
              "    <tr>\n",
              "      <th>5</th>\n",
              "      <td>1855</td>\n",
              "      <td>Men</td>\n",
              "      <td>Apparel</td>\n",
              "      <td>Topwear</td>\n",
              "      <td>Tshirts</td>\n",
              "      <td>Grey</td>\n",
              "      <td>Summer</td>\n",
              "      <td>2011.0</td>\n",
              "      <td>Casual</td>\n",
              "      <td>Inkfruit Mens Chain Reaction T-shirt</td>\n",
              "      <td>1855.jpg</td>\n",
              "    </tr>\n",
              "    <tr>\n",
              "      <th>6</th>\n",
              "      <td>30805</td>\n",
              "      <td>Men</td>\n",
              "      <td>Apparel</td>\n",
              "      <td>Topwear</td>\n",
              "      <td>Shirts</td>\n",
              "      <td>Green</td>\n",
              "      <td>Summer</td>\n",
              "      <td>2012.0</td>\n",
              "      <td>Ethnic</td>\n",
              "      <td>Fabindia Men Striped Green Shirt</td>\n",
              "      <td>30805.jpg</td>\n",
              "    </tr>\n",
              "    <tr>\n",
              "      <th>7</th>\n",
              "      <td>26960</td>\n",
              "      <td>Women</td>\n",
              "      <td>Apparel</td>\n",
              "      <td>Topwear</td>\n",
              "      <td>Shirts</td>\n",
              "      <td>Purple</td>\n",
              "      <td>Summer</td>\n",
              "      <td>2012.0</td>\n",
              "      <td>Casual</td>\n",
              "      <td>Jealous 21 Women Purple Shirt</td>\n",
              "      <td>26960.jpg</td>\n",
              "    </tr>\n",
              "    <tr>\n",
              "      <th>8</th>\n",
              "      <td>29114</td>\n",
              "      <td>Men</td>\n",
              "      <td>Accessories</td>\n",
              "      <td>Socks</td>\n",
              "      <td>Socks</td>\n",
              "      <td>Navy Blue</td>\n",
              "      <td>Summer</td>\n",
              "      <td>2012.0</td>\n",
              "      <td>Casual</td>\n",
              "      <td>Puma Men Pack of 3 Socks</td>\n",
              "      <td>29114.jpg</td>\n",
              "    </tr>\n",
              "    <tr>\n",
              "      <th>9</th>\n",
              "      <td>30039</td>\n",
              "      <td>Men</td>\n",
              "      <td>Accessories</td>\n",
              "      <td>Watches</td>\n",
              "      <td>Watches</td>\n",
              "      <td>Black</td>\n",
              "      <td>Winter</td>\n",
              "      <td>2016.0</td>\n",
              "      <td>Casual</td>\n",
              "      <td>Skagen Men Black Watch</td>\n",
              "      <td>30039.jpg</td>\n",
              "    </tr>\n",
              "  </tbody>\n",
              "</table>\n",
              "</div>"
            ],
            "text/plain": [
              "      id gender  ...                             productDisplayName      image\n",
              "0  15970    Men  ...               Turtle Check Men Navy Blue Shirt  15970.jpg\n",
              "1  39386    Men  ...             Peter England Men Party Blue Jeans  39386.jpg\n",
              "2  59263  Women  ...                       Titan Women Silver Watch  59263.jpg\n",
              "3  21379    Men  ...  Manchester United Men Solid Black Track Pants  21379.jpg\n",
              "4  53759    Men  ...                          Puma Men Grey T-shirt  53759.jpg\n",
              "5   1855    Men  ...           Inkfruit Mens Chain Reaction T-shirt   1855.jpg\n",
              "6  30805    Men  ...               Fabindia Men Striped Green Shirt  30805.jpg\n",
              "7  26960  Women  ...                  Jealous 21 Women Purple Shirt  26960.jpg\n",
              "8  29114    Men  ...                       Puma Men Pack of 3 Socks  29114.jpg\n",
              "9  30039    Men  ...                         Skagen Men Black Watch  30039.jpg\n",
              "\n",
              "[10 rows x 11 columns]"
            ]
          },
          "metadata": {
            "tags": []
          },
          "execution_count": 8
        }
      ]
    },
    {
      "cell_type": "markdown",
      "metadata": {
        "id": "f0rs5vDEHbFy",
        "colab_type": "text"
      },
      "source": [
        "#Example of images in dataset"
      ]
    },
    {
      "cell_type": "code",
      "metadata": {
        "id": "c18DziEfOoMF",
        "colab_type": "code",
        "colab": {}
      },
      "source": [
        "images_data = DATASET_PATH+\"images/\""
      ],
      "execution_count": 15,
      "outputs": []
    },
    {
      "cell_type": "code",
      "metadata": {
        "id": "kAi1rUu_oG71",
        "colab_type": "code",
        "colab": {}
      },
      "source": [
        "import cv2\n",
        "def plot_figures(figures, nrows = 2, ncols=3):\n",
        "    \"\"\"Plot a dictionary of figures.\n",
        "\n",
        "    Parameters\n",
        "    ----------\n",
        "    figures : <title, figure> dictionary\n",
        "    ncols : number of columns of subplots wanted in the display\n",
        "    nrows : number of rows of subplots wanted in the figure\n",
        "    \"\"\"\n",
        "\n",
        "    fig, axeslist = plt.subplots(ncols=ncols, nrows=nrows)\n",
        "    for ind,title in enumerate(figures):\n",
        "        axeslist.ravel()[ind].imshow(cv2.cvtColor(figures[title], cv2.COLOR_BGR2RGB))\n",
        "        axeslist.ravel()[ind].set_title(title)\n",
        "        axeslist.ravel()[ind].set_axis_off()\n",
        "    plt.tight_layout() # optional\n",
        "    \n",
        "def img_path(img):\n",
        "    return images_data+img\n",
        "\n",
        "def load_image(img):\n",
        "    img     = cv2.imread(img_path(img))\n",
        "    return img\n"
      ],
      "execution_count": 23,
      "outputs": []
    },
    {
      "cell_type": "code",
      "metadata": {
        "id": "gbQK2rXLrfwV",
        "colab_type": "code",
        "colab": {
          "base_uri": "https://localhost:8080/",
          "height": 314
        },
        "outputId": "94d7dcd3-c65f-4b1b-efa5-d6744c5d7c81"
      },
      "source": [
        "import matplotlib.pyplot as plt\n",
        "import numpy as np\n",
        "\n",
        "# generation of a dictionary of (title, images)\n",
        "figures = {'im'+str(i): load_image(row.image) for i, row in df_train.sample(6).iterrows()}\n",
        "# plot of the images in a figure, with 2 rows and 3 columns\n",
        "print(load_image(df_train.iloc[0].image).shape)\n",
        "plot_figures(figures, 2, 3)"
      ],
      "execution_count": 24,
      "outputs": [
        {
          "output_type": "stream",
          "text": [
            "(80, 60, 3)\n"
          ],
          "name": "stdout"
        },
        {
          "output_type": "display_data",
          "data": {
            "image/png": "[encoded data removed]",
            "text/plain": [
              "<Figure size 432x288 with 6 Axes>"
            ]
          },
          "metadata": {
            "tags": [],
            "needs_background": "light"
          }
        }
      ]
    },
    {
      "cell_type": "code",
      "metadata": {
        "id": "NTpiTrlAwPMo",
        "colab_type": "code",
        "colab": {
          "base_uri": "https://localhost:8080/",
          "height": 850
        },
        "outputId": "4dfe2d92-7f57-4e68-89c1-93eeb9ea8774"
      },
      "source": [
        "print(load_image(df_train.iloc[0].image))"
      ],
      "execution_count": 25,
      "outputs": [
        {
          "output_type": "stream",
          "text": [
            "[[[188 193 196]\n",
            "  [188 193 196]\n",
            "  [188 193 196]\n",
            "  ...\n",
            "  [188 193 196]\n",
            "  [188 193 196]\n",
            "  [188 193 196]]\n",
            "\n",
            " [[188 193 196]\n",
            "  [188 193 196]\n",
            "  [188 193 196]\n",
            "  ...\n",
            "  [188 193 196]\n",
            "  [188 193 196]\n",
            "  [188 193 196]]\n",
            "\n",
            " [[188 193 196]\n",
            "  [188 193 196]\n",
            "  [188 193 196]\n",
            "  ...\n",
            "  [188 193 196]\n",
            "  [188 193 196]\n",
            "  [188 193 196]]\n",
            "\n",
            " ...\n",
            "\n",
            " [[185 190 193]\n",
            "  [185 190 193]\n",
            "  [185 190 193]\n",
            "  ...\n",
            "  [188 193 196]\n",
            "  [188 193 196]\n",
            "  [188 193 196]]\n",
            "\n",
            " [[184 189 192]\n",
            "  [184 189 192]\n",
            "  [184 189 192]\n",
            "  ...\n",
            "  [188 193 196]\n",
            "  [188 193 196]\n",
            "  [188 193 196]]\n",
            "\n",
            " [[184 189 192]\n",
            "  [184 189 192]\n",
            "  [184 189 192]\n",
            "  ...\n",
            "  [188 193 196]\n",
            "  [188 193 196]\n",
            "  [188 193 196]]]\n"
          ],
          "name": "stdout"
        }
      ]
    },
    {
      "cell_type": "code",
      "metadata": {
        "id": "fayIWr989eEX",
        "colab_type": "code",
        "colab": {
          "base_uri": "https://localhost:8080/",
          "height": 68
        },
        "outputId": "62dc9099-f61f-4b98-f00f-a7231801da77"
      },
      "source": [
        "masterCategory_classes = df_train.iloc[:,2].unique()\n",
        "print(masterCategory_classes)\n",
        "print(len(masterCategory_classes))"
      ],
      "execution_count": 26,
      "outputs": [
        {
          "output_type": "stream",
          "text": [
            "['Footwear' 'Apparel' 'Accessories' 'Personal Care' 'Free Items'\n",
            " 'Sporting Goods']\n",
            "6\n"
          ],
          "name": "stdout"
        }
      ]
    }
  ]
}