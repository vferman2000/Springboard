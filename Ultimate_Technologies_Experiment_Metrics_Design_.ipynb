{
  "nbformat": 4,
  "nbformat_minor": 0,
  "metadata": {
    "colab": {
      "name": "Ultimate_Technologies_Experiment_Metrics_Design_.ipynb",
      "provenance": [],
      "collapsed_sections": [],
      "mount_file_id": "10T7_SpneyHlmAWe1tRbraSxCF66vLv-4",
      "authorship_tag": "ABX9TyPDjnMVp2jLGpGZSa22snvP",
      "include_colab_link": true
    },
    "kernelspec": {
      "name": "python3",
      "display_name": "Python 3"
    }
  },
  "cells": [
    {
      "cell_type": "markdown",
      "metadata": {
        "id": "view-in-github",
        "colab_type": "text"
      },
      "source": [
        "<a href=\"https://colab.research.google.com/github/vferman2000/Springboard/blob/master/Ultimate_Technologies_Experiment_Metrics_Design_.ipynb\" target=\"_parent\"><img src=\"https://colab.research.google.com/assets/colab-badge.svg\" alt=\"Open In Colab\"/></a>"
      ]
    },
    {
      "cell_type": "markdown",
      "metadata": {
        "id": "WNiUln2PvwAe",
        "colab_type": "text"
      },
      "source": [
        "# Data Analysis Interview Challenge"
      ]
    },
    {
      "cell_type": "markdown",
      "metadata": {
        "id": "fl0QTw6ipRFW",
        "colab_type": "text"
      },
      "source": [
        "# Experiment and Metrics Design"
      ]
    },
    {
      "cell_type": "markdown",
      "metadata": {
        "id": "jf5slDitvJ6w",
        "colab_type": "text"
      },
      "source": [
        "The neighboring cities of Gotham and Metropolis have complementary circadian rhythms: on\n",
        "weekdays, Ultimate Gotham is most active at night, and Ultimate Metropolis is most active\n",
        "during the day. On weekends, there is reasonable activity in both cities.\n",
        "However, a toll bridge, with a two way\n",
        "toll, between the two cities causes driver partners to tend\n",
        "to be exclusive to each city. The Ultimate managers of city operations for the two cities have\n",
        "proposed an experiment to encourage driver partners to be available in both cities, by\n",
        "reimbursing all toll costs.\n",
        "1. What would you choose as the key measure of success of this experiment in\n",
        "encouraging driver partners to serve both cities, and why would you choose this metric?\n",
        "2. Describe a practical experiment you would design to compare the effectiveness of the\n",
        "proposed change in relation to the key measure of success. Please provide details on:\n",
        "a. how you will implement the experiment\n",
        "b. what statistical test(s) you will conduct to verify the significance of the\n",
        "observation\n",
        "c. how you would interpret the results and provide recommendations to the city\n",
        "operations team along with any caveats."
      ]
    },
    {
      "cell_type": "markdown",
      "metadata": {
        "id": "MvkkpMUv8Ht-",
        "colab_type": "text"
      },
      "source": [
        "1) I would choose a correlation metrics to measure the success of the experiment. For the following reasons:\n",
        "\n",
        "*   As it is, the supply of drivers in the cities of Gotham and Metropolis is fixed and exclusive to the driver partners in each city.\n",
        "*  The experiment proposed by management would like to  increase the supply of drivers in each city by encouraging driver partners to be available in both locations and ultimately meet more demand and increase number of rides.\n",
        "*  Given that the driver logins are recorded in each city, a successful experiment will increase the number of logins in each city.\n",
        "*   The toll crossing with the corresponding payments would be a good measurement of the number of drivers crossing to the neighboring city.\n",
        "*   The correlation coefficient would indicate whether there is a relationship between the number of toll crossings(payments made) and the increased supply in each city.\n",
        "*   A successful experiment would have a positive correlation between toll crossings and increased driver supply (logins).\n",
        "*   To encourage drivers to be part of the experiment, Ultimate management can show how drivers willing to cross the toll benefited from the increase in rides. Management will make payment on all tolls, hence it is win-win situation for the drivers.\n",
        "\n",
        "2)The experiment design is as follows:\n",
        "*   The experiment will take place during two quarters (three months).\n",
        "*   Tolls payments will be recorded and assuming that the toll is paid both ways.\n",
        "*   Logins will be recorded in each city.\n",
        "\n",
        "**Statistical tests**\n",
        "\n",
        "A correlation coefficient of 1 means there is a perfect association between the variables in such a way that if one variable is increasing (toll crossing payments) then the other is increasing (logins). A value of -1 means there is a perfect inverse relationship between the variables so if one is increasing then the other  is decreasing.  A value of 0 means there is no association between the two variables.\n",
        "\n",
        "In terms of the correlation coefficient, the null hypothesis(H0) states: There IS NOT a significant linear relationship (correlation) between toll crossing payments and number of logins. The population correlation coefficient IS NOT significantly different from zero.\n",
        "\n",
        "The alternative hypothesis states: There IS a significant linear relationship between toll crossing payments and number of logins. The correlation coefficient IS significantly different from zero.\n",
        "\n",
        " **Caveats:**\n",
        "Correlation does not imply causation.  The test will explore relationship if there is one between the variables.\n",
        "\n",
        "**Recommendations to Management**\n",
        "\n",
        "*   If null hypothesis proves true, management needs to assess whether the toll bridge between the two cities is the cause of driver partners keeping exclusively to each city.\n",
        "\n",
        "*   If alterntative hypothesis proves true, management should start a marketing campaign to promote the toll free program with numbers to prove the gains.\n",
        "\n",
        "\n",
        "\n",
        "\n",
        "\n",
        "\n",
        "\n",
        "\n",
        "\n",
        "\n",
        "\n",
        "\n",
        "\n"
      ]
    }
  ]
}