{
 "cells": [
  {
   "cell_type": "markdown",
   "metadata": {},
   "source": [
    "## Instacart Market Basket Analysis - In-Depth Analysis Draft 2\n",
    "\n",
    "Instacart is a technology company providing a same day delivery grocery service to users across the U.S and Canada. Users place their grocery orders through the Instacart app and a personal Instacart shopper delivers the order to their home.\n",
    "\n",
    "Instacart made public an anonymized data of 3 million Instacart shoppers presenting researchers with the challenge of predicting which previously purchased products will be in the user’s next order. \n",
    "\n",
    "This report is the first draft of an in-depth analysis using different machine learning models on users and product features determined during the EDA stage. \n",
    "\n",
    "Files:\n",
    "orders.csv <br>\n",
    "order_products__prior.csv <br>\n",
    "order_products__train.csv <br>\n",
    "products.csv <br>\n",
    "aisles.csv <br>\n",
    "departments.csv <br>\n",
    "\n"
   ]
  },
  {
   "cell_type": "code",
   "execution_count": 1,
   "metadata": {},
   "outputs": [],
   "source": [
    "import pandas as pd\n",
    "import numpy as np\n",
    "import seaborn as sns\n",
    "import matplotlib.pyplot as plt\n",
    "color = sns.color_palette()"
   ]
  },
  {
   "cell_type": "code",
   "execution_count": 2,
   "metadata": {},
   "outputs": [],
   "source": [
    "# Reading csv files into Pandas DataFrames\n",
    "\n",
    "filename_orders_file = 'files/orders.csv'\n",
    "filename_products_prior = 'files/order_products__prior.csv'\n",
    "filename_products_train= 'files/order_products__train.csv'\n",
    "filename_products = 'files/products.csv'\n",
    "filename_aisles = 'files/aisles.csv'\n",
    "filename_departments = 'files/departments.csv'\n",
    "\n",
    "orders = pd.read_csv(filename_orders_file)\n",
    "order_products_prior = pd.read_csv(filename_products_prior)\n",
    "order_products_train= pd.read_csv(filename_products_train)\n",
    "products = pd.read_csv(filename_products) \n",
    "aisles = pd.read_csv(filename_aisles)\n",
    "departments = pd.read_csv(filename_departments)"
   ]
  },
  {
   "cell_type": "markdown",
   "metadata": {},
   "source": [
    "The 500th order was selected from the order_products_train.csv file and the matching order number from order_products_prior.csv was selected. \n",
    "\n",
    "The total number of orders in the subset is 3969 made by 255 user_id's. From those, 3714 are prior orders.\n",
    "\n",
    "DataFrames:<br>\n",
    "sample<br>\n",
    "sample_orders_prior<br>\n",
    "sample_orders_train<br>"
   ]
  },
  {
   "cell_type": "code",
   "execution_count": 3,
   "metadata": {},
   "outputs": [
    {
     "name": "stdout",
     "output_type": "stream",
     "text": [
      "The sample has 3969 orders\n"
     ]
    },
    {
     "data": {
      "text/html": [
       "<div>\n",
       "<style scoped>\n",
       "    .dataframe tbody tr th:only-of-type {\n",
       "        vertical-align: middle;\n",
       "    }\n",
       "\n",
       "    .dataframe tbody tr th {\n",
       "        vertical-align: top;\n",
       "    }\n",
       "\n",
       "    .dataframe thead th {\n",
       "        text-align: right;\n",
       "    }\n",
       "</style>\n",
       "<table border=\"1\" class=\"dataframe\">\n",
       "  <thead>\n",
       "    <tr style=\"text-align: right;\">\n",
       "      <th></th>\n",
       "      <th>order_id</th>\n",
       "      <th>user_id</th>\n",
       "      <th>eval_set</th>\n",
       "      <th>order_number</th>\n",
       "      <th>order_dow</th>\n",
       "      <th>order_hour_of_day</th>\n",
       "      <th>days_since_prior_order</th>\n",
       "    </tr>\n",
       "  </thead>\n",
       "  <tbody>\n",
       "    <tr>\n",
       "      <th>14993</th>\n",
       "      <td>242494</td>\n",
       "      <td>940</td>\n",
       "      <td>prior</td>\n",
       "      <td>1</td>\n",
       "      <td>0</td>\n",
       "      <td>7</td>\n",
       "      <td>NaN</td>\n",
       "    </tr>\n",
       "    <tr>\n",
       "      <th>14994</th>\n",
       "      <td>1747069</td>\n",
       "      <td>940</td>\n",
       "      <td>prior</td>\n",
       "      <td>2</td>\n",
       "      <td>0</td>\n",
       "      <td>15</td>\n",
       "      <td>14.0</td>\n",
       "    </tr>\n",
       "    <tr>\n",
       "      <th>14995</th>\n",
       "      <td>402072</td>\n",
       "      <td>940</td>\n",
       "      <td>prior</td>\n",
       "      <td>3</td>\n",
       "      <td>5</td>\n",
       "      <td>8</td>\n",
       "      <td>26.0</td>\n",
       "    </tr>\n",
       "    <tr>\n",
       "      <th>14996</th>\n",
       "      <td>408253</td>\n",
       "      <td>940</td>\n",
       "      <td>prior</td>\n",
       "      <td>4</td>\n",
       "      <td>3</td>\n",
       "      <td>12</td>\n",
       "      <td>26.0</td>\n",
       "    </tr>\n",
       "    <tr>\n",
       "      <th>14997</th>\n",
       "      <td>542412</td>\n",
       "      <td>940</td>\n",
       "      <td>prior</td>\n",
       "      <td>5</td>\n",
       "      <td>0</td>\n",
       "      <td>12</td>\n",
       "      <td>4.0</td>\n",
       "    </tr>\n",
       "  </tbody>\n",
       "</table>\n",
       "</div>"
      ],
      "text/plain": [
       "       order_id  user_id eval_set  order_number  order_dow  order_hour_of_day  \\\n",
       "14993    242494      940    prior             1          0                  7   \n",
       "14994   1747069      940    prior             2          0                 15   \n",
       "14995    402072      940    prior             3          5                  8   \n",
       "14996    408253      940    prior             4          3                 12   \n",
       "14997    542412      940    prior             5          0                 12   \n",
       "\n",
       "       days_since_prior_order  \n",
       "14993                     NaN  \n",
       "14994                    14.0  \n",
       "14995                    26.0  \n",
       "14996                    26.0  \n",
       "14997                     4.0  "
      ]
     },
     "execution_count": 3,
     "metadata": {},
     "output_type": "execute_result"
    }
   ],
   "source": [
    "#Forming subset of orders file. For this exercise, order_numbers that had both a prior and train data were selected.\n",
    "\n",
    "# Orders with train eval_set are selected\n",
    "orders_train = orders.loc[orders['eval_set'] == 'train']\n",
    "\n",
    "# From the orders that had train data, every 400th row was selected to create a subset\n",
    "sample_orders_train = orders_train[orders_train.index % 500 == 0]\n",
    "\n",
    "\n",
    "# Prior orders are added to the sample\n",
    "orders_sample = orders['user_id'].isin(sample_orders_train['user_id'])\n",
    "sample = orders[orders_sample]\n",
    "sample.describe()\n",
    "print('The sample has', len(sample),'orders')\n",
    "sample.head()"
   ]
  },
  {
   "cell_type": "code",
   "execution_count": 4,
   "metadata": {},
   "outputs": [
    {
     "name": "stdout",
     "output_type": "stream",
     "text": [
      "The sample has 3714 prior orders\n"
     ]
    },
    {
     "data": {
      "text/html": [
       "<div>\n",
       "<style scoped>\n",
       "    .dataframe tbody tr th:only-of-type {\n",
       "        vertical-align: middle;\n",
       "    }\n",
       "\n",
       "    .dataframe tbody tr th {\n",
       "        vertical-align: top;\n",
       "    }\n",
       "\n",
       "    .dataframe thead th {\n",
       "        text-align: right;\n",
       "    }\n",
       "</style>\n",
       "<table border=\"1\" class=\"dataframe\">\n",
       "  <thead>\n",
       "    <tr style=\"text-align: right;\">\n",
       "      <th></th>\n",
       "      <th>order_id</th>\n",
       "      <th>user_id</th>\n",
       "      <th>eval_set</th>\n",
       "      <th>order_number</th>\n",
       "      <th>order_dow</th>\n",
       "      <th>order_hour_of_day</th>\n",
       "      <th>days_since_prior_order</th>\n",
       "    </tr>\n",
       "  </thead>\n",
       "  <tbody>\n",
       "    <tr>\n",
       "      <th>14993</th>\n",
       "      <td>242494</td>\n",
       "      <td>940</td>\n",
       "      <td>prior</td>\n",
       "      <td>1</td>\n",
       "      <td>0</td>\n",
       "      <td>7</td>\n",
       "      <td>NaN</td>\n",
       "    </tr>\n",
       "    <tr>\n",
       "      <th>14994</th>\n",
       "      <td>1747069</td>\n",
       "      <td>940</td>\n",
       "      <td>prior</td>\n",
       "      <td>2</td>\n",
       "      <td>0</td>\n",
       "      <td>15</td>\n",
       "      <td>14.0</td>\n",
       "    </tr>\n",
       "    <tr>\n",
       "      <th>14995</th>\n",
       "      <td>402072</td>\n",
       "      <td>940</td>\n",
       "      <td>prior</td>\n",
       "      <td>3</td>\n",
       "      <td>5</td>\n",
       "      <td>8</td>\n",
       "      <td>26.0</td>\n",
       "    </tr>\n",
       "    <tr>\n",
       "      <th>14996</th>\n",
       "      <td>408253</td>\n",
       "      <td>940</td>\n",
       "      <td>prior</td>\n",
       "      <td>4</td>\n",
       "      <td>3</td>\n",
       "      <td>12</td>\n",
       "      <td>26.0</td>\n",
       "    </tr>\n",
       "    <tr>\n",
       "      <th>14997</th>\n",
       "      <td>542412</td>\n",
       "      <td>940</td>\n",
       "      <td>prior</td>\n",
       "      <td>5</td>\n",
       "      <td>0</td>\n",
       "      <td>12</td>\n",
       "      <td>4.0</td>\n",
       "    </tr>\n",
       "  </tbody>\n",
       "</table>\n",
       "</div>"
      ],
      "text/plain": [
       "       order_id  user_id eval_set  order_number  order_dow  order_hour_of_day  \\\n",
       "14993    242494      940    prior             1          0                  7   \n",
       "14994   1747069      940    prior             2          0                 15   \n",
       "14995    402072      940    prior             3          5                  8   \n",
       "14996    408253      940    prior             4          3                 12   \n",
       "14997    542412      940    prior             5          0                 12   \n",
       "\n",
       "       days_since_prior_order  \n",
       "14993                     NaN  \n",
       "14994                    14.0  \n",
       "14995                    26.0  \n",
       "14996                    26.0  \n",
       "14997                     4.0  "
      ]
     },
     "execution_count": 4,
     "metadata": {},
     "output_type": "execute_result"
    }
   ],
   "source": [
    "sample_orders_prior = sample.loc[sample['eval_set'] == 'prior']\n",
    "print('The sample has', len(sample_orders_prior),'prior orders')\n",
    "sample_orders_prior.head()"
   ]
  },
  {
   "cell_type": "code",
   "execution_count": 5,
   "metadata": {},
   "outputs": [
    {
     "name": "stdout",
     "output_type": "stream",
     "text": [
      "The sample has 255 unique users\n"
     ]
    }
   ],
   "source": [
    "user_id_unique = sample['user_id'].unique()\n",
    "print('The sample has' , len(user_id_unique), 'unique users')"
   ]
  },
  {
   "cell_type": "code",
   "execution_count": 6,
   "metadata": {},
   "outputs": [
    {
     "name": "stdout",
     "output_type": "stream",
     "text": [
      "In the sample, 255 users made 3714 number of prior orders\n",
      "And 3969 of total orders when including train orders\n"
     ]
    }
   ],
   "source": [
    "orders_unique = sample_orders_prior['order_id'].unique()\n",
    "print('In the sample, 255 users made' , len(orders_unique), 'number of prior orders')\n",
    "\n",
    "orders_unique_total = sample['order_id'].unique()\n",
    "print('And' , len(orders_unique_total), 'of total orders when including train orders')"
   ]
  },
  {
   "cell_type": "code",
   "execution_count": 7,
   "metadata": {},
   "outputs": [
    {
     "name": "stdout",
     "output_type": "stream",
     "text": [
      "In average each user placed 6.8659127625201934 prior orders.\n",
      "In average each user placed 6.424792139077853 orders.\n"
     ]
    }
   ],
   "source": [
    "print('In average each user placed', (len(user_id_unique)/len(orders_unique))*100, 'prior orders.')\n",
    "\n",
    "print('In average each user placed', (len(user_id_unique)/len(orders_unique_total))*100, 'orders.')"
   ]
  },
  {
   "cell_type": "markdown",
   "metadata": {},
   "source": [
    "The following section merges the DataFrames to create the product_merged_sample DataFrame with respective orders, products, departments, aisles, day of the week when the order was placed, time of the day, time since last order and whether it is a reordered product."
   ]
  },
  {
   "cell_type": "code",
   "execution_count": 8,
   "metadata": {},
   "outputs": [
    {
     "name": "stdout",
     "output_type": "stream",
     "text": [
      "3714\n"
     ]
    },
    {
     "data": {
      "text/html": [
       "<div>\n",
       "<style scoped>\n",
       "    .dataframe tbody tr th:only-of-type {\n",
       "        vertical-align: middle;\n",
       "    }\n",
       "\n",
       "    .dataframe tbody tr th {\n",
       "        vertical-align: top;\n",
       "    }\n",
       "\n",
       "    .dataframe thead th {\n",
       "        text-align: right;\n",
       "    }\n",
       "</style>\n",
       "<table border=\"1\" class=\"dataframe\">\n",
       "  <thead>\n",
       "    <tr style=\"text-align: right;\">\n",
       "      <th></th>\n",
       "      <th>order_id</th>\n",
       "      <th>product_id</th>\n",
       "      <th>add_to_cart_order</th>\n",
       "      <th>reordered</th>\n",
       "    </tr>\n",
       "  </thead>\n",
       "  <tbody>\n",
       "    <tr>\n",
       "      <th>21206</th>\n",
       "      <td>2249</td>\n",
       "      <td>11365</td>\n",
       "      <td>1</td>\n",
       "      <td>1</td>\n",
       "    </tr>\n",
       "    <tr>\n",
       "      <th>21207</th>\n",
       "      <td>2249</td>\n",
       "      <td>43352</td>\n",
       "      <td>2</td>\n",
       "      <td>1</td>\n",
       "    </tr>\n",
       "  </tbody>\n",
       "</table>\n",
       "</div>"
      ],
      "text/plain": [
       "       order_id  product_id  add_to_cart_order  reordered\n",
       "21206      2249       11365                  1          1\n",
       "21207      2249       43352                  2          1"
      ]
     },
     "execution_count": 8,
     "metadata": {},
     "output_type": "execute_result"
    }
   ],
   "source": [
    "#Merging of order_products_prior with sub-sample. Creating orders_products_prior with 3714 prior orders and products \n",
    "#in each order.\n",
    "\n",
    "orders_products_sample = order_products_prior['order_id'].isin(sample['order_id'])\n",
    "orders_products_prior_sample = order_products_prior[orders_products_sample]\n",
    "print(len(orders_products_prior_sample['order_id'].unique()))\n",
    "orders_products_prior_sample.head(2)"
   ]
  },
  {
   "cell_type": "code",
   "execution_count": 9,
   "metadata": {},
   "outputs": [],
   "source": [
    "#product_merged_sample contains prior orders with user_id, product_name, department, aisle and timeline.\n",
    "\n",
    "merged_order_sample = pd.merge(orders_products_prior_sample, sample, on='order_id', how='left')\n",
    "product_merged = pd.merge(merged_order_sample, products, on='product_id',how='left')\n",
    "product_aisle_merged = pd.merge(product_merged, aisles[['aisle','aisle_id']], on = 'aisle_id', how = 'left')\n",
    "product_department_merged = pd.merge(product_aisle_merged, departments[['department','department_id']], on = 'department_id', how = 'left')\n",
    "product_merged_sample = product_department_merged[['user_id','order_id','order_number','product_id','product_name','aisle','department','eval_set','add_to_cart_order', 'order_dow', 'order_hour_of_day','days_since_prior_order', 'reordered']]\n"
   ]
  },
  {
   "cell_type": "code",
   "execution_count": 10,
   "metadata": {},
   "outputs": [
    {
     "data": {
      "text/html": [
       "<div>\n",
       "<style scoped>\n",
       "    .dataframe tbody tr th:only-of-type {\n",
       "        vertical-align: middle;\n",
       "    }\n",
       "\n",
       "    .dataframe tbody tr th {\n",
       "        vertical-align: top;\n",
       "    }\n",
       "\n",
       "    .dataframe thead th {\n",
       "        text-align: right;\n",
       "    }\n",
       "</style>\n",
       "<table border=\"1\" class=\"dataframe\">\n",
       "  <thead>\n",
       "    <tr style=\"text-align: right;\">\n",
       "      <th></th>\n",
       "      <th>order_id</th>\n",
       "      <th>product_id</th>\n",
       "      <th>add_to_cart_order</th>\n",
       "      <th>reordered</th>\n",
       "    </tr>\n",
       "  </thead>\n",
       "  <tbody>\n",
       "    <tr>\n",
       "      <th>21206</th>\n",
       "      <td>2249</td>\n",
       "      <td>11365</td>\n",
       "      <td>1</td>\n",
       "      <td>1</td>\n",
       "    </tr>\n",
       "    <tr>\n",
       "      <th>21207</th>\n",
       "      <td>2249</td>\n",
       "      <td>43352</td>\n",
       "      <td>2</td>\n",
       "      <td>1</td>\n",
       "    </tr>\n",
       "  </tbody>\n",
       "</table>\n",
       "</div>"
      ],
      "text/plain": [
       "       order_id  product_id  add_to_cart_order  reordered\n",
       "21206      2249       11365                  1          1\n",
       "21207      2249       43352                  2          1"
      ]
     },
     "execution_count": 10,
     "metadata": {},
     "output_type": "execute_result"
    }
   ],
   "source": [
    "orders_products_prior_sample.head(2)"
   ]
  },
  {
   "cell_type": "code",
   "execution_count": 11,
   "metadata": {},
   "outputs": [
    {
     "data": {
      "text/html": [
       "<div>\n",
       "<style scoped>\n",
       "    .dataframe tbody tr th:only-of-type {\n",
       "        vertical-align: middle;\n",
       "    }\n",
       "\n",
       "    .dataframe tbody tr th {\n",
       "        vertical-align: top;\n",
       "    }\n",
       "\n",
       "    .dataframe thead th {\n",
       "        text-align: right;\n",
       "    }\n",
       "</style>\n",
       "<table border=\"1\" class=\"dataframe\">\n",
       "  <thead>\n",
       "    <tr style=\"text-align: right;\">\n",
       "      <th></th>\n",
       "      <th>user_id</th>\n",
       "      <th>order_id</th>\n",
       "      <th>order_number</th>\n",
       "      <th>product_id</th>\n",
       "      <th>product_name</th>\n",
       "      <th>aisle</th>\n",
       "      <th>department</th>\n",
       "      <th>eval_set</th>\n",
       "      <th>add_to_cart_order</th>\n",
       "      <th>order_dow</th>\n",
       "      <th>order_hour_of_day</th>\n",
       "      <th>days_since_prior_order</th>\n",
       "      <th>reordered</th>\n",
       "    </tr>\n",
       "  </thead>\n",
       "  <tbody>\n",
       "    <tr>\n",
       "      <th>0</th>\n",
       "      <td>102271</td>\n",
       "      <td>2249</td>\n",
       "      <td>9</td>\n",
       "      <td>11365</td>\n",
       "      <td>Leaf Spinach</td>\n",
       "      <td>packaged produce</td>\n",
       "      <td>produce</td>\n",
       "      <td>prior</td>\n",
       "      <td>1</td>\n",
       "      <td>3</td>\n",
       "      <td>21</td>\n",
       "      <td>15.0</td>\n",
       "      <td>1</td>\n",
       "    </tr>\n",
       "    <tr>\n",
       "      <th>1</th>\n",
       "      <td>102271</td>\n",
       "      <td>2249</td>\n",
       "      <td>9</td>\n",
       "      <td>43352</td>\n",
       "      <td>Raspberries</td>\n",
       "      <td>packaged produce</td>\n",
       "      <td>produce</td>\n",
       "      <td>prior</td>\n",
       "      <td>2</td>\n",
       "      <td>3</td>\n",
       "      <td>21</td>\n",
       "      <td>15.0</td>\n",
       "      <td>1</td>\n",
       "    </tr>\n",
       "    <tr>\n",
       "      <th>2</th>\n",
       "      <td>102271</td>\n",
       "      <td>2249</td>\n",
       "      <td>9</td>\n",
       "      <td>8571</td>\n",
       "      <td>Baby Cucumbers</td>\n",
       "      <td>packaged produce</td>\n",
       "      <td>produce</td>\n",
       "      <td>prior</td>\n",
       "      <td>3</td>\n",
       "      <td>3</td>\n",
       "      <td>21</td>\n",
       "      <td>15.0</td>\n",
       "      <td>1</td>\n",
       "    </tr>\n",
       "    <tr>\n",
       "      <th>3</th>\n",
       "      <td>159768</td>\n",
       "      <td>2451</td>\n",
       "      <td>33</td>\n",
       "      <td>2113</td>\n",
       "      <td>Ultra Comfort Care Mega Roll Toilet Paper</td>\n",
       "      <td>paper goods</td>\n",
       "      <td>household</td>\n",
       "      <td>prior</td>\n",
       "      <td>1</td>\n",
       "      <td>2</td>\n",
       "      <td>17</td>\n",
       "      <td>3.0</td>\n",
       "      <td>1</td>\n",
       "    </tr>\n",
       "    <tr>\n",
       "      <th>4</th>\n",
       "      <td>159768</td>\n",
       "      <td>2451</td>\n",
       "      <td>33</td>\n",
       "      <td>42585</td>\n",
       "      <td>Organic Extra Firm Tofu</td>\n",
       "      <td>tofu meat alternatives</td>\n",
       "      <td>deli</td>\n",
       "      <td>prior</td>\n",
       "      <td>2</td>\n",
       "      <td>2</td>\n",
       "      <td>17</td>\n",
       "      <td>3.0</td>\n",
       "      <td>1</td>\n",
       "    </tr>\n",
       "  </tbody>\n",
       "</table>\n",
       "</div>"
      ],
      "text/plain": [
       "   user_id  order_id  order_number  product_id  \\\n",
       "0   102271      2249             9       11365   \n",
       "1   102271      2249             9       43352   \n",
       "2   102271      2249             9        8571   \n",
       "3   159768      2451            33        2113   \n",
       "4   159768      2451            33       42585   \n",
       "\n",
       "                                product_name                   aisle  \\\n",
       "0                               Leaf Spinach        packaged produce   \n",
       "1                                Raspberries        packaged produce   \n",
       "2                             Baby Cucumbers        packaged produce   \n",
       "3  Ultra Comfort Care Mega Roll Toilet Paper             paper goods   \n",
       "4                    Organic Extra Firm Tofu  tofu meat alternatives   \n",
       "\n",
       "  department eval_set  add_to_cart_order  order_dow  order_hour_of_day  \\\n",
       "0    produce    prior                  1          3                 21   \n",
       "1    produce    prior                  2          3                 21   \n",
       "2    produce    prior                  3          3                 21   \n",
       "3  household    prior                  1          2                 17   \n",
       "4       deli    prior                  2          2                 17   \n",
       "\n",
       "   days_since_prior_order  reordered  \n",
       "0                    15.0          1  \n",
       "1                    15.0          1  \n",
       "2                    15.0          1  \n",
       "3                     3.0          1  \n",
       "4                     3.0          1  "
      ]
     },
     "execution_count": 11,
     "metadata": {},
     "output_type": "execute_result"
    }
   ],
   "source": [
    "product_merged_sample.head()"
   ]
  },
  {
   "cell_type": "code",
   "execution_count": 12,
   "metadata": {},
   "outputs": [
    {
     "name": "stdout",
     "output_type": "stream",
     "text": [
      "The number of reordered products is 21976\n"
     ]
    }
   ],
   "source": [
    "#Creating a DataFrame of reordered products\n",
    "\n",
    "reordered_products_prior = product_merged_sample.loc[product_merged_sample['reordered'] == 1]\n",
    "print('The number of reordered products is', len(reordered_products_prior))\n"
   ]
  },
  {
   "cell_type": "markdown",
   "metadata": {},
   "source": [
    "# Product Features\n",
    "\n"
   ]
  },
  {
   "cell_type": "code",
   "execution_count": 13,
   "metadata": {},
   "outputs": [
    {
     "data": {
      "text/html": [
       "<div>\n",
       "<style scoped>\n",
       "    .dataframe tbody tr th:only-of-type {\n",
       "        vertical-align: middle;\n",
       "    }\n",
       "\n",
       "    .dataframe tbody tr th {\n",
       "        vertical-align: top;\n",
       "    }\n",
       "\n",
       "    .dataframe thead th {\n",
       "        text-align: right;\n",
       "    }\n",
       "</style>\n",
       "<table border=\"1\" class=\"dataframe\">\n",
       "  <thead>\n",
       "    <tr style=\"text-align: right;\">\n",
       "      <th></th>\n",
       "      <th>product_name</th>\n",
       "      <th>order_frequency</th>\n",
       "      <th>reorder_frequency</th>\n",
       "      <th>reorder_ratio</th>\n",
       "    </tr>\n",
       "  </thead>\n",
       "  <tbody>\n",
       "    <tr>\n",
       "      <th>91</th>\n",
       "      <td>Original Almond Butter</td>\n",
       "      <td>48</td>\n",
       "      <td>47.0</td>\n",
       "      <td>97.92</td>\n",
       "    </tr>\n",
       "    <tr>\n",
       "      <th>160</th>\n",
       "      <td>Brownberry 100% 12 Grain Bread</td>\n",
       "      <td>32</td>\n",
       "      <td>31.0</td>\n",
       "      <td>96.88</td>\n",
       "    </tr>\n",
       "    <tr>\n",
       "      <th>53</th>\n",
       "      <td>Red Onions, Fresh Diced</td>\n",
       "      <td>63</td>\n",
       "      <td>61.0</td>\n",
       "      <td>96.83</td>\n",
       "    </tr>\n",
       "    <tr>\n",
       "      <th>168</th>\n",
       "      <td>Organic Just Tart Cherry Juice</td>\n",
       "      <td>31</td>\n",
       "      <td>30.0</td>\n",
       "      <td>96.77</td>\n",
       "    </tr>\n",
       "    <tr>\n",
       "      <th>66</th>\n",
       "      <td>Natural Pure Sparkling Water</td>\n",
       "      <td>58</td>\n",
       "      <td>56.0</td>\n",
       "      <td>96.55</td>\n",
       "    </tr>\n",
       "  </tbody>\n",
       "</table>\n",
       "</div>"
      ],
      "text/plain": [
       "                       product_name  order_frequency  reorder_frequency  \\\n",
       "91           Original Almond Butter               48               47.0   \n",
       "160  Brownberry 100% 12 Grain Bread               32               31.0   \n",
       "53          Red Onions, Fresh Diced               63               61.0   \n",
       "168  Organic Just Tart Cherry Juice               31               30.0   \n",
       "66     Natural Pure Sparkling Water               58               56.0   \n",
       "\n",
       "     reorder_ratio  \n",
       "91           97.92  \n",
       "160          96.88  \n",
       "53           96.83  \n",
       "168          96.77  \n",
       "66           96.55  "
      ]
     },
     "execution_count": 13,
     "metadata": {},
     "output_type": "execute_result"
    }
   ],
   "source": [
    "#Creating a DataFrame with frequency of orders\n",
    "#Creating a column 'order_frequency'\n",
    "\n",
    "cnt_top_purchased = product_merged_sample['product_name'].value_counts().reset_index()\n",
    "cnt_top_purchased.columns = ['product_name', 'order_frequency']\n",
    "cnt_top_purchased\n",
    "\n",
    "\n",
    "#Creating a column 'reorder_frequency' \n",
    "\n",
    "cnt_reordered_products = reordered_products_prior['product_name'].value_counts().reset_index()\n",
    "cnt_reordered_products.columns = ['product_name', 'reorder_frequency']\n",
    "cnt_reordered_products\n",
    "\n",
    "#Merging top purchased products DataFrame with count of reordered products DataFrame \n",
    "\n",
    "merged_cnt = pd.merge(cnt_top_purchased, cnt_reordered_products, on='product_name', how='left')\n",
    "\n",
    "\n",
    "#Ratio of order to reordered products\n",
    "\n",
    "merged_cnt['reorder_ratio'] = (merged_cnt['reorder_frequency'] / merged_cnt['order_frequency'])*100\n",
    "\n",
    "rounded_merged_cnt=np.round(merged_cnt, decimals=2)\n",
    "\n",
    "sorted_merged_cnt = rounded_merged_cnt.sort_values(by='reorder_ratio',ascending = False)\n",
    "\n",
    "sorted_merged_cnt.head()\n"
   ]
  },
  {
   "cell_type": "code",
   "execution_count": 14,
   "metadata": {},
   "outputs": [
    {
     "data": {
      "text/plain": [
       "count    3714.000000\n",
       "mean        9.999731\n",
       "std         7.245809\n",
       "min         1.000000\n",
       "25%         5.000000\n",
       "50%         8.000000\n",
       "75%        14.000000\n",
       "max        57.000000\n",
       "Name: items_in_shopping_cart, dtype: float64"
      ]
     },
     "execution_count": 14,
     "metadata": {},
     "output_type": "execute_result"
    }
   ],
   "source": [
    "cart = product_merged_sample['order_id'].value_counts().reset_index()\n",
    "cart.columns = ['order_id','items_in_shopping_cart']\n",
    "cart.items_in_shopping_cart.describe()"
   ]
  },
  {
   "cell_type": "code",
   "execution_count": 15,
   "metadata": {},
   "outputs": [
    {
     "data": {
      "image/png": "[encoded data removed]",
      "text/plain": [
       "<Figure size 864x288 with 1 Axes>"
      ]
     },
     "metadata": {
      "needs_background": "light"
     },
     "output_type": "display_data"
    }
   ],
   "source": [
    "plt.figure(figsize=(12,4))\n",
    "sns.countplot(x='days_since_prior_order', data=sample_orders_prior, color='b')\n",
    "plt.ylabel('Number of orders', fontsize=12)\n",
    "plt.xlabel('Number of days since prior order', fontsize=12)\n",
    "plt.xticks(rotation='vertical')\n",
    "plt.axvline(np.mean(sample_orders_prior.days_since_prior_order), color='black')\n",
    "plt.text(9,300,'mean', rotation=360, color='black')\n",
    "plt.title(\"Frequency distribution by days since prior order  - orders table\", fontsize=15)\n",
    "plt.show()"
   ]
  },
  {
   "cell_type": "code",
   "execution_count": 16,
   "metadata": {},
   "outputs": [
    {
     "name": "stdout",
     "output_type": "stream",
     "text": [
      "                   number_reorders\n",
      "add_to_cart_order                 \n",
      "1                             3714\n",
      "2                             3526\n",
      "3                             3328\n",
      "4                             3112\n",
      "5                             2861\n"
     ]
    },
    {
     "data": {
      "text/plain": [
       "Text(0, 0.5, 'Reorder frequency')"
      ]
     },
     "execution_count": 16,
     "metadata": {},
     "output_type": "execute_result"
    },
    {
     "data": {
      "image/png": "[encoded data removed]",
      "text/plain": [
       "<Figure size 720x648 with 1 Axes>"
      ]
     },
     "metadata": {
      "needs_background": "light"
     },
     "output_type": "display_data"
    }
   ],
   "source": [
    "cart_order = pd.DataFrame()\n",
    "cart_order['number_reorders'] = product_merged_sample.groupby('add_to_cart_order')['reordered'].size()\n",
    "print(cart_order.head())\n",
    "plt.figure(figsize=(10,9))\n",
    "plt.plot(cart_order.number_reorders, color='b')\n",
    "plt.title('Add to cart order - Reorder frequency ', fontsize='15')\n",
    "plt.xlabel('Add to cart order',fontsize='14')\n",
    "plt.ylabel('Reorder frequency', fontsize='14')"
   ]
  },
  {
   "cell_type": "code",
   "execution_count": 17,
   "metadata": {},
   "outputs": [
    {
     "data": {
      "text/html": [
       "<div>\n",
       "<style scoped>\n",
       "    .dataframe tbody tr th:only-of-type {\n",
       "        vertical-align: middle;\n",
       "    }\n",
       "\n",
       "    .dataframe tbody tr th {\n",
       "        vertical-align: top;\n",
       "    }\n",
       "\n",
       "    .dataframe thead th {\n",
       "        text-align: right;\n",
       "    }\n",
       "</style>\n",
       "<table border=\"1\" class=\"dataframe\">\n",
       "  <thead>\n",
       "    <tr style=\"text-align: right;\">\n",
       "      <th></th>\n",
       "      <th>number_reorders</th>\n",
       "      <th>product_avg_number_reorders</th>\n",
       "    </tr>\n",
       "    <tr>\n",
       "      <th>add_to_cart_order</th>\n",
       "      <th></th>\n",
       "      <th></th>\n",
       "    </tr>\n",
       "  </thead>\n",
       "  <tbody>\n",
       "    <tr>\n",
       "      <th>1</th>\n",
       "      <td>3714</td>\n",
       "      <td>10.000269</td>\n",
       "    </tr>\n",
       "    <tr>\n",
       "      <th>2</th>\n",
       "      <td>3526</td>\n",
       "      <td>9.494063</td>\n",
       "    </tr>\n",
       "  </tbody>\n",
       "</table>\n",
       "</div>"
      ],
      "text/plain": [
       "                   number_reorders  product_avg_number_reorders\n",
       "add_to_cart_order                                              \n",
       "1                             3714                    10.000269\n",
       "2                             3526                     9.494063"
      ]
     },
     "execution_count": 17,
     "metadata": {},
     "output_type": "execute_result"
    }
   ],
   "source": [
    "cart_order.head()\n",
    "cart_order['product_avg_number_reorders'] = cart_order['number_reorders']/np.sum(cart_order['number_reorders'])*100\n",
    "cart_order.head(2)"
   ]
  },
  {
   "cell_type": "markdown",
   "metadata": {},
   "source": [
    "# user features"
   ]
  },
  {
   "cell_type": "code",
   "execution_count": 18,
   "metadata": {},
   "outputs": [
    {
     "data": {
      "text/html": [
       "<div>\n",
       "<style scoped>\n",
       "    .dataframe tbody tr th:only-of-type {\n",
       "        vertical-align: middle;\n",
       "    }\n",
       "\n",
       "    .dataframe tbody tr th {\n",
       "        vertical-align: top;\n",
       "    }\n",
       "\n",
       "    .dataframe thead th {\n",
       "        text-align: right;\n",
       "    }\n",
       "</style>\n",
       "<table border=\"1\" class=\"dataframe\">\n",
       "  <thead>\n",
       "    <tr style=\"text-align: right;\">\n",
       "      <th></th>\n",
       "      <th>user_average_days_between_orders</th>\n",
       "      <th>user_number_orders</th>\n",
       "    </tr>\n",
       "    <tr>\n",
       "      <th>user_id</th>\n",
       "      <th></th>\n",
       "      <th></th>\n",
       "    </tr>\n",
       "  </thead>\n",
       "  <tbody>\n",
       "    <tr>\n",
       "      <th>940</th>\n",
       "      <td>18.166667</td>\n",
       "      <td>7</td>\n",
       "    </tr>\n",
       "    <tr>\n",
       "      <th>4915</th>\n",
       "      <td>13.909091</td>\n",
       "      <td>12</td>\n",
       "    </tr>\n",
       "  </tbody>\n",
       "</table>\n",
       "</div>"
      ],
      "text/plain": [
       "         user_average_days_between_orders  user_number_orders\n",
       "user_id                                                      \n",
       "940                             18.166667                   7\n",
       "4915                            13.909091                  12"
      ]
     },
     "execution_count": 18,
     "metadata": {},
     "output_type": "execute_result"
    }
   ],
   "source": [
    "usr = pd.DataFrame()\n",
    "usr['user_average_days_between_orders'] = sample_orders_prior.groupby('user_id')['days_since_prior_order'].mean()\n",
    "usr['user_number_orders'] = sample_orders_prior.groupby('user_id').size()\n",
    "usr.head(2)"
   ]
  },
  {
   "cell_type": "code",
   "execution_count": 19,
   "metadata": {},
   "outputs": [
    {
     "data": {
      "text/html": [
       "<div>\n",
       "<style scoped>\n",
       "    .dataframe tbody tr th:only-of-type {\n",
       "        vertical-align: middle;\n",
       "    }\n",
       "\n",
       "    .dataframe tbody tr th {\n",
       "        vertical-align: top;\n",
       "    }\n",
       "\n",
       "    .dataframe thead th {\n",
       "        text-align: right;\n",
       "    }\n",
       "</style>\n",
       "<table border=\"1\" class=\"dataframe\">\n",
       "  <thead>\n",
       "    <tr style=\"text-align: right;\">\n",
       "      <th></th>\n",
       "      <th>user_total_items</th>\n",
       "      <th>user_all_products</th>\n",
       "      <th>user_total_distinct_items</th>\n",
       "    </tr>\n",
       "    <tr>\n",
       "      <th>user_id</th>\n",
       "      <th></th>\n",
       "      <th></th>\n",
       "      <th></th>\n",
       "    </tr>\n",
       "  </thead>\n",
       "  <tbody>\n",
       "    <tr>\n",
       "      <th>940</th>\n",
       "      <td>88</td>\n",
       "      <td>{15872, 25601, 19202, 45698, 40332, 38028, 317...</td>\n",
       "      <td>58</td>\n",
       "    </tr>\n",
       "    <tr>\n",
       "      <th>4915</th>\n",
       "      <td>194</td>\n",
       "      <td>{11266, 13829, 47626, 10, 6669, 49683, 12320, ...</td>\n",
       "      <td>91</td>\n",
       "    </tr>\n",
       "  </tbody>\n",
       "</table>\n",
       "</div>"
      ],
      "text/plain": [
       "         user_total_items                                  user_all_products  \\\n",
       "user_id                                                                        \n",
       "940                    88  {15872, 25601, 19202, 45698, 40332, 38028, 317...   \n",
       "4915                  194  {11266, 13829, 47626, 10, 6669, 49683, 12320, ...   \n",
       "\n",
       "         user_total_distinct_items  \n",
       "user_id                             \n",
       "940                             58  \n",
       "4915                            91  "
      ]
     },
     "execution_count": 19,
     "metadata": {},
     "output_type": "execute_result"
    }
   ],
   "source": [
    "users = pd.DataFrame()\n",
    "users['user_total_items'] = product_merged_sample.groupby('user_id').size()\n",
    "users['user_all_products'] = product_merged_sample.groupby('user_id')['product_id'].apply(set)\n",
    "users['user_total_distinct_items'] = (users.user_all_products.map(len))\n",
    "users.head()\n",
    "users['user_total_items'].sum()\n",
    "users.head(2)"
   ]
  },
  {
   "cell_type": "code",
   "execution_count": 20,
   "metadata": {},
   "outputs": [
    {
     "name": "stdout",
     "output_type": "stream",
     "text": [
      "user f (255, 6)\n"
     ]
    }
   ],
   "source": [
    "users = users.join(usr)\n",
    "del usr\n",
    "users['user_average_basket'] = (users.user_total_items / users.user_number_orders)\n",
    "print('user f', users.shape)"
   ]
  },
  {
   "cell_type": "code",
   "execution_count": 21,
   "metadata": {},
   "outputs": [
    {
     "data": {
      "text/html": [
       "<div>\n",
       "<style scoped>\n",
       "    .dataframe tbody tr th:only-of-type {\n",
       "        vertical-align: middle;\n",
       "    }\n",
       "\n",
       "    .dataframe tbody tr th {\n",
       "        vertical-align: top;\n",
       "    }\n",
       "\n",
       "    .dataframe thead th {\n",
       "        text-align: right;\n",
       "    }\n",
       "</style>\n",
       "<table border=\"1\" class=\"dataframe\">\n",
       "  <thead>\n",
       "    <tr style=\"text-align: right;\">\n",
       "      <th></th>\n",
       "      <th>user_total_items</th>\n",
       "      <th>user_all_products</th>\n",
       "      <th>user_total_distinct_items</th>\n",
       "      <th>user_average_days_between_orders</th>\n",
       "      <th>user_number_orders</th>\n",
       "      <th>user_average_basket</th>\n",
       "    </tr>\n",
       "    <tr>\n",
       "      <th>user_id</th>\n",
       "      <th></th>\n",
       "      <th></th>\n",
       "      <th></th>\n",
       "      <th></th>\n",
       "      <th></th>\n",
       "      <th></th>\n",
       "    </tr>\n",
       "  </thead>\n",
       "  <tbody>\n",
       "    <tr>\n",
       "      <th>940</th>\n",
       "      <td>88</td>\n",
       "      <td>{15872, 25601, 19202, 45698, 40332, 38028, 317...</td>\n",
       "      <td>58</td>\n",
       "      <td>18.166667</td>\n",
       "      <td>7</td>\n",
       "      <td>12.571429</td>\n",
       "    </tr>\n",
       "    <tr>\n",
       "      <th>4915</th>\n",
       "      <td>194</td>\n",
       "      <td>{11266, 13829, 47626, 10, 6669, 49683, 12320, ...</td>\n",
       "      <td>91</td>\n",
       "      <td>13.909091</td>\n",
       "      <td>12</td>\n",
       "      <td>16.166667</td>\n",
       "    </tr>\n",
       "  </tbody>\n",
       "</table>\n",
       "</div>"
      ],
      "text/plain": [
       "         user_total_items                                  user_all_products  \\\n",
       "user_id                                                                        \n",
       "940                    88  {15872, 25601, 19202, 45698, 40332, 38028, 317...   \n",
       "4915                  194  {11266, 13829, 47626, 10, 6669, 49683, 12320, ...   \n",
       "\n",
       "         user_total_distinct_items  user_average_days_between_orders  \\\n",
       "user_id                                                                \n",
       "940                             58                         18.166667   \n",
       "4915                            91                         13.909091   \n",
       "\n",
       "         user_number_orders  user_average_basket  \n",
       "user_id                                           \n",
       "940                       7            12.571429  \n",
       "4915                     12            16.166667  "
      ]
     },
     "execution_count": 21,
     "metadata": {},
     "output_type": "execute_result"
    }
   ],
   "source": [
    "users.head(2)\n"
   ]
  },
  {
   "cell_type": "code",
   "execution_count": 22,
   "metadata": {},
   "outputs": [],
   "source": [
    "product_merged_sample.iloc[:,11].fillna(product_merged_sample.iloc[:,11].mean(), inplace = True)\n",
    "#sorted_merged_cnt.iloc[:,2] = sorted_merged_cnt.iloc[:,2].replace('nan', np.nan).fillna(0)\n",
    "sorted_merged_cnt.iloc[:,2] = sorted_merged_cnt.iloc[:,2].replace('nan', np.nan).fillna(method='ffill')"
   ]
  },
  {
   "cell_type": "code",
   "execution_count": 23,
   "metadata": {},
   "outputs": [
    {
     "data": {
      "text/html": [
       "<div>\n",
       "<style scoped>\n",
       "    .dataframe tbody tr th:only-of-type {\n",
       "        vertical-align: middle;\n",
       "    }\n",
       "\n",
       "    .dataframe tbody tr th {\n",
       "        vertical-align: top;\n",
       "    }\n",
       "\n",
       "    .dataframe thead th {\n",
       "        text-align: right;\n",
       "    }\n",
       "</style>\n",
       "<table border=\"1\" class=\"dataframe\">\n",
       "  <thead>\n",
       "    <tr style=\"text-align: right;\">\n",
       "      <th></th>\n",
       "      <th>product_name</th>\n",
       "      <th>avg_days_since_prior_order</th>\n",
       "      <th>order_frequency</th>\n",
       "      <th>reorder_frequency</th>\n",
       "      <th>reorder_ratio</th>\n",
       "    </tr>\n",
       "  </thead>\n",
       "  <tbody>\n",
       "    <tr>\n",
       "      <th>0</th>\n",
       "      <td>#2 Coffee Filters</td>\n",
       "      <td>17.5</td>\n",
       "      <td>2</td>\n",
       "      <td>1.0</td>\n",
       "      <td>50.0</td>\n",
       "    </tr>\n",
       "    <tr>\n",
       "      <th>1</th>\n",
       "      <td>0% Fat Free Organic Milk</td>\n",
       "      <td>9.0</td>\n",
       "      <td>2</td>\n",
       "      <td>1.0</td>\n",
       "      <td>50.0</td>\n",
       "    </tr>\n",
       "  </tbody>\n",
       "</table>\n",
       "</div>"
      ],
      "text/plain": [
       "               product_name  avg_days_since_prior_order  order_frequency  \\\n",
       "0         #2 Coffee Filters                        17.5                2   \n",
       "1  0% Fat Free Organic Milk                         9.0                2   \n",
       "\n",
       "   reorder_frequency  reorder_ratio  \n",
       "0                1.0           50.0  \n",
       "1                1.0           50.0  "
      ]
     },
     "execution_count": 23,
     "metadata": {},
     "output_type": "execute_result"
    }
   ],
   "source": [
    "avg_order_time = pd.DataFrame()\n",
    "avg_order_time['avg_days_since_prior_order'] = product_merged_sample.groupby('product_name')['days_since_prior_order'].mean()\n",
    "avg_order_merged = pd.merge(avg_order_time,sorted_merged_cnt, on='product_name' )\n",
    "avg_order_merged.iloc[:,4] = avg_order_merged.iloc[:,4].replace('nan', np.nan).fillna(0)\n",
    "#avg_order_merged.iloc[:,4] = avg_order_merged.iloc[:,4].replace('nan', np.nan).fillna(method='ffill')\n",
    "avg_order_merged.head(2)"
   ]
  },
  {
   "cell_type": "code",
   "execution_count": 24,
   "metadata": {},
   "outputs": [
    {
     "data": {
      "text/plain": [
       "Text(0.5, 1.0, 'avg_days_since_prior_order vs. reorder_frequency')"
      ]
     },
     "execution_count": 24,
     "metadata": {},
     "output_type": "execute_result"
    },
    {
     "data": {
      "image/png": "[encoded data removed]",
      "text/plain": [
       "<Figure size 864x504 with 1 Axes>"
      ]
     },
     "metadata": {
      "needs_background": "light"
     },
     "output_type": "display_data"
    }
   ],
   "source": [
    "plt.figure(figsize=(12,7))\n",
    "sns.scatterplot(data=avg_order_merged,x='avg_days_since_prior_order', y='reorder_frequency', color='blue' ) \n",
    "plt.title('avg_days_since_prior_order vs. reorder_frequency')"
   ]
  },
  {
   "cell_type": "code",
   "execution_count": 25,
   "metadata": {},
   "outputs": [
    {
     "data": {
      "text/html": [
       "<div>\n",
       "<style scoped>\n",
       "    .dataframe tbody tr th:only-of-type {\n",
       "        vertical-align: middle;\n",
       "    }\n",
       "\n",
       "    .dataframe tbody tr th {\n",
       "        vertical-align: top;\n",
       "    }\n",
       "\n",
       "    .dataframe thead th {\n",
       "        text-align: right;\n",
       "    }\n",
       "</style>\n",
       "<table border=\"1\" class=\"dataframe\">\n",
       "  <thead>\n",
       "    <tr style=\"text-align: right;\">\n",
       "      <th></th>\n",
       "      <th>product_avg_day_of_week</th>\n",
       "    </tr>\n",
       "    <tr>\n",
       "      <th>product_name</th>\n",
       "      <th></th>\n",
       "    </tr>\n",
       "  </thead>\n",
       "  <tbody>\n",
       "    <tr>\n",
       "      <th>#2 Coffee Filters</th>\n",
       "      <td>5.0</td>\n",
       "    </tr>\n",
       "    <tr>\n",
       "      <th>0% Fat Free Organic Milk</th>\n",
       "      <td>0.5</td>\n",
       "    </tr>\n",
       "    <tr>\n",
       "      <th>0% Fat Organic Greek Vanilla Yogurt</th>\n",
       "      <td>1.0</td>\n",
       "    </tr>\n",
       "    <tr>\n",
       "      <th>0% Greek Strained Yogurt</th>\n",
       "      <td>2.2</td>\n",
       "    </tr>\n",
       "    <tr>\n",
       "      <th>0% Greek Yogurt Black Cherry on the Bottom</th>\n",
       "      <td>1.0</td>\n",
       "    </tr>\n",
       "  </tbody>\n",
       "</table>\n",
       "</div>"
      ],
      "text/plain": [
       "                                            product_avg_day_of_week\n",
       "product_name                                                       \n",
       "#2 Coffee Filters                                               5.0\n",
       "0% Fat Free Organic Milk                                        0.5\n",
       "0% Fat Organic Greek Vanilla Yogurt                             1.0\n",
       "0% Greek Strained Yogurt                                        2.2\n",
       "0% Greek Yogurt Black Cherry on the Bottom                      1.0"
      ]
     },
     "execution_count": 25,
     "metadata": {},
     "output_type": "execute_result"
    }
   ],
   "source": [
    "avg_day_of_week = pd.DataFrame()\n",
    "avg_day_of_week['product_avg_day_of_week'] = product_merged_sample.groupby('product_name')['order_dow'].mean()\n",
    "avg_day_of_week.head()"
   ]
  },
  {
   "cell_type": "markdown",
   "metadata": {},
   "source": [
    "# Merging features table"
   ]
  },
  {
   "cell_type": "code",
   "execution_count": 26,
   "metadata": {},
   "outputs": [
    {
     "data": {
      "text/html": [
       "<div>\n",
       "<style scoped>\n",
       "    .dataframe tbody tr th:only-of-type {\n",
       "        vertical-align: middle;\n",
       "    }\n",
       "\n",
       "    .dataframe tbody tr th {\n",
       "        vertical-align: top;\n",
       "    }\n",
       "\n",
       "    .dataframe thead th {\n",
       "        text-align: right;\n",
       "    }\n",
       "</style>\n",
       "<table border=\"1\" class=\"dataframe\">\n",
       "  <thead>\n",
       "    <tr style=\"text-align: right;\">\n",
       "      <th></th>\n",
       "      <th>user_id</th>\n",
       "      <th>order_id</th>\n",
       "      <th>order_number</th>\n",
       "      <th>product_id</th>\n",
       "      <th>add_to_cart_order</th>\n",
       "      <th>order_dow</th>\n",
       "      <th>order_hour_of_day</th>\n",
       "      <th>days_since_prior_order</th>\n",
       "      <th>reordered</th>\n",
       "      <th>product_avg_days_since_prior_order</th>\n",
       "      <th>order_frequency</th>\n",
       "      <th>product_reorder_frequency</th>\n",
       "      <th>product_reorder_ratio</th>\n",
       "      <th>number_reorders</th>\n",
       "      <th>product_avg_number_reorders</th>\n",
       "      <th>user_total_items</th>\n",
       "      <th>user_average_days_between_orders</th>\n",
       "      <th>user_number_orders</th>\n",
       "      <th>user_average_basket</th>\n",
       "      <th>product_avg_day_of_week</th>\n",
       "    </tr>\n",
       "  </thead>\n",
       "  <tbody>\n",
       "    <tr>\n",
       "      <th>34555</th>\n",
       "      <td>940</td>\n",
       "      <td>408253</td>\n",
       "      <td>4</td>\n",
       "      <td>5618</td>\n",
       "      <td>21</td>\n",
       "      <td>3</td>\n",
       "      <td>12</td>\n",
       "      <td>26.0</td>\n",
       "      <td>0</td>\n",
       "      <td>16.250000</td>\n",
       "      <td>4</td>\n",
       "      <td>2.0</td>\n",
       "      <td>50.00</td>\n",
       "      <td>315</td>\n",
       "      <td>0.848165</td>\n",
       "      <td>88</td>\n",
       "      <td>18.166667</td>\n",
       "      <td>7</td>\n",
       "      <td>12.571429</td>\n",
       "      <td>2.250000</td>\n",
       "    </tr>\n",
       "    <tr>\n",
       "      <th>23820</th>\n",
       "      <td>940</td>\n",
       "      <td>1317198</td>\n",
       "      <td>7</td>\n",
       "      <td>31759</td>\n",
       "      <td>1</td>\n",
       "      <td>3</td>\n",
       "      <td>11</td>\n",
       "      <td>9.0</td>\n",
       "      <td>1</td>\n",
       "      <td>10.254697</td>\n",
       "      <td>29</td>\n",
       "      <td>20.0</td>\n",
       "      <td>68.97</td>\n",
       "      <td>3714</td>\n",
       "      <td>10.000269</td>\n",
       "      <td>88</td>\n",
       "      <td>18.166667</td>\n",
       "      <td>7</td>\n",
       "      <td>12.571429</td>\n",
       "      <td>2.896552</td>\n",
       "    </tr>\n",
       "  </tbody>\n",
       "</table>\n",
       "</div>"
      ],
      "text/plain": [
       "       user_id  order_id  order_number  product_id  add_to_cart_order  \\\n",
       "34555      940    408253             4        5618                 21   \n",
       "23820      940   1317198             7       31759                  1   \n",
       "\n",
       "       order_dow  order_hour_of_day  days_since_prior_order  reordered  \\\n",
       "34555          3                 12                    26.0          0   \n",
       "23820          3                 11                     9.0          1   \n",
       "\n",
       "       product_avg_days_since_prior_order  order_frequency  \\\n",
       "34555                           16.250000                4   \n",
       "23820                           10.254697               29   \n",
       "\n",
       "       product_reorder_frequency  product_reorder_ratio  number_reorders  \\\n",
       "34555                        2.0                  50.00              315   \n",
       "23820                       20.0                  68.97             3714   \n",
       "\n",
       "       product_avg_number_reorders  user_total_items  \\\n",
       "34555                     0.848165                88   \n",
       "23820                    10.000269                88   \n",
       "\n",
       "       user_average_days_between_orders  user_number_orders  \\\n",
       "34555                         18.166667                   7   \n",
       "23820                         18.166667                   7   \n",
       "\n",
       "       user_average_basket  product_avg_day_of_week  \n",
       "34555            12.571429                 2.250000  \n",
       "23820            12.571429                 2.896552  "
      ]
     },
     "execution_count": 26,
     "metadata": {},
     "output_type": "execute_result"
    }
   ],
   "source": [
    "product_features = pd.merge(product_merged_sample, avg_order_merged, on='product_name')\n",
    "product_features = pd.merge(product_features, cart_order, on='add_to_cart_order')\n",
    "product_features = pd.merge(product_features, users, on='user_id')\n",
    "product_features = pd.merge(product_features, avg_day_of_week, on='product_name' )\n",
    "product_features = product_features.drop(['product_name','aisle','eval_set','department','user_all_products',\n",
    "'user_total_distinct_items' ],axis=1)\n",
    "product_features = product_features.rename(columns={'avg_days_since_prior_order': 'product_avg_days_since_prior_order', 'reorder_frequency': 'product_reorder_frequency','reorder_ratio':'product_reorder_ratio'})\n",
    "product_features = product_features.sort_values(by='user_id')\n",
    "#product_features.set_index('user_id', inplace=True)\n",
    "#product_features.isnull().sum()\n",
    "product_features.head(2)\n"
   ]
  },
  {
   "cell_type": "code",
   "execution_count": 27,
   "metadata": {},
   "outputs": [
    {
     "data": {
      "text/html": [
       "<div>\n",
       "<style scoped>\n",
       "    .dataframe tbody tr th:only-of-type {\n",
       "        vertical-align: middle;\n",
       "    }\n",
       "\n",
       "    .dataframe tbody tr th {\n",
       "        vertical-align: top;\n",
       "    }\n",
       "\n",
       "    .dataframe thead th {\n",
       "        text-align: right;\n",
       "    }\n",
       "</style>\n",
       "<table border=\"1\" class=\"dataframe\">\n",
       "  <thead>\n",
       "    <tr style=\"text-align: right;\">\n",
       "      <th></th>\n",
       "      <th>user_id</th>\n",
       "      <th>order_id</th>\n",
       "      <th>order_number</th>\n",
       "      <th>product_id</th>\n",
       "      <th>add_to_cart_order</th>\n",
       "      <th>order_dow</th>\n",
       "      <th>order_hour_of_day</th>\n",
       "      <th>days_since_prior_order</th>\n",
       "      <th>reordered</th>\n",
       "      <th>product_avg_days_since_prior_order</th>\n",
       "      <th>order_frequency</th>\n",
       "      <th>product_reorder_frequency</th>\n",
       "      <th>product_reorder_ratio</th>\n",
       "      <th>number_reorders</th>\n",
       "      <th>product_avg_number_reorders</th>\n",
       "      <th>user_total_items</th>\n",
       "      <th>user_average_days_between_orders</th>\n",
       "      <th>user_number_orders</th>\n",
       "      <th>user_average_basket</th>\n",
       "      <th>product_avg_day_of_week</th>\n",
       "    </tr>\n",
       "  </thead>\n",
       "  <tbody>\n",
       "    <tr>\n",
       "      <th>0</th>\n",
       "      <td>-1.76973</td>\n",
       "      <td>-1.355806</td>\n",
       "      <td>-0.709038</td>\n",
       "      <td>-1.401815</td>\n",
       "      <td>1.910909</td>\n",
       "      <td>0.122676</td>\n",
       "      <td>-0.319076</td>\n",
       "      <td>1.703930</td>\n",
       "      <td>-1.203876</td>\n",
       "      <td>1.010121</td>\n",
       "      <td>-0.470537</td>\n",
       "      <td>-0.448894</td>\n",
       "      <td>-0.329987</td>\n",
       "      <td>-1.760368</td>\n",
       "      <td>-1.760368</td>\n",
       "      <td>-0.983276</td>\n",
       "      <td>1.076934</td>\n",
       "      <td>-0.992513</td>\n",
       "      <td>-0.016169</td>\n",
       "      <td>-0.502601</td>\n",
       "    </tr>\n",
       "    <tr>\n",
       "      <th>1</th>\n",
       "      <td>-1.76973</td>\n",
       "      <td>-0.428554</td>\n",
       "      <td>-0.529185</td>\n",
       "      <td>0.463995</td>\n",
       "      <td>-1.057336</td>\n",
       "      <td>0.122676</td>\n",
       "      <td>-0.545548</td>\n",
       "      <td>-0.272861</td>\n",
       "      <td>0.830650</td>\n",
       "      <td>-0.224924</td>\n",
       "      <td>-0.187236</td>\n",
       "      <td>-0.198789</td>\n",
       "      <td>0.352479</td>\n",
       "      <td>1.266402</td>\n",
       "      <td>1.266402</td>\n",
       "      <td>-0.983276</td>\n",
       "      <td>1.076934</td>\n",
       "      <td>-0.992513</td>\n",
       "      <td>-0.016169</td>\n",
       "      <td>0.152616</td>\n",
       "    </tr>\n",
       "  </tbody>\n",
       "</table>\n",
       "</div>"
      ],
      "text/plain": [
       "   user_id  order_id  order_number  product_id  add_to_cart_order  order_dow  \\\n",
       "0 -1.76973 -1.355806     -0.709038   -1.401815           1.910909   0.122676   \n",
       "1 -1.76973 -0.428554     -0.529185    0.463995          -1.057336   0.122676   \n",
       "\n",
       "   order_hour_of_day  days_since_prior_order  reordered  \\\n",
       "0          -0.319076                1.703930  -1.203876   \n",
       "1          -0.545548               -0.272861   0.830650   \n",
       "\n",
       "   product_avg_days_since_prior_order  order_frequency  \\\n",
       "0                            1.010121        -0.470537   \n",
       "1                           -0.224924        -0.187236   \n",
       "\n",
       "   product_reorder_frequency  product_reorder_ratio  number_reorders  \\\n",
       "0                  -0.448894              -0.329987        -1.760368   \n",
       "1                  -0.198789               0.352479         1.266402   \n",
       "\n",
       "   product_avg_number_reorders  user_total_items  \\\n",
       "0                    -1.760368         -0.983276   \n",
       "1                     1.266402         -0.983276   \n",
       "\n",
       "   user_average_days_between_orders  user_number_orders  user_average_basket  \\\n",
       "0                          1.076934           -0.992513            -0.016169   \n",
       "1                          1.076934           -0.992513            -0.016169   \n",
       "\n",
       "   product_avg_day_of_week  \n",
       "0                -0.502601  \n",
       "1                 0.152616  "
      ]
     },
     "execution_count": 27,
     "metadata": {},
     "output_type": "execute_result"
    }
   ],
   "source": [
    "from sklearn import preprocessing\n",
    "# Get column names first\n",
    "names = product_features.columns\n",
    "# Create the Scaler object\n",
    "scaler = preprocessing.StandardScaler()\n",
    "# Fit your data on the scaler object\n",
    "scaled_product_features = scaler.fit_transform(product_features)\n",
    "scaled_product_features = pd.DataFrame(scaled_product_features, columns=names)\n",
    "scaled_product_features.head(2)"
   ]
  },
  {
   "cell_type": "markdown",
   "metadata": {},
   "source": [
    "# Splitting Data in Train and Test"
   ]
  },
  {
   "cell_type": "code",
   "execution_count": 28,
   "metadata": {},
   "outputs": [],
   "source": [
    "from sklearn.model_selection import train_test_split\n",
    "\n",
    "# Split the data into a training and test set.\n",
    "Xtrain, Xtest, ytrain, ytest = train_test_split(scaled_product_features[['user_id','order_id', 'product_id','add_to_cart_order',\n",
    "                                                                'days_since_prior_order','order_dow','product_avg_day_of_week','product_avg_days_since_prior_order',\n",
    "                                                               'order_frequency',  'product_reorder_frequency',                                                  \n",
    "                                                                'product_avg_number_reorders', 'user_number_orders','user_total_items',\n",
    "                                                                'user_average_days_between_orders', 'product_reorder_ratio',\n",
    "                                                                 'user_average_basket']].values, \n",
    "                                              (product_features.reordered).values,random_state=42)\n",
    "\n"
   ]
  },
  {
   "cell_type": "markdown",
   "metadata": {},
   "source": [
    "# Logistic Regression"
   ]
  },
  {
   "cell_type": "code",
   "execution_count": 29,
   "metadata": {},
   "outputs": [
    {
     "name": "stdout",
     "output_type": "stream",
     "text": [
      "Accuracy: 0.7731825525040388\n"
     ]
    }
   ],
   "source": [
    "from sklearn.linear_model import LogisticRegression\n",
    "from sklearn.metrics import accuracy_score\n",
    "\n",
    "clf = LogisticRegression(solver='lbfgs',C=.1)\n",
    "#Fit the model on the trainng data.\n",
    "clf.fit(Xtrain, ytrain)\n",
    "#Print the accuracy from the testing data.\n",
    "print(\"Accuracy:\", accuracy_score(clf.predict(Xtest), ytest))"
   ]
  },
  {
   "cell_type": "code",
   "execution_count": 30,
   "metadata": {},
   "outputs": [],
   "source": [
    "from sklearn.model_selection import KFold\n",
    "\n",
    "def cv_score(clf, x, y, score_func=accuracy_score):\n",
    "    result = 0\n",
    "    nfold = 5\n",
    "    for train, test in KFold(nfold).split(x): # split data into train/test groups, 5 times\n",
    "        clf.fit(x[train], y[train]) # fit\n",
    "        result += score_func(clf.predict(x[test]), y[test]) # evaluate score function on held-out data\n",
    "    return result / nfold # average"
   ]
  },
  {
   "cell_type": "code",
   "execution_count": 31,
   "metadata": {},
   "outputs": [
    {
     "name": "stdout",
     "output_type": "stream",
     "text": [
      "Accuracy: 0.7640911336502476\n"
     ]
    }
   ],
   "source": [
    "clf = LogisticRegression(solver='lbfgs')\n",
    "score = cv_score(clf, Xtrain, ytrain)\n",
    "print(\"Accuracy:\",score)"
   ]
  },
  {
   "cell_type": "code",
   "execution_count": 32,
   "metadata": {},
   "outputs": [
    {
     "name": "stdout",
     "output_type": "stream",
     "text": [
      "0.7643065606160654 0.1\n"
     ]
    }
   ],
   "source": [
    "Cs = [0.001, 0.1, 1, 10]\n",
    "\n",
    "max_score = 0\n",
    "\n",
    "for C in Cs:\n",
    "                                              \n",
    "    clf = LogisticRegression(solver='lbfgs', C=C)\n",
    "    score = cv_score(clf, Xtrain, ytrain)\n",
    "    \n",
    "    \n",
    "    if score > max_score:\n",
    "        max_score = score\n",
    "        av_score = max_score\n",
    "        C_highest = C\n",
    "\n",
    "print(av_score, C_highest)"
   ]
  },
  {
   "cell_type": "code",
   "execution_count": 33,
   "metadata": {},
   "outputs": [
    {
     "data": {
      "image/png": "[encoded data removed]",
      "text/plain": [
       "<Figure size 432x288 with 1 Axes>"
      ]
     },
     "metadata": {
      "needs_background": "light"
     },
     "output_type": "display_data"
    }
   ],
   "source": [
    "from sklearn.metrics import roc_curve, auc\n",
    "\n",
    "y_score = clf.predict_proba(Xtest)[:,1]\n",
    "\n",
    "fpr, tpr,_ = roc_curve(ytest, y_score)\n",
    "roc_auc = auc(fpr, tpr)\n",
    "\n",
    "plt.figure()\n",
    "# Plotting our Baseline..\n",
    "plt.plot([0,1],[0,1], linestyle='--', color = 'black')\n",
    "plt.plot(fpr, tpr, color = 'green')\n",
    "plt.xlabel('False Positive Rate')\n",
    "plt.ylabel('True Positive Rate')\n",
    "plt.gca().set_aspect('equal', adjustable='box')"
   ]
  },
  {
   "cell_type": "markdown",
   "metadata": {},
   "source": [
    "# XGBoost Model"
   ]
  },
  {
   "cell_type": "code",
   "execution_count": 34,
   "metadata": {},
   "outputs": [
    {
     "name": "stdout",
     "output_type": "stream",
     "text": [
      "Requirement already satisfied: xgboost in c:\\users\\owner\\anaconda3\\lib\\site-packages (1.0.2)\n",
      "Requirement already satisfied: scipy in c:\\users\\owner\\anaconda3\\lib\\site-packages (from xgboost) (1.2.1)\n",
      "Requirement already satisfied: numpy in c:\\users\\owner\\anaconda3\\lib\\site-packages (from xgboost) (1.16.4)\n"
     ]
    }
   ],
   "source": [
    "import sys\n",
    "!{sys.executable} -m pip install xgboost"
   ]
  },
  {
   "cell_type": "code",
   "execution_count": 35,
   "metadata": {},
   "outputs": [
    {
     "name": "stdout",
     "output_type": "stream",
     "text": [
      "Accuracy: 82.60%\n"
     ]
    }
   ],
   "source": [
    "from numpy import loadtxt\n",
    "from xgboost import XGBClassifier\n",
    "\n",
    "model = XGBClassifier()\n",
    "model.fit(Xtrain, ytrain)\n",
    "\n",
    "# make predictions for test data\n",
    "y_pred = model.predict(Xtest)\n",
    "predictions = [round(value) for value in y_pred]\n",
    "\n",
    "\n",
    "# evaluate predictions\n",
    "accuracy = accuracy_score(ytest, predictions)\n",
    "print(\"Accuracy: %.2f%%\" % (accuracy * 100.0))"
   ]
  },
  {
   "cell_type": "code",
   "execution_count": 36,
   "metadata": {},
   "outputs": [
    {
     "data": {
      "text/plain": [
       "<matplotlib.axes._subplots.AxesSubplot at 0x12b86ab46a0>"
      ]
     },
     "execution_count": 36,
     "metadata": {},
     "output_type": "execute_result"
    },
    {
     "data": {
      "image/png": "[encoded data removed]",
      "text/plain": [
       "<Figure size 432x288 with 1 Axes>"
      ]
     },
     "metadata": {
      "needs_background": "light"
     },
     "output_type": "display_data"
    }
   ],
   "source": [
    "from xgboost import plot_importance\n",
    "# Plot feature importance\n",
    "plot_importance(model)"
   ]
  },
  {
   "cell_type": "code",
   "execution_count": null,
   "metadata": {},
   "outputs": [],
   "source": []
  },
  {
   "cell_type": "code",
   "execution_count": 37,
   "metadata": {},
   "outputs": [
    {
     "name": "stdout",
     "output_type": "stream",
     "text": [
      "Training Data Accuracy: 0.90\n",
      "Test Data Accuracy:     0.83\n",
      "[[2619 1065]\n",
      " [ 551 5050]]\n",
      "\n",
      "\n",
      "Precision:              0.83\n",
      "Recall:                 0.90\n"
     ]
    },
    {
     "data": {
      "image/png": "[encoded data removed]",
      "text/plain": [
       "<Figure size 432x288 with 2 Axes>"
      ]
     },
     "metadata": {},
     "output_type": "display_data"
    }
   ],
   "source": [
    "from sklearn.metrics import confusion_matrix\n",
    "%matplotlib inline\n",
    "plt.style.use('fivethirtyeight')\n",
    "\n",
    "def plot_confusion_matrix(cm,title='Confusion matrix', cmap=plt.cm.Reds):\n",
    "    plt.imshow(cm, interpolation='nearest',cmap=cmap)\n",
    "    plt.title(title)\n",
    "    plt.colorbar()\n",
    "    plt.tight_layout()\n",
    "    plt.ylabel('True label')\n",
    "    plt.xlabel('Predicted label')\n",
    "\n",
    "#y_tr=np.ravel(y_tr)\n",
    "\n",
    "train_acc=model.score(Xtrain,ytrain)\n",
    "test_acc=model.score(Xtest, ytest)\n",
    "print(\"Training Data Accuracy: %0.2f\" %(train_acc))\n",
    "print(\"Test Data Accuracy:     %0.2f\" %(test_acc))\n",
    "    \n",
    "y_true = ytest\n",
    "y_pred = model.predict(Xtest)\n",
    "\n",
    "\n",
    "conf = confusion_matrix(y_true, y_pred)\n",
    "print(conf)\n",
    "\n",
    "print ('\\n')\n",
    "print (\"Precision:              %0.2f\" %(conf[1, 1] / (conf[1, 1] + conf[0, 1])))\n",
    "print (\"Recall:                 %0.2f\"% (conf[1, 1] / (conf[1, 1] + conf[1, 0])))\n",
    "    \n",
    "cm=confusion_matrix(y_true, y_pred, labels=[0, 1])\n",
    "    \n",
    "plt.figure()\n",
    "plot_confusion_matrix(cm)"
   ]
  },
  {
   "cell_type": "code",
   "execution_count": 38,
   "metadata": {},
   "outputs": [
    {
     "data": {
      "image/png": "[encoded data removed]",
      "text/plain": [
       "<Figure size 432x288 with 1 Axes>"
      ]
     },
     "metadata": {},
     "output_type": "display_data"
    }
   ],
   "source": [
    "from sklearn.metrics import roc_curve, auc\n",
    "\n",
    "y_score = model.predict_proba(Xtest)[:,1]\n",
    "\n",
    "fpr, tpr,_ = roc_curve(ytest, y_score)\n",
    "roc_auc = auc(fpr, tpr)\n",
    "\n",
    "plt.figure()\n",
    "# Plotting our Baseline..\n",
    "plt.plot([0,1],[0,1], linestyle='--', color = 'black')\n",
    "plt.plot(fpr, tpr, color = 'green')\n",
    "plt.xlabel('False Positive Rate')\n",
    "plt.ylabel('True Positive Rate')\n",
    "plt.gca().set_aspect('equal', adjustable='box')"
   ]
  },
  {
   "cell_type": "markdown",
   "metadata": {},
   "source": [
    "# Random Forest Model"
   ]
  },
  {
   "cell_type": "code",
   "execution_count": 39,
   "metadata": {},
   "outputs": [],
   "source": [
    "from sklearn.ensemble import RandomForestClassifier\n",
    "classifier = RandomForestClassifier(n_estimators = 50)\n",
    "classifier.fit(Xtrain, ytrain)\n",
    "\n",
    "y_pred = classifier.predict(Xtest)"
   ]
  },
  {
   "cell_type": "code",
   "execution_count": 41,
   "metadata": {},
   "outputs": [
    {
     "name": "stdout",
     "output_type": "stream",
     "text": [
      "Confusion Matrix:\n",
      "[[2603 1081]\n",
      " [ 711 4890]]\n",
      "Classification Report:\n",
      "              precision    recall  f1-score   support\n",
      "\n",
      "           0       0.79      0.71      0.74      3684\n",
      "           1       0.82      0.87      0.85      5601\n",
      "\n",
      "    accuracy                           0.81      9285\n",
      "   macro avg       0.80      0.79      0.79      9285\n",
      "weighted avg       0.81      0.81      0.80      9285\n",
      "\n",
      "Accuracy: 0.8070005385029617\n",
      "\n",
      "\n",
      "Precision:              0.82\n",
      "Recall:                 0.87\n"
     ]
    },
    {
     "data": {
      "image/png": "[encoded data removed]",
      "text/plain": [
       "<Figure size 432x288 with 2 Axes>"
      ]
     },
     "metadata": {},
     "output_type": "display_data"
    }
   ],
   "source": [
    "from sklearn.metrics import classification_report, confusion_matrix, accuracy_score\n",
    "result = confusion_matrix(ytest, y_pred)\n",
    "print(\"Confusion Matrix:\")\n",
    "print(result)\n",
    "result1 = classification_report(ytest, y_pred)\n",
    "print(\"Classification Report:\",)\n",
    "print (result1)\n",
    "result2 = accuracy_score(ytest,y_pred)\n",
    "print(\"Accuracy:\",result2)\n",
    "\n",
    "\n",
    "def plot_confusion_matrix(cm,title='Confusion matrix', cmap=plt.cm.Reds):\n",
    "    plt.imshow(cm, interpolation='nearest',cmap=cmap)\n",
    "    plt.title(title)\n",
    "    plt.colorbar()\n",
    "    plt.tight_layout()\n",
    "    plt.ylabel('True label')\n",
    "    plt.xlabel('Predicted label')\n",
    "    \n",
    "y_true = ytest\n",
    "y_pred = classifier.predict(Xtest)\n",
    "\n",
    "\n",
    "conf = confusion_matrix(y_true, y_pred)\n",
    "\n",
    "print ('\\n')\n",
    "print (\"Precision:              %0.2f\" %(conf[1, 1] / (conf[1, 1] + conf[0, 1])))\n",
    "print (\"Recall:                 %0.2f\"% (conf[1, 1] / (conf[1, 1] + conf[1, 0])))\n",
    "    \n",
    "cm=confusion_matrix(y_true, y_pred, labels=[0, 1])\n",
    "    \n",
    "plt.figure()\n",
    "plot_confusion_matrix(cm)"
   ]
  },
  {
   "cell_type": "code",
   "execution_count": 42,
   "metadata": {},
   "outputs": [
    {
     "data": {
      "image/png": "[encoded data removed]",
      "text/plain": [
       "<Figure size 432x288 with 1 Axes>"
      ]
     },
     "metadata": {},
     "output_type": "display_data"
    }
   ],
   "source": [
    "\n",
    "from sklearn.metrics import roc_curve, auc\n",
    "\n",
    "y_score = classifier.predict_proba(Xtest)[:,1]\n",
    "\n",
    "fpr, tpr,_ = roc_curve(ytest, y_score)\n",
    "roc_auc = auc(fpr, tpr)\n",
    "\n",
    "plt.figure()\n",
    "# Plotting our Baseline..\n",
    "plt.plot([0,1],[0,1], linestyle='--', color = 'black')\n",
    "plt.plot(fpr, tpr, color = 'green')\n",
    "plt.xlabel('False Positive Rate')\n",
    "plt.ylabel('True Positive Rate')\n",
    "plt.gca().set_aspect('equal', adjustable='box')"
   ]
  },
  {
   "cell_type": "code",
   "execution_count": null,
   "metadata": {},
   "outputs": [],
   "source": []
  },
  {
   "cell_type": "code",
   "execution_count": null,
   "metadata": {},
   "outputs": [],
   "source": []
  },
  {
   "cell_type": "code",
   "execution_count": null,
   "metadata": {},
   "outputs": [],
   "source": []
  }
 ],
 "metadata": {
  "kernelspec": {
   "display_name": "Python 3",
   "language": "python",
   "name": "python3"
  },
  "language_info": {
   "codemirror_mode": {
    "name": "ipython",
    "version": 3
   },
   "file_extension": ".py",
   "mimetype": "text/x-python",
   "name": "python",
   "nbconvert_exporter": "python",
   "pygments_lexer": "ipython3",
   "version": "3.7.3"
  }
 },
 "nbformat": 4,
 "nbformat_minor": 2
}
