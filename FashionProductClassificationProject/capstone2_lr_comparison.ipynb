{
  "nbformat": 4,
  "nbformat_minor": 0,
  "metadata": {
    "colab": {
      "name": "capstone2_lr_comparison.ipynb",
      "provenance": [],
      "collapsed_sections": [],
      "mount_file_id": "1VM-5upSSeg7ELqgFrHHX_21RzHU8Vd9o",
      "authorship_tag": "ABX9TyMOTwYstf0bSAwJi+KUkPJ3",
      "include_colab_link": true
    },
    "kernelspec": {
      "name": "python3",
      "display_name": "Python 3"
    },
    "accelerator": "GPU"
  },
  "cells": [
    {
      "cell_type": "markdown",
      "metadata": {
        "id": "view-in-github",
        "colab_type": "text"
      },
      "source": [
        "<a href=\"https://colab.research.google.com/github/vferman2000/Springboard/blob/master/capstone2_lr_comparison.ipynb\" target=\"_parent\"><img src=\"https://colab.research.google.com/assets/colab-badge.svg\" alt=\"Open In Colab\"/></a>"
      ]
    },
    {
      "cell_type": "markdown",
      "metadata": {
        "id": "QZwr1TwJQe_X",
        "colab_type": "text"
      },
      "source": [
        "# Fashion Image Classification Project\n",
        "\n",
        "The objective of the project is to build a Convolutional Neural Network model to classify fashion product images using TensorFow and Keras functional API.  The model will then predict the class of a given input image.\n",
        "\n",
        "The dataset can be downloaded from https://www.kaggle.com/paramaggarwal/fashion-product-images-dataset\n",
        "\n",
        "The platform selected for the project is Google Collab.\n",
        "\n",
        "This notebook contains the model with three different learning rates.\n",
        "\n",
        "\n"
      ]
    },
    {
      "cell_type": "code",
      "metadata": {
        "id": "Mac9tAiOzTti",
        "colab_type": "code",
        "colab": {
          "base_uri": "https://localhost:8080/",
          "height": 34
        },
        "outputId": "be682053-a54d-4b39-cbf4-0a94b23fcba7"
      },
      "source": [
        "# Install TensorFlow\n",
        "import tensorflow as tf \n",
        "tf.test.gpu_device_name()"
      ],
      "execution_count": null,
      "outputs": [
        {
          "output_type": "execute_result",
          "data": {
            "text/plain": [
              "'/device:GPU:0'"
            ]
          },
          "metadata": {
            "tags": []
          },
          "execution_count": 1
        }
      ]
    },
    {
      "cell_type": "code",
      "metadata": {
        "id": "syYEveD9zaW3",
        "colab_type": "code",
        "colab": {}
      },
      "source": [
        "# importing additional libraries\n",
        "\n",
        "import numpy as np\n",
        "import pandas as pd\n",
        "import matplotlib.pyplot as plt\n",
        "from tensorflow.keras.layers import Input, Conv2D, Dense, Flatten, Dropout, GlobalMaxPooling2D, MaxPooling2D, BatchNormalization\n",
        "from tensorflow.keras.models import Model\n",
        "from mpl_toolkits.mplot3d import Axes3D\n",
        "from sklearn.preprocessing import StandardScaler\n",
        "import matplotlib.image as mpimg\n",
        "from sklearn.model_selection import train_test_split\n",
        "import os"
      ],
      "execution_count": null,
      "outputs": []
    },
    {
      "cell_type": "markdown",
      "metadata": {
        "id": "kb_IOJcYQaIc",
        "colab_type": "text"
      },
      "source": [
        "# Mounting to Google Drive"
      ]
    },
    {
      "cell_type": "code",
      "metadata": {
        "id": "nzqG_5C3zfv7",
        "colab_type": "code",
        "colab": {
          "base_uri": "https://localhost:8080/",
          "height": 34
        },
        "outputId": "9b5efd06-fffe-4d66-e9f5-5cae0d69094d"
      },
      "source": [
        "# Path to fashion product images files on Google Drive\n",
        "\n",
        "DATASET_PATH = \"/content/drive/My Drive/Springboard Data Science/CapstoneTwo/fashion-product-images-small/myntradataset/\"\n",
        "print(os.listdir(DATASET_PATH))"
      ],
      "execution_count": null,
      "outputs": [
        {
          "output_type": "stream",
          "text": [
            "['images', 'styles.csv']\n"
          ],
          "name": "stdout"
        }
      ]
    },
    {
      "cell_type": "code",
      "metadata": {
        "id": "RlPeQpEkz15Y",
        "colab_type": "code",
        "colab": {
          "base_uri": "https://localhost:8080/",
          "height": 54
        },
        "outputId": "20eff642-0a73-4947-bd4b-e2b5b690cd16"
      },
      "source": [
        "# Reading df_style pandas dataframe which contains images attributes\n",
        "\n",
        "df_styles = pd.read_csv(DATASET_PATH + 'styles.csv', error_bad_lines=False)\n",
        "df_styles['image'] = df_styles.apply(lambda row: str(row['id']) + \".jpg\", axis=1)\n",
        "#df_styles['image'] = df_styles.id.apply(lambda row: \"%s.jpg\" % row)\n",
        "\n",
        "df_styles['masterCategory'] = df_styles.masterCategory.apply(lambda row: 'NA' if row is np.nan else row)"
      ],
      "execution_count": null,
      "outputs": [
        {
          "output_type": "stream",
          "text": [
            "b'Skipping line 6044: expected 10 fields, saw 11\\nSkipping line 6569: expected 10 fields, saw 11\\nSkipping line 7399: expected 10 fields, saw 11\\nSkipping line 7939: expected 10 fields, saw 11\\nSkipping line 9026: expected 10 fields, saw 11\\nSkipping line 10264: expected 10 fields, saw 11\\nSkipping line 10427: expected 10 fields, saw 11\\nSkipping line 10905: expected 10 fields, saw 11\\nSkipping line 11373: expected 10 fields, saw 11\\nSkipping line 11945: expected 10 fields, saw 11\\nSkipping line 14112: expected 10 fields, saw 11\\nSkipping line 14532: expected 10 fields, saw 11\\nSkipping line 15076: expected 10 fields, saw 12\\nSkipping line 29906: expected 10 fields, saw 11\\nSkipping line 31625: expected 10 fields, saw 11\\nSkipping line 33020: expected 10 fields, saw 11\\nSkipping line 35748: expected 10 fields, saw 11\\nSkipping line 35962: expected 10 fields, saw 11\\nSkipping line 37770: expected 10 fields, saw 11\\nSkipping line 38105: expected 10 fields, saw 11\\nSkipping line 38275: expected 10 fields, saw 11\\nSkipping line 38404: expected 10 fields, saw 12\\n'\n"
          ],
          "name": "stderr"
        }
      ]
    },
    {
      "cell_type": "markdown",
      "metadata": {
        "id": "VZoUXhqhyrKe",
        "colab_type": "text"
      },
      "source": [
        "There are 7 distinct product categories in the dataset.  As shown below, the categories are unevenly distributed.  The data will need to be stratified for balance."
      ]
    },
    {
      "cell_type": "code",
      "metadata": {
        "id": "HV9nsF4kQHdM",
        "colab_type": "code",
        "colab": {
          "base_uri": "https://localhost:8080/",
          "height": 153
        },
        "outputId": "aa1cd32e-21a9-4b3a-ed77-65071c8b4c52"
      },
      "source": [
        "df_styles.masterCategory.value_counts()"
      ],
      "execution_count": null,
      "outputs": [
        {
          "output_type": "execute_result",
          "data": {
            "text/plain": [
              "Apparel           21397\n",
              "Accessories       11274\n",
              "Footwear           9219\n",
              "Personal Care      2403\n",
              "Free Items          105\n",
              "Sporting Goods       25\n",
              "Home                  1\n",
              "Name: masterCategory, dtype: int64"
            ]
          },
          "metadata": {
            "tags": []
          },
          "execution_count": 5
        }
      ]
    },
    {
      "cell_type": "code",
      "metadata": {
        "id": "Sefe2qXCWM1I",
        "colab_type": "code",
        "colab": {}
      },
      "source": [
        "# There is only one sample in the Home category.  It will be omitted.\n",
        "df_styles_labels = df_styles[df_styles.masterCategory != 'Home']"
      ],
      "execution_count": null,
      "outputs": []
    },
    {
      "cell_type": "markdown",
      "metadata": {
        "id": "nWvAxjAEaJii",
        "colab_type": "text"
      },
      "source": [
        "Splitting dataset into train, validation and test subsets where each subset is stratisfied by the values in the masterCategory column of df_styles dataframe\n"
      ]
    },
    {
      "cell_type": "code",
      "metadata": {
        "id": "ye_lnS19q-Yb",
        "colab_type": "code",
        "colab": {}
      },
      "source": [
        "def split_stratified_into_train_val_test(df_input, stratify_colname='y',\n",
        "                                         frac_train=0.60, frac_val=0.20, frac_test=0.20,\n",
        "                                         random_state=None):\n",
        "    '''\n",
        "    Splits a Pandas dataframe into three subsets (train, val, and test)\n",
        "    following fractional ratios provided by the user, where each subset is\n",
        "    stratified by the values in a specific column (that is, each subset has\n",
        "    the same relative frequency of the values in the column). It performs this\n",
        "    splitting by running train_test_split() twice.\n",
        "\n",
        "    Parameters\n",
        "    ----------\n",
        "    df_input : Pandas dataframe\n",
        "        Input dataframe to be split.\n",
        "    stratify_colname : str\n",
        "        The name of the column that will be used for stratification. Usually\n",
        "        this column would be for the label.\n",
        "    frac_train : float\n",
        "    frac_val   : float\n",
        "    frac_test  : float\n",
        "        The ratios with which the dataframe will be split into train, val, and\n",
        "        test data. The values should be expressed as float fractions and should\n",
        "        sum to 1.0.\n",
        "    random_state : int, None, or RandomStateInstance\n",
        "        Value to be passed to train_test_split().\n",
        "\n",
        "    Returns\n",
        "    -------\n",
        "    df_train, df_val, df_test :\n",
        "        Dataframes containing the three splits.\n",
        "    '''\n",
        "\n",
        "    if frac_train + frac_val + frac_test != 1.0:\n",
        "        raise ValueError('fractions %f, %f, %f do not add up to 1.0' % \\\n",
        "                         (frac_train, frac_val, frac_test))\n",
        "\n",
        "    if stratify_colname not in df_styles.columns:\n",
        "        raise ValueError('%s is not a column in the dataframe' % (stratify_colname))\n",
        "\n",
        "    X = df_input # Contains all columns.\n",
        "    y = df_input[[stratify_colname]] # Dataframe of just the column on which to stratify.\n",
        "\n",
        "    # Split original dataframe into train and temp dataframes.\n",
        "    df_train, df_temp, y_train, y_temp = train_test_split(X,\n",
        "                                                          y,\n",
        "                                                          stratify=y,\n",
        "                                                          test_size=(1.0 - frac_train),\n",
        "                                                          random_state=random_state)\n",
        "\n",
        "    # Split the temp dataframe into val and test dataframes.\n",
        "    relative_frac_test = frac_test / (frac_val + frac_test)\n",
        "    df_validation, df_test, y_validation, y_test = train_test_split(df_temp,\n",
        "                                                      y_temp,\n",
        "                                                      stratify=y_temp,\n",
        "                                                      test_size=relative_frac_test,\n",
        "                                                      random_state=random_state)\n",
        "\n",
        "    assert len(df_input) == len(df_train) + len(df_validation) + len(df_test)\n",
        "\n",
        "    return df_train, df_validation, df_test"
      ],
      "execution_count": null,
      "outputs": []
    },
    {
      "cell_type": "code",
      "metadata": {
        "id": "Jnbad_SstMG7",
        "colab_type": "code",
        "colab": {}
      },
      "source": [
        "df_train, df_validation, df_test = \\\n",
        "    split_stratified_into_train_val_test(df_styles_labels, stratify_colname='masterCategory', frac_train=0.60, frac_val=0.20, frac_test=0.20)"
      ],
      "execution_count": null,
      "outputs": []
    },
    {
      "cell_type": "markdown",
      "metadata": {
        "id": "I7HftNU7Emop",
        "colab_type": "text"
      },
      "source": [
        "# Sampling structure\n",
        "*   The train subset has 26653 samples.\n",
        "*   The validation subset has 8885 samples.\n",
        "*   The test subset has 8885 samples.\n"
      ]
    },
    {
      "cell_type": "markdown",
      "metadata": {
        "id": "hJejGjtcExAY",
        "colab_type": "text"
      },
      "source": [
        ""
      ]
    },
    {
      "cell_type": "markdown",
      "metadata": {
        "id": "u7g8RDTPZ0jn",
        "colab_type": "text"
      },
      "source": [
        "There are six unique categories in the masterCategory column that will be used as classes in the model."
      ]
    },
    {
      "cell_type": "code",
      "metadata": {
        "id": "nQXngWJJXQXE",
        "colab_type": "code",
        "colab": {
          "base_uri": "https://localhost:8080/",
          "height": 136
        },
        "outputId": "4ca95a9a-64cb-4c4e-ba0a-3a8e10c4320c"
      },
      "source": [
        "df_train.masterCategory.value_counts()"
      ],
      "execution_count": null,
      "outputs": [
        {
          "output_type": "execute_result",
          "data": {
            "text/plain": [
              "Apparel           12838\n",
              "Accessories        6764\n",
              "Footwear           5531\n",
              "Personal Care      1442\n",
              "Free Items           63\n",
              "Sporting Goods       15\n",
              "Name: masterCategory, dtype: int64"
            ]
          },
          "metadata": {
            "tags": []
          },
          "execution_count": 10
        }
      ]
    },
    {
      "cell_type": "code",
      "metadata": {
        "id": "5m8ie4Dg0HZR",
        "colab_type": "code",
        "colab": {
          "base_uri": "https://localhost:8080/",
          "height": 34
        },
        "outputId": "3babd1df-2ca0-402e-8d94-e01eaad4103e"
      },
      "source": [
        "# number of classes in masterCategory column of df_train\n",
        "K = len(set(df_train.iloc[:,2]))\n",
        "print('The number of classes is', K)"
      ],
      "execution_count": null,
      "outputs": [
        {
          "output_type": "stream",
          "text": [
            "The number of classes is 6\n"
          ],
          "name": "stdout"
        }
      ]
    },
    {
      "cell_type": "code",
      "metadata": {
        "id": "7xVCTj8M0VJ6",
        "colab_type": "code",
        "colab": {}
      },
      "source": [
        "# Path to images folder\n",
        "images_data = DATASET_PATH+\"images/\""
      ],
      "execution_count": null,
      "outputs": []
    },
    {
      "cell_type": "markdown",
      "metadata": {
        "id": "H-NFWo0aV3k5",
        "colab_type": "text"
      },
      "source": [
        "# Building the Convolutional Neural Network Model\n",
        "\n",
        "The input image is 80x60 in size with a RGB channel. We will build a CNN model with a convolution + pooling architecture, followed by a number of fully connected Dense layers. \n",
        "\n",
        "The activation function for the convolutional layers will be ReLU ((Rectified Linear Units). \n",
        "\n",
        "The output layer will utilize a softmax activiation function for the multiclass classification.\n",
        "\n",
        "The hyperparameters that will be used are:\n",
        "MaxPooling2d(2, 2) which extracts certain features from the image and reduces its height and the width. By using 2 pooling layers, the height and width are 1/4 of the original sizes.\n",
        "\n",
        "BatchNormalization which regularizes and makes the training of convolutional neural networks more efficient.\n",
        "\n",
        "Dropout to avoid overfitting\n",
        "\n"
      ]
    },
    {
      "cell_type": "code",
      "metadata": {
        "id": "L6LZESjF0sv0",
        "colab_type": "code",
        "colab": {}
      },
      "source": [
        "# Build the convolutional Neural Network model using the functional API\n",
        "\n",
        "# Input node. image shape: 80 x 60 x 3 RGB channels\n",
        "i= Input(shape=(80, 60, 3))\n",
        "\n",
        "\n",
        "# 2D convolutional layer with 2 spatial dimensions (height and width)\n",
        "# Using more filters results in a more powerful model, but we risk overfitting due to increased parameter count.\n",
        "# 32 initial output feature maps that will progressively increase with network depth. (Starts low to check for overfitting)\n",
        "# A 3D filter with 3x3x3 dimensions\n",
        "# A ReLU activation funcion\n",
        "\n",
        "x = Conv2D(32, (3, 3), activation='relu', padding='valid')(i)\n",
        "x = BatchNormalization()(x)\n",
        "x = Conv2D(32, (3, 3), activation='relu', padding='valid')(x)\n",
        "x = BatchNormalization()(x)\n",
        "\n",
        "# Pooling layer to reduce dimensionality (max pooling takes the maximum value in the pooling window)\n",
        "x = MaxPooling2D((2, 2))(x)\n",
        "x = Dropout(0.2)(x)\n",
        "\n",
        "#Second convolutinal layer with increased number of feature maps\n",
        "x = Conv2D(64, (3, 3), activation='relu', padding='valid')(x)\n",
        "x = BatchNormalization()(x)\n",
        "x = Conv2D(64, (3, 3), activation='relu', padding='valid')(x)\n",
        "x = BatchNormalization()(x)\n",
        "x = MaxPooling2D((2, 2))(x)\n",
        "x = Dropout(0.2)(x)\n",
        "\n",
        "#Third convolutinal layer with increased number of feature maps\n",
        "x = Conv2D(128, (3, 3), activation='relu', padding='valid')(x)\n",
        "x = BatchNormalization()(x)\n",
        "x = Conv2D(128, (3, 3), activation='relu', padding='valid')(x)\n",
        "x = BatchNormalization()(x)\n",
        "x = MaxPooling2D((2, 2))(x)\n",
        "x = Dropout(0.2)(x)\n",
        "\n",
        "# Converting layer to 1 dimensional layer\n",
        "x = Flatten()(x)\n",
        "x = Dropout(0.2)(x)\n",
        "\n",
        "# Fully connected layer\n",
        "x = Dense(1024, activation='relu')(x)\n",
        "x = Dropout(0.2)(x)\n",
        "\n",
        "# Fully connected layer with Softmax activation function for multiclass classification probability\n",
        "x = Dense(K, activation='softmax')(x)\n",
        "\n",
        "model = Model(i, x)"
      ],
      "execution_count": null,
      "outputs": []
    },
    {
      "cell_type": "markdown",
      "metadata": {
        "id": "7wCOkDxcf-eC",
        "colab_type": "text"
      },
      "source": [
        "# Mapping images to MasterCategory classes in df_styles using ImageDataGenerator"
      ]
    },
    {
      "cell_type": "code",
      "metadata": {
        "id": "HhqeEc2u2g9z",
        "colab_type": "code",
        "colab": {
          "base_uri": "https://localhost:8080/",
          "height": 207
        },
        "outputId": "c69de585-e6b1-4035-9971-2386c68ed370"
      },
      "source": [
        "# Using ImageDataGenerator to correlate images from image folder to masterCategory column in df_train, df_validation an df_test \n",
        "\n",
        "from keras.preprocessing.image import ImageDataGenerator\n",
        "HEIGHT = 80\n",
        "WIDTH = 60\n",
        "batch_size = 32\n",
        "datagen = ImageDataGenerator(rescale=1./255)\n",
        "test_datagen = ImageDataGenerator(rescale=1./255)\n",
        "\n",
        "train_generator=datagen.flow_from_dataframe(\n",
        "                    dataframe=df_train,\n",
        "                    directory=images_data,\n",
        "                    x_col=\"image\",\n",
        "                    y_col=\"masterCategory\",\n",
        "                    batch_size=batch_size,\n",
        "                    seed=42,\n",
        "                    shuffle=True,\n",
        "                    class_mode=\"categorical\",\n",
        "                    classes=['Footwear', 'Apparel', 'Accessories', 'Personal Care','Free Items','Sporting Goods'],\n",
        "                    target_size=(HEIGHT,WIDTH))\n",
        "\n",
        "valid_generator=test_datagen.flow_from_dataframe(\n",
        "                    dataframe=df_validation,\n",
        "                    directory=images_data,\n",
        "                    x_col=\"image\",\n",
        "                    y_col=\"masterCategory\",\n",
        "                    batch_size=batch_size,\n",
        "                    seed=42,\n",
        "                    shuffle=True,\n",
        "                    class_mode=\"categorical\",\n",
        "                    classes=['Footwear', 'Apparel', 'Accessories', 'Personal Care', 'Free Items','Sporting Goods'],\n",
        "                    target_size=(HEIGHT,WIDTH))\n",
        "\n",
        "test_generator=test_datagen.flow_from_dataframe(\n",
        "                    dataframe=df_test,\n",
        "                    directory=images_data,\n",
        "                    x_col=\"image\",\n",
        "                    batch_size=1,\n",
        "                    seed=42,\n",
        "                    shuffle=False,\n",
        "                    class_mode=None,\n",
        "                    target_size=(HEIGHT,WIDTH))"
      ],
      "execution_count": null,
      "outputs": [
        {
          "output_type": "stream",
          "text": [
            "Using TensorFlow backend.\n",
            "/usr/local/lib/python3.6/dist-packages/keras_preprocessing/image/dataframe_iterator.py:282: UserWarning: Found 9 invalid image filename(s) in x_col=\"image\". These filename(s) will be ignored.\n",
            "  .format(n_invalid, x_col)\n"
          ],
          "name": "stderr"
        },
        {
          "output_type": "stream",
          "text": [
            "Found 26644 validated image filenames belonging to 6 classes.\n"
          ],
          "name": "stdout"
        },
        {
          "output_type": "stream",
          "text": [
            "/usr/local/lib/python3.6/dist-packages/keras_preprocessing/image/dataframe_iterator.py:282: UserWarning: Found 1 invalid image filename(s) in x_col=\"image\". These filename(s) will be ignored.\n",
            "  .format(n_invalid, x_col)\n"
          ],
          "name": "stderr"
        },
        {
          "output_type": "stream",
          "text": [
            "Found 8884 validated image filenames belonging to 6 classes.\n",
            "Found 8883 validated image filenames.\n"
          ],
          "name": "stdout"
        },
        {
          "output_type": "stream",
          "text": [
            "/usr/local/lib/python3.6/dist-packages/keras_preprocessing/image/dataframe_iterator.py:282: UserWarning: Found 2 invalid image filename(s) in x_col=\"image\". These filename(s) will be ignored.\n",
            "  .format(n_invalid, x_col)\n"
          ],
          "name": "stderr"
        }
      ]
    },
    {
      "cell_type": "markdown",
      "metadata": {
        "id": "lwW9rQF7WX1K",
        "colab_type": "text"
      },
      "source": [
        "# Compiling and Fitting the Model"
      ]
    },
    {
      "cell_type": "markdown",
      "metadata": {
        "id": "PQUExFEaIlVB",
        "colab_type": "text"
      },
      "source": [
        "# Model # 1\n",
        "\n",
        "*   Adam optimizer\n",
        "*   Learning rate = 1e-4\n"
      ]
    },
    {
      "cell_type": "code",
      "metadata": {
        "id": "uETdtdVJ26Mt",
        "colab_type": "code",
        "colab": {}
      },
      "source": [
        "# Compiling the model\n",
        "# lr = 0.0001\n",
        "from tensorflow import keras\n",
        "\n",
        "opt = keras.optimizers.Adam(lr=1e-4)\n",
        "\n",
        "model.compile(optimizer=opt,\n",
        "              loss='categorical_crossentropy',\n",
        "              metrics=['accuracy'])"
      ],
      "execution_count": null,
      "outputs": []
    },
    {
      "cell_type": "code",
      "metadata": {
        "id": "RFYvjF6K27k0",
        "colab_type": "code",
        "colab": {
          "base_uri": "https://localhost:8080/",
          "height": 1000
        },
        "outputId": "ae7fdc2a-3ea7-4444-e2a6-12929e541b84"
      },
      "source": [
        "# Fitting the model\n",
        "model_output = model.fit(train_generator, validation_data=valid_generator, steps_per_epoch=int(train_generator.samples)/ batch_size, epochs=100)"
      ],
      "execution_count": null,
      "outputs": [
        {
          "output_type": "stream",
          "text": [
            "Epoch 1/100\n",
            "833/832 [==============================] - 15686s 19s/step - loss: 0.3482 - accuracy: 0.8930 - val_loss: 0.2008 - val_accuracy: 0.9370\n",
            "Epoch 2/100\n",
            "833/832 [==============================] - 152s 182ms/step - loss: 0.1566 - accuracy: 0.9512 - val_loss: 0.1018 - val_accuracy: 0.9678\n",
            "Epoch 3/100\n",
            "833/832 [==============================] - 150s 180ms/step - loss: 0.1118 - accuracy: 0.9657 - val_loss: 0.0923 - val_accuracy: 0.9722\n",
            "Epoch 4/100\n",
            "833/832 [==============================] - 151s 181ms/step - loss: 0.0903 - accuracy: 0.9738 - val_loss: 0.0786 - val_accuracy: 0.9766\n",
            "Epoch 5/100\n",
            "833/832 [==============================] - 150s 180ms/step - loss: 0.0764 - accuracy: 0.9781 - val_loss: 0.1090 - val_accuracy: 0.9690\n",
            "Epoch 6/100\n",
            "833/832 [==============================] - 151s 181ms/step - loss: 0.0664 - accuracy: 0.9809 - val_loss: 0.0770 - val_accuracy: 0.9750\n",
            "Epoch 7/100\n",
            "833/832 [==============================] - 150s 180ms/step - loss: 0.0517 - accuracy: 0.9852 - val_loss: 0.0761 - val_accuracy: 0.9781\n",
            "Epoch 8/100\n",
            "833/832 [==============================] - 151s 181ms/step - loss: 0.0477 - accuracy: 0.9862 - val_loss: 0.0710 - val_accuracy: 0.9804\n",
            "Epoch 9/100\n",
            "833/832 [==============================] - 150s 180ms/step - loss: 0.0426 - accuracy: 0.9875 - val_loss: 0.0972 - val_accuracy: 0.9705\n",
            "Epoch 10/100\n",
            "833/832 [==============================] - 150s 180ms/step - loss: 0.0358 - accuracy: 0.9893 - val_loss: 0.0790 - val_accuracy: 0.9765\n",
            "Epoch 11/100\n",
            "833/832 [==============================] - 151s 181ms/step - loss: 0.0335 - accuracy: 0.9898 - val_loss: 0.0812 - val_accuracy: 0.9787\n",
            "Epoch 12/100\n",
            "833/832 [==============================] - 151s 181ms/step - loss: 0.0319 - accuracy: 0.9905 - val_loss: 0.0599 - val_accuracy: 0.9844\n",
            "Epoch 13/100\n",
            "833/832 [==============================] - 151s 181ms/step - loss: 0.0263 - accuracy: 0.9920 - val_loss: 0.1722 - val_accuracy: 0.9474\n",
            "Epoch 14/100\n",
            "833/832 [==============================] - 150s 180ms/step - loss: 0.0226 - accuracy: 0.9932 - val_loss: 0.0589 - val_accuracy: 0.9841\n",
            "Epoch 15/100\n",
            "833/832 [==============================] - 151s 181ms/step - loss: 0.0232 - accuracy: 0.9935 - val_loss: 0.0799 - val_accuracy: 0.9818\n",
            "Epoch 16/100\n",
            "833/832 [==============================] - 150s 181ms/step - loss: 0.0213 - accuracy: 0.9935 - val_loss: 0.0998 - val_accuracy: 0.9802\n",
            "Epoch 17/100\n",
            "833/832 [==============================] - 153s 183ms/step - loss: 0.0191 - accuracy: 0.9942 - val_loss: 0.1496 - val_accuracy: 0.9620\n",
            "Epoch 18/100\n",
            "833/832 [==============================] - 152s 182ms/step - loss: 0.0165 - accuracy: 0.9952 - val_loss: 0.0944 - val_accuracy: 0.9783\n",
            "Epoch 19/100\n",
            "833/832 [==============================] - 153s 183ms/step - loss: 0.0150 - accuracy: 0.9953 - val_loss: 0.0620 - val_accuracy: 0.9866\n",
            "Epoch 20/100\n",
            "833/832 [==============================] - 151s 181ms/step - loss: 0.0155 - accuracy: 0.9951 - val_loss: 0.1129 - val_accuracy: 0.9735\n",
            "Epoch 21/100\n",
            "833/832 [==============================] - 151s 182ms/step - loss: 0.0166 - accuracy: 0.9944 - val_loss: 0.0583 - val_accuracy: 0.9871\n",
            "Epoch 22/100\n",
            "833/832 [==============================] - 150s 181ms/step - loss: 0.0130 - accuracy: 0.9959 - val_loss: 0.0661 - val_accuracy: 0.9871\n",
            "Epoch 23/100\n",
            "833/832 [==============================] - 151s 181ms/step - loss: 0.0114 - accuracy: 0.9964 - val_loss: 0.0705 - val_accuracy: 0.9860\n",
            "Epoch 24/100\n",
            "833/832 [==============================] - 150s 181ms/step - loss: 0.0129 - accuracy: 0.9960 - val_loss: 0.1465 - val_accuracy: 0.9685\n",
            "Epoch 25/100\n",
            "833/832 [==============================] - 151s 181ms/step - loss: 0.0117 - accuracy: 0.9964 - val_loss: 0.0710 - val_accuracy: 0.9865\n",
            "Epoch 26/100\n",
            "833/832 [==============================] - 151s 181ms/step - loss: 0.0094 - accuracy: 0.9966 - val_loss: 0.0809 - val_accuracy: 0.9844\n",
            "Epoch 27/100\n",
            "833/832 [==============================] - 151s 182ms/step - loss: 0.0092 - accuracy: 0.9971 - val_loss: 0.0720 - val_accuracy: 0.9864\n",
            "Epoch 28/100\n",
            "833/832 [==============================] - 151s 181ms/step - loss: 0.0110 - accuracy: 0.9968 - val_loss: 0.1572 - val_accuracy: 0.9658\n",
            "Epoch 29/100\n",
            "833/832 [==============================] - 153s 184ms/step - loss: 0.0086 - accuracy: 0.9975 - val_loss: 0.0709 - val_accuracy: 0.9850\n",
            "Epoch 30/100\n",
            "833/832 [==============================] - 154s 185ms/step - loss: 0.0071 - accuracy: 0.9978 - val_loss: 0.0893 - val_accuracy: 0.9844\n",
            "Epoch 31/100\n",
            "833/832 [==============================] - 156s 187ms/step - loss: 0.0078 - accuracy: 0.9975 - val_loss: 0.3157 - val_accuracy: 0.9421\n",
            "Epoch 32/100\n",
            "833/832 [==============================] - 156s 187ms/step - loss: 0.0097 - accuracy: 0.9971 - val_loss: 0.0671 - val_accuracy: 0.9885\n",
            "Epoch 33/100\n",
            "833/832 [==============================] - 157s 188ms/step - loss: 0.0103 - accuracy: 0.9967 - val_loss: 0.0790 - val_accuracy: 0.9823\n",
            "Epoch 34/100\n",
            "833/832 [==============================] - 156s 187ms/step - loss: 0.0074 - accuracy: 0.9979 - val_loss: 0.0757 - val_accuracy: 0.9867\n",
            "Epoch 35/100\n",
            "833/832 [==============================] - 157s 188ms/step - loss: 0.0068 - accuracy: 0.9980 - val_loss: 0.0859 - val_accuracy: 0.9858\n",
            "Epoch 36/100\n",
            "833/832 [==============================] - 157s 188ms/step - loss: 0.0054 - accuracy: 0.9985 - val_loss: 0.1119 - val_accuracy: 0.9776\n",
            "Epoch 37/100\n",
            "833/832 [==============================] - 158s 190ms/step - loss: 0.0074 - accuracy: 0.9979 - val_loss: 0.0716 - val_accuracy: 0.9878\n",
            "Epoch 38/100\n",
            "833/832 [==============================] - 158s 189ms/step - loss: 0.0053 - accuracy: 0.9982 - val_loss: 0.0867 - val_accuracy: 0.9872\n",
            "Epoch 39/100\n",
            "833/832 [==============================] - 158s 190ms/step - loss: 0.0058 - accuracy: 0.9978 - val_loss: 0.0710 - val_accuracy: 0.9882\n",
            "Epoch 40/100\n",
            "833/832 [==============================] - 157s 189ms/step - loss: 0.0077 - accuracy: 0.9976 - val_loss: 0.0813 - val_accuracy: 0.9833\n",
            "Epoch 41/100\n",
            "833/832 [==============================] - 158s 190ms/step - loss: 0.0059 - accuracy: 0.9983 - val_loss: 0.0985 - val_accuracy: 0.9836\n",
            "Epoch 42/100\n",
            "833/832 [==============================] - 157s 189ms/step - loss: 0.0056 - accuracy: 0.9984 - val_loss: 0.0660 - val_accuracy: 0.9887\n",
            "Epoch 43/100\n",
            "833/832 [==============================] - 158s 190ms/step - loss: 0.0062 - accuracy: 0.9982 - val_loss: 0.1041 - val_accuracy: 0.9848\n",
            "Epoch 44/100\n",
            "833/832 [==============================] - 159s 191ms/step - loss: 0.0051 - accuracy: 0.9984 - val_loss: 0.0936 - val_accuracy: 0.9840\n",
            "Epoch 45/100\n",
            "833/832 [==============================] - 160s 192ms/step - loss: 0.0062 - accuracy: 0.9979 - val_loss: 0.1002 - val_accuracy: 0.9851\n",
            "Epoch 46/100\n",
            "833/832 [==============================] - 158s 190ms/step - loss: 0.0053 - accuracy: 0.9981 - val_loss: 0.0929 - val_accuracy: 0.9862\n",
            "Epoch 47/100\n",
            "833/832 [==============================] - 159s 191ms/step - loss: 0.0057 - accuracy: 0.9984 - val_loss: 0.1016 - val_accuracy: 0.9853\n",
            "Epoch 48/100\n",
            "833/832 [==============================] - 158s 189ms/step - loss: 0.0053 - accuracy: 0.9983 - val_loss: 0.1032 - val_accuracy: 0.9863\n",
            "Epoch 49/100\n",
            "833/832 [==============================] - 159s 190ms/step - loss: 0.0066 - accuracy: 0.9983 - val_loss: 0.0807 - val_accuracy: 0.9876\n",
            "Epoch 50/100\n",
            "833/832 [==============================] - 158s 189ms/step - loss: 0.0048 - accuracy: 0.9987 - val_loss: 0.0769 - val_accuracy: 0.9876\n",
            "Epoch 51/100\n",
            "833/832 [==============================] - 158s 190ms/step - loss: 0.0048 - accuracy: 0.9984 - val_loss: 0.0951 - val_accuracy: 0.9867\n",
            "Epoch 52/100\n",
            "833/832 [==============================] - 157s 189ms/step - loss: 0.0069 - accuracy: 0.9980 - val_loss: 0.0938 - val_accuracy: 0.9862\n",
            "Epoch 53/100\n",
            "833/832 [==============================] - 159s 191ms/step - loss: 0.0054 - accuracy: 0.9983 - val_loss: 0.0895 - val_accuracy: 0.9867\n",
            "Epoch 54/100\n",
            "833/832 [==============================] - 158s 190ms/step - loss: 0.0041 - accuracy: 0.9987 - val_loss: 0.0845 - val_accuracy: 0.9884\n",
            "Epoch 55/100\n",
            "833/832 [==============================] - 159s 191ms/step - loss: 0.0038 - accuracy: 0.9988 - val_loss: 0.2513 - val_accuracy: 0.9561\n",
            "Epoch 56/100\n",
            "833/832 [==============================] - 158s 189ms/step - loss: 0.0052 - accuracy: 0.9983 - val_loss: 0.1043 - val_accuracy: 0.9850\n",
            "Epoch 57/100\n",
            "833/832 [==============================] - 159s 191ms/step - loss: 0.0033 - accuracy: 0.9989 - val_loss: 0.0922 - val_accuracy: 0.9865\n",
            "Epoch 58/100\n",
            "833/832 [==============================] - 159s 190ms/step - loss: 0.0050 - accuracy: 0.9985 - val_loss: 0.0916 - val_accuracy: 0.9862\n",
            "Epoch 59/100\n",
            "833/832 [==============================] - 159s 191ms/step - loss: 0.0047 - accuracy: 0.9985 - val_loss: 0.0894 - val_accuracy: 0.9868\n",
            "Epoch 60/100\n",
            "833/832 [==============================] - 159s 191ms/step - loss: 0.0048 - accuracy: 0.9984 - val_loss: 0.0878 - val_accuracy: 0.9868\n",
            "Epoch 61/100\n",
            "833/832 [==============================] - 158s 190ms/step - loss: 0.0041 - accuracy: 0.9988 - val_loss: 0.0821 - val_accuracy: 0.9895\n",
            "Epoch 62/100\n",
            "833/832 [==============================] - 160s 192ms/step - loss: 0.0047 - accuracy: 0.9986 - val_loss: 0.0977 - val_accuracy: 0.9874\n",
            "Epoch 63/100\n",
            "833/832 [==============================] - 160s 192ms/step - loss: 0.0036 - accuracy: 0.9987 - val_loss: 0.0800 - val_accuracy: 0.9894\n",
            "Epoch 64/100\n",
            "833/832 [==============================] - 158s 190ms/step - loss: 0.0036 - accuracy: 0.9989 - val_loss: 0.0963 - val_accuracy: 0.9883\n",
            "Epoch 65/100\n",
            "833/832 [==============================] - 158s 189ms/step - loss: 0.0043 - accuracy: 0.9986 - val_loss: 0.1024 - val_accuracy: 0.9839\n",
            "Epoch 66/100\n",
            "833/832 [==============================] - 158s 190ms/step - loss: 0.0034 - accuracy: 0.9985 - val_loss: 0.0917 - val_accuracy: 0.9876\n",
            "Epoch 67/100\n",
            "833/832 [==============================] - 158s 189ms/step - loss: 0.0033 - accuracy: 0.9990 - val_loss: 0.0924 - val_accuracy: 0.9867\n",
            "Epoch 68/100\n",
            "833/832 [==============================] - 159s 190ms/step - loss: 0.0039 - accuracy: 0.9989 - val_loss: 0.0769 - val_accuracy: 0.9892\n",
            "Epoch 69/100\n",
            "833/832 [==============================] - 158s 189ms/step - loss: 0.0036 - accuracy: 0.9987 - val_loss: 0.1370 - val_accuracy: 0.9832\n",
            "Epoch 70/100\n",
            "833/832 [==============================] - 159s 190ms/step - loss: 0.0023 - accuracy: 0.9993 - val_loss: 0.1044 - val_accuracy: 0.9827\n",
            "Epoch 71/100\n",
            " 66/832 [=>............................] - ETA: 1:48 - loss: 0.0040 - accuracy: 0.9986Buffered data was truncated after reaching the output size limit."
          ],
          "name": "stdout"
        }
      ]
    },
    {
      "cell_type": "code",
      "metadata": {
        "id": "yWDCPdtw5DSW",
        "colab_type": "code",
        "colab": {
          "base_uri": "https://localhost:8080/",
          "height": 105
        },
        "outputId": "ca07857a-80ec-4fb5-c6ac-3132d6c75612"
      },
      "source": [
        "# saving the model\n",
        "model.save('/content/drive/My Drive/Springboard Data Science/CapstoneTwo/7model.h5')\n",
        "model.save('/content/drive/My Drive/Springboard Data Science/CapstoneTwo/7model')"
      ],
      "execution_count": null,
      "outputs": [
        {
          "output_type": "stream",
          "text": [
            "WARNING:tensorflow:From /usr/local/lib/python3.6/dist-packages/tensorflow/python/ops/resource_variable_ops.py:1817: calling BaseResourceVariable.__init__ (from tensorflow.python.ops.resource_variable_ops) with constraint is deprecated and will be removed in a future version.\n",
            "Instructions for updating:\n",
            "If using Keras pass *_constraint arguments to layers.\n",
            "INFO:tensorflow:Assets written to: /content/drive/My Drive/Springboard Data Science/CapstoneTwo/7model/assets\n"
          ],
          "name": "stdout"
        }
      ]
    },
    {
      "cell_type": "code",
      "metadata": {
        "id": "8zdMQr0jCgQu",
        "colab_type": "code",
        "colab": {
          "base_uri": "https://localhost:8080/",
          "height": 969
        },
        "outputId": "2f2f799e-f887-447f-aabc-5160255be778"
      },
      "source": [
        "model.summary()"
      ],
      "execution_count": null,
      "outputs": [
        {
          "output_type": "stream",
          "text": [
            "Model: \"model\"\n",
            "_________________________________________________________________\n",
            "Layer (type)                 Output Shape              Param #   \n",
            "=================================================================\n",
            "input_1 (InputLayer)         [(None, 80, 60, 3)]       0         \n",
            "_________________________________________________________________\n",
            "conv2d (Conv2D)              (None, 78, 58, 32)        896       \n",
            "_________________________________________________________________\n",
            "batch_normalization (BatchNo (None, 78, 58, 32)        128       \n",
            "_________________________________________________________________\n",
            "conv2d_1 (Conv2D)            (None, 76, 56, 32)        9248      \n",
            "_________________________________________________________________\n",
            "batch_normalization_1 (Batch (None, 76, 56, 32)        128       \n",
            "_________________________________________________________________\n",
            "max_pooling2d (MaxPooling2D) (None, 38, 28, 32)        0         \n",
            "_________________________________________________________________\n",
            "dropout (Dropout)            (None, 38, 28, 32)        0         \n",
            "_________________________________________________________________\n",
            "conv2d_2 (Conv2D)            (None, 36, 26, 64)        18496     \n",
            "_________________________________________________________________\n",
            "batch_normalization_2 (Batch (None, 36, 26, 64)        256       \n",
            "_________________________________________________________________\n",
            "conv2d_3 (Conv2D)            (None, 34, 24, 64)        36928     \n",
            "_________________________________________________________________\n",
            "batch_normalization_3 (Batch (None, 34, 24, 64)        256       \n",
            "_________________________________________________________________\n",
            "max_pooling2d_1 (MaxPooling2 (None, 17, 12, 64)        0         \n",
            "_________________________________________________________________\n",
            "dropout_1 (Dropout)          (None, 17, 12, 64)        0         \n",
            "_________________________________________________________________\n",
            "conv2d_4 (Conv2D)            (None, 15, 10, 128)       73856     \n",
            "_________________________________________________________________\n",
            "batch_normalization_4 (Batch (None, 15, 10, 128)       512       \n",
            "_________________________________________________________________\n",
            "conv2d_5 (Conv2D)            (None, 13, 8, 128)        147584    \n",
            "_________________________________________________________________\n",
            "batch_normalization_5 (Batch (None, 13, 8, 128)        512       \n",
            "_________________________________________________________________\n",
            "max_pooling2d_2 (MaxPooling2 (None, 6, 4, 128)         0         \n",
            "_________________________________________________________________\n",
            "dropout_2 (Dropout)          (None, 6, 4, 128)         0         \n",
            "_________________________________________________________________\n",
            "flatten (Flatten)            (None, 3072)              0         \n",
            "_________________________________________________________________\n",
            "dropout_3 (Dropout)          (None, 3072)              0         \n",
            "_________________________________________________________________\n",
            "dense (Dense)                (None, 1024)              3146752   \n",
            "_________________________________________________________________\n",
            "dropout_4 (Dropout)          (None, 1024)              0         \n",
            "_________________________________________________________________\n",
            "dense_1 (Dense)              (None, 6)                 6150      \n",
            "=================================================================\n",
            "Total params: 3,441,702\n",
            "Trainable params: 3,440,806\n",
            "Non-trainable params: 896\n",
            "_________________________________________________________________\n"
          ],
          "name": "stdout"
        }
      ]
    },
    {
      "cell_type": "markdown",
      "metadata": {
        "id": "cMXDM6NTWiGi",
        "colab_type": "text"
      },
      "source": [
        "# Testing the Model"
      ]
    },
    {
      "cell_type": "code",
      "metadata": {
        "id": "5_Kiwi7xXPaT",
        "colab_type": "code",
        "colab": {}
      },
      "source": [
        "test_generator.reset()"
      ],
      "execution_count": null,
      "outputs": []
    },
    {
      "cell_type": "code",
      "metadata": {
        "id": "J0ewnlD3Xkfh",
        "colab_type": "code",
        "colab": {
          "base_uri": "https://localhost:8080/",
          "height": 34
        },
        "outputId": "bcbb4a11-9bee-4b18-c8ec-e66f4f87af29"
      },
      "source": [
        "test_steps_per_epoch = np.math.ceil(test_generator.samples / test_generator.batch_size)\n",
        "pred=model.predict(test_generator,verbose=1,steps=test_steps_per_epoch)"
      ],
      "execution_count": null,
      "outputs": [
        {
          "output_type": "stream",
          "text": [
            "8883/8883 [==============================] - 3666s 413ms/step\n"
          ],
          "name": "stdout"
        }
      ]
    },
    {
      "cell_type": "code",
      "metadata": {
        "id": "7VqHwIknYS5X",
        "colab_type": "code",
        "colab": {}
      },
      "source": [
        "predicted_class_indices=np.argmax(pred,axis=1)"
      ],
      "execution_count": null,
      "outputs": []
    },
    {
      "cell_type": "markdown",
      "metadata": {
        "id": "Fsu_-mqabD1n",
        "colab_type": "text"
      },
      "source": [
        "# Mapping the predicted labels with their unique id's"
      ]
    },
    {
      "cell_type": "code",
      "metadata": {
        "id": "HG20diyMYU0q",
        "colab_type": "code",
        "colab": {}
      },
      "source": [
        "labels = (train_generator.class_indices)\n",
        "labels = dict((v,k) for k,v in labels.items())\n",
        "predictions = [labels[k] for k in predicted_class_indices]"
      ],
      "execution_count": null,
      "outputs": []
    },
    {
      "cell_type": "markdown",
      "metadata": {
        "id": "hyHf212DbSVM",
        "colab_type": "text"
      },
      "source": [
        "# Constructing dataframe with predicted and true label comparision"
      ]
    },
    {
      "cell_type": "code",
      "metadata": {
        "id": "S1ylm_JnYefC",
        "colab_type": "code",
        "colab": {}
      },
      "source": [
        "filenames=test_generator.filenames\n",
        "results=pd.DataFrame({\"image\":filenames,\n",
        "                      \"predictions\":predictions})"
      ],
      "execution_count": null,
      "outputs": []
    },
    {
      "cell_type": "code",
      "metadata": {
        "id": "aQ1832yxZYdE",
        "colab_type": "code",
        "colab": {
          "base_uri": "https://localhost:8080/",
          "height": 51
        },
        "outputId": "4245f6bf-8a4d-45c4-d972-d51a7490b000"
      },
      "source": [
        "true_and_predicted_labels = pd.merge(df_test[['id','image','masterCategory']], results, on=\"image\")\n",
        "true_and_predicted_labels.head()\n",
        "x = true_and_predicted_labels['masterCategory'].unique()\n",
        "print(x)"
      ],
      "execution_count": null,
      "outputs": [
        {
          "output_type": "stream",
          "text": [
            "['Accessories' 'Apparel' 'Footwear' 'Personal Care' 'Free Items'\n",
            " 'Sporting Goods']\n"
          ],
          "name": "stdout"
        }
      ]
    },
    {
      "cell_type": "code",
      "metadata": {
        "id": "99LozVAdK9Op",
        "colab_type": "code",
        "colab": {
          "base_uri": "https://localhost:8080/",
          "height": 204
        },
        "outputId": "41340429-55f6-42b0-b349-6cc38299fa23"
      },
      "source": [
        "true_and_predicted_labels['correct_label'] = np.where(true_and_predicted_labels.masterCategory == true_and_predicted_labels.predictions, 1, 0)\n",
        "true_and_predicted_labels.head()\n"
      ],
      "execution_count": null,
      "outputs": [
        {
          "output_type": "execute_result",
          "data": {
            "text/html": [
              "<div>\n",
              "<style scoped>\n",
              "    .dataframe tbody tr th:only-of-type {\n",
              "        vertical-align: middle;\n",
              "    }\n",
              "\n",
              "    .dataframe tbody tr th {\n",
              "        vertical-align: top;\n",
              "    }\n",
              "\n",
              "    .dataframe thead th {\n",
              "        text-align: right;\n",
              "    }\n",
              "</style>\n",
              "<table border=\"1\" class=\"dataframe\">\n",
              "  <thead>\n",
              "    <tr style=\"text-align: right;\">\n",
              "      <th></th>\n",
              "      <th>id</th>\n",
              "      <th>image</th>\n",
              "      <th>masterCategory</th>\n",
              "      <th>predictions</th>\n",
              "      <th>correct_label</th>\n",
              "    </tr>\n",
              "  </thead>\n",
              "  <tbody>\n",
              "    <tr>\n",
              "      <th>0</th>\n",
              "      <td>37686</td>\n",
              "      <td>37686.jpg</td>\n",
              "      <td>Accessories</td>\n",
              "      <td>Accessories</td>\n",
              "      <td>1</td>\n",
              "    </tr>\n",
              "    <tr>\n",
              "      <th>1</th>\n",
              "      <td>52384</td>\n",
              "      <td>52384.jpg</td>\n",
              "      <td>Apparel</td>\n",
              "      <td>Apparel</td>\n",
              "      <td>1</td>\n",
              "    </tr>\n",
              "    <tr>\n",
              "      <th>2</th>\n",
              "      <td>31645</td>\n",
              "      <td>31645.jpg</td>\n",
              "      <td>Apparel</td>\n",
              "      <td>Apparel</td>\n",
              "      <td>1</td>\n",
              "    </tr>\n",
              "    <tr>\n",
              "      <th>3</th>\n",
              "      <td>35700</td>\n",
              "      <td>35700.jpg</td>\n",
              "      <td>Footwear</td>\n",
              "      <td>Footwear</td>\n",
              "      <td>1</td>\n",
              "    </tr>\n",
              "    <tr>\n",
              "      <th>4</th>\n",
              "      <td>16106</td>\n",
              "      <td>16106.jpg</td>\n",
              "      <td>Accessories</td>\n",
              "      <td>Accessories</td>\n",
              "      <td>1</td>\n",
              "    </tr>\n",
              "  </tbody>\n",
              "</table>\n",
              "</div>"
            ],
            "text/plain": [
              "      id      image masterCategory  predictions  correct_label\n",
              "0  37686  37686.jpg    Accessories  Accessories              1\n",
              "1  52384  52384.jpg        Apparel      Apparel              1\n",
              "2  31645  31645.jpg        Apparel      Apparel              1\n",
              "3  35700  35700.jpg       Footwear     Footwear              1\n",
              "4  16106  16106.jpg    Accessories  Accessories              1"
            ]
          },
          "metadata": {
            "tags": []
          },
          "execution_count": 26
        }
      ]
    },
    {
      "cell_type": "code",
      "metadata": {
        "id": "yLEF3fbNcDj5",
        "colab_type": "code",
        "colab": {
          "base_uri": "https://localhost:8080/",
          "height": 34
        },
        "outputId": "b0abc6ea-636e-4555-caac-9e46c48ef49a"
      },
      "source": [
        "print('Test prediction accuracy:', true_and_predicted_labels['correct_label'].sum()/len(true_and_predicted_labels.predictions)*100)"
      ],
      "execution_count": null,
      "outputs": [
        {
          "output_type": "stream",
          "text": [
            "Test prediction accuracy: 98.79545198694134\n"
          ],
          "name": "stdout"
        }
      ]
    },
    {
      "cell_type": "code",
      "metadata": {
        "id": "LxMzFPUJCPGJ",
        "colab_type": "code",
        "colab": {
          "base_uri": "https://localhost:8080/",
          "height": 68
        },
        "outputId": "285d518d-24d7-4b83-de97-bac3d93e8e5f"
      },
      "source": [
        "score = model.evaluate(valid_generator)\n",
        "print('Test loss:', score[0])\n",
        "print('Test accuracy:', score[1])"
      ],
      "execution_count": null,
      "outputs": [
        {
          "output_type": "stream",
          "text": [
            "278/278 [==============================] - 41s 146ms/step - loss: 0.1013 - accuracy: 0.9878\n",
            "Test loss: 0.10134057700634003\n",
            "Test accuracy: 0.9878433346748352\n"
          ],
          "name": "stdout"
        }
      ]
    },
    {
      "cell_type": "markdown",
      "metadata": {
        "id": "6bo-84UnWu0o",
        "colab_type": "text"
      },
      "source": [
        "# Model Evaluation"
      ]
    },
    {
      "cell_type": "code",
      "metadata": {
        "id": "iBqgYDc1APAn",
        "colab_type": "code",
        "colab": {
          "base_uri": "https://localhost:8080/",
          "height": 282
        },
        "outputId": "6bc3041b-68e7-4ace-d91f-82551e5647e4"
      },
      "source": [
        "# Plot loss per iteration\n",
        "plt.plot(model_output.history['loss'], label='loss')\n",
        "plt.plot(model_output.history['val_loss'], label='val_loss')\n",
        "plt.legend()"
      ],
      "execution_count": null,
      "outputs": [
        {
          "output_type": "execute_result",
          "data": {
            "text/plain": [
              "<matplotlib.legend.Legend at 0x7f109006e358>"
            ]
          },
          "metadata": {
            "tags": []
          },
          "execution_count": 29
        },
        {
          "output_type": "display_data",
          "data": {
            "image/png": "[encoded data removed]",
            "text/plain": [
              "<Figure size 432x288 with 1 Axes>"
            ]
          },
          "metadata": {
            "tags": [],
            "needs_background": "light"
          }
        }
      ]
    },
    {
      "cell_type": "code",
      "metadata": {
        "id": "H_kIcRH3AQKc",
        "colab_type": "code",
        "colab": {
          "base_uri": "https://localhost:8080/",
          "height": 282
        },
        "outputId": "8b9bbe1a-ec6f-4e15-8326-17c123cc991d"
      },
      "source": [
        "# Plot accuracy per iteration\n",
        "plt.plot(model_output.history['accuracy'], label='acc')\n",
        "plt.plot(model_output.history['val_accuracy'], label='val_acc')\n",
        "plt.legend()"
      ],
      "execution_count": null,
      "outputs": [
        {
          "output_type": "execute_result",
          "data": {
            "text/plain": [
              "<matplotlib.legend.Legend at 0x7f1090151a90>"
            ]
          },
          "metadata": {
            "tags": []
          },
          "execution_count": 30
        },
        {
          "output_type": "display_data",
          "data": {
            "image/png": "[encoded data removed]",
            "text/plain": [
              "<Figure size 432x288 with 1 Axes>"
            ]
          },
          "metadata": {
            "tags": [],
            "needs_background": "light"
          }
        }
      ]
    },
    {
      "cell_type": "markdown",
      "metadata": {
        "id": "IP_PtoSZXYNP",
        "colab_type": "text"
      },
      "source": [
        "# Confusion Matrix"
      ]
    },
    {
      "cell_type": "code",
      "metadata": {
        "id": "qTlj3mn9DCKX",
        "colab_type": "code",
        "colab": {
          "base_uri": "https://localhost:8080/",
          "height": 136
        },
        "outputId": "01fa836c-fdca-4b6e-cde1-1686e0e66471"
      },
      "source": [
        "#Confusion Matrix and Classification Report\n",
        "from sklearn.metrics import confusion_matrix\n",
        "from sklearn.metrics import classification_report\n",
        "\n",
        "# valid_steps_per_epoch = np.math.ceil(valid_generator.samples / valid_generator.batch_size)\n",
        "# valid_pred=model.predict(valid_generator,verbose=1,steps=valid_steps_per_epoch)\n",
        "# predicted_valid_classes=np.argmax(valid_pred,axis=1)\n",
        "\n",
        "# true_classes = valid_generator.classes\n",
        "# class_labels = ['Personal Care','Apparel','Accessories', 'Footwear', 'Free Items']\n",
        "\n",
        "# report = metrics.classification_report(true_classes, predicted_valid_classes, target_names=class_labels)\n",
        "# print(report)   \n",
        "\n",
        "valid_generator.reset()\n",
        "test_steps_per_epoch = np.math.ceil(valid_generator.samples / valid_generator.batch_size)\n",
        "Y_pred=model.predict(valid_generator,verbose=1,steps=test_steps_per_epoch)\n",
        "\n",
        "classes = valid_generator.classes\n",
        "y_pred = np.argmax(Y_pred, axis=-1)\n",
        "sum(y_pred==classes)/10000\n",
        "\n",
        "confusion_matrix(valid_generator.classes,y_pred)"
      ],
      "execution_count": null,
      "outputs": [
        {
          "output_type": "stream",
          "text": [
            "278/278 [==============================] - 40s 143ms/step\n"
          ],
          "name": "stdout"
        },
        {
          "output_type": "execute_result",
          "data": {
            "text/plain": [
              "array([[ 575, 1129,  443,    7,   99,    2],\n",
              "       [1114, 1993,  935,    6,  230,    1],\n",
              "       [ 448,  917,  370,    0,  109,    0],\n",
              "       [   7,    8,    5,    0,    1,    0],\n",
              "       [ 129,  237,   92,    0,   22,    0],\n",
              "       [   1,    1,    1,    0,    2,    0]])"
            ]
          },
          "metadata": {
            "tags": []
          },
          "execution_count": 31
        }
      ]
    },
    {
      "cell_type": "code",
      "metadata": {
        "id": "VhMOZ9OC4FzI",
        "colab_type": "code",
        "colab": {
          "base_uri": "https://localhost:8080/",
          "height": 51
        },
        "outputId": "6db6b926-9d20-407b-b15d-1737f18948d0"
      },
      "source": [
        "labels_x = (valid_generator.class_indices)\n",
        "labels_x = dict((v,k) for k,v in labels_x.items())\n",
        "predictions_x = [labels[k] for k in y_pred]\n",
        "\n",
        "filenames_x=valid_generator.filenames\n",
        "results_x=pd.DataFrame({\"image\":filenames_x,\n",
        "                      \"predictions\":predictions_x})\n",
        "\n",
        "true_and_predicted_labels_x = pd.merge(df_test[['image','masterCategory']], results, on=\"image\")\n",
        "true_and_predicted_labels_x.head()\n",
        "xy = true_and_predicted_labels['predictions'].unique()\n",
        "print(xy)"
      ],
      "execution_count": null,
      "outputs": [
        {
          "output_type": "stream",
          "text": [
            "['Accessories' 'Apparel' 'Footwear' 'Personal Care' 'Free Items'\n",
            " 'Sporting Goods']\n"
          ],
          "name": "stdout"
        }
      ]
    },
    {
      "cell_type": "code",
      "metadata": {
        "id": "H7fWhjqyAdks",
        "colab_type": "code",
        "colab": {
          "base_uri": "https://localhost:8080/",
          "height": 447
        },
        "outputId": "8603f8a9-97ff-45af-8c5e-34bd11a5294d"
      },
      "source": [
        "# Plot confusion matrix\n",
        "from sklearn.metrics import confusion_matrix\n",
        "import itertools\n",
        "\n",
        "def plot_confusion_matrix(cm, classes,\n",
        "                          normalize=False,\n",
        "                          title='Confusion matrix',\n",
        "                          cmap=plt.cm.Blues):\n",
        "  \"\"\"\n",
        "  This function prints and plots the confusion matrix.\n",
        "  Normalization can be applied by setting `normalize=True`.\n",
        "  \"\"\"\n",
        "  if normalize:\n",
        "      cm = cm.astype('float') / cm.sum(axis=1)[:, np.newaxis]\n",
        "      print(\"Normalized confusion matrix\")\n",
        "  else:\n",
        "      print('Confusion matrix, without normalization')\n",
        "\n",
        "  print(cm)\n",
        "\n",
        "  plt.imshow(cm, interpolation='nearest', cmap=cmap)\n",
        "  plt.title(title)\n",
        "  plt.colorbar()\n",
        "  tick_marks = np.arange(len(classes))\n",
        "  plt.xticks(tick_marks, classes, rotation=45)\n",
        "  plt.yticks(tick_marks, classes)\n",
        "\n",
        "  fmt = '.2f' if normalize else 'd'\n",
        "  thresh = cm.max() / 2.\n",
        "  for i, j in itertools.product(range(cm.shape[0]), range(cm.shape[1])):\n",
        "      plt.text(j, i, format(cm[i, j], fmt),\n",
        "               horizontalalignment=\"center\",\n",
        "               color=\"white\" if cm[i, j] > thresh else \"black\")\n",
        "\n",
        "  plt.tight_layout()\n",
        "  plt.ylabel('True label')\n",
        "  plt.xlabel('Predicted label')\n",
        "  plt.show()\n",
        "\n",
        "valid_generator.reset()\n",
        "valid_steps_per_epoch = np.math.ceil(valid_generator.samples / valid_generator.batch_size)\n",
        "p_test=model.predict(valid_generator,verbose=1,steps=valid_steps_per_epoch).argmax(axis=1)\n",
        "\n",
        "cm = confusion_matrix(valid_generator.classes, p_test)\n",
        "plot_confusion_matrix(cm, list(range(6)))\n",
        "\n",
        "\n"
      ],
      "execution_count": null,
      "outputs": [
        {
          "output_type": "stream",
          "text": [
            "278/278 [==============================] - 40s 143ms/step\n",
            "Confusion matrix, without normalization\n",
            "[[ 574 1088  454    5  131    3]\n",
            " [1100 2062  904    4  209    0]\n",
            " [ 474  891  383    2   94    0]\n",
            " [   6    8    4    0    3    0]\n",
            " [ 118  234  101    2   25    0]\n",
            " [   2    2    0    0    1    0]]\n"
          ],
          "name": "stdout"
        },
        {
          "output_type": "display_data",
          "data": {
            "image/png": "[encoded data removed]",
            "text/plain": [
              "<Figure size 432x288 with 2 Axes>"
            ]
          },
          "metadata": {
            "tags": [],
            "needs_background": "light"
          }
        }
      ]
    },
    {
      "cell_type": "markdown",
      "metadata": {
        "id": "WLH00aa9JZfm",
        "colab_type": "text"
      },
      "source": [
        "# Model # 2\n",
        "\n",
        "*   Adam optimizer\n",
        "*   Learning rate = 1e-2"
      ]
    },
    {
      "cell_type": "code",
      "metadata": {
        "id": "PBCU8LnRiDZx",
        "colab_type": "code",
        "colab": {}
      },
      "source": [
        "# Build the convolutional Neural Network model using the functional API\n",
        "\n",
        "# Input node. image shape: 80 x 60 x 3 RGB channels\n",
        "i= Input(shape=(80, 60, 3))\n",
        "\n",
        "\n",
        "# 2D convolutional layer with 2 spatial dimensions (height and width)\n",
        "# Using more filters results in a more powerful model, but we risk overfitting due to increased parameter count.\n",
        "# 32 initial output feature maps that will progressively increase with network depth. (Starts low to check for overfitting)\n",
        "# A 3D filter with 3x3x3 dimensions\n",
        "# A ReLU activation funcion\n",
        "\n",
        "x = Conv2D(32, (3, 3), activation='relu', padding='valid')(i)\n",
        "x = BatchNormalization()(x)\n",
        "x = Conv2D(32, (3, 3), activation='relu', padding='valid')(x)\n",
        "x = BatchNormalization()(x)\n",
        "\n",
        "# Pooling layer to reduce dimensionality (max pooling takes the maximum value in the pooling window)\n",
        "x = MaxPooling2D((2, 2))(x)\n",
        "x = Dropout(0.2)(x)\n",
        "\n",
        "#Second convolutinal layer with increased number of feature maps\n",
        "x = Conv2D(64, (3, 3), activation='relu', padding='valid')(x)\n",
        "x = BatchNormalization()(x)\n",
        "x = Conv2D(64, (3, 3), activation='relu', padding='valid')(x)\n",
        "x = BatchNormalization()(x)\n",
        "x = MaxPooling2D((2, 2))(x)\n",
        "x = Dropout(0.2)(x)\n",
        "\n",
        "#Third convolutinal layer with increased number of feature maps\n",
        "x = Conv2D(128, (3, 3), activation='relu', padding='valid')(x)\n",
        "x = BatchNormalization()(x)\n",
        "x = Conv2D(128, (3, 3), activation='relu', padding='valid')(x)\n",
        "x = BatchNormalization()(x)\n",
        "x = MaxPooling2D((2, 2))(x)\n",
        "x = Dropout(0.2)(x)\n",
        "\n",
        "# Converting layer to 1 dimensional layer\n",
        "x = Flatten()(x)\n",
        "x = Dropout(0.2)(x)\n",
        "\n",
        "# Fully connected layer\n",
        "x = Dense(1024, activation='relu')(x)\n",
        "x = Dropout(0.2)(x)\n",
        "\n",
        "# Fully connected layer with Softmax activation function for multiclass classification probability\n",
        "x = Dense(K, activation='softmax')(x)\n",
        "\n",
        "model_2 = Model(i, x)"
      ],
      "execution_count": null,
      "outputs": []
    },
    {
      "cell_type": "code",
      "metadata": {
        "id": "IlHDnehvrlhp",
        "colab_type": "code",
        "colab": {}
      },
      "source": [
        "# Compiling the model\n",
        "# lr = 0.01\n",
        "\n",
        "opt_2 = keras.optimizers.Adam(lr=1e-2)\n",
        "\n",
        "model_2.compile(optimizer=opt_2,\n",
        "              loss='categorical_crossentropy',\n",
        "              metrics=['accuracy'])"
      ],
      "execution_count": null,
      "outputs": []
    },
    {
      "cell_type": "code",
      "metadata": {
        "id": "Ectnmw32sNfY",
        "colab_type": "code",
        "colab": {
          "base_uri": "https://localhost:8080/",
          "height": 1000
        },
        "outputId": "f97b3442-9698-44a5-9262-260856f635f7"
      },
      "source": [
        "# Fitting the model\n",
        "model_output_2 = model_2.fit(train_generator, validation_data=valid_generator, steps_per_epoch=int(train_generator.samples)/ batch_size, epochs=100)"
      ],
      "execution_count": null,
      "outputs": [
        {
          "output_type": "stream",
          "text": [
            "Epoch 1/100\n",
            "833/832 [==============================] - 162s 195ms/step - loss: 1.0860 - accuracy: 0.8728 - val_loss: 0.3714 - val_accuracy: 0.8569\n",
            "Epoch 2/100\n",
            "833/832 [==============================] - 161s 194ms/step - loss: 0.2653 - accuracy: 0.9207 - val_loss: 0.6321 - val_accuracy: 0.7799\n",
            "Epoch 3/100\n",
            "833/832 [==============================] - 162s 194ms/step - loss: 0.2091 - accuracy: 0.9402 - val_loss: 0.2587 - val_accuracy: 0.9209\n",
            "Epoch 4/100\n",
            "833/832 [==============================] - 160s 192ms/step - loss: 0.1772 - accuracy: 0.9495 - val_loss: 0.5225 - val_accuracy: 0.8867\n",
            "Epoch 5/100\n",
            "833/832 [==============================] - 160s 192ms/step - loss: 0.1831 - accuracy: 0.9487 - val_loss: 1.8898 - val_accuracy: 0.6266\n",
            "Epoch 6/100\n",
            "833/832 [==============================] - 159s 191ms/step - loss: 0.1904 - accuracy: 0.9481 - val_loss: 0.2364 - val_accuracy: 0.9591\n",
            "Epoch 7/100\n",
            "833/832 [==============================] - 161s 193ms/step - loss: 0.1804 - accuracy: 0.9544 - val_loss: 0.1369 - val_accuracy: 0.9626\n",
            "Epoch 8/100\n",
            "833/832 [==============================] - 159s 191ms/step - loss: 0.1858 - accuracy: 0.9535 - val_loss: 0.3021 - val_accuracy: 0.9452\n",
            "Epoch 9/100\n",
            "833/832 [==============================] - 159s 191ms/step - loss: 0.1809 - accuracy: 0.9529 - val_loss: 0.2012 - val_accuracy: 0.9542\n",
            "Epoch 10/100\n",
            "833/832 [==============================] - 159s 191ms/step - loss: 0.1770 - accuracy: 0.9526 - val_loss: 0.1491 - val_accuracy: 0.9685\n",
            "Epoch 11/100\n",
            "833/832 [==============================] - 160s 192ms/step - loss: 0.1935 - accuracy: 0.9510 - val_loss: 0.2356 - val_accuracy: 0.9408\n",
            "Epoch 12/100\n",
            "833/832 [==============================] - 158s 190ms/step - loss: 0.1701 - accuracy: 0.9563 - val_loss: 0.1701 - val_accuracy: 0.9676\n",
            "Epoch 13/100\n",
            "833/832 [==============================] - 158s 190ms/step - loss: 0.1985 - accuracy: 0.9501 - val_loss: 0.4178 - val_accuracy: 0.8655\n",
            "Epoch 14/100\n",
            "833/832 [==============================] - 157s 188ms/step - loss: 0.1704 - accuracy: 0.9573 - val_loss: 0.1795 - val_accuracy: 0.9712\n",
            "Epoch 15/100\n",
            "833/832 [==============================] - 157s 188ms/step - loss: 0.1707 - accuracy: 0.9576 - val_loss: 0.1584 - val_accuracy: 0.9696\n",
            "Epoch 16/100\n",
            "833/832 [==============================] - 157s 188ms/step - loss: 0.1689 - accuracy: 0.9576 - val_loss: 0.4965 - val_accuracy: 0.8513\n",
            "Epoch 17/100\n",
            "833/832 [==============================] - 158s 190ms/step - loss: 0.1689 - accuracy: 0.9560 - val_loss: 0.2293 - val_accuracy: 0.9361\n",
            "Epoch 18/100\n",
            "833/832 [==============================] - 158s 189ms/step - loss: 0.1748 - accuracy: 0.9561 - val_loss: 0.1870 - val_accuracy: 0.9486\n",
            "Epoch 19/100\n",
            "833/832 [==============================] - 158s 190ms/step - loss: 0.1481 - accuracy: 0.9636 - val_loss: 0.4310 - val_accuracy: 0.9562\n",
            "Epoch 20/100\n",
            "833/832 [==============================] - 156s 188ms/step - loss: 0.1888 - accuracy: 0.9555 - val_loss: 1.3559 - val_accuracy: 0.8914\n",
            "Epoch 21/100\n",
            "833/832 [==============================] - 156s 187ms/step - loss: 0.1758 - accuracy: 0.9591 - val_loss: 0.1575 - val_accuracy: 0.9443\n",
            "Epoch 22/100\n",
            "833/832 [==============================] - 154s 185ms/step - loss: 0.1600 - accuracy: 0.9580 - val_loss: 0.6155 - val_accuracy: 0.8636\n",
            "Epoch 23/100\n",
            "833/832 [==============================] - 156s 187ms/step - loss: 0.1780 - accuracy: 0.9561 - val_loss: 0.5356 - val_accuracy: 0.8641\n",
            "Epoch 24/100\n",
            "833/832 [==============================] - 156s 188ms/step - loss: 0.1705 - accuracy: 0.9543 - val_loss: 0.2645 - val_accuracy: 0.9611\n",
            "Epoch 25/100\n",
            "833/832 [==============================] - 155s 186ms/step - loss: 0.1469 - accuracy: 0.9594 - val_loss: 0.1754 - val_accuracy: 0.9688\n",
            "Epoch 26/100\n",
            "833/832 [==============================] - 155s 187ms/step - loss: 0.1810 - accuracy: 0.9550 - val_loss: 0.3854 - val_accuracy: 0.8788\n",
            "Epoch 27/100\n",
            "833/832 [==============================] - 157s 188ms/step - loss: 0.1737 - accuracy: 0.9589 - val_loss: 0.9877 - val_accuracy: 0.9232\n",
            "Epoch 28/100\n",
            "833/832 [==============================] - 156s 187ms/step - loss: 0.1552 - accuracy: 0.9587 - val_loss: 0.1601 - val_accuracy: 0.9551\n",
            "Epoch 29/100\n",
            "833/832 [==============================] - 157s 188ms/step - loss: 0.1510 - accuracy: 0.9639 - val_loss: 0.1879 - val_accuracy: 0.9692\n",
            "Epoch 30/100\n",
            "833/832 [==============================] - 156s 187ms/step - loss: 0.1724 - accuracy: 0.9581 - val_loss: 0.2138 - val_accuracy: 0.9397\n",
            "Epoch 31/100\n",
            "833/832 [==============================] - 158s 189ms/step - loss: 0.1575 - accuracy: 0.9594 - val_loss: 0.2135 - val_accuracy: 0.9616\n",
            "Epoch 32/100\n",
            "833/832 [==============================] - 157s 189ms/step - loss: 0.1799 - accuracy: 0.9551 - val_loss: 0.2200 - val_accuracy: 0.9705\n",
            "Epoch 33/100\n",
            "833/832 [==============================] - 159s 191ms/step - loss: 0.2086 - accuracy: 0.9530 - val_loss: 0.5498 - val_accuracy: 0.7376\n",
            "Epoch 34/100\n",
            "833/832 [==============================] - 158s 189ms/step - loss: 0.1666 - accuracy: 0.9538 - val_loss: 0.3113 - val_accuracy: 0.9027\n",
            "Epoch 35/100\n",
            "833/832 [==============================] - 158s 190ms/step - loss: 0.1717 - accuracy: 0.9558 - val_loss: 0.4799 - val_accuracy: 0.8721\n",
            "Epoch 36/100\n",
            "833/832 [==============================] - 157s 188ms/step - loss: 0.1640 - accuracy: 0.9624 - val_loss: 0.3403 - val_accuracy: 0.8881\n",
            "Epoch 37/100\n",
            "833/832 [==============================] - 158s 190ms/step - loss: 0.1744 - accuracy: 0.9574 - val_loss: 0.2988 - val_accuracy: 0.9083\n",
            "Epoch 38/100\n",
            "833/832 [==============================] - 157s 189ms/step - loss: 0.2035 - accuracy: 0.9525 - val_loss: 0.1806 - val_accuracy: 0.9419\n",
            "Epoch 39/100\n",
            "833/832 [==============================] - 158s 190ms/step - loss: 0.1849 - accuracy: 0.9491 - val_loss: 0.3414 - val_accuracy: 0.9363\n",
            "Epoch 40/100\n",
            "833/832 [==============================] - 158s 189ms/step - loss: 0.1624 - accuracy: 0.9565 - val_loss: 0.9557 - val_accuracy: 0.8308\n",
            "Epoch 41/100\n",
            "833/832 [==============================] - 158s 190ms/step - loss: 0.1526 - accuracy: 0.9612 - val_loss: 0.1876 - val_accuracy: 0.9552\n",
            "Epoch 42/100\n",
            "833/832 [==============================] - 157s 189ms/step - loss: 0.1682 - accuracy: 0.9600 - val_loss: 0.2821 - val_accuracy: 0.9792\n",
            "Epoch 43/100\n",
            "833/832 [==============================] - 157s 189ms/step - loss: 0.1473 - accuracy: 0.9620 - val_loss: 1.1082 - val_accuracy: 0.9129\n",
            "Epoch 44/100\n",
            "833/832 [==============================] - 157s 189ms/step - loss: 0.1623 - accuracy: 0.9620 - val_loss: 0.2728 - val_accuracy: 0.9732\n",
            "Epoch 45/100\n",
            "833/832 [==============================] - 157s 189ms/step - loss: 0.2191 - accuracy: 0.9477 - val_loss: 0.2969 - val_accuracy: 0.9660\n",
            "Epoch 46/100\n",
            "833/832 [==============================] - 157s 189ms/step - loss: 0.1899 - accuracy: 0.9576 - val_loss: 0.2828 - val_accuracy: 0.9654\n",
            "Epoch 47/100\n",
            "833/832 [==============================] - 158s 190ms/step - loss: 0.1679 - accuracy: 0.9611 - val_loss: 0.2990 - val_accuracy: 0.9730\n",
            "Epoch 48/100\n",
            "833/832 [==============================] - 158s 190ms/step - loss: 0.1726 - accuracy: 0.9596 - val_loss: 0.3476 - val_accuracy: 0.9712\n",
            "Epoch 49/100\n",
            "833/832 [==============================] - 159s 190ms/step - loss: 0.2393 - accuracy: 0.9397 - val_loss: 0.4686 - val_accuracy: 0.8729\n",
            "Epoch 50/100\n",
            "833/832 [==============================] - 160s 192ms/step - loss: 0.1857 - accuracy: 0.9549 - val_loss: 0.3157 - val_accuracy: 0.9701\n",
            "Epoch 51/100\n",
            "833/832 [==============================] - 159s 191ms/step - loss: 0.1823 - accuracy: 0.9518 - val_loss: 0.5742 - val_accuracy: 0.7736\n",
            "Epoch 52/100\n",
            "833/832 [==============================] - 159s 191ms/step - loss: 0.1603 - accuracy: 0.9574 - val_loss: 0.2557 - val_accuracy: 0.9484\n",
            "Epoch 53/100\n",
            "833/832 [==============================] - 159s 191ms/step - loss: 0.1985 - accuracy: 0.9445 - val_loss: 0.2997 - val_accuracy: 0.9651\n",
            "Epoch 54/100\n",
            "833/832 [==============================] - 160s 192ms/step - loss: 0.1883 - accuracy: 0.9458 - val_loss: 0.2936 - val_accuracy: 0.8996\n",
            "Epoch 55/100\n",
            "833/832 [==============================] - 159s 191ms/step - loss: 0.1569 - accuracy: 0.9588 - val_loss: 0.4191 - val_accuracy: 0.9184\n",
            "Epoch 56/100\n",
            "833/832 [==============================] - 159s 191ms/step - loss: 0.2069 - accuracy: 0.9468 - val_loss: 0.6593 - val_accuracy: 0.9050\n",
            "Epoch 57/100\n",
            "833/832 [==============================] - 158s 190ms/step - loss: 0.1720 - accuracy: 0.9568 - val_loss: 0.4782 - val_accuracy: 0.8836\n",
            "Epoch 58/100\n",
            "833/832 [==============================] - 159s 191ms/step - loss: 0.1607 - accuracy: 0.9577 - val_loss: 0.4862 - val_accuracy: 0.9120\n",
            "Epoch 59/100\n",
            "833/832 [==============================] - 159s 191ms/step - loss: 0.1853 - accuracy: 0.9588 - val_loss: 0.7001 - val_accuracy: 0.9523\n",
            "Epoch 60/100\n",
            "833/832 [==============================] - 160s 192ms/step - loss: 0.1952 - accuracy: 0.9580 - val_loss: 0.3437 - val_accuracy: 0.9345\n",
            "Epoch 61/100\n",
            "833/832 [==============================] - 159s 190ms/step - loss: 0.2209 - accuracy: 0.9407 - val_loss: 0.4586 - val_accuracy: 0.9282\n",
            "Epoch 62/100\n",
            "833/832 [==============================] - 160s 192ms/step - loss: 0.1812 - accuracy: 0.9503 - val_loss: 0.9016 - val_accuracy: 0.8611\n",
            "Epoch 63/100\n",
            "833/832 [==============================] - 159s 191ms/step - loss: 0.1859 - accuracy: 0.9513 - val_loss: 0.4946 - val_accuracy: 0.9429\n",
            "Epoch 64/100\n",
            "833/832 [==============================] - 160s 192ms/step - loss: 0.1801 - accuracy: 0.9530 - val_loss: 0.5116 - val_accuracy: 0.9185\n",
            "Epoch 65/100\n",
            "833/832 [==============================] - 159s 191ms/step - loss: 0.1903 - accuracy: 0.9512 - val_loss: 0.6965 - val_accuracy: 0.8654\n",
            "Epoch 66/100\n",
            "833/832 [==============================] - 161s 193ms/step - loss: 0.2050 - accuracy: 0.9520 - val_loss: 1.2165 - val_accuracy: 0.9437\n",
            "Epoch 67/100\n",
            "833/832 [==============================] - 160s 192ms/step - loss: 0.1699 - accuracy: 0.9603 - val_loss: 0.4139 - val_accuracy: 0.9701\n",
            "Epoch 68/100\n",
            "833/832 [==============================] - 160s 192ms/step - loss: 0.1534 - accuracy: 0.9616 - val_loss: 0.5866 - val_accuracy: 0.9296\n",
            "Epoch 69/100\n",
            "833/832 [==============================] - 159s 191ms/step - loss: 0.1560 - accuracy: 0.9586 - val_loss: 0.8586 - val_accuracy: 0.9544\n",
            "Epoch 70/100\n",
            "833/832 [==============================] - 160s 193ms/step - loss: 0.2139 - accuracy: 0.9524 - val_loss: 0.5673 - val_accuracy: 0.7631\n",
            "Epoch 71/100\n",
            "833/832 [==============================] - 159s 191ms/step - loss: 0.1941 - accuracy: 0.9564 - val_loss: 0.3767 - val_accuracy: 0.9287\n",
            "Epoch 72/100\n",
            "833/832 [==============================] - 159s 191ms/step - loss: 0.2149 - accuracy: 0.9566 - val_loss: 0.9045 - val_accuracy: 0.9345\n",
            "Epoch 73/100\n",
            "833/832 [==============================] - 159s 190ms/step - loss: 0.1907 - accuracy: 0.9572 - val_loss: 0.2817 - val_accuracy: 0.9627\n",
            "Epoch 74/100\n",
            "833/832 [==============================] - 159s 191ms/step - loss: 0.2133 - accuracy: 0.9576 - val_loss: 0.3340 - val_accuracy: 0.9406\n",
            "Epoch 75/100\n",
            "833/832 [==============================] - 158s 189ms/step - loss: 0.2414 - accuracy: 0.9522 - val_loss: 0.5973 - val_accuracy: 0.7674\n",
            "Epoch 76/100\n",
            "833/832 [==============================] - 158s 190ms/step - loss: 0.1786 - accuracy: 0.9573 - val_loss: 0.4633 - val_accuracy: 0.8622\n",
            "Epoch 77/100\n",
            "833/832 [==============================] - 158s 190ms/step - loss: 0.1782 - accuracy: 0.9585 - val_loss: 0.3264 - val_accuracy: 0.9615\n",
            "Epoch 78/100\n",
            "833/832 [==============================] - 158s 190ms/step - loss: 0.2655 - accuracy: 0.9493 - val_loss: 0.9045 - val_accuracy: 0.9680\n",
            "Epoch 79/100\n",
            "833/832 [==============================] - 157s 188ms/step - loss: 0.2819 - accuracy: 0.9346 - val_loss: 0.6921 - val_accuracy: 0.9067\n",
            "Epoch 80/100\n",
            "833/832 [==============================] - 157s 189ms/step - loss: 0.1948 - accuracy: 0.9506 - val_loss: 0.5773 - val_accuracy: 0.9704\n",
            "Epoch 81/100\n",
            "833/832 [==============================] - 158s 190ms/step - loss: 0.2120 - accuracy: 0.9533 - val_loss: 0.3292 - val_accuracy: 0.9734\n",
            "Epoch 82/100\n",
            "833/832 [==============================] - 159s 191ms/step - loss: 0.2315 - accuracy: 0.9431 - val_loss: 0.5548 - val_accuracy: 0.8376\n",
            "Epoch 83/100\n",
            "833/832 [==============================] - 159s 191ms/step - loss: 0.1929 - accuracy: 0.9508 - val_loss: 0.8073 - val_accuracy: 0.9051\n",
            "Epoch 84/100\n",
            "833/832 [==============================] - 158s 190ms/step - loss: 0.2344 - accuracy: 0.9506 - val_loss: 0.3107 - val_accuracy: 0.9605\n",
            "Epoch 85/100\n",
            "833/832 [==============================] - 158s 190ms/step - loss: 0.2445 - accuracy: 0.9502 - val_loss: 0.4115 - val_accuracy: 0.8939\n",
            "Epoch 86/100\n",
            "833/832 [==============================] - 158s 189ms/step - loss: 0.2308 - accuracy: 0.9526 - val_loss: 0.5995 - val_accuracy: 0.9554\n",
            "Epoch 87/100\n",
            "833/832 [==============================] - 158s 189ms/step - loss: 0.2312 - accuracy: 0.9473 - val_loss: 0.3772 - val_accuracy: 0.9746\n",
            "Epoch 88/100\n",
            "833/832 [==============================] - 159s 190ms/step - loss: 0.2084 - accuracy: 0.9523 - val_loss: 0.7630 - val_accuracy: 0.9472\n",
            "Epoch 89/100\n",
            "833/832 [==============================] - 159s 191ms/step - loss: 0.2094 - accuracy: 0.9567 - val_loss: 1.2357 - val_accuracy: 0.9420\n",
            "Epoch 90/100\n",
            "833/832 [==============================] - 159s 191ms/step - loss: 0.2273 - accuracy: 0.9547 - val_loss: 23.6209 - val_accuracy: 0.9487\n",
            "Epoch 91/100\n",
            "833/832 [==============================] - 159s 191ms/step - loss: 0.1926 - accuracy: 0.9594 - val_loss: 0.4094 - val_accuracy: 0.8682\n",
            "Epoch 92/100\n",
            "833/832 [==============================] - 157s 189ms/step - loss: 0.1922 - accuracy: 0.9552 - val_loss: 0.4253 - val_accuracy: 0.9643\n",
            "Epoch 93/100\n",
            "833/832 [==============================] - 159s 190ms/step - loss: 0.1799 - accuracy: 0.9601 - val_loss: 0.5031 - val_accuracy: 0.9654\n",
            "Epoch 94/100\n",
            "833/832 [==============================] - 158s 190ms/step - loss: 0.1951 - accuracy: 0.9543 - val_loss: 0.8314 - val_accuracy: 0.8919\n",
            "Epoch 95/100\n",
            "833/832 [==============================] - 159s 191ms/step - loss: 0.2917 - accuracy: 0.9370 - val_loss: 0.6302 - val_accuracy: 0.9428\n",
            "Epoch 96/100\n",
            "833/832 [==============================] - 157s 189ms/step - loss: 0.1989 - accuracy: 0.9568 - val_loss: 0.3383 - val_accuracy: 0.9294\n",
            "Epoch 97/100\n",
            "833/832 [==============================] - 159s 190ms/step - loss: 0.2035 - accuracy: 0.9439 - val_loss: 4.0493 - val_accuracy: 0.9157\n",
            "Epoch 98/100\n",
            "833/832 [==============================] - 158s 189ms/step - loss: 0.2137 - accuracy: 0.9440 - val_loss: 0.6324 - val_accuracy: 0.9570\n",
            "Epoch 99/100\n",
            "833/832 [==============================] - 159s 191ms/step - loss: 0.2437 - accuracy: 0.9517 - val_loss: 0.6884 - val_accuracy: 0.9614\n",
            "Epoch 100/100\n",
            "833/832 [==============================] - 158s 190ms/step - loss: 0.1965 - accuracy: 0.9549 - val_loss: 0.4559 - val_accuracy: 0.9053\n"
          ],
          "name": "stdout"
        }
      ]
    },
    {
      "cell_type": "code",
      "metadata": {
        "id": "3tETwHEBsA2c",
        "colab_type": "code",
        "colab": {
          "base_uri": "https://localhost:8080/",
          "height": 34
        },
        "outputId": "e7b04f48-ecf2-4860-a3f3-5c696b0c50b0"
      },
      "source": [
        "# saving the model\n",
        "model_2.save('/content/drive/My Drive/Springboard Data Science/CapstoneTwo/8model.h5')\n",
        "model_2.save('/content/drive/My Drive/Springboard Data Science/CapstoneTwo/8model')"
      ],
      "execution_count": null,
      "outputs": [
        {
          "output_type": "stream",
          "text": [
            "INFO:tensorflow:Assets written to: /content/drive/My Drive/Springboard Data Science/CapstoneTwo/8model/assets\n"
          ],
          "name": "stdout"
        }
      ]
    },
    {
      "cell_type": "code",
      "metadata": {
        "id": "ilnZPWpzxMnb",
        "colab_type": "code",
        "colab": {
          "base_uri": "https://localhost:8080/",
          "height": 68
        },
        "outputId": "c540fbe2-844c-473b-d334-9e7655860104"
      },
      "source": [
        "score_2 = model_2.evaluate(valid_generator)\n",
        "print('Test loss:', score_2[0])\n",
        "print('Test accuracy:', score_2[1])"
      ],
      "execution_count": null,
      "outputs": [
        {
          "output_type": "stream",
          "text": [
            "278/278 [==============================] - 39s 142ms/step - loss: 0.4559 - accuracy: 0.9053\n",
            "Test loss: 0.10134057700634003\n",
            "Test accuracy: 0.9878433346748352\n"
          ],
          "name": "stdout"
        }
      ]
    },
    {
      "cell_type": "code",
      "metadata": {
        "id": "6eb9Azujt0P4",
        "colab_type": "code",
        "colab": {
          "base_uri": "https://localhost:8080/",
          "height": 282
        },
        "outputId": "cd5894a4-5578-4140-f889-17e6f5bc2af6"
      },
      "source": [
        "# Plot loss per iteration\n",
        "plt.plot(model_output_2.history['loss'], label='loss')\n",
        "plt.plot(model_output_2.history['val_loss'], label='val_loss')\n",
        "plt.legend()"
      ],
      "execution_count": null,
      "outputs": [
        {
          "output_type": "execute_result",
          "data": {
            "text/plain": [
              "<matplotlib.legend.Legend at 0x7f10363f9ac8>"
            ]
          },
          "metadata": {
            "tags": []
          },
          "execution_count": 40
        },
        {
          "output_type": "display_data",
          "data": {
            "image/png": "[encoded data removed]",
            "text/plain": [
              "<Figure size 432x288 with 1 Axes>"
            ]
          },
          "metadata": {
            "tags": [],
            "needs_background": "light"
          }
        }
      ]
    },
    {
      "cell_type": "code",
      "metadata": {
        "id": "QNnKDzzbuYXb",
        "colab_type": "code",
        "colab": {
          "base_uri": "https://localhost:8080/",
          "height": 282
        },
        "outputId": "67688889-9bb7-4ff4-bcfa-ceecf8ac0f51"
      },
      "source": [
        "# Plot accuracy per iteration\n",
        "plt.plot(model_output_2.history['accuracy'], label='acc')\n",
        "plt.plot(model_output_2.history['val_accuracy'], label='val_acc')\n",
        "plt.legend()"
      ],
      "execution_count": null,
      "outputs": [
        {
          "output_type": "execute_result",
          "data": {
            "text/plain": [
              "<matplotlib.legend.Legend at 0x7f10368d4cf8>"
            ]
          },
          "metadata": {
            "tags": []
          },
          "execution_count": 41
        },
        {
          "output_type": "display_data",
          "data": {
            "image/png": "[encoded data removed]",
            "text/plain": [
              "<Figure size 432x288 with 1 Axes>"
            ]
          },
          "metadata": {
            "tags": [],
            "needs_background": "light"
          }
        }
      ]
    },
    {
      "cell_type": "code",
      "metadata": {
        "id": "c40X2jU4uomr",
        "colab_type": "code",
        "colab": {
          "base_uri": "https://localhost:8080/",
          "height": 447
        },
        "outputId": "733fe94f-da97-47a9-efcf-dc582888d1e3"
      },
      "source": [
        "# Plot confusion matrix\n",
        "from sklearn.metrics import confusion_matrix\n",
        "import itertools\n",
        "\n",
        "def plot_confusion_matrix(cm, classes,\n",
        "                          normalize=False,\n",
        "                          title='Confusion matrix',\n",
        "                          cmap=plt.cm.Blues):\n",
        "  \"\"\"\n",
        "  This function prints and plots the confusion matrix.\n",
        "  Normalization can be applied by setting `normalize=True`.\n",
        "  \"\"\"\n",
        "  if normalize:\n",
        "      cm = cm.astype('float') / cm.sum(axis=1)[:, np.newaxis]\n",
        "      print(\"Normalized confusion matrix\")\n",
        "  else:\n",
        "      print('Confusion matrix, without normalization')\n",
        "\n",
        "  print(cm)\n",
        "\n",
        "  plt.imshow(cm, interpolation='nearest', cmap=cmap)\n",
        "  plt.title(title)\n",
        "  plt.colorbar()\n",
        "  tick_marks = np.arange(len(classes))\n",
        "  plt.xticks(tick_marks, classes, rotation=45)\n",
        "  plt.yticks(tick_marks, classes)\n",
        "\n",
        "  fmt = '.2f' if normalize else 'd'\n",
        "  thresh = cm.max() / 2.\n",
        "  for i, j in itertools.product(range(cm.shape[0]), range(cm.shape[1])):\n",
        "      plt.text(j, i, format(cm[i, j], fmt),\n",
        "               horizontalalignment=\"center\",\n",
        "               color=\"white\" if cm[i, j] > thresh else \"black\")\n",
        "\n",
        "  plt.tight_layout()\n",
        "  plt.ylabel('True label')\n",
        "  plt.xlabel('Predicted label')\n",
        "  plt.show()\n",
        "\n",
        "valid_generator.reset()\n",
        "valid_steps_per_epoch = np.math.ceil(valid_generator.samples / valid_generator.batch_size)\n",
        "test_2=model_2.predict(valid_generator,verbose=1,steps=valid_steps_per_epoch).argmax(axis=1)\n",
        "\n",
        "cm = confusion_matrix(valid_generator.classes, test_2)\n",
        "plot_confusion_matrix(cm, list(range(6)))"
      ],
      "execution_count": null,
      "outputs": [
        {
          "output_type": "stream",
          "text": [
            "278/278 [==============================] - 39s 140ms/step\n",
            "Confusion matrix, without normalization\n",
            "[[ 783  910  447    0  115    0]\n",
            " [1456 1765  862    0  196    0]\n",
            " [ 645  747  373    0   79    0]\n",
            " [  12    7    2    0    0    0]\n",
            " [ 174  185   96    0   25    0]\n",
            " [   3    1    0    0    1    0]]\n"
          ],
          "name": "stdout"
        },
        {
          "output_type": "display_data",
          "data": {
            "image/png": "[encoded data removed]",
            "text/plain": [
              "<Figure size 432x288 with 2 Axes>"
            ]
          },
          "metadata": {
            "tags": [],
            "needs_background": "light"
          }
        }
      ]
    },
    {
      "cell_type": "markdown",
      "metadata": {
        "id": "5ZbT3TehJp-N",
        "colab_type": "text"
      },
      "source": [
        "# Model # 3\n",
        "\n",
        "*   Adam optimizer\n",
        "*   Learning rate = 1e-1"
      ]
    },
    {
      "cell_type": "code",
      "metadata": {
        "id": "W-PbIYf2iSnZ",
        "colab_type": "code",
        "colab": {}
      },
      "source": [
        "# Build the convolutional Neural Network model using the functional API\n",
        "\n",
        "# Input node. image shape: 80 x 60 x 3 RGB channels\n",
        "i= Input(shape=(80, 60, 3))\n",
        "\n",
        "\n",
        "# 2D convolutional layer with 2 spatial dimensions (height and width)\n",
        "# Using more filters results in a more powerful model, but we risk overfitting due to increased parameter count.\n",
        "# 32 initial output feature maps that will progressively increase with network depth. (Starts low to check for overfitting)\n",
        "# A 3D filter with 3x3x3 dimensions\n",
        "# A ReLU activation funcion\n",
        "\n",
        "x = Conv2D(32, (3, 3), activation='relu', padding='valid')(i)\n",
        "x = BatchNormalization()(x)\n",
        "x = Conv2D(32, (3, 3), activation='relu', padding='valid')(x)\n",
        "x = BatchNormalization()(x)\n",
        "\n",
        "# Pooling layer to reduce dimensionality (max pooling takes the maximum value in the pooling window)\n",
        "x = MaxPooling2D((2, 2))(x)\n",
        "x = Dropout(0.2)(x)\n",
        "\n",
        "#Second convolutinal layer with increased number of feature maps\n",
        "x = Conv2D(64, (3, 3), activation='relu', padding='valid')(x)\n",
        "x = BatchNormalization()(x)\n",
        "x = Conv2D(64, (3, 3), activation='relu', padding='valid')(x)\n",
        "x = BatchNormalization()(x)\n",
        "x = MaxPooling2D((2, 2))(x)\n",
        "x = Dropout(0.2)(x)\n",
        "\n",
        "#Third convolutinal layer with increased number of feature maps\n",
        "x = Conv2D(128, (3, 3), activation='relu', padding='valid')(x)\n",
        "x = BatchNormalization()(x)\n",
        "x = Conv2D(128, (3, 3), activation='relu', padding='valid')(x)\n",
        "x = BatchNormalization()(x)\n",
        "x = MaxPooling2D((2, 2))(x)\n",
        "x = Dropout(0.2)(x)\n",
        "\n",
        "# Converting layer to 1 dimensional layer\n",
        "x = Flatten()(x)\n",
        "x = Dropout(0.2)(x)\n",
        "\n",
        "# Fully connected layer\n",
        "x = Dense(1024, activation='relu')(x)\n",
        "x = Dropout(0.2)(x)\n",
        "\n",
        "# Fully connected layer with Softmax activation function for multiclass classification probability\n",
        "x = Dense(K, activation='softmax')(x)\n",
        "\n",
        "model_3 = Model(i, x)"
      ],
      "execution_count": null,
      "outputs": []
    },
    {
      "cell_type": "code",
      "metadata": {
        "id": "vIP7BsASwD18",
        "colab_type": "code",
        "colab": {}
      },
      "source": [
        "# Compiling the model\n",
        "# lr = 0.1\n",
        "\n",
        "opt_3 = keras.optimizers.Adam(lr=1e-1)\n",
        "\n",
        "model_3.compile(optimizer=opt_3,\n",
        "              loss='categorical_crossentropy',\n",
        "              metrics=['accuracy'])"
      ],
      "execution_count": null,
      "outputs": []
    },
    {
      "cell_type": "code",
      "metadata": {
        "id": "MHjfMOujwY39",
        "colab_type": "code",
        "colab": {
          "base_uri": "https://localhost:8080/",
          "height": 1000
        },
        "outputId": "61bd580b-27cd-4ddc-a6b4-77d112e523e1"
      },
      "source": [
        "# Fitting the model\n",
        "model_output_3 = model_3.fit(train_generator, validation_data=valid_generator, steps_per_epoch=int(train_generator.samples)/ batch_size, epochs=100)"
      ],
      "execution_count": null,
      "outputs": [
        {
          "output_type": "stream",
          "text": [
            "Epoch 1/100\n",
            "833/832 [==============================] - 158s 190ms/step - loss: 13.1948 - accuracy: 0.5034 - val_loss: 1.2048 - val_accuracy: 0.4817\n",
            "Epoch 2/100\n",
            "833/832 [==============================] - 158s 190ms/step - loss: 1.2107 - accuracy: 0.4805 - val_loss: 1.2029 - val_accuracy: 0.4817\n",
            "Epoch 3/100\n",
            "833/832 [==============================] - 159s 190ms/step - loss: 1.2097 - accuracy: 0.4816 - val_loss: 1.2142 - val_accuracy: 0.4817\n",
            "Epoch 4/100\n",
            "833/832 [==============================] - 158s 190ms/step - loss: 1.2111 - accuracy: 0.4816 - val_loss: 1.2201 - val_accuracy: 0.4817\n",
            "Epoch 5/100\n",
            "833/832 [==============================] - 159s 191ms/step - loss: 1.2086 - accuracy: 0.4816 - val_loss: 1.2115 - val_accuracy: 0.4817\n",
            "Epoch 6/100\n",
            "833/832 [==============================] - 158s 190ms/step - loss: 1.2096 - accuracy: 0.4816 - val_loss: 1.2308 - val_accuracy: 0.4817\n",
            "Epoch 7/100\n",
            "833/832 [==============================] - 159s 191ms/step - loss: 1.2095 - accuracy: 0.4816 - val_loss: 1.2074 - val_accuracy: 0.4817\n",
            "Epoch 8/100\n",
            "833/832 [==============================] - 157s 188ms/step - loss: 91.4386 - accuracy: 0.4804 - val_loss: 1.5692 - val_accuracy: 0.4815\n",
            "Epoch 9/100\n",
            "833/832 [==============================] - 159s 191ms/step - loss: 1.5376 - accuracy: 0.4812 - val_loss: 271299904.0000 - val_accuracy: 0.4814\n",
            "Epoch 10/100\n",
            "833/832 [==============================] - 159s 190ms/step - loss: 1.2095 - accuracy: 0.4816 - val_loss: 621368832.0000 - val_accuracy: 0.4814\n",
            "Epoch 11/100\n",
            "833/832 [==============================] - 160s 192ms/step - loss: 1.2080 - accuracy: 0.4816 - val_loss: 592232128.0000 - val_accuracy: 0.4814\n",
            "Epoch 12/100\n",
            "833/832 [==============================] - 157s 189ms/step - loss: 1.2088 - accuracy: 0.4816 - val_loss: 2271803392.0000 - val_accuracy: 0.4813\n",
            "Epoch 13/100\n",
            "833/832 [==============================] - 158s 190ms/step - loss: 1.2132 - accuracy: 0.4816 - val_loss: 58027025629184.0000 - val_accuracy: 0.4814\n",
            "Epoch 14/100\n",
            "833/832 [==============================] - 157s 189ms/step - loss: 1.2101 - accuracy: 0.4816 - val_loss: 14562581612068864.0000 - val_accuracy: 0.4810\n",
            "Epoch 15/100\n",
            "833/832 [==============================] - 158s 189ms/step - loss: 1.2084 - accuracy: 0.4816 - val_loss: 2839025459134464.0000 - val_accuracy: 0.4811\n",
            "Epoch 16/100\n",
            "833/832 [==============================] - 157s 188ms/step - loss: 2.0809 - accuracy: 0.4815 - val_loss: 1.2042 - val_accuracy: 0.4817\n",
            "Epoch 17/100\n",
            "833/832 [==============================] - 158s 190ms/step - loss: 1.2125 - accuracy: 0.4816 - val_loss: 713976.2500 - val_accuracy: 0.4819\n",
            "Epoch 18/100\n",
            "833/832 [==============================] - 156s 188ms/step - loss: 1.2090 - accuracy: 0.4816 - val_loss: 101663.4922 - val_accuracy: 0.4815\n",
            "Epoch 19/100\n",
            "833/832 [==============================] - 154s 185ms/step - loss: 1.2100 - accuracy: 0.4816 - val_loss: 41613.9180 - val_accuracy: 0.4815\n",
            "Epoch 20/100\n",
            "833/832 [==============================] - 153s 183ms/step - loss: 1.2089 - accuracy: 0.4816 - val_loss: 17808.6133 - val_accuracy: 0.4815\n",
            "Epoch 21/100\n",
            "833/832 [==============================] - 154s 185ms/step - loss: 1.2100 - accuracy: 0.4816 - val_loss: 72215.2734 - val_accuracy: 0.4815\n",
            "Epoch 22/100\n",
            "833/832 [==============================] - 152s 183ms/step - loss: 1.2093 - accuracy: 0.4816 - val_loss: 387757.0000 - val_accuracy: 0.4815\n",
            "Epoch 23/100\n",
            "833/832 [==============================] - 152s 183ms/step - loss: 1.2107 - accuracy: 0.4816 - val_loss: 46559.8359 - val_accuracy: 0.4815\n",
            "Epoch 24/100\n",
            "833/832 [==============================] - 151s 181ms/step - loss: 1.2080 - accuracy: 0.4816 - val_loss: 73039.3281 - val_accuracy: 0.4815\n",
            "Epoch 25/100\n",
            "833/832 [==============================] - 151s 182ms/step - loss: 1.2093 - accuracy: 0.4816 - val_loss: 31604.6074 - val_accuracy: 0.4815\n",
            "Epoch 26/100\n",
            "833/832 [==============================] - 151s 181ms/step - loss: 2.2608 - accuracy: 0.4803 - val_loss: 1.2097 - val_accuracy: 0.4817\n",
            "Epoch 27/100\n",
            "833/832 [==============================] - 152s 182ms/step - loss: 1.2108 - accuracy: 0.4816 - val_loss: 1976899076096.0000 - val_accuracy: 0.4810\n",
            "Epoch 28/100\n",
            "833/832 [==============================] - 151s 181ms/step - loss: 1.2103 - accuracy: 0.4816 - val_loss: 1906212786405376.0000 - val_accuracy: 0.4812\n",
            "Epoch 29/100\n",
            "833/832 [==============================] - 151s 181ms/step - loss: 1.2091 - accuracy: 0.4816 - val_loss: 814602287841280.0000 - val_accuracy: 0.4812\n",
            "Epoch 30/100\n",
            "833/832 [==============================] - 151s 181ms/step - loss: 1.2096 - accuracy: 0.4816 - val_loss: 479652720148480.0000 - val_accuracy: 0.4811\n",
            "Epoch 31/100\n",
            "833/832 [==============================] - 151s 181ms/step - loss: 1.2091 - accuracy: 0.4816 - val_loss: 2728952695095296.0000 - val_accuracy: 0.4811\n",
            "Epoch 32/100\n",
            "833/832 [==============================] - 151s 182ms/step - loss: 1.2100 - accuracy: 0.4816 - val_loss: 4468403444121600.0000 - val_accuracy: 0.4810\n",
            "Epoch 33/100\n",
            "833/832 [==============================] - 150s 180ms/step - loss: 1.2103 - accuracy: 0.4808 - val_loss: 103173293342720.0000 - val_accuracy: 0.4812\n",
            "Epoch 34/100\n",
            "833/832 [==============================] - 151s 181ms/step - loss: 1.2093 - accuracy: 0.4816 - val_loss: 4993974297165824.0000 - val_accuracy: 0.4813\n",
            "Epoch 35/100\n",
            "833/832 [==============================] - 150s 180ms/step - loss: 1.2100 - accuracy: 0.4816 - val_loss: 5672898568126464.0000 - val_accuracy: 0.4810\n",
            "Epoch 36/100\n",
            "833/832 [==============================] - 151s 181ms/step - loss: 1.2097 - accuracy: 0.4816 - val_loss: 242187227226963968.0000 - val_accuracy: 0.4811\n",
            "Epoch 37/100\n",
            "833/832 [==============================] - 150s 180ms/step - loss: 1.2096 - accuracy: 0.4816 - val_loss: 3216800850378752.0000 - val_accuracy: 0.4812\n",
            "Epoch 38/100\n",
            "833/832 [==============================] - 151s 181ms/step - loss: 1.2102 - accuracy: 0.4816 - val_loss: 3697680152788992.0000 - val_accuracy: 0.4811\n",
            "Epoch 39/100\n",
            "833/832 [==============================] - 151s 181ms/step - loss: 1.2094 - accuracy: 0.4816 - val_loss: 11291070662967296.0000 - val_accuracy: 0.4812\n",
            "Epoch 40/100\n",
            "833/832 [==============================] - 152s 182ms/step - loss: 1.2096 - accuracy: 0.4816 - val_loss: 558455505027072.0000 - val_accuracy: 0.4812\n",
            "Epoch 41/100\n",
            "833/832 [==============================] - 150s 180ms/step - loss: 1.2091 - accuracy: 0.4816 - val_loss: 621481096642560.0000 - val_accuracy: 0.4814\n",
            "Epoch 42/100\n",
            "833/832 [==============================] - 151s 182ms/step - loss: 1.2097 - accuracy: 0.4816 - val_loss: 911157850275840.0000 - val_accuracy: 0.4812\n",
            "Epoch 43/100\n",
            "833/832 [==============================] - 150s 181ms/step - loss: 1.2109 - accuracy: 0.4816 - val_loss: 202166979526656.0000 - val_accuracy: 0.4813\n",
            "Epoch 44/100\n",
            "833/832 [==============================] - 152s 182ms/step - loss: 1.2093 - accuracy: 0.4816 - val_loss: 3135704888508416.0000 - val_accuracy: 0.4812\n",
            "Epoch 45/100\n",
            "833/832 [==============================] - 151s 181ms/step - loss: 1.2085 - accuracy: 0.4816 - val_loss: 3022422978592768.0000 - val_accuracy: 0.4814\n",
            "Epoch 46/100\n",
            "833/832 [==============================] - 151s 182ms/step - loss: 1.2107 - accuracy: 0.4816 - val_loss: 1549614134067200.0000 - val_accuracy: 0.4812\n",
            "Epoch 47/100\n",
            "833/832 [==============================] - 150s 180ms/step - loss: 1.2096 - accuracy: 0.4816 - val_loss: 5185924438687744.0000 - val_accuracy: 0.4810\n",
            "Epoch 48/100\n",
            "833/832 [==============================] - 151s 181ms/step - loss: 1.2091 - accuracy: 0.4816 - val_loss: 1516627174621184.0000 - val_accuracy: 0.4810\n",
            "Epoch 49/100\n",
            "833/832 [==============================] - 150s 181ms/step - loss: 1.2094 - accuracy: 0.4816 - val_loss: 1260898916237312.0000 - val_accuracy: 0.4811\n",
            "Epoch 50/100\n",
            "833/832 [==============================] - 151s 181ms/step - loss: 1.2097 - accuracy: 0.4812 - val_loss: 4594054859849728.0000 - val_accuracy: 0.4811\n",
            "Epoch 51/100\n",
            "833/832 [==============================] - 150s 180ms/step - loss: 1.2091 - accuracy: 0.4816 - val_loss: 663989663039488.0000 - val_accuracy: 0.4811\n",
            "Epoch 52/100\n",
            "833/832 [==============================] - 151s 181ms/step - loss: 1.2099 - accuracy: 0.4816 - val_loss: 5114773473591296.0000 - val_accuracy: 0.4812\n",
            "Epoch 53/100\n",
            "833/832 [==============================] - 150s 181ms/step - loss: 1.2093 - accuracy: 0.4816 - val_loss: 330384285892608.0000 - val_accuracy: 0.4809\n",
            "Epoch 54/100\n",
            "745/832 [=========================>....] - ETA: 12s - loss: 1.2086 - accuracy: 0.4818"
          ],
          "name": "stdout"
        }
      ]
    }
  ]
}
