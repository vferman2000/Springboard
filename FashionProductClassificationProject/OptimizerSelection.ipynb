{
  "nbformat": 4,
  "nbformat_minor": 0,
  "metadata": {
    "colab": {
      "name": "OptimizerSelection.ipynb",
      "provenance": [],
      "collapsed_sections": [],
      "mount_file_id": "13h7UscriQovgSstH-wn6E_5IJk6sd5iT",
      "authorship_tag": "ABX9TyMKuHNTQasjFtPmoPSJGfHw",
      "include_colab_link": true
    },
    "kernelspec": {
      "name": "python3",
      "display_name": "Python 3"
    },
    "accelerator": "GPU"
  },
  "cells": [
    {
      "cell_type": "markdown",
      "metadata": {
        "id": "view-in-github",
        "colab_type": "text"
      },
      "source": [
        "<a href=\"https://colab.research.google.com/github/vferman2000/Springboard/blob/master/OptimizerSelection.ipynb\" target=\"_parent\"><img src=\"https://colab.research.google.com/assets/colab-badge.svg\" alt=\"Open In Colab\"/></a>"
      ]
    },
    {
      "cell_type": "markdown",
      "metadata": {
        "id": "DoqeoRUZL-1Q",
        "colab_type": "text"
      },
      "source": [
        "Fashion Image Classification Project\n",
        "The objective of the project is to build a Convolutional Neural Network model to classify fashion product images using TensorFow and Keras functional API. The model will then predict the class of a given input image.\n",
        "\n",
        "The dataset can be downloaded from https://www.kaggle.com/paramaggarwal/fashion-product-images-dataset\n",
        "\n",
        "The platform selected for the project is Google Collab.\n",
        "\n",
        "This notebook contains model comparisons using different optimization techniques."
      ]
    },
    {
      "cell_type": "code",
      "metadata": {
        "id": "ZK1iDhV3MGH9",
        "colab_type": "code",
        "colab": {
          "base_uri": "https://localhost:8080/",
          "height": 34
        },
        "outputId": "7a890a83-6fae-44f0-edbe-4fb4b23dd562"
      },
      "source": [
        "# Install TensorFlow\n",
        "import tensorflow as tf \n",
        "tf.test.gpu_device_name()"
      ],
      "execution_count": null,
      "outputs": [
        {
          "output_type": "execute_result",
          "data": {
            "text/plain": [
              "'/device:GPU:0'"
            ]
          },
          "metadata": {
            "tags": []
          },
          "execution_count": 1
        }
      ]
    },
    {
      "cell_type": "code",
      "metadata": {
        "id": "e9eWd6nBMNEn",
        "colab_type": "code",
        "colab": {}
      },
      "source": [
        "# importing additional libraries\n",
        "\n",
        "import numpy as np\n",
        "import pandas as pd\n",
        "import matplotlib.pyplot as plt\n",
        "from tensorflow.keras.layers import Input, Conv2D, Dense, Flatten, Dropout, GlobalMaxPooling2D, MaxPooling2D, BatchNormalization\n",
        "from tensorflow.keras.models import Model\n",
        "from mpl_toolkits.mplot3d import Axes3D\n",
        "from sklearn.preprocessing import StandardScaler\n",
        "import matplotlib.image as mpimg\n",
        "from sklearn.model_selection import train_test_split\n",
        "import os"
      ],
      "execution_count": null,
      "outputs": []
    },
    {
      "cell_type": "markdown",
      "metadata": {
        "id": "K3ay0679Mh0u",
        "colab_type": "text"
      },
      "source": [
        "# Mounting to Google Drive"
      ]
    },
    {
      "cell_type": "code",
      "metadata": {
        "id": "6Y7-a-BeMRSg",
        "colab_type": "code",
        "colab": {
          "base_uri": "https://localhost:8080/",
          "height": 34
        },
        "outputId": "f804bb10-5c3d-4591-d39d-e991bd94b8a9"
      },
      "source": [
        "# Path to fashion product images files on Google Drive\n",
        "\n",
        "DATASET_PATH = \"/content/drive/My Drive/Springboard Data Science/CapstoneTwo/fashion-product-images-small/myntradataset/\"\n",
        "print(os.listdir(DATASET_PATH))"
      ],
      "execution_count": null,
      "outputs": [
        {
          "output_type": "stream",
          "text": [
            "['images', 'styles.csv']\n"
          ],
          "name": "stdout"
        }
      ]
    },
    {
      "cell_type": "code",
      "metadata": {
        "id": "B_1LHdOTMVyN",
        "colab_type": "code",
        "colab": {
          "base_uri": "https://localhost:8080/",
          "height": 54
        },
        "outputId": "724fb9a6-7c37-4588-8dc9-9d5345a89eaa"
      },
      "source": [
        "# Reading df_style pandas dataframe which contains images attributes\n",
        "\n",
        "df_styles = pd.read_csv(DATASET_PATH + 'styles.csv', error_bad_lines=False)\n",
        "df_styles['image'] = df_styles.apply(lambda row: str(row['id']) + \".jpg\", axis=1)\n",
        "#df_styles['image'] = df_styles.id.apply(lambda row: \"%s.jpg\" % row)\n",
        "\n",
        "df_styles['masterCategory'] = df_styles.masterCategory.apply(lambda row: 'NA' if row is np.nan else row)"
      ],
      "execution_count": null,
      "outputs": [
        {
          "output_type": "stream",
          "text": [
            "b'Skipping line 6044: expected 10 fields, saw 11\\nSkipping line 6569: expected 10 fields, saw 11\\nSkipping line 7399: expected 10 fields, saw 11\\nSkipping line 7939: expected 10 fields, saw 11\\nSkipping line 9026: expected 10 fields, saw 11\\nSkipping line 10264: expected 10 fields, saw 11\\nSkipping line 10427: expected 10 fields, saw 11\\nSkipping line 10905: expected 10 fields, saw 11\\nSkipping line 11373: expected 10 fields, saw 11\\nSkipping line 11945: expected 10 fields, saw 11\\nSkipping line 14112: expected 10 fields, saw 11\\nSkipping line 14532: expected 10 fields, saw 11\\nSkipping line 15076: expected 10 fields, saw 12\\nSkipping line 29906: expected 10 fields, saw 11\\nSkipping line 31625: expected 10 fields, saw 11\\nSkipping line 33020: expected 10 fields, saw 11\\nSkipping line 35748: expected 10 fields, saw 11\\nSkipping line 35962: expected 10 fields, saw 11\\nSkipping line 37770: expected 10 fields, saw 11\\nSkipping line 38105: expected 10 fields, saw 11\\nSkipping line 38275: expected 10 fields, saw 11\\nSkipping line 38404: expected 10 fields, saw 12\\n'\n"
          ],
          "name": "stderr"
        }
      ]
    },
    {
      "cell_type": "code",
      "metadata": {
        "id": "ro_C6N_VMb2N",
        "colab_type": "code",
        "colab": {}
      },
      "source": [
        "# There is only one sample in the Home category.  It will be omitted.\n",
        "df_styles_labels = df_styles[df_styles.masterCategory != 'Home']"
      ],
      "execution_count": null,
      "outputs": []
    },
    {
      "cell_type": "markdown",
      "metadata": {
        "id": "gh5ZCW8-Mxbp",
        "colab_type": "text"
      },
      "source": [
        "Splitting dataset into train, validation and test subsets where each subset is stratisfied by the categorical values in the masterCategory column of the df_styles dataframe.\n",
        "\n",
        "A control group is also created and saved as unseen data."
      ]
    },
    {
      "cell_type": "code",
      "metadata": {
        "id": "YZOoGw0cMgei",
        "colab_type": "code",
        "colab": {}
      },
      "source": [
        "def split_stratified_into_train_val_test(df_input, stratify_colname='y',\n",
        "                                         frac_train=0.60, frac_val=0.15, frac_test=0.25,\n",
        "                                         random_state=None):\n",
        "    '''\n",
        "    Splits a Pandas dataframe into three subsets (train, val, and test)\n",
        "    following fractional ratios provided by the user, where each subset is\n",
        "    stratified by the values in a specific column.\n",
        "    '''\n",
        "\n",
        "    if frac_train + frac_val + frac_test != 1.0:\n",
        "        raise ValueError('fractions %f, %f, %f do not add up to 1.0' % \\\n",
        "                         (frac_train, frac_val, frac_test))\n",
        "\n",
        "    if stratify_colname not in df_styles.columns:\n",
        "        raise ValueError('%s is not a column in the dataframe' % (stratify_colname))\n",
        "\n",
        "    X = df_input # Contains all columns.\n",
        "    y = df_input[[stratify_colname]] # Dataframe of just the column on which to stratify.\n",
        "\n",
        "    # Split original dataframe into train and temp dataframes.\n",
        "    df_train, df_temp, y_train, y_temp = train_test_split(X,\n",
        "                                                          y,\n",
        "                                                          stratify=y,\n",
        "                                                          test_size=(1.0 - frac_train),\n",
        "                                                          random_state=random_state)\n",
        "\n",
        "    # Split the temp dataframe into val and test dataframes.\n",
        "    relative_frac_test = frac_test / (frac_val + frac_test)\n",
        "    df_validation, df_test, y_validation, y_test = train_test_split(df_temp,\n",
        "                                                      y_temp,\n",
        "                                                      stratify=y_temp,\n",
        "                                                      test_size=relative_frac_test,\n",
        "                                                      random_state=random_state)\n",
        "\n",
        "    assert len(df_input) == len(df_train) + len(df_validation) + len(df_test)\n",
        "\n",
        "    return df_train, df_validation, df_test"
      ],
      "execution_count": null,
      "outputs": []
    },
    {
      "cell_type": "code",
      "metadata": {
        "id": "Ot13EI847KiT",
        "colab_type": "code",
        "colab": {}
      },
      "source": [
        "df_train, df_validation, df_test = \\\n",
        "    split_stratified_into_train_val_test(df_styles_labels, stratify_colname='masterCategory', frac_train=0.60, frac_val=0.15, frac_test=0.25)"
      ],
      "execution_count": null,
      "outputs": []
    },
    {
      "cell_type": "markdown",
      "metadata": {
        "id": "lpWpezFHNb3g",
        "colab_type": "text"
      },
      "source": [
        "# Sampling structure\n",
        "*   The train subset has 26653 samples.\n",
        "*   The validation subset has 6663 samples.\n",
        "*   The test subset has 7774 samples.\n",
        "*   The control group subset has 3333 samples\n",
        "\n"
      ]
    },
    {
      "cell_type": "code",
      "metadata": {
        "id": "cMig-1b47SFk",
        "colab_type": "code",
        "colab": {}
      },
      "source": [
        "y_test = df_test.masterCategory\n",
        "df_test_group, df_control_group, y_test_group, y_control_group = train_test_split(df_test, y_test, test_size=.30, stratify=y_test)"
      ],
      "execution_count": null,
      "outputs": []
    },
    {
      "cell_type": "code",
      "metadata": {
        "id": "XEC9BCcU_Jfe",
        "colab_type": "code",
        "colab": {
          "base_uri": "https://localhost:8080/",
          "height": 85
        },
        "outputId": "e5fd8a69-b2a1-4aec-8702-8ab9b8c2a078"
      },
      "source": [
        "print('The train subset has', len(df_train),'samples')\n",
        "print('The validation subset has', len(df_validation),'samples')\n",
        "print('The test group subset has', len(df_test_group),'samples')\n",
        "print('The control group subset has', len(df_control_group),'samples')"
      ],
      "execution_count": null,
      "outputs": [
        {
          "output_type": "stream",
          "text": [
            "The train subset has 26653 samples\n",
            "The validation subset has 6663 samples\n",
            "The test group subset has 7774 samples\n",
            "The control group subset has 3333 samples\n"
          ],
          "name": "stdout"
        }
      ]
    },
    {
      "cell_type": "code",
      "metadata": {
        "id": "LIinTRl1MuV8",
        "colab_type": "code",
        "colab": {}
      },
      "source": [
        "# Path to images folder\n",
        "images_data = DATASET_PATH+\"images/\""
      ],
      "execution_count": null,
      "outputs": []
    },
    {
      "cell_type": "code",
      "metadata": {
        "id": "Cc5V1y54OEa_",
        "colab_type": "code",
        "colab": {
          "base_uri": "https://localhost:8080/",
          "height": 34
        },
        "outputId": "b1fcdaa8-4d85-4cf5-f69b-c362baa73fee"
      },
      "source": [
        "# number of classes in masterCategory column of df_train\n",
        "K = len(set(df_train.iloc[:,2]))\n",
        "print('The number of classes is', K)"
      ],
      "execution_count": null,
      "outputs": [
        {
          "output_type": "stream",
          "text": [
            "The number of classes is 6\n"
          ],
          "name": "stdout"
        }
      ]
    },
    {
      "cell_type": "markdown",
      "metadata": {
        "id": "OYQxG_EzOlXj",
        "colab_type": "text"
      },
      "source": [
        "# Building the Convolutional Neural Network Model\n",
        "\n",
        "The input image is 80x60 in size with a RGB channel. We will build a CNN model with a convolution + pooling architecture, followed by a number of fully connected Dense layers. \n",
        "\n",
        "The activation function for the convolutional layers will be ReLU ((Rectified Linear Units). \n",
        "\n",
        "The output layer will utilize a softmax activiation function for the multiclass classification.\n",
        "\n",
        "The hyperparameters that will be used are:\n",
        "MaxPooling2d(2, 2) which extracts certain features from the image and reduces its height and the width. By using 2 pooling layers, the height and width are 1/4 of the original sizes.\n",
        "\n",
        "BatchNormalization which regularizes and makes the training of convolutional neural networks more efficient.\n",
        "\n",
        "Dropout to avoid overfitting"
      ]
    },
    {
      "cell_type": "code",
      "metadata": {
        "id": "E45tmghlM1ae",
        "colab_type": "code",
        "colab": {}
      },
      "source": [
        "# Build the convolutional Neural Network model using the functional API\n",
        "\n",
        "# Input node. image shape: 80 x 60 x 3 RGB channels\n",
        "i= Input(shape=(80, 60, 3))\n",
        "\n",
        "\n",
        "# 2D convolutional layer with 2 spatial dimensions (height and width)\n",
        "# Using more filters results in a more powerful model, but we risk overfitting due to increased parameter count.\n",
        "# 32 initial output feature maps that will progressively increase with network depth. (Starts low to check for overfitting)\n",
        "# A 3D filter with 3x3x3 dimensions\n",
        "# A ReLU activation funcion\n",
        "\n",
        "x = Conv2D(32, (3, 3), activation='relu', padding='valid')(i)\n",
        "x = BatchNormalization()(x)\n",
        "x = Conv2D(32, (3, 3), activation='relu', padding='valid')(x)\n",
        "x = BatchNormalization()(x)\n",
        "\n",
        "# Pooling layer to reduce dimensionality (max pooling takes the maximum value in the pooling window)\n",
        "x = MaxPooling2D((2, 2))(x)\n",
        "x = Dropout(0.2)(x)\n",
        "\n",
        "#Second convolutinal layer with increased number of feature maps\n",
        "x = Conv2D(64, (3, 3), activation='relu', padding='valid')(x)\n",
        "x = BatchNormalization()(x)\n",
        "x = Conv2D(64, (3, 3), activation='relu', padding='valid')(x)\n",
        "x = BatchNormalization()(x)\n",
        "x = MaxPooling2D((2, 2))(x)\n",
        "x = Dropout(0.2)(x)\n",
        "\n",
        "#Third convolutinal layer with increased number of feature maps\n",
        "x = Conv2D(128, (3, 3), activation='relu', padding='valid')(x)\n",
        "x = BatchNormalization()(x)\n",
        "x = Conv2D(128, (3, 3), activation='relu', padding='valid')(x)\n",
        "x = BatchNormalization()(x)\n",
        "x = MaxPooling2D((2, 2))(x)\n",
        "x = Dropout(0.2)(x)\n",
        "\n",
        "# Converting layer to 1 dimensional layer\n",
        "x = Flatten()(x)\n",
        "x = Dropout(0.2)(x)\n",
        "\n",
        "# Fully connected layer\n",
        "x = Dense(1024, activation='relu')(x)\n",
        "x = Dropout(0.2)(x)\n",
        "\n",
        "# Fully connected layer with Softmax activation function for multiclass classification probability\n",
        "x = Dense(K, activation='softmax')(x)\n",
        "\n",
        "model = Model(i, x)"
      ],
      "execution_count": null,
      "outputs": []
    },
    {
      "cell_type": "markdown",
      "metadata": {
        "id": "BaU4uBghOo89",
        "colab_type": "text"
      },
      "source": [
        "# Mapping images to MasterCategory classes in df_styles using ImageDataGenerator"
      ]
    },
    {
      "cell_type": "code",
      "metadata": {
        "id": "71yV73wbM8Fl",
        "colab_type": "code",
        "colab": {
          "base_uri": "https://localhost:8080/",
          "height": 156
        },
        "outputId": "8406e24b-c2ba-4193-e69d-1b93e1751889"
      },
      "source": [
        "# Using ImageDataGenerator to correlate images from image folder to masterCategory column in df_train, df_validation an df_test \n",
        "\n",
        "from keras.preprocessing.image import ImageDataGenerator\n",
        "HEIGHT = 80\n",
        "WIDTH = 60\n",
        "batch_size = 32\n",
        "datagen = ImageDataGenerator(rescale=1./255)\n",
        "test_datagen = ImageDataGenerator(rescale=1./255)\n",
        "\n",
        "train_generator=datagen.flow_from_dataframe(\n",
        "                    dataframe=df_train,\n",
        "                    directory=images_data,\n",
        "                    x_col=\"image\",\n",
        "                    y_col=\"masterCategory\",\n",
        "                    batch_size=batch_size,\n",
        "                    seed=42,\n",
        "                    shuffle=True,\n",
        "                    class_mode=\"categorical\",\n",
        "                    classes=['Footwear', 'Apparel', 'Accessories', 'Personal Care','Free Items','Sporting Goods'],\n",
        "                    target_size=(HEIGHT,WIDTH))\n",
        "\n",
        "valid_generator=test_datagen.flow_from_dataframe(\n",
        "                    dataframe=df_validation,\n",
        "                    directory=images_data,\n",
        "                    x_col=\"image\",\n",
        "                    y_col=\"masterCategory\",\n",
        "                    batch_size=batch_size,\n",
        "                    seed=42,\n",
        "                    shuffle=True,\n",
        "                    class_mode=\"categorical\",\n",
        "                    classes=['Footwear', 'Apparel', 'Accessories', 'Personal Care', 'Free Items','Sporting Goods'],\n",
        "                    target_size=(HEIGHT,WIDTH))\n",
        "\n",
        "test_generator=test_datagen.flow_from_dataframe(\n",
        "                    dataframe=df_test_group,\n",
        "                    directory=images_data,\n",
        "                    x_col=\"image\",\n",
        "                    batch_size=1,\n",
        "                    seed=42,\n",
        "                    shuffle=False,\n",
        "                    class_mode=None,\n",
        "                    target_size=(HEIGHT,WIDTH))"
      ],
      "execution_count": null,
      "outputs": [
        {
          "output_type": "stream",
          "text": [
            "/usr/local/lib/python3.6/dist-packages/keras_preprocessing/image/dataframe_iterator.py:282: UserWarning: Found 2 invalid image filename(s) in x_col=\"image\". These filename(s) will be ignored.\n",
            "  .format(n_invalid, x_col)\n"
          ],
          "name": "stderr"
        },
        {
          "output_type": "stream",
          "text": [
            "Found 26651 validated image filenames belonging to 6 classes.\n",
            "Found 6661 validated image filenames belonging to 6 classes.\n",
            "Found 7773 validated image filenames.\n"
          ],
          "name": "stdout"
        },
        {
          "output_type": "stream",
          "text": [
            "/usr/local/lib/python3.6/dist-packages/keras_preprocessing/image/dataframe_iterator.py:282: UserWarning: Found 1 invalid image filename(s) in x_col=\"image\". These filename(s) will be ignored.\n",
            "  .format(n_invalid, x_col)\n"
          ],
          "name": "stderr"
        }
      ]
    },
    {
      "cell_type": "markdown",
      "metadata": {
        "id": "7S9STitEZox9",
        "colab_type": "text"
      },
      "source": [
        "# Model using stochastic gradient descent (SGD) optimizer"
      ]
    },
    {
      "cell_type": "code",
      "metadata": {
        "id": "1ow967TqND3K",
        "colab_type": "code",
        "colab": {}
      },
      "source": [
        "# Compiling the model\n",
        "# Learning rate defaults to 0.01\n",
        "\n",
        "model.compile(optimizer='sgd',\n",
        "              loss='categorical_crossentropy',\n",
        "              metrics=['accuracy'])"
      ],
      "execution_count": null,
      "outputs": []
    },
    {
      "cell_type": "code",
      "metadata": {
        "id": "YTiWGZ8VNRYv",
        "colab_type": "code",
        "colab": {
          "base_uri": "https://localhost:8080/",
          "height": 697
        },
        "outputId": "76212488-8f06-4012-8ebb-56d9ef171a38"
      },
      "source": [
        "# Fitting the model\n",
        "model_output = model.fit(train_generator, validation_data=valid_generator, steps_per_epoch=int(train_generator.samples)/ batch_size, epochs=20)"
      ],
      "execution_count": null,
      "outputs": [
        {
          "output_type": "stream",
          "text": [
            "Epoch 1/20\n",
            "833/832 [==============================] - 7420s 9s/step - loss: 0.2527 - accuracy: 0.9278 - val_loss: 1.4355 - val_accuracy: 0.7054\n",
            "Epoch 2/20\n",
            "833/832 [==============================] - 139s 167ms/step - loss: 0.1591 - accuracy: 0.9520 - val_loss: 0.1715 - val_accuracy: 0.9517\n",
            "Epoch 3/20\n",
            "833/832 [==============================] - 138s 165ms/step - loss: 0.1294 - accuracy: 0.9613 - val_loss: 0.3121 - val_accuracy: 0.8837\n",
            "Epoch 4/20\n",
            "833/832 [==============================] - 138s 166ms/step - loss: 0.1080 - accuracy: 0.9669 - val_loss: 0.1990 - val_accuracy: 0.9300\n",
            "Epoch 5/20\n",
            "833/832 [==============================] - 139s 167ms/step - loss: 0.0966 - accuracy: 0.9719 - val_loss: 0.3224 - val_accuracy: 0.8821\n",
            "Epoch 6/20\n",
            "833/832 [==============================] - 142s 170ms/step - loss: 0.0885 - accuracy: 0.9738 - val_loss: 0.1298 - val_accuracy: 0.9622\n",
            "Epoch 7/20\n",
            "833/832 [==============================] - 142s 171ms/step - loss: 0.0791 - accuracy: 0.9765 - val_loss: 0.1469 - val_accuracy: 0.9656\n",
            "Epoch 8/20\n",
            "833/832 [==============================] - 140s 169ms/step - loss: 0.0727 - accuracy: 0.9787 - val_loss: 0.0967 - val_accuracy: 0.9740\n",
            "Epoch 9/20\n",
            "833/832 [==============================] - 139s 167ms/step - loss: 0.0680 - accuracy: 0.9807 - val_loss: 0.1603 - val_accuracy: 0.9479\n",
            "Epoch 10/20\n",
            "833/832 [==============================] - 142s 171ms/step - loss: 0.0629 - accuracy: 0.9813 - val_loss: 0.0980 - val_accuracy: 0.9697\n",
            "Epoch 11/20\n",
            "833/832 [==============================] - 141s 169ms/step - loss: 0.0583 - accuracy: 0.9834 - val_loss: 0.2023 - val_accuracy: 0.9360\n",
            "Epoch 12/20\n",
            "833/832 [==============================] - 140s 168ms/step - loss: 0.0565 - accuracy: 0.9833 - val_loss: 0.1074 - val_accuracy: 0.9677\n",
            "Epoch 13/20\n",
            "833/832 [==============================] - 142s 170ms/step - loss: 0.0527 - accuracy: 0.9848 - val_loss: 0.0722 - val_accuracy: 0.9821\n",
            "Epoch 14/20\n",
            "833/832 [==============================] - 144s 173ms/step - loss: 0.0496 - accuracy: 0.9854 - val_loss: 0.3442 - val_accuracy: 0.9000\n",
            "Epoch 15/20\n",
            "833/832 [==============================] - 144s 173ms/step - loss: 0.0461 - accuracy: 0.9865 - val_loss: 0.0766 - val_accuracy: 0.9784\n",
            "Epoch 16/20\n",
            "833/832 [==============================] - 142s 171ms/step - loss: 0.0462 - accuracy: 0.9868 - val_loss: 0.1260 - val_accuracy: 0.9662\n",
            "Epoch 17/20\n",
            "833/832 [==============================] - 144s 173ms/step - loss: 0.0428 - accuracy: 0.9878 - val_loss: 0.0652 - val_accuracy: 0.9832\n",
            "Epoch 18/20\n",
            "833/832 [==============================] - 144s 173ms/step - loss: 0.0408 - accuracy: 0.9883 - val_loss: 0.0661 - val_accuracy: 0.9839\n",
            "Epoch 19/20\n",
            "833/832 [==============================] - 145s 174ms/step - loss: 0.0392 - accuracy: 0.9889 - val_loss: 0.1304 - val_accuracy: 0.9604\n",
            "Epoch 20/20\n",
            "833/832 [==============================] - 142s 171ms/step - loss: 0.0389 - accuracy: 0.9885 - val_loss: 0.1757 - val_accuracy: 0.9419\n"
          ],
          "name": "stdout"
        }
      ]
    },
    {
      "cell_type": "code",
      "metadata": {
        "id": "7ZZgWksOXl-d",
        "colab_type": "code",
        "colab": {
          "base_uri": "https://localhost:8080/",
          "height": 282
        },
        "outputId": "d801c5d7-be3d-4746-eb38-125ddf03da42"
      },
      "source": [
        "# Plot loss per iteration\n",
        "plt.plot(model_output.history['loss'], label='loss')\n",
        "plt.plot(model_output.history['val_loss'], label='val_loss')\n",
        "plt.legend()"
      ],
      "execution_count": null,
      "outputs": [
        {
          "output_type": "execute_result",
          "data": {
            "text/plain": [
              "<matplotlib.legend.Legend at 0x7faa9867a358>"
            ]
          },
          "metadata": {
            "tags": []
          },
          "execution_count": 86
        },
        {
          "output_type": "display_data",
          "data": {
            "image/png": "[encoded data removed]",
            "text/plain": [
              "<Figure size 432x288 with 1 Axes>"
            ]
          },
          "metadata": {
            "tags": [],
            "needs_background": "light"
          }
        }
      ]
    },
    {
      "cell_type": "code",
      "metadata": {
        "id": "D2HGg5z6X3EP",
        "colab_type": "code",
        "colab": {
          "base_uri": "https://localhost:8080/",
          "height": 284
        },
        "outputId": "31d42dbd-ca21-4bbd-fe6e-d23353774a8d"
      },
      "source": [
        "# Plot accuracy per iteration\n",
        "plt.plot(model_output.history['accuracy'], label='acc')\n",
        "plt.plot(model_output.history['val_accuracy'], label='val_acc')\n",
        "plt.legend()"
      ],
      "execution_count": null,
      "outputs": [
        {
          "output_type": "execute_result",
          "data": {
            "text/plain": [
              "<matplotlib.legend.Legend at 0x7faa986af908>"
            ]
          },
          "metadata": {
            "tags": []
          },
          "execution_count": 87
        },
        {
          "output_type": "display_data",
          "data": {
            "image/png": "[encoded data removed]",
            "text/plain": [
              "<Figure size 432x288 with 1 Axes>"
            ]
          },
          "metadata": {
            "tags": [],
            "needs_background": "light"
          }
        }
      ]
    },
    {
      "cell_type": "code",
      "metadata": {
        "id": "zpc2dRDHYCT0",
        "colab_type": "code",
        "colab": {
          "base_uri": "https://localhost:8080/",
          "height": 447
        },
        "outputId": "77c7fba1-457f-4a28-c43f-adc1e6f24ed0"
      },
      "source": [
        "# Plot confusion matrix\n",
        "from sklearn.metrics import confusion_matrix\n",
        "import itertools\n",
        "\n",
        "def plot_confusion_matrix(cm, classes,\n",
        "                          normalize=False,\n",
        "                          title='Confusion matrix',\n",
        "                          cmap=plt.cm.Blues):\n",
        "  \"\"\"\n",
        "  This function prints and plots the confusion matrix.\n",
        "  Normalization can be applied by setting `normalize=True`.\n",
        "  \"\"\"\n",
        "  if normalize:\n",
        "      cm = cm.astype('float') / cm.sum(axis=1)[:, np.newaxis]\n",
        "      print(\"Normalized confusion matrix\")\n",
        "  else:\n",
        "      print('Confusion matrix, without normalization')\n",
        "\n",
        "  print(cm)\n",
        "\n",
        "  plt.imshow(cm, interpolation='nearest', cmap=cmap)\n",
        "  plt.title(title)\n",
        "  plt.colorbar()\n",
        "  tick_marks = np.arange(len(classes))\n",
        "  plt.xticks(tick_marks, classes, rotation=45)\n",
        "  plt.yticks(tick_marks, classes)\n",
        "\n",
        "  fmt = '.2f' if normalize else 'd'\n",
        "  thresh = cm.max() / 2.\n",
        "  for i, j in itertools.product(range(cm.shape[0]), range(cm.shape[1])):\n",
        "      plt.text(j, i, format(cm[i, j], fmt),\n",
        "               horizontalalignment=\"center\",\n",
        "               color=\"white\" if cm[i, j] > thresh else \"black\")\n",
        "\n",
        "  plt.tight_layout()\n",
        "  plt.ylabel('True label')\n",
        "  plt.xlabel('Predicted label')\n",
        "  plt.show()\n",
        "\n",
        "valid_generator.reset()\n",
        "valid_steps_per_epoch = np.math.ceil(valid_generator.samples / valid_generator.batch_size)\n",
        "p_test=model.predict(valid_generator,verbose=1,steps=valid_steps_per_epoch).argmax(axis=1)\n",
        "\n",
        "cm = confusion_matrix(valid_generator.classes, p_test)\n",
        "plot_confusion_matrix(cm, list(range(6)))"
      ],
      "execution_count": null,
      "outputs": [
        {
          "output_type": "stream",
          "text": [
            "209/209 [==============================] - 28s 133ms/step\n",
            "Confusion matrix, without normalization\n",
            "[[ 405  822  384    0   79    1]\n",
            " [ 783 1604  706    0  114    0]\n",
            " [ 322  689  319    0   53    0]\n",
            " [   3   12    1    0    0    0]\n",
            " [ 102  174   70    0   14    0]\n",
            " [   0    2    2    0    0    0]]\n"
          ],
          "name": "stdout"
        },
        {
          "output_type": "display_data",
          "data": {
            "image/png": "[encoded data removed]",
            "text/plain": [
              "<Figure size 432x288 with 2 Axes>"
            ]
          },
          "metadata": {
            "tags": [],
            "needs_background": "light"
          }
        }
      ]
    },
    {
      "cell_type": "code",
      "metadata": {
        "id": "gaS5-v84ZF9L",
        "colab_type": "code",
        "colab": {}
      },
      "source": [
        "# Build the convolutional Neural Network model using the functional API\n",
        "\n",
        "# Input node. image shape: 80 x 60 x 3 RGB channels\n",
        "i= Input(shape=(80, 60, 3))\n",
        "\n",
        "\n",
        "# 2D convolutional layer with 2 spatial dimensions (height and width)\n",
        "# Using more filters results in a more powerful model, but we risk overfitting due to increased parameter count.\n",
        "# 32 initial output feature maps that will progressively increase with network depth. (Starts low to check for overfitting)\n",
        "# A 3D filter with 3x3x3 dimensions\n",
        "# A ReLU activation funcion\n",
        "\n",
        "x = Conv2D(32, (3, 3), activation='relu', padding='valid')(i)\n",
        "x = BatchNormalization()(x)\n",
        "x = Conv2D(32, (3, 3), activation='relu', padding='valid')(x)\n",
        "x = BatchNormalization()(x)\n",
        "\n",
        "# Pooling layer to reduce dimensionality (max pooling takes the maximum value in the pooling window)\n",
        "x = MaxPooling2D((2, 2))(x)\n",
        "x = Dropout(0.2)(x)\n",
        "\n",
        "#Second convolutinal layer with increased number of feature maps\n",
        "x = Conv2D(64, (3, 3), activation='relu', padding='valid')(x)\n",
        "x = BatchNormalization()(x)\n",
        "x = Conv2D(64, (3, 3), activation='relu', padding='valid')(x)\n",
        "x = BatchNormalization()(x)\n",
        "x = MaxPooling2D((2, 2))(x)\n",
        "x = Dropout(0.2)(x)\n",
        "\n",
        "#Third convolutinal layer with increased number of feature maps\n",
        "x = Conv2D(128, (3, 3), activation='relu', padding='valid')(x)\n",
        "x = BatchNormalization()(x)\n",
        "x = Conv2D(128, (3, 3), activation='relu', padding='valid')(x)\n",
        "x = BatchNormalization()(x)\n",
        "x = MaxPooling2D((2, 2))(x)\n",
        "x = Dropout(0.2)(x)\n",
        "\n",
        "# Converting layer to 1 dimensional layer\n",
        "x = Flatten()(x)\n",
        "x = Dropout(0.2)(x)\n",
        "\n",
        "# Fully connected layer\n",
        "x = Dense(1024, activation='relu')(x)\n",
        "x = Dropout(0.2)(x)\n",
        "\n",
        "# Fully connected layer with Softmax activation function for multiclass classification probability\n",
        "x = Dense(K, activation='softmax')(x)\n",
        "\n",
        "model_2 = Model(i, x)"
      ],
      "execution_count": null,
      "outputs": []
    },
    {
      "cell_type": "code",
      "metadata": {
        "id": "t4Qmv7JwaG4B",
        "colab_type": "code",
        "colab": {
          "base_uri": "https://localhost:8080/",
          "height": 156
        },
        "outputId": "c222cb51-abc2-4053-d00b-c3a01eb8fe44"
      },
      "source": [
        "# Using ImageDataGenerator to correlate images from image folder to masterCategory column in df_train, df_validation an df_test \n",
        "\n",
        "from keras.preprocessing.image import ImageDataGenerator\n",
        "HEIGHT = 80\n",
        "WIDTH = 60\n",
        "batch_size = 32\n",
        "datagen = ImageDataGenerator(rescale=1./255)\n",
        "test_datagen = ImageDataGenerator(rescale=1./255)\n",
        "\n",
        "train_generator=datagen.flow_from_dataframe(\n",
        "                    dataframe=df_train,\n",
        "                    directory=images_data,\n",
        "                    x_col=\"image\",\n",
        "                    y_col=\"masterCategory\",\n",
        "                    batch_size=batch_size,\n",
        "                    seed=42,\n",
        "                    shuffle=True,\n",
        "                    class_mode=\"categorical\",\n",
        "                    classes=['Footwear', 'Apparel', 'Accessories', 'Personal Care','Free Items','Sporting Goods'],\n",
        "                    target_size=(HEIGHT,WIDTH))\n",
        "\n",
        "valid_generator=test_datagen.flow_from_dataframe(\n",
        "                    dataframe=df_validation,\n",
        "                    directory=images_data,\n",
        "                    x_col=\"image\",\n",
        "                    y_col=\"masterCategory\",\n",
        "                    batch_size=batch_size,\n",
        "                    seed=42,\n",
        "                    shuffle=True,\n",
        "                    class_mode=\"categorical\",\n",
        "                    classes=['Footwear', 'Apparel', 'Accessories', 'Personal Care', 'Free Items','Sporting Goods'],\n",
        "                    target_size=(HEIGHT,WIDTH))\n",
        "\n",
        "test_generator=test_datagen.flow_from_dataframe(\n",
        "                    dataframe=df_test_group,\n",
        "                    directory=images_data,\n",
        "                    x_col=\"image\",\n",
        "                    batch_size=1,\n",
        "                    seed=42,\n",
        "                    shuffle=False,\n",
        "                    class_mode=None,\n",
        "                    target_size=(HEIGHT,WIDTH))"
      ],
      "execution_count": null,
      "outputs": [
        {
          "output_type": "stream",
          "text": [
            "/usr/local/lib/python3.6/dist-packages/keras_preprocessing/image/dataframe_iterator.py:282: UserWarning: Found 2 invalid image filename(s) in x_col=\"image\". These filename(s) will be ignored.\n",
            "  .format(n_invalid, x_col)\n"
          ],
          "name": "stderr"
        },
        {
          "output_type": "stream",
          "text": [
            "Found 26651 validated image filenames belonging to 6 classes.\n",
            "Found 6661 validated image filenames belonging to 6 classes.\n",
            "Found 7773 validated image filenames.\n"
          ],
          "name": "stdout"
        },
        {
          "output_type": "stream",
          "text": [
            "/usr/local/lib/python3.6/dist-packages/keras_preprocessing/image/dataframe_iterator.py:282: UserWarning: Found 1 invalid image filename(s) in x_col=\"image\". These filename(s) will be ignored.\n",
            "  .format(n_invalid, x_col)\n"
          ],
          "name": "stderr"
        }
      ]
    },
    {
      "cell_type": "markdown",
      "metadata": {
        "id": "7t_bayAyPlY9",
        "colab_type": "text"
      },
      "source": [
        "#Model using stochastic gradient descent (SGD) optimizer and a learning rate scheduler\n",
        "*   Exponential decay learning schedule\n",
        "*   Initial learning rate of 1e-2\n",
        "\n"
      ]
    },
    {
      "cell_type": "code",
      "metadata": {
        "id": "BMSiVo3haREv",
        "colab_type": "code",
        "colab": {}
      },
      "source": [
        "# Compiling the model\n",
        "from tensorflow import keras\n",
        "\n",
        "lr_schedule = keras.optimizers.schedules.ExponentialDecay(\n",
        "    initial_learning_rate=1e-2,\n",
        "    decay_steps=10000,\n",
        "    decay_rate=0.9)\n",
        "optimizer = keras.optimizers.sgd(learning_rate=lr_schedule)\n",
        "\n",
        "model_2.compile(optimizer=optimizer,\n",
        "              loss='categorical_crossentropy',\n",
        "              metrics=['accuracy'])"
      ],
      "execution_count": null,
      "outputs": []
    },
    {
      "cell_type": "markdown",
      "metadata": {
        "id": "ePPRYW0uRFrq",
        "colab_type": "text"
      },
      "source": [
        "A callback object is created to stop training when there is no improvement in the validation loss after 3 consecutive epochs."
      ]
    },
    {
      "cell_type": "code",
      "metadata": {
        "id": "8Hr5aVfChD8P",
        "colab_type": "code",
        "colab": {
          "base_uri": "https://localhost:8080/",
          "height": 1000
        },
        "outputId": "b2e7f149-13d1-4aa4-9169-13f27f076d53"
      },
      "source": [
        "#Setting a callback \n",
        "callback = tf.keras.callbacks.EarlyStopping(monitor='loss', patience=3)\n",
        "\n",
        "# Fitting the model\n",
        "model_output_2 = model_2.fit(train_generator, validation_data=valid_generator, \n",
        "                         steps_per_epoch=int(train_generator.samples)/ batch_size, epochs=100, callbacks=[callback] )\n",
        "\n"
      ],
      "execution_count": null,
      "outputs": [
        {
          "output_type": "stream",
          "text": [
            "Epoch 1/100\n",
            "833/832 [==============================] - 144s 173ms/step - loss: 0.3248 - accuracy: 0.9051 - val_loss: 0.1756 - val_accuracy: 0.9460\n",
            "Epoch 2/100\n",
            "833/832 [==============================] - 142s 170ms/step - loss: 0.1492 - accuracy: 0.9536 - val_loss: 0.3486 - val_accuracy: 0.8752\n",
            "Epoch 3/100\n",
            "833/832 [==============================] - 142s 171ms/step - loss: 0.1143 - accuracy: 0.9656 - val_loss: 0.2884 - val_accuracy: 0.9012\n",
            "Epoch 4/100\n",
            "833/832 [==============================] - 143s 172ms/step - loss: 0.0996 - accuracy: 0.9698 - val_loss: 0.1377 - val_accuracy: 0.9580\n",
            "Epoch 5/100\n",
            "833/832 [==============================] - 140s 168ms/step - loss: 0.0883 - accuracy: 0.9735 - val_loss: 0.1048 - val_accuracy: 0.9707\n",
            "Epoch 6/100\n",
            "833/832 [==============================] - 141s 169ms/step - loss: 0.0784 - accuracy: 0.9760 - val_loss: 0.0992 - val_accuracy: 0.9725\n",
            "Epoch 7/100\n",
            "833/832 [==============================] - 143s 172ms/step - loss: 0.0694 - accuracy: 0.9795 - val_loss: 0.0696 - val_accuracy: 0.9796\n",
            "Epoch 8/100\n",
            "833/832 [==============================] - 144s 173ms/step - loss: 0.0652 - accuracy: 0.9807 - val_loss: 0.1024 - val_accuracy: 0.9656\n",
            "Epoch 9/100\n",
            "833/832 [==============================] - 145s 174ms/step - loss: 0.0612 - accuracy: 0.9826 - val_loss: 0.0755 - val_accuracy: 0.9812\n",
            "Epoch 10/100\n",
            "833/832 [==============================] - 142s 170ms/step - loss: 0.0551 - accuracy: 0.9843 - val_loss: 0.0698 - val_accuracy: 0.9811\n",
            "Epoch 11/100\n",
            "833/832 [==============================] - 141s 170ms/step - loss: 0.0530 - accuracy: 0.9840 - val_loss: 0.0608 - val_accuracy: 0.9820\n",
            "Epoch 12/100\n",
            "833/832 [==============================] - 141s 169ms/step - loss: 0.0494 - accuracy: 0.9850 - val_loss: 0.0698 - val_accuracy: 0.9824\n",
            "Epoch 13/100\n",
            "833/832 [==============================] - 140s 168ms/step - loss: 0.0465 - accuracy: 0.9863 - val_loss: 0.0741 - val_accuracy: 0.9806\n",
            "Epoch 14/100\n",
            "833/832 [==============================] - 140s 168ms/step - loss: 0.0440 - accuracy: 0.9871 - val_loss: 0.0889 - val_accuracy: 0.9773\n",
            "Epoch 15/100\n",
            "833/832 [==============================] - 143s 172ms/step - loss: 0.0402 - accuracy: 0.9881 - val_loss: 0.0605 - val_accuracy: 0.9848\n",
            "Epoch 16/100\n",
            "833/832 [==============================] - 148s 178ms/step - loss: 0.0384 - accuracy: 0.9888 - val_loss: 0.0587 - val_accuracy: 0.9850\n",
            "Epoch 17/100\n",
            "833/832 [==============================] - 149s 179ms/step - loss: 0.0383 - accuracy: 0.9882 - val_loss: 0.1214 - val_accuracy: 0.9716\n",
            "Epoch 18/100\n",
            "833/832 [==============================] - 149s 179ms/step - loss: 0.0353 - accuracy: 0.9900 - val_loss: 0.0546 - val_accuracy: 0.9865\n",
            "Epoch 19/100\n",
            "833/832 [==============================] - 147s 176ms/step - loss: 0.0335 - accuracy: 0.9900 - val_loss: 0.1351 - val_accuracy: 0.9578\n",
            "Epoch 20/100\n",
            "833/832 [==============================] - 148s 178ms/step - loss: 0.0304 - accuracy: 0.9911 - val_loss: 0.0872 - val_accuracy: 0.9787\n",
            "Epoch 21/100\n",
            "833/832 [==============================] - 142s 170ms/step - loss: 0.0305 - accuracy: 0.9906 - val_loss: 0.1424 - val_accuracy: 0.9514\n",
            "Epoch 22/100\n",
            "833/832 [==============================] - 141s 169ms/step - loss: 0.0276 - accuracy: 0.9918 - val_loss: 0.0549 - val_accuracy: 0.9868\n",
            "Epoch 23/100\n",
            "833/832 [==============================] - 141s 169ms/step - loss: 0.0277 - accuracy: 0.9917 - val_loss: 0.0539 - val_accuracy: 0.9863\n",
            "Epoch 24/100\n",
            "833/832 [==============================] - 142s 171ms/step - loss: 0.0252 - accuracy: 0.9923 - val_loss: 0.0732 - val_accuracy: 0.9767\n",
            "Epoch 25/100\n",
            "833/832 [==============================] - 143s 171ms/step - loss: 0.0248 - accuracy: 0.9929 - val_loss: 0.0954 - val_accuracy: 0.9706\n",
            "Epoch 26/100\n",
            "833/832 [==============================] - 143s 172ms/step - loss: 0.0242 - accuracy: 0.9927 - val_loss: 0.0948 - val_accuracy: 0.9701\n",
            "Epoch 27/100\n",
            "833/832 [==============================] - 141s 169ms/step - loss: 0.0220 - accuracy: 0.9935 - val_loss: 0.0521 - val_accuracy: 0.9866\n",
            "Epoch 28/100\n",
            "833/832 [==============================] - 143s 171ms/step - loss: 0.0218 - accuracy: 0.9930 - val_loss: 0.0580 - val_accuracy: 0.9859\n",
            "Epoch 29/100\n",
            "833/832 [==============================] - 144s 173ms/step - loss: 0.0202 - accuracy: 0.9943 - val_loss: 0.1829 - val_accuracy: 0.9418\n",
            "Epoch 30/100\n",
            "833/832 [==============================] - 145s 174ms/step - loss: 0.0201 - accuracy: 0.9944 - val_loss: 0.0508 - val_accuracy: 0.9875\n",
            "Epoch 31/100\n",
            "833/832 [==============================] - 144s 173ms/step - loss: 0.0220 - accuracy: 0.9926 - val_loss: 0.0593 - val_accuracy: 0.9845\n",
            "Epoch 32/100\n",
            "833/832 [==============================] - 144s 173ms/step - loss: 0.0179 - accuracy: 0.9943 - val_loss: 0.0605 - val_accuracy: 0.9866\n",
            "Epoch 33/100\n",
            "833/832 [==============================] - 146s 175ms/step - loss: 0.0177 - accuracy: 0.9952 - val_loss: 0.0660 - val_accuracy: 0.9824\n",
            "Epoch 34/100\n",
            "833/832 [==============================] - 145s 174ms/step - loss: 0.0174 - accuracy: 0.9945 - val_loss: 0.0528 - val_accuracy: 0.9874\n",
            "Epoch 35/100\n",
            "833/832 [==============================] - 146s 175ms/step - loss: 0.0164 - accuracy: 0.9948 - val_loss: 0.0537 - val_accuracy: 0.9871\n",
            "Epoch 36/100\n",
            "833/832 [==============================] - 146s 175ms/step - loss: 0.0165 - accuracy: 0.9952 - val_loss: 0.0555 - val_accuracy: 0.9883\n",
            "Epoch 37/100\n",
            "833/832 [==============================] - 149s 179ms/step - loss: 0.0159 - accuracy: 0.9950 - val_loss: 0.0505 - val_accuracy: 0.9878\n",
            "Epoch 38/100\n",
            "833/832 [==============================] - 147s 176ms/step - loss: 0.0153 - accuracy: 0.9953 - val_loss: 0.0617 - val_accuracy: 0.9835\n",
            "Epoch 39/100\n",
            "833/832 [==============================] - 153s 184ms/step - loss: 0.0150 - accuracy: 0.9954 - val_loss: 0.0882 - val_accuracy: 0.9736\n",
            "Epoch 40/100\n",
            "833/832 [==============================] - 147s 176ms/step - loss: 0.0147 - accuracy: 0.9955 - val_loss: 0.0526 - val_accuracy: 0.9877\n",
            "Epoch 41/100\n",
            "833/832 [==============================] - 146s 175ms/step - loss: 0.0137 - accuracy: 0.9962 - val_loss: 0.0594 - val_accuracy: 0.9868\n",
            "Epoch 42/100\n",
            "833/832 [==============================] - 145s 175ms/step - loss: 0.0126 - accuracy: 0.9960 - val_loss: 0.0551 - val_accuracy: 0.9886\n",
            "Epoch 43/100\n",
            "833/832 [==============================] - 145s 174ms/step - loss: 0.0122 - accuracy: 0.9964 - val_loss: 0.0497 - val_accuracy: 0.9896\n",
            "Epoch 44/100\n",
            "833/832 [==============================] - 144s 172ms/step - loss: 0.0115 - accuracy: 0.9963 - val_loss: 0.0768 - val_accuracy: 0.9782\n",
            "Epoch 45/100\n",
            "833/832 [==============================] - 143s 172ms/step - loss: 0.0124 - accuracy: 0.9964 - val_loss: 0.0519 - val_accuracy: 0.9883\n",
            "Epoch 46/100\n",
            "833/832 [==============================] - 140s 168ms/step - loss: 0.0122 - accuracy: 0.9969 - val_loss: 0.0689 - val_accuracy: 0.9866\n",
            "Epoch 47/100\n",
            "833/832 [==============================] - 140s 168ms/step - loss: 0.0129 - accuracy: 0.9960 - val_loss: 0.0532 - val_accuracy: 0.9881\n"
          ],
          "name": "stdout"
        }
      ]
    },
    {
      "cell_type": "code",
      "metadata": {
        "id": "cX7dlbes0jH5",
        "colab_type": "code",
        "colab": {
          "base_uri": "https://localhost:8080/",
          "height": 68
        },
        "outputId": "4bc24ae5-7103-4f4e-8e6d-1e36383b46fe"
      },
      "source": [
        "score = model_2.evaluate(valid_generator)\n",
        "print('Test loss:', score[0])\n",
        "print('Test accuracy:', score[1])"
      ],
      "execution_count": null,
      "outputs": [
        {
          "output_type": "stream",
          "text": [
            "209/209 [==============================] - 28s 135ms/step - loss: 0.0532 - accuracy: 0.9881\n",
            "Test loss: 0.05318356305360794\n",
            "Test accuracy: 0.9881399273872375\n"
          ],
          "name": "stdout"
        }
      ]
    },
    {
      "cell_type": "code",
      "metadata": {
        "id": "P8miciMBmQYj",
        "colab_type": "code",
        "colab": {
          "base_uri": "https://localhost:8080/",
          "height": 282
        },
        "outputId": "f438e086-ad25-4a0b-b13c-0cfd3c342bd4"
      },
      "source": [
        "# Plot loss per iteration\n",
        "plt.plot(model_output_2.history['loss'], label='loss')\n",
        "plt.plot(model_output_2.history['val_loss'], label='val_loss')\n",
        "plt.legend()"
      ],
      "execution_count": null,
      "outputs": [
        {
          "output_type": "execute_result",
          "data": {
            "text/plain": [
              "<matplotlib.legend.Legend at 0x7faa98c76860>"
            ]
          },
          "metadata": {
            "tags": []
          },
          "execution_count": 93
        },
        {
          "output_type": "display_data",
          "data": {
            "image/png": "[encoded data removed]",
            "text/plain": [
              "<Figure size 432x288 with 1 Axes>"
            ]
          },
          "metadata": {
            "tags": [],
            "needs_background": "light"
          }
        }
      ]
    },
    {
      "cell_type": "code",
      "metadata": {
        "id": "E4I-CmXWmdb-",
        "colab_type": "code",
        "colab": {
          "base_uri": "https://localhost:8080/",
          "height": 282
        },
        "outputId": "1d31a78c-3b89-4f91-c59d-5951301afb67"
      },
      "source": [
        "# Plot accuracy per iteration\n",
        "plt.plot(model_output_2.history['accuracy'], label='acc')\n",
        "plt.plot(model_output_2.history['val_accuracy'], label='val_acc')\n",
        "plt.legend()"
      ],
      "execution_count": null,
      "outputs": [
        {
          "output_type": "execute_result",
          "data": {
            "text/plain": [
              "<matplotlib.legend.Legend at 0x7faa98c64940>"
            ]
          },
          "metadata": {
            "tags": []
          },
          "execution_count": 94
        },
        {
          "output_type": "display_data",
          "data": {
            "image/png": "[encoded data removed]",
            "text/plain": [
              "<Figure size 432x288 with 1 Axes>"
            ]
          },
          "metadata": {
            "tags": [],
            "needs_background": "light"
          }
        }
      ]
    },
    {
      "cell_type": "code",
      "metadata": {
        "id": "lp3ZQhmSm3Jl",
        "colab_type": "code",
        "colab": {
          "base_uri": "https://localhost:8080/",
          "height": 447
        },
        "outputId": "ac2d4046-cbd1-414b-d276-3c14975f4e6a"
      },
      "source": [
        "# Plot confusion matrix\n",
        "from sklearn.metrics import confusion_matrix\n",
        "import itertools\n",
        "\n",
        "def plot_confusion_matrix(cm, classes,\n",
        "                          normalize=False,\n",
        "                          title='Confusion matrix',\n",
        "                          cmap=plt.cm.Blues):\n",
        "  \"\"\"\n",
        "  This function prints and plots the confusion matrix.\n",
        "  Normalization can be applied by setting `normalize=True`.\n",
        "  \"\"\"\n",
        "  if normalize:\n",
        "      cm = cm.astype('float') / cm.sum(axis=1)[:, np.newaxis]\n",
        "      print(\"Normalized confusion matrix\")\n",
        "  else:\n",
        "      print('Confusion matrix, without normalization')\n",
        "\n",
        "  print(cm)\n",
        "\n",
        "  plt.imshow(cm, interpolation='nearest', cmap=cmap)\n",
        "  plt.title(title)\n",
        "  plt.colorbar()\n",
        "  tick_marks = np.arange(len(classes))\n",
        "  plt.xticks(tick_marks, classes, rotation=45)\n",
        "  plt.yticks(tick_marks, classes)\n",
        "\n",
        "  fmt = '.2f' if normalize else 'd'\n",
        "  thresh = cm.max() / 2.\n",
        "  for i, j in itertools.product(range(cm.shape[0]), range(cm.shape[1])):\n",
        "      plt.text(j, i, format(cm[i, j], fmt),\n",
        "               horizontalalignment=\"center\",\n",
        "               color=\"white\" if cm[i, j] > thresh else \"black\")\n",
        "\n",
        "  plt.tight_layout()\n",
        "  plt.ylabel('True label')\n",
        "  plt.xlabel('Predicted label')\n",
        "  plt.show()\n",
        "\n",
        "valid_generator.reset()\n",
        "valid_steps_per_epoch = np.math.ceil(valid_generator.samples / valid_generator.batch_size)\n",
        "p_test=model_2.predict(valid_generator,verbose=1,steps=valid_steps_per_epoch).argmax(axis=1)\n",
        "\n",
        "cm = confusion_matrix(valid_generator.classes, p_test)\n",
        "plot_confusion_matrix(cm, list(range(6)))"
      ],
      "execution_count": null,
      "outputs": [
        {
          "output_type": "stream",
          "text": [
            "209/209 [==============================] - 27s 131ms/step\n",
            "Confusion matrix, without normalization\n",
            "[[ 420  815  364    4   87    1]\n",
            " [ 790 1567  657    2  190    1]\n",
            " [ 364  649  286    3   80    1]\n",
            " [   2   10    4    0    0    0]\n",
            " [ 102  174   64    1   19    0]\n",
            " [   1    1    2    0    0    0]]\n"
          ],
          "name": "stdout"
        },
        {
          "output_type": "display_data",
          "data": {
            "image/png": "[encoded data removed]",
            "text/plain": [
              "<Figure size 432x288 with 2 Axes>"
            ]
          },
          "metadata": {
            "tags": [],
            "needs_background": "light"
          }
        }
      ]
    },
    {
      "cell_type": "code",
      "metadata": {
        "id": "tdsWWQOM1cqG",
        "colab_type": "code",
        "colab": {
          "base_uri": "https://localhost:8080/",
          "height": 105
        },
        "outputId": "9e08a537-d9b3-4c9f-f101-6aef559b0c95"
      },
      "source": [
        "# saving the model\n",
        "model_2.save('/content/drive/My Drive/Springboard Data Science/CapstoneTwo/10model.h5')\n",
        "model_2.save('/content/drive/My Drive/Springboard Data Science/CapstoneTwo/10model')"
      ],
      "execution_count": null,
      "outputs": [
        {
          "output_type": "stream",
          "text": [
            "WARNING:tensorflow:From /usr/local/lib/python3.6/dist-packages/tensorflow/python/ops/resource_variable_ops.py:1817: calling BaseResourceVariable.__init__ (from tensorflow.python.ops.resource_variable_ops) with constraint is deprecated and will be removed in a future version.\n",
            "Instructions for updating:\n",
            "If using Keras pass *_constraint arguments to layers.\n",
            "INFO:tensorflow:Assets written to: /content/drive/My Drive/Springboard Data Science/CapstoneTwo/7model/assets\n"
          ],
          "name": "stdout"
        }
      ]
    },
    {
      "cell_type": "code",
      "metadata": {
        "id": "L85wF-d6UMou",
        "colab_type": "code",
        "colab": {}
      },
      "source": [
        "test_generator.reset()"
      ],
      "execution_count": null,
      "outputs": []
    },
    {
      "cell_type": "code",
      "metadata": {
        "id": "MQUYOauFUVnt",
        "colab_type": "code",
        "colab": {
          "base_uri": "https://localhost:8080/",
          "height": 34
        },
        "outputId": "a566f6ee-14cf-4746-adad-de913d0e3fd6"
      },
      "source": [
        "test_steps_per_epoch = np.math.ceil(test_generator.samples / test_generator.batch_size)\n",
        "pred=model_2.predict(test_generator,verbose=1,steps=test_steps_per_epoch)"
      ],
      "execution_count": null,
      "outputs": [
        {
          "output_type": "stream",
          "text": [
            "7773/7773 [==============================] - 1910s 246ms/step\n"
          ],
          "name": "stdout"
        }
      ]
    },
    {
      "cell_type": "code",
      "metadata": {
        "id": "oZO179-VUZrw",
        "colab_type": "code",
        "colab": {}
      },
      "source": [
        "predicted_class_indices=np.argmax(pred,axis=1)"
      ],
      "execution_count": null,
      "outputs": []
    },
    {
      "cell_type": "code",
      "metadata": {
        "id": "ISNc5bZMUekB",
        "colab_type": "code",
        "colab": {}
      },
      "source": [
        "labels = (train_generator.class_indices)\n",
        "labels = dict((v,k) for k,v in labels.items())\n",
        "predictions = [labels[k] for k in predicted_class_indices]"
      ],
      "execution_count": null,
      "outputs": []
    },
    {
      "cell_type": "code",
      "metadata": {
        "id": "RwBWgDcWUj4n",
        "colab_type": "code",
        "colab": {}
      },
      "source": [
        "filenames=test_generator.filenames\n",
        "results=pd.DataFrame({\"image\":filenames,\n",
        "                      \"predictions\":predictions})"
      ],
      "execution_count": null,
      "outputs": []
    },
    {
      "cell_type": "code",
      "metadata": {
        "id": "24FXbSomUpH4",
        "colab_type": "code",
        "colab": {
          "base_uri": "https://localhost:8080/",
          "height": 51
        },
        "outputId": "dd896516-6c3d-4838-8524-3f35690fc989"
      },
      "source": [
        "true_and_predicted_labels = pd.merge(df_test[['id','image','masterCategory']], results, on=\"image\")\n",
        "true_and_predicted_labels.head()\n",
        "x = true_and_predicted_labels['masterCategory'].unique()\n",
        "print(x)"
      ],
      "execution_count": null,
      "outputs": [
        {
          "output_type": "stream",
          "text": [
            "['Personal Care' 'Apparel' 'Footwear' 'Accessories' 'Free Items'\n",
            " 'Sporting Goods']\n"
          ],
          "name": "stdout"
        }
      ]
    },
    {
      "cell_type": "code",
      "metadata": {
        "id": "D-WMSj3eUu9l",
        "colab_type": "code",
        "colab": {
          "base_uri": "https://localhost:8080/",
          "height": 204
        },
        "outputId": "2dd77076-9247-4c7e-d7e2-f3c937a0fd0e"
      },
      "source": [
        "true_and_predicted_labels['correct_label'] = np.where(true_and_predicted_labels.masterCategory == true_and_predicted_labels.predictions, 1, 0)\n",
        "true_and_predicted_labels.head()\n"
      ],
      "execution_count": null,
      "outputs": [
        {
          "output_type": "execute_result",
          "data": {
            "text/html": [
              "<div>\n",
              "<style scoped>\n",
              "    .dataframe tbody tr th:only-of-type {\n",
              "        vertical-align: middle;\n",
              "    }\n",
              "\n",
              "    .dataframe tbody tr th {\n",
              "        vertical-align: top;\n",
              "    }\n",
              "\n",
              "    .dataframe thead th {\n",
              "        text-align: right;\n",
              "    }\n",
              "</style>\n",
              "<table border=\"1\" class=\"dataframe\">\n",
              "  <thead>\n",
              "    <tr style=\"text-align: right;\">\n",
              "      <th></th>\n",
              "      <th>id</th>\n",
              "      <th>image</th>\n",
              "      <th>masterCategory</th>\n",
              "      <th>predictions</th>\n",
              "      <th>correct_label</th>\n",
              "    </tr>\n",
              "  </thead>\n",
              "  <tbody>\n",
              "    <tr>\n",
              "      <th>0</th>\n",
              "      <td>49154</td>\n",
              "      <td>49154.jpg</td>\n",
              "      <td>Personal Care</td>\n",
              "      <td>Personal Care</td>\n",
              "      <td>1</td>\n",
              "    </tr>\n",
              "    <tr>\n",
              "      <th>1</th>\n",
              "      <td>27873</td>\n",
              "      <td>27873.jpg</td>\n",
              "      <td>Apparel</td>\n",
              "      <td>Apparel</td>\n",
              "      <td>1</td>\n",
              "    </tr>\n",
              "    <tr>\n",
              "      <th>2</th>\n",
              "      <td>46705</td>\n",
              "      <td>46705.jpg</td>\n",
              "      <td>Personal Care</td>\n",
              "      <td>Personal Care</td>\n",
              "      <td>1</td>\n",
              "    </tr>\n",
              "    <tr>\n",
              "      <th>3</th>\n",
              "      <td>4485</td>\n",
              "      <td>4485.jpg</td>\n",
              "      <td>Footwear</td>\n",
              "      <td>Footwear</td>\n",
              "      <td>1</td>\n",
              "    </tr>\n",
              "    <tr>\n",
              "      <th>4</th>\n",
              "      <td>25372</td>\n",
              "      <td>25372.jpg</td>\n",
              "      <td>Apparel</td>\n",
              "      <td>Apparel</td>\n",
              "      <td>1</td>\n",
              "    </tr>\n",
              "  </tbody>\n",
              "</table>\n",
              "</div>"
            ],
            "text/plain": [
              "      id      image masterCategory    predictions  correct_label\n",
              "0  49154  49154.jpg  Personal Care  Personal Care              1\n",
              "1  27873  27873.jpg        Apparel        Apparel              1\n",
              "2  46705  46705.jpg  Personal Care  Personal Care              1\n",
              "3   4485   4485.jpg       Footwear       Footwear              1\n",
              "4  25372  25372.jpg        Apparel        Apparel              1"
            ]
          },
          "metadata": {
            "tags": []
          },
          "execution_count": 105
        }
      ]
    },
    {
      "cell_type": "markdown",
      "metadata": {
        "id": "BqCRZ5RtTr6K",
        "colab_type": "text"
      },
      "source": [
        "#Model using Adams optimizer and a learning rate scheduler\n",
        "*   Exponential decay learning schedule\n",
        "*   Initial learning rate of 1e-2"
      ]
    },
    {
      "cell_type": "code",
      "metadata": {
        "id": "t8GKD4zQUzLr",
        "colab_type": "code",
        "colab": {}
      },
      "source": [
        "# Build the convolutional Neural Network model using the functional API\n",
        "\n",
        "# Input node. image shape: 80 x 60 x 3 RGB channels\n",
        "i= Input(shape=(80, 60, 3))\n",
        "\n",
        "\n",
        "# 2D convolutional layer with 2 spatial dimensions (height and width)\n",
        "# Using more filters results in a more powerful model, but we risk overfitting due to increased parameter count.\n",
        "# 32 initial output feature maps that will progressively increase with network depth. (Starts low to check for overfitting)\n",
        "# A 3D filter with 3x3x3 dimensions\n",
        "# A ReLU activation funcion\n",
        "\n",
        "x = Conv2D(32, (3, 3), activation='relu', padding='valid')(i)\n",
        "x = BatchNormalization()(x)\n",
        "x = Conv2D(32, (3, 3), activation='relu', padding='valid')(x)\n",
        "x = BatchNormalization()(x)\n",
        "\n",
        "# Pooling layer to reduce dimensionality (max pooling takes the maximum value in the pooling window)\n",
        "x = MaxPooling2D((2, 2))(x)\n",
        "x = Dropout(0.2)(x)\n",
        "\n",
        "#Second convolutinal layer with increased number of feature maps\n",
        "x = Conv2D(64, (3, 3), activation='relu', padding='valid')(x)\n",
        "x = BatchNormalization()(x)\n",
        "x = Conv2D(64, (3, 3), activation='relu', padding='valid')(x)\n",
        "x = BatchNormalization()(x)\n",
        "x = MaxPooling2D((2, 2))(x)\n",
        "x = Dropout(0.2)(x)\n",
        "\n",
        "#Third convolutinal layer with increased number of feature maps\n",
        "x = Conv2D(128, (3, 3), activation='relu', padding='valid')(x)\n",
        "x = BatchNormalization()(x)\n",
        "x = Conv2D(128, (3, 3), activation='relu', padding='valid')(x)\n",
        "x = BatchNormalization()(x)\n",
        "x = MaxPooling2D((2, 2))(x)\n",
        "x = Dropout(0.2)(x)\n",
        "\n",
        "# Converting layer to 1 dimensional layer\n",
        "x = Flatten()(x)\n",
        "x = Dropout(0.2)(x)\n",
        "\n",
        "# Fully connected layer\n",
        "x = Dense(1024, activation='relu')(x)\n",
        "x = Dropout(0.2)(x)\n",
        "\n",
        "# Fully connected layer with Softmax activation function for multiclass classification probability\n",
        "x = Dense(K, activation='softmax')(x)\n",
        "\n",
        "model_3= Model(i, x)\n"
      ],
      "execution_count": null,
      "outputs": []
    },
    {
      "cell_type": "code",
      "metadata": {
        "id": "9pzDoDZMVtis",
        "colab_type": "code",
        "colab": {}
      },
      "source": [
        "# Compiling the model\n",
        "from tensorflow import keras\n",
        "\n",
        "lr_schedule = keras.optimizers.schedules.ExponentialDecay(\n",
        "    initial_learning_rate=1e-2,\n",
        "    decay_steps=10000,\n",
        "    decay_rate=0.9)\n",
        "optimizer = keras.optimizers.Adam(learning_rate=lr_schedule)\n",
        "\n",
        "model_3.compile(optimizer=optimizer,\n",
        "              loss='categorical_crossentropy',\n",
        "              metrics=['accuracy'])"
      ],
      "execution_count": null,
      "outputs": []
    },
    {
      "cell_type": "code",
      "metadata": {
        "id": "iX3v-JjTV8Wt",
        "colab_type": "code",
        "colab": {
          "base_uri": "https://localhost:8080/",
          "height": 459
        },
        "outputId": "aee28ef7-c3d8-40ea-f94c-8b55ad5e24e3"
      },
      "source": [
        "#Setting a callback \n",
        "callback = tf.keras.callbacks.EarlyStopping(monitor='loss', patience=3)\n",
        "\n",
        "# Fitting the model\n",
        "model_output_3 = model_3.fit(train_generator, validation_data=valid_generator, \n",
        "                         steps_per_epoch=int(train_generator.samples)/ batch_size, epochs=100, callbacks=[callback] )"
      ],
      "execution_count": null,
      "outputs": [
        {
          "output_type": "stream",
          "text": [
            "Epoch 1/100\n",
            "833/832 [==============================] - 145s 174ms/step - loss: 1.1962 - accuracy: 0.8568 - val_loss: 0.3597 - val_accuracy: 0.9008\n",
            "Epoch 2/100\n",
            "833/832 [==============================] - 147s 177ms/step - loss: 0.2835 - accuracy: 0.9126 - val_loss: 0.2220 - val_accuracy: 0.9309\n",
            "Epoch 3/100\n",
            "833/832 [==============================] - 148s 177ms/step - loss: 0.2220 - accuracy: 0.9318 - val_loss: 0.2776 - val_accuracy: 0.9236\n",
            "Epoch 4/100\n",
            "833/832 [==============================] - 150s 180ms/step - loss: 0.1998 - accuracy: 0.9402 - val_loss: 0.9088 - val_accuracy: 0.7874\n",
            "Epoch 5/100\n",
            "833/832 [==============================] - 148s 178ms/step - loss: 0.2037 - accuracy: 0.9423 - val_loss: 0.2471 - val_accuracy: 0.9255\n",
            "Epoch 6/100\n",
            "833/832 [==============================] - 151s 181ms/step - loss: 0.1928 - accuracy: 0.9475 - val_loss: 0.3180 - val_accuracy: 0.8993\n",
            "Epoch 7/100\n",
            "833/832 [==============================] - 149s 179ms/step - loss: 0.1949 - accuracy: 0.9468 - val_loss: 0.5056 - val_accuracy: 0.8192\n",
            "Epoch 8/100\n",
            "833/832 [==============================] - 151s 181ms/step - loss: 0.1942 - accuracy: 0.9489 - val_loss: 2.8351 - val_accuracy: 0.4890\n",
            "Epoch 9/100\n",
            "833/832 [==============================] - 147s 176ms/step - loss: 0.1794 - accuracy: 0.9515 - val_loss: 0.3545 - val_accuracy: 0.8668\n",
            "Epoch 10/100\n",
            "833/832 [==============================] - 149s 178ms/step - loss: 0.1643 - accuracy: 0.9577 - val_loss: 0.3408 - val_accuracy: 0.9527\n",
            "Epoch 11/100\n",
            "833/832 [==============================] - 153s 183ms/step - loss: 0.1774 - accuracy: 0.9556 - val_loss: 0.4770 - val_accuracy: 0.8879\n",
            "Epoch 12/100\n",
            "833/832 [==============================] - 153s 183ms/step - loss: 0.1646 - accuracy: 0.9561 - val_loss: 0.1572 - val_accuracy: 0.9668\n",
            "Epoch 13/100\n",
            "833/832 [==============================] - 155s 186ms/step - loss: 0.1678 - accuracy: 0.9565 - val_loss: 0.4566 - val_accuracy: 0.9467\n"
          ],
          "name": "stdout"
        }
      ]
    },
    {
      "cell_type": "code",
      "metadata": {
        "id": "5Hp1SdkeWNWU",
        "colab_type": "code",
        "colab": {
          "base_uri": "https://localhost:8080/",
          "height": 282
        },
        "outputId": "d7a0d52d-4355-4bb0-b5dd-fd53f097db1f"
      },
      "source": [
        "# Plot loss per iteration\n",
        "plt.plot(model_output_3.history['loss'], label='loss')\n",
        "plt.plot(model_output_3.history['val_loss'], label='val_loss')\n",
        "plt.legend()"
      ],
      "execution_count": null,
      "outputs": [
        {
          "output_type": "execute_result",
          "data": {
            "text/plain": [
              "<matplotlib.legend.Legend at 0x7faa91c6c198>"
            ]
          },
          "metadata": {
            "tags": []
          },
          "execution_count": 112
        },
        {
          "output_type": "display_data",
          "data": {
            "image/png": "[encoded data removed]",
            "text/plain": [
              "<Figure size 432x288 with 1 Axes>"
            ]
          },
          "metadata": {
            "tags": [],
            "needs_background": "light"
          }
        }
      ]
    },
    {
      "cell_type": "code",
      "metadata": {
        "id": "d8uhIadoWVeh",
        "colab_type": "code",
        "colab": {
          "base_uri": "https://localhost:8080/",
          "height": 282
        },
        "outputId": "441b78ff-aaae-4c94-c58a-9f450201bd99"
      },
      "source": [
        "# Plot accuracy per iteration\n",
        "plt.plot(model_output_3.history['accuracy'], label='acc')\n",
        "plt.plot(model_output_3.history['val_accuracy'], label='val_acc')\n",
        "plt.legend()"
      ],
      "execution_count": null,
      "outputs": [
        {
          "output_type": "execute_result",
          "data": {
            "text/plain": [
              "<matplotlib.legend.Legend at 0x7faa91c45ba8>"
            ]
          },
          "metadata": {
            "tags": []
          },
          "execution_count": 113
        },
        {
          "output_type": "display_data",
          "data": {
            "image/png": "[encoded data removed]",
            "text/plain": [
              "<Figure size 432x288 with 1 Axes>"
            ]
          },
          "metadata": {
            "tags": [],
            "needs_background": "light"
          }
        }
      ]
    }
  ]
}
