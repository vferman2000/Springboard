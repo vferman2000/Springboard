{
  "nbformat": 4,
  "nbformat_minor": 0,
  "metadata": {
    "colab": {
      "name": "InitialModel.ipynb",
      "provenance": [],
      "collapsed_sections": [],
      "mount_file_id": "1fa0a4Q31--SgO62p0PZbVaKL4iuW7y13",
      "authorship_tag": "ABX9TyPQDGCERMHv7J/4K2hgw1Ma",
      "include_colab_link": true
    },
    "kernelspec": {
      "name": "python3",
      "display_name": "Python 3"
    },
    "accelerator": "GPU"
  },
  "cells": [
    {
      "cell_type": "markdown",
      "metadata": {
        "id": "view-in-github",
        "colab_type": "text"
      },
      "source": [
        "<a href=\"https://colab.research.google.com/github/vferman2000/Springboard/blob/master/InitialModel.ipynb\" target=\"_parent\"><img src=\"https://colab.research.google.com/assets/colab-badge.svg\" alt=\"Open In Colab\"/></a>"
      ]
    },
    {
      "cell_type": "markdown",
      "metadata": {
        "id": "QZwr1TwJQe_X",
        "colab_type": "text"
      },
      "source": [
        "# Fashion Image Classification Project\n",
        "\n",
        "The objective of the project is to build a Convolutional Neural Network model to classify fashion product images using TensorFow and Keras functional API.  The model will then predict the class of a given input image.\n",
        "\n",
        "The dataset can be downloaded from https://www.kaggle.com/paramaggarwal/fashion-product-images-dataset\n",
        "\n",
        "The platform selected for the project is Google Collab.\n",
        "\n",
        "\n"
      ]
    },
    {
      "cell_type": "code",
      "metadata": {
        "id": "Mac9tAiOzTti",
        "colab_type": "code",
        "colab": {
          "base_uri": "https://localhost:8080/",
          "height": 34
        },
        "outputId": "e7eb6c5f-6d54-47d0-9a32-080bf016d91a"
      },
      "source": [
        "# Install TensorFlow\n",
        "import tensorflow as tf \n",
        "tf.test.gpu_device_name()"
      ],
      "execution_count": null,
      "outputs": [
        {
          "output_type": "execute_result",
          "data": {
            "text/plain": [
              "'/device:GPU:0'"
            ]
          },
          "metadata": {
            "tags": []
          },
          "execution_count": 1
        }
      ]
    },
    {
      "cell_type": "code",
      "metadata": {
        "id": "syYEveD9zaW3",
        "colab_type": "code",
        "colab": {}
      },
      "source": [
        "# importing additional libraries\n",
        "\n",
        "import numpy as np\n",
        "import pandas as pd\n",
        "import matplotlib.pyplot as plt\n",
        "from tensorflow.keras.layers import Input, Conv2D, Dense, Flatten, Dropout, GlobalMaxPooling2D, MaxPooling2D, BatchNormalization\n",
        "from tensorflow.keras.models import Model\n",
        "from mpl_toolkits.mplot3d import Axes3D\n",
        "from sklearn.preprocessing import StandardScaler\n",
        "import matplotlib.image as mpimg\n",
        "from sklearn.model_selection import train_test_split\n",
        "import os"
      ],
      "execution_count": null,
      "outputs": []
    },
    {
      "cell_type": "markdown",
      "metadata": {
        "id": "kb_IOJcYQaIc",
        "colab_type": "text"
      },
      "source": [
        "# Mounting to Google Drive"
      ]
    },
    {
      "cell_type": "code",
      "metadata": {
        "id": "nzqG_5C3zfv7",
        "colab_type": "code",
        "colab": {
          "base_uri": "https://localhost:8080/",
          "height": 34
        },
        "outputId": "3297a73d-bf7c-456f-f3b2-f843f473bebb"
      },
      "source": [
        "# Path to fashion product images files on Google Drive\n",
        "\n",
        "DATASET_PATH = \"/content/drive/My Drive/Springboard Data Science/CapstoneTwo/fashion-product-images-small/myntradataset/\"\n",
        "print(os.listdir(DATASET_PATH))"
      ],
      "execution_count": null,
      "outputs": [
        {
          "output_type": "stream",
          "text": [
            "['images', 'styles.csv']\n"
          ],
          "name": "stdout"
        }
      ]
    },
    {
      "cell_type": "code",
      "metadata": {
        "id": "RlPeQpEkz15Y",
        "colab_type": "code",
        "colab": {
          "base_uri": "https://localhost:8080/",
          "height": 54
        },
        "outputId": "4984e522-4b28-4256-b3a0-45f198110a3c"
      },
      "source": [
        "# Reading df_style pandas dataframe which contains images attributes\n",
        "\n",
        "df_styles = pd.read_csv(DATASET_PATH + 'styles.csv', error_bad_lines=False)\n",
        "df_styles['image'] = df_styles.apply(lambda row: str(row['id']) + \".jpg\", axis=1)\n",
        "#df_styles['image'] = df_styles.id.apply(lambda row: \"%s.jpg\" % row)\n",
        "\n",
        "df_styles['masterCategory'] = df_styles.masterCategory.apply(lambda row: 'NA' if row is np.nan else row)"
      ],
      "execution_count": null,
      "outputs": [
        {
          "output_type": "stream",
          "text": [
            "b'Skipping line 6044: expected 10 fields, saw 11\\nSkipping line 6569: expected 10 fields, saw 11\\nSkipping line 7399: expected 10 fields, saw 11\\nSkipping line 7939: expected 10 fields, saw 11\\nSkipping line 9026: expected 10 fields, saw 11\\nSkipping line 10264: expected 10 fields, saw 11\\nSkipping line 10427: expected 10 fields, saw 11\\nSkipping line 10905: expected 10 fields, saw 11\\nSkipping line 11373: expected 10 fields, saw 11\\nSkipping line 11945: expected 10 fields, saw 11\\nSkipping line 14112: expected 10 fields, saw 11\\nSkipping line 14532: expected 10 fields, saw 11\\nSkipping line 15076: expected 10 fields, saw 12\\nSkipping line 29906: expected 10 fields, saw 11\\nSkipping line 31625: expected 10 fields, saw 11\\nSkipping line 33020: expected 10 fields, saw 11\\nSkipping line 35748: expected 10 fields, saw 11\\nSkipping line 35962: expected 10 fields, saw 11\\nSkipping line 37770: expected 10 fields, saw 11\\nSkipping line 38105: expected 10 fields, saw 11\\nSkipping line 38275: expected 10 fields, saw 11\\nSkipping line 38404: expected 10 fields, saw 12\\n'\n"
          ],
          "name": "stderr"
        }
      ]
    },
    {
      "cell_type": "markdown",
      "metadata": {
        "id": "VZoUXhqhyrKe",
        "colab_type": "text"
      },
      "source": [
        "There are 7 distinct product categories in the dataset.  As shown below, the categories are unevenly distributed.  The data will need to be stratified for balance."
      ]
    },
    {
      "cell_type": "code",
      "metadata": {
        "id": "HV9nsF4kQHdM",
        "colab_type": "code",
        "colab": {
          "base_uri": "https://localhost:8080/",
          "height": 153
        },
        "outputId": "12e0381b-da1f-4976-a0f5-a33158857f40"
      },
      "source": [
        "df_styles.masterCategory.value_counts()"
      ],
      "execution_count": null,
      "outputs": [
        {
          "output_type": "execute_result",
          "data": {
            "text/plain": [
              "Apparel           21397\n",
              "Accessories       11274\n",
              "Footwear           9219\n",
              "Personal Care      2403\n",
              "Free Items          105\n",
              "Sporting Goods       25\n",
              "Home                  1\n",
              "Name: masterCategory, dtype: int64"
            ]
          },
          "metadata": {
            "tags": []
          },
          "execution_count": 5
        }
      ]
    },
    {
      "cell_type": "code",
      "metadata": {
        "id": "Sefe2qXCWM1I",
        "colab_type": "code",
        "colab": {}
      },
      "source": [
        "# There is only one sample in the Home category.  It will be omitted.\n",
        "df_styles_labels = df_styles[df_styles.masterCategory != 'Home']"
      ],
      "execution_count": null,
      "outputs": []
    },
    {
      "cell_type": "markdown",
      "metadata": {
        "id": "nWvAxjAEaJii",
        "colab_type": "text"
      },
      "source": [
        "Splitting dataset into train, validation and test subsets where each subset is stratisfied by the values in the masterCategory column of df_styles dataframe\n"
      ]
    },
    {
      "cell_type": "code",
      "metadata": {
        "id": "ye_lnS19q-Yb",
        "colab_type": "code",
        "colab": {}
      },
      "source": [
        "def split_stratified_into_train_val_test(df_input, stratify_colname='y',\n",
        "                                         frac_train=0.60, frac_val=0.20, frac_test=0.20,\n",
        "                                         random_state=None):\n",
        "    '''\n",
        "    Splits a Pandas dataframe into three subsets (train, val, and test)\n",
        "    following fractional ratios provided by the user, where each subset is\n",
        "    stratified by the values in a specific column.\n",
        "    '''\n",
        "\n",
        "    if frac_train + frac_val + frac_test != 1.0:\n",
        "        raise ValueError('fractions %f, %f, %f do not add up to 1.0' % \\\n",
        "                         (frac_train, frac_val, frac_test))\n",
        "\n",
        "    if stratify_colname not in df_styles.columns:\n",
        "        raise ValueError('%s is not a column in the dataframe' % (stratify_colname))\n",
        "\n",
        "    X = df_input # Contains all columns.\n",
        "    y = df_input[[stratify_colname]] # Dataframe of just the column on which to stratify.\n",
        "\n",
        "    # Split original dataframe into train and temp dataframes.\n",
        "    df_train, df_temp, y_train, y_temp = train_test_split(X,\n",
        "                                                          y,\n",
        "                                                          stratify=y,\n",
        "                                                          test_size=(1.0 - frac_train),\n",
        "                                                          random_state=random_state)\n",
        "\n",
        "    # Split the temp dataframe into val and test dataframes.\n",
        "    relative_frac_test = frac_test / (frac_val + frac_test)\n",
        "    df_validation, df_test, y_validation, y_test = train_test_split(df_temp,\n",
        "                                                      y_temp,\n",
        "                                                      stratify=y_temp,\n",
        "                                                      test_size=relative_frac_test,\n",
        "                                                      random_state=random_state)\n",
        "\n",
        "    assert len(df_input) == len(df_train) + len(df_validation) + len(df_test)\n",
        "\n",
        "    return df_train, df_validation, df_test"
      ],
      "execution_count": null,
      "outputs": []
    },
    {
      "cell_type": "code",
      "metadata": {
        "id": "QRlW3yv8fLaO",
        "colab_type": "code",
        "colab": {}
      },
      "source": [
        "df_train, df_validation, df_test = \\\n",
        "    split_stratified_into_train_val_test(df_styles_labels, stratify_colname='masterCategory', frac_train=0.60, frac_val=0.20, frac_test=0.20)"
      ],
      "execution_count": null,
      "outputs": []
    },
    {
      "cell_type": "code",
      "metadata": {
        "id": "q_l8oaRe0qva",
        "colab_type": "code",
        "colab": {
          "base_uri": "https://localhost:8080/",
          "height": 68
        },
        "outputId": "7972a234-413e-4fe0-9334-7e082160bc35"
      },
      "source": [
        "print('The train subset has', len(df_train),'samples')\n",
        "print('The validation subset has', len(df_validation),'samples')\n",
        "print('The test subset has', len(df_test),'samples')"
      ],
      "execution_count": null,
      "outputs": [
        {
          "output_type": "stream",
          "text": [
            "The train subset has 26653 samples\n",
            "The validation subset has 8885 samples\n",
            "The validation subset has 8885 samples\n"
          ],
          "name": "stdout"
        }
      ]
    },
    {
      "cell_type": "markdown",
      "metadata": {
        "id": "u7g8RDTPZ0jn",
        "colab_type": "text"
      },
      "source": [
        "There are six unique categories in the masterCategory column that will be used as classes in the model."
      ]
    },
    {
      "cell_type": "code",
      "metadata": {
        "id": "nQXngWJJXQXE",
        "colab_type": "code",
        "colab": {
          "base_uri": "https://localhost:8080/",
          "height": 136
        },
        "outputId": "9307ccc1-1da9-4422-e43d-a995fcf2a134"
      },
      "source": [
        "df_train.masterCategory.value_counts()"
      ],
      "execution_count": null,
      "outputs": [
        {
          "output_type": "execute_result",
          "data": {
            "text/plain": [
              "Apparel           12838\n",
              "Accessories        6764\n",
              "Footwear           5531\n",
              "Personal Care      1442\n",
              "Free Items           63\n",
              "Sporting Goods       15\n",
              "Name: masterCategory, dtype: int64"
            ]
          },
          "metadata": {
            "tags": []
          },
          "execution_count": 9
        }
      ]
    },
    {
      "cell_type": "code",
      "metadata": {
        "id": "5m8ie4Dg0HZR",
        "colab_type": "code",
        "colab": {
          "base_uri": "https://localhost:8080/",
          "height": 34
        },
        "outputId": "939451b7-3390-49a0-9f76-a2fcbd85a0e2"
      },
      "source": [
        "# number of classes in masterCategory column of df_train\n",
        "K = len(set(df_train.iloc[:,2]))\n",
        "print('The number of classes is', K)"
      ],
      "execution_count": null,
      "outputs": [
        {
          "output_type": "stream",
          "text": [
            "6\n"
          ],
          "name": "stdout"
        }
      ]
    },
    {
      "cell_type": "code",
      "metadata": {
        "id": "7xVCTj8M0VJ6",
        "colab_type": "code",
        "colab": {}
      },
      "source": [
        "# Path to images folder\n",
        "images_data = DATASET_PATH+\"images/\""
      ],
      "execution_count": null,
      "outputs": []
    },
    {
      "cell_type": "markdown",
      "metadata": {
        "id": "H-NFWo0aV3k5",
        "colab_type": "text"
      },
      "source": [
        "# Building the Convolutional Neural Network Model\n",
        "\n",
        "The input image is 80x60 in size with an RGB channel. We will build a CNN model with a convolution + pooling architecture, followed by a number of fully connected Dense layers. \n",
        "\n",
        "The activation function for the convolutional layers will be ReLU ((Rectified Linear Units). \n",
        "\n",
        "The output layer will utilize a softmax activation function for the multiclass classification.\n",
        "\n",
        "The hyperparameters that will be used are:\n",
        "MaxPooling2d(2, 2) which extracts certain features from the image and reduces its height and the width. By using 2 pooling layers, the height and width are 1/4 of the original sizes.\n",
        "\n",
        "BatchNormalization which regularizes and makes the training of convolutional neural networks more efficient.\n",
        "\n",
        "Dropout to avoid overfitting\n",
        "\n"
      ]
    },
    {
      "cell_type": "code",
      "metadata": {
        "id": "L6LZESjF0sv0",
        "colab_type": "code",
        "colab": {}
      },
      "source": [
        "# Build the convolutional Neural Network model using the functional API\n",
        "\n",
        "# Input node. image shape: 80 x 60 x 3 RGB channels\n",
        "i= Input(shape=(80, 60, 3))\n",
        "\n",
        "\n",
        "# 2D convolutional layer with 2 spatial dimensions (height and width)\n",
        "# Using more filters results in a more powerful model, but we risk overfitting due to increased parameter count.\n",
        "# 32 initial output feature maps that will progressively increase with network depth. (Starts low to check for overfitting)\n",
        "# A 3D filter with 3x3x3 dimensions\n",
        "# A ReLU activation funcion\n",
        "\n",
        "x = Conv2D(32, (3, 3), activation='relu', padding='valid')(i)\n",
        "x = BatchNormalization()(x)\n",
        "x = Conv2D(32, (3, 3), activation='relu', padding='valid')(x)\n",
        "x = BatchNormalization()(x)\n",
        "\n",
        "# Pooling layer to reduce dimensionality (max pooling takes the maximum value in the pooling window)\n",
        "x = MaxPooling2D((2, 2))(x)\n",
        "x = Dropout(0.2)(x)\n",
        "\n",
        "#Second convolutinal layer with increased number of feature maps\n",
        "x = Conv2D(64, (3, 3), activation='relu', padding='valid')(x)\n",
        "x = BatchNormalization()(x)\n",
        "x = Conv2D(64, (3, 3), activation='relu', padding='valid')(x)\n",
        "x = BatchNormalization()(x)\n",
        "x = MaxPooling2D((2, 2))(x)\n",
        "x = Dropout(0.2)(x)\n",
        "\n",
        "#Third convolutinal layer with increased number of feature maps\n",
        "x = Conv2D(128, (3, 3), activation='relu', padding='valid')(x)\n",
        "x = BatchNormalization()(x)\n",
        "x = Conv2D(128, (3, 3), activation='relu', padding='valid')(x)\n",
        "x = BatchNormalization()(x)\n",
        "x = MaxPooling2D((2, 2))(x)\n",
        "x = Dropout(0.2)(x)\n",
        "\n",
        "# Converting layer to 1 dimensional layer\n",
        "x = Flatten()(x)\n",
        "x = Dropout(0.2)(x)\n",
        "\n",
        "# Fully connected layer\n",
        "x = Dense(1024, activation='relu')(x)\n",
        "x = Dropout(0.2)(x)\n",
        "\n",
        "# Fully connected layer with Softmax activation function for multiclass classification probability\n",
        "x = Dense(K, activation='softmax')(x)\n",
        "\n",
        "model = Model(i, x)"
      ],
      "execution_count": null,
      "outputs": []
    },
    {
      "cell_type": "markdown",
      "metadata": {
        "id": "7wCOkDxcf-eC",
        "colab_type": "text"
      },
      "source": [
        "# Mapping images to MasterCategory classes in df_styles using ImageDataGenerator"
      ]
    },
    {
      "cell_type": "code",
      "metadata": {
        "id": "HhqeEc2u2g9z",
        "colab_type": "code",
        "colab": {
          "base_uri": "https://localhost:8080/",
          "height": 156
        },
        "outputId": "c0aa0717-8d9e-47c4-97db-f47e05658695"
      },
      "source": [
        "# Using ImageDataGenerator to correlate images from image folder to masterCategory column in df_train, df_validation and df_test \n",
        "\n",
        "from keras.preprocessing.image import ImageDataGenerator\n",
        "HEIGHT = 80\n",
        "WIDTH = 60\n",
        "batch_size = 32\n",
        "datagen = ImageDataGenerator(rescale=1./255)\n",
        "test_datagen = ImageDataGenerator(rescale=1./255)\n",
        "\n",
        "train_generator=datagen.flow_from_dataframe(\n",
        "                    dataframe=df_train,\n",
        "                    directory=images_data,\n",
        "                    x_col=\"image\",\n",
        "                    y_col=\"masterCategory\",\n",
        "                    batch_size=batch_size,\n",
        "                    seed=42,\n",
        "                    shuffle=True,\n",
        "                    class_mode=\"categorical\",\n",
        "                    classes=['Footwear', 'Apparel', 'Accessories', 'Personal Care','Free Items','Sporting Goods'],\n",
        "                    target_size=(HEIGHT,WIDTH))\n",
        "\n",
        "valid_generator=test_datagen.flow_from_dataframe(\n",
        "                    dataframe=df_validation,\n",
        "                    directory=images_data,\n",
        "                    x_col=\"image\",\n",
        "                    y_col=\"masterCategory\",\n",
        "                    batch_size=batch_size,\n",
        "                    seed=42,\n",
        "                    shuffle=True,\n",
        "                    class_mode=\"categorical\",\n",
        "                    classes=['Footwear', 'Apparel', 'Accessories', 'Personal Care', 'Free Items','Sporting Goods'],\n",
        "                    target_size=(HEIGHT,WIDTH))\n",
        "\n",
        "test_generator=test_datagen.flow_from_dataframe(\n",
        "                    dataframe=df_test,\n",
        "                    directory=images_data,\n",
        "                    x_col=\"image\",\n",
        "                    batch_size=1,\n",
        "                    seed=42,\n",
        "                    shuffle=False,\n",
        "                    class_mode=None,\n",
        "                    target_size=(HEIGHT,WIDTH))"
      ],
      "execution_count": null,
      "outputs": [
        {
          "output_type": "stream",
          "text": [
            "/usr/local/lib/python3.6/dist-packages/keras_preprocessing/image/dataframe_iterator.py:282: UserWarning: Found 4 invalid image filename(s) in x_col=\"image\". These filename(s) will be ignored.\n",
            "  .format(n_invalid, x_col)\n"
          ],
          "name": "stderr"
        },
        {
          "output_type": "stream",
          "text": [
            "Found 26649 validated image filenames belonging to 6 classes.\n"
          ],
          "name": "stdout"
        },
        {
          "output_type": "stream",
          "text": [
            "/usr/local/lib/python3.6/dist-packages/keras_preprocessing/image/dataframe_iterator.py:282: UserWarning: Found 1 invalid image filename(s) in x_col=\"image\". These filename(s) will be ignored.\n",
            "  .format(n_invalid, x_col)\n"
          ],
          "name": "stderr"
        },
        {
          "output_type": "stream",
          "text": [
            "Found 8884 validated image filenames belonging to 6 classes.\n",
            "Found 8885 validated image filenames.\n"
          ],
          "name": "stdout"
        }
      ]
    },
    {
      "cell_type": "markdown",
      "metadata": {
        "id": "lwW9rQF7WX1K",
        "colab_type": "text"
      },
      "source": [
        "# Compiling and Fitting the Model"
      ]
    },
    {
      "cell_type": "code",
      "metadata": {
        "id": "uETdtdVJ26Mt",
        "colab_type": "code",
        "colab": {}
      },
      "source": [
        "# Compiling the model\n",
        "# default value lr = 0.001 for adam optimizer\n",
        "\n",
        "model.compile(optimizer='adam',\n",
        "              loss='categorical_crossentropy',\n",
        "              metrics=['accuracy'])"
      ],
      "execution_count": null,
      "outputs": []
    },
    {
      "cell_type": "code",
      "metadata": {
        "id": "RFYvjF6K27k0",
        "colab_type": "code",
        "colab": {
          "base_uri": "https://localhost:8080/",
          "height": 1000
        },
        "outputId": "819cd3c3-43fc-4571-ff45-66fdd10c174b"
      },
      "source": [
        "# Fitting the model\n",
        "model_output = model.fit(train_generator, validation_data=valid_generator, steps_per_epoch=int(train_generator.samples)/ batch_size, epochs=100)"
      ],
      "execution_count": null,
      "outputs": [
        {
          "output_type": "stream",
          "text": [
            "Epoch 1/100\n",
            "833/832 [==============================] - 28124s 34s/step - loss: 0.3006 - accuracy: 0.9245 - val_loss: 0.2213 - val_accuracy: 0.9399\n",
            "Epoch 2/100\n",
            "833/832 [==============================] - 192s 230ms/step - loss: 0.1291 - accuracy: 0.9627 - val_loss: 0.1803 - val_accuracy: 0.9454\n",
            "Epoch 3/100\n",
            "833/832 [==============================] - 191s 229ms/step - loss: 0.1036 - accuracy: 0.9715 - val_loss: 0.3764 - val_accuracy: 0.8763\n",
            "Epoch 4/100\n",
            "833/832 [==============================] - 186s 224ms/step - loss: 0.0899 - accuracy: 0.9761 - val_loss: 0.2523 - val_accuracy: 0.9200\n",
            "Epoch 5/100\n",
            "833/832 [==============================] - 187s 224ms/step - loss: 0.0867 - accuracy: 0.9764 - val_loss: 0.3936 - val_accuracy: 0.9130\n",
            "Epoch 6/100\n",
            "833/832 [==============================] - 186s 224ms/step - loss: 0.0726 - accuracy: 0.9805 - val_loss: 0.1949 - val_accuracy: 0.9617\n",
            "Epoch 7/100\n",
            "833/832 [==============================] - 185s 222ms/step - loss: 0.0658 - accuracy: 0.9826 - val_loss: 0.0751 - val_accuracy: 0.9810\n",
            "Epoch 8/100\n",
            "833/832 [==============================] - 186s 224ms/step - loss: 0.0621 - accuracy: 0.9838 - val_loss: 0.2640 - val_accuracy: 0.9550\n",
            "Epoch 9/100\n",
            "833/832 [==============================] - 185s 222ms/step - loss: 0.0491 - accuracy: 0.9868 - val_loss: 0.1045 - val_accuracy: 0.9767\n",
            "Epoch 10/100\n",
            "833/832 [==============================] - 186s 224ms/step - loss: 0.0544 - accuracy: 0.9853 - val_loss: 3.4858 - val_accuracy: 0.6461\n",
            "Epoch 11/100\n",
            "833/832 [==============================] - 186s 223ms/step - loss: 0.0483 - accuracy: 0.9883 - val_loss: 1.1787 - val_accuracy: 0.8658\n",
            "Epoch 12/100\n",
            "833/832 [==============================] - 184s 221ms/step - loss: 0.0428 - accuracy: 0.9895 - val_loss: 0.0871 - val_accuracy: 0.9819\n",
            "Epoch 13/100\n",
            "833/832 [==============================] - 185s 222ms/step - loss: 0.0421 - accuracy: 0.9903 - val_loss: 0.3068 - val_accuracy: 0.9330\n",
            "Epoch 14/100\n",
            "833/832 [==============================] - 182s 219ms/step - loss: 0.0374 - accuracy: 0.9907 - val_loss: 0.0787 - val_accuracy: 0.9839\n",
            "Epoch 15/100\n",
            "833/832 [==============================] - 184s 221ms/step - loss: 0.0384 - accuracy: 0.9905 - val_loss: 0.1073 - val_accuracy: 0.9797\n",
            "Epoch 16/100\n",
            "833/832 [==============================] - 184s 221ms/step - loss: 0.0278 - accuracy: 0.9924 - val_loss: 1.0404 - val_accuracy: 0.8424\n",
            "Epoch 17/100\n",
            "833/832 [==============================] - 182s 218ms/step - loss: 0.0306 - accuracy: 0.9922 - val_loss: 0.4633 - val_accuracy: 0.9396\n",
            "Epoch 18/100\n",
            "833/832 [==============================] - 182s 219ms/step - loss: 0.0316 - accuracy: 0.9923 - val_loss: 0.1210 - val_accuracy: 0.9764\n",
            "Epoch 19/100\n",
            "833/832 [==============================] - 180s 216ms/step - loss: 0.0220 - accuracy: 0.9943 - val_loss: 0.1506 - val_accuracy: 0.9747\n",
            "Epoch 20/100\n",
            "833/832 [==============================] - 183s 220ms/step - loss: 0.0237 - accuracy: 0.9935 - val_loss: 0.0698 - val_accuracy: 0.9886\n",
            "Epoch 21/100\n",
            "833/832 [==============================] - 184s 221ms/step - loss: 0.0241 - accuracy: 0.9941 - val_loss: 0.0929 - val_accuracy: 0.9889\n",
            "Epoch 22/100\n",
            "833/832 [==============================] - 183s 220ms/step - loss: 0.0247 - accuracy: 0.9937 - val_loss: 0.1677 - val_accuracy: 0.9793\n",
            "Epoch 23/100\n",
            "833/832 [==============================] - 187s 225ms/step - loss: 0.0288 - accuracy: 0.9936 - val_loss: 0.2472 - val_accuracy: 0.9552\n",
            "Epoch 24/100\n",
            "833/832 [==============================] - 184s 221ms/step - loss: 0.0183 - accuracy: 0.9949 - val_loss: 0.1249 - val_accuracy: 0.9826\n",
            "Epoch 25/100\n",
            "833/832 [==============================] - 184s 221ms/step - loss: 0.0218 - accuracy: 0.9948 - val_loss: 0.1186 - val_accuracy: 0.9862\n",
            "Epoch 26/100\n",
            "833/832 [==============================] - 181s 218ms/step - loss: 0.0225 - accuracy: 0.9950 - val_loss: 0.1684 - val_accuracy: 0.9702\n",
            "Epoch 27/100\n",
            "833/832 [==============================] - 186s 223ms/step - loss: 0.0203 - accuracy: 0.9956 - val_loss: 0.1412 - val_accuracy: 0.9824\n",
            "Epoch 28/100\n",
            "833/832 [==============================] - 185s 222ms/step - loss: 0.0166 - accuracy: 0.9958 - val_loss: 0.1561 - val_accuracy: 0.9773\n",
            "Epoch 29/100\n",
            "833/832 [==============================] - 183s 220ms/step - loss: 0.0184 - accuracy: 0.9951 - val_loss: 0.1168 - val_accuracy: 0.9866\n",
            "Epoch 30/100\n",
            "833/832 [==============================] - 184s 221ms/step - loss: 0.0151 - accuracy: 0.9961 - val_loss: 0.3597 - val_accuracy: 0.9459\n",
            "Epoch 31/100\n",
            "833/832 [==============================] - 182s 218ms/step - loss: 0.0137 - accuracy: 0.9966 - val_loss: 0.1210 - val_accuracy: 0.9864\n",
            "Epoch 32/100\n",
            "833/832 [==============================] - 184s 221ms/step - loss: 0.0138 - accuracy: 0.9969 - val_loss: 0.1451 - val_accuracy: 0.9828\n",
            "Epoch 33/100\n",
            "833/832 [==============================] - 185s 222ms/step - loss: 0.0191 - accuracy: 0.9953 - val_loss: 0.0981 - val_accuracy: 0.9881\n",
            "Epoch 34/100\n",
            "833/832 [==============================] - 183s 219ms/step - loss: 0.0132 - accuracy: 0.9966 - val_loss: 0.2132 - val_accuracy: 0.9751\n",
            "Epoch 35/100\n",
            "833/832 [==============================] - 182s 219ms/step - loss: 0.0119 - accuracy: 0.9972 - val_loss: 0.1263 - val_accuracy: 0.9878\n",
            "Epoch 36/100\n",
            "833/832 [==============================] - 181s 217ms/step - loss: 0.0109 - accuracy: 0.9970 - val_loss: 0.1263 - val_accuracy: 0.9886\n",
            "Epoch 37/100\n",
            "833/832 [==============================] - 183s 219ms/step - loss: 0.0138 - accuracy: 0.9965 - val_loss: 0.2468 - val_accuracy: 0.9595\n",
            "Epoch 38/100\n",
            "833/832 [==============================] - 182s 219ms/step - loss: 0.0118 - accuracy: 0.9971 - val_loss: 0.1618 - val_accuracy: 0.9821\n",
            "Epoch 39/100\n",
            "833/832 [==============================] - 181s 217ms/step - loss: 0.0140 - accuracy: 0.9964 - val_loss: 0.2206 - val_accuracy: 0.9714\n",
            "Epoch 40/100\n",
            "833/832 [==============================] - 182s 218ms/step - loss: 0.0073 - accuracy: 0.9982 - val_loss: 0.1265 - val_accuracy: 0.9848\n",
            "Epoch 41/100\n",
            "833/832 [==============================] - 182s 218ms/step - loss: 0.0112 - accuracy: 0.9972 - val_loss: 0.1675 - val_accuracy: 0.9795\n",
            "Epoch 42/100\n",
            "833/832 [==============================] - 184s 221ms/step - loss: 0.0128 - accuracy: 0.9963 - val_loss: 0.7176 - val_accuracy: 0.9032\n",
            "Epoch 43/100\n",
            "833/832 [==============================] - 184s 221ms/step - loss: 0.0098 - accuracy: 0.9973 - val_loss: 0.1788 - val_accuracy: 0.9839\n",
            "Epoch 44/100\n",
            "833/832 [==============================] - 183s 219ms/step - loss: 0.0121 - accuracy: 0.9974 - val_loss: 0.1299 - val_accuracy: 0.9876\n",
            "Epoch 45/100\n",
            "833/832 [==============================] - 183s 220ms/step - loss: 0.0094 - accuracy: 0.9975 - val_loss: 0.1494 - val_accuracy: 0.9856\n",
            "Epoch 46/100\n",
            "833/832 [==============================] - 183s 219ms/step - loss: 0.0129 - accuracy: 0.9968 - val_loss: 0.2316 - val_accuracy: 0.9687\n",
            "Epoch 47/100\n",
            "833/832 [==============================] - 184s 221ms/step - loss: 0.0092 - accuracy: 0.9975 - val_loss: 0.1959 - val_accuracy: 0.9741\n",
            "Epoch 48/100\n",
            "833/832 [==============================] - 185s 222ms/step - loss: 0.0105 - accuracy: 0.9977 - val_loss: 0.1261 - val_accuracy: 0.9866\n",
            "Epoch 49/100\n",
            "833/832 [==============================] - 189s 227ms/step - loss: 0.0088 - accuracy: 0.9977 - val_loss: 0.1192 - val_accuracy: 0.9880\n",
            "Epoch 50/100\n",
            "833/832 [==============================] - 191s 229ms/step - loss: 0.0068 - accuracy: 0.9980 - val_loss: 0.1380 - val_accuracy: 0.9863\n",
            "Epoch 51/100\n",
            "833/832 [==============================] - 190s 228ms/step - loss: 0.0088 - accuracy: 0.9977 - val_loss: 0.1995 - val_accuracy: 0.9724\n",
            "Epoch 52/100\n",
            "833/832 [==============================] - 192s 231ms/step - loss: 0.0079 - accuracy: 0.9979 - val_loss: 0.1708 - val_accuracy: 0.9853\n",
            "Epoch 53/100\n",
            "833/832 [==============================] - 191s 229ms/step - loss: 0.0118 - accuracy: 0.9968 - val_loss: 0.1504 - val_accuracy: 0.9871\n",
            "Epoch 54/100\n",
            "833/832 [==============================] - 192s 231ms/step - loss: 0.0073 - accuracy: 0.9981 - val_loss: 0.1314 - val_accuracy: 0.9853\n",
            "Epoch 55/100\n",
            "833/832 [==============================] - 190s 228ms/step - loss: 0.0068 - accuracy: 0.9982 - val_loss: 0.1526 - val_accuracy: 0.9850\n",
            "Epoch 56/100\n",
            "833/832 [==============================] - 188s 226ms/step - loss: 0.0075 - accuracy: 0.9979 - val_loss: 0.1651 - val_accuracy: 0.9872\n",
            "Epoch 57/100\n",
            "833/832 [==============================] - 188s 226ms/step - loss: 0.0092 - accuracy: 0.9980 - val_loss: 0.1276 - val_accuracy: 0.9836\n",
            "Epoch 58/100\n",
            "833/832 [==============================] - 188s 226ms/step - loss: 0.0105 - accuracy: 0.9979 - val_loss: 0.1489 - val_accuracy: 0.9873\n",
            "Epoch 59/100\n",
            "833/832 [==============================] - 186s 224ms/step - loss: 0.0069 - accuracy: 0.9980 - val_loss: 0.2177 - val_accuracy: 0.9685\n",
            "Epoch 60/100\n",
            "833/832 [==============================] - 186s 224ms/step - loss: 0.0061 - accuracy: 0.9985 - val_loss: 0.1514 - val_accuracy: 0.9875\n",
            "Epoch 61/100\n",
            "833/832 [==============================] - 185s 223ms/step - loss: 0.0128 - accuracy: 0.9970 - val_loss: 0.1186 - val_accuracy: 0.9882\n",
            "Epoch 62/100\n",
            "833/832 [==============================] - 185s 222ms/step - loss: 0.0050 - accuracy: 0.9986 - val_loss: 0.1690 - val_accuracy: 0.9851\n",
            "Epoch 63/100\n",
            "833/832 [==============================] - 185s 223ms/step - loss: 0.0055 - accuracy: 0.9984 - val_loss: 0.1939 - val_accuracy: 0.9817\n",
            "Epoch 64/100\n",
            "833/832 [==============================] - 183s 220ms/step - loss: 0.0073 - accuracy: 0.9982 - val_loss: 0.3633 - val_accuracy: 0.9589\n",
            "Epoch 65/100\n",
            "833/832 [==============================] - 185s 222ms/step - loss: 0.0063 - accuracy: 0.9981 - val_loss: 0.1217 - val_accuracy: 0.9853\n",
            "Epoch 66/100\n",
            "833/832 [==============================] - 183s 220ms/step - loss: 0.0052 - accuracy: 0.9982 - val_loss: 0.1722 - val_accuracy: 0.9859\n",
            "Epoch 67/100\n",
            "833/832 [==============================] - 183s 220ms/step - loss: 0.0079 - accuracy: 0.9982 - val_loss: 0.1668 - val_accuracy: 0.9841\n",
            "Epoch 68/100\n",
            "833/832 [==============================] - 182s 218ms/step - loss: 0.0063 - accuracy: 0.9983 - val_loss: 0.1809 - val_accuracy: 0.9865\n",
            "Epoch 69/100\n",
            "833/832 [==============================] - 182s 218ms/step - loss: 0.0080 - accuracy: 0.9983 - val_loss: 0.1420 - val_accuracy: 0.9841\n",
            "Epoch 70/100\n",
            "833/832 [==============================] - 181s 218ms/step - loss: 0.0124 - accuracy: 0.9974 - val_loss: 0.1377 - val_accuracy: 0.9890\n",
            "Epoch 71/100\n",
            " 24/832 [..............................] - ETA: 2:07 - loss: 7.6991e-04 - accuracy: 1.0000Buffered data was truncated after reaching the output size limit."
          ],
          "name": "stdout"
        }
      ]
    },
    {
      "cell_type": "code",
      "metadata": {
        "id": "yWDCPdtw5DSW",
        "colab_type": "code",
        "colab": {
          "base_uri": "https://localhost:8080/",
          "height": 105
        },
        "outputId": "09b3d30c-031a-41de-e356-7b396205d80e"
      },
      "source": [
        "# saving the model\n",
        "model.save('/content/drive/My Drive/Springboard Data Science/CapstoneTwo/sixth_model.h5')\n",
        "model.save('/content/drive/My Drive/Springboard Data Science/CapstoneTwo/sixth_model')"
      ],
      "execution_count": null,
      "outputs": [
        {
          "output_type": "stream",
          "text": [
            "WARNING:tensorflow:From /usr/local/lib/python3.6/dist-packages/tensorflow/python/ops/resource_variable_ops.py:1817: calling BaseResourceVariable.__init__ (from tensorflow.python.ops.resource_variable_ops) with constraint is deprecated and will be removed in a future version.\n",
            "Instructions for updating:\n",
            "If using Keras pass *_constraint arguments to layers.\n",
            "INFO:tensorflow:Assets written to: /content/drive/My Drive/Springboard Data Science/CapstoneTwo/sixth_model/assets\n"
          ],
          "name": "stdout"
        }
      ]
    },
    {
      "cell_type": "code",
      "metadata": {
        "id": "8zdMQr0jCgQu",
        "colab_type": "code",
        "colab": {
          "base_uri": "https://localhost:8080/",
          "height": 969
        },
        "outputId": "75370e73-428b-4aaf-de97-29eb1579911e"
      },
      "source": [
        "model.summary()"
      ],
      "execution_count": null,
      "outputs": [
        {
          "output_type": "stream",
          "text": [
            "Model: \"model\"\n",
            "_________________________________________________________________\n",
            "Layer (type)                 Output Shape              Param #   \n",
            "=================================================================\n",
            "input_1 (InputLayer)         [(None, 80, 60, 3)]       0         \n",
            "_________________________________________________________________\n",
            "conv2d (Conv2D)              (None, 78, 58, 32)        896       \n",
            "_________________________________________________________________\n",
            "batch_normalization (BatchNo (None, 78, 58, 32)        128       \n",
            "_________________________________________________________________\n",
            "conv2d_1 (Conv2D)            (None, 76, 56, 32)        9248      \n",
            "_________________________________________________________________\n",
            "batch_normalization_1 (Batch (None, 76, 56, 32)        128       \n",
            "_________________________________________________________________\n",
            "max_pooling2d (MaxPooling2D) (None, 38, 28, 32)        0         \n",
            "_________________________________________________________________\n",
            "dropout (Dropout)            (None, 38, 28, 32)        0         \n",
            "_________________________________________________________________\n",
            "conv2d_2 (Conv2D)            (None, 36, 26, 64)        18496     \n",
            "_________________________________________________________________\n",
            "batch_normalization_2 (Batch (None, 36, 26, 64)        256       \n",
            "_________________________________________________________________\n",
            "conv2d_3 (Conv2D)            (None, 34, 24, 64)        36928     \n",
            "_________________________________________________________________\n",
            "batch_normalization_3 (Batch (None, 34, 24, 64)        256       \n",
            "_________________________________________________________________\n",
            "max_pooling2d_1 (MaxPooling2 (None, 17, 12, 64)        0         \n",
            "_________________________________________________________________\n",
            "dropout_1 (Dropout)          (None, 17, 12, 64)        0         \n",
            "_________________________________________________________________\n",
            "conv2d_4 (Conv2D)            (None, 15, 10, 128)       73856     \n",
            "_________________________________________________________________\n",
            "batch_normalization_4 (Batch (None, 15, 10, 128)       512       \n",
            "_________________________________________________________________\n",
            "conv2d_5 (Conv2D)            (None, 13, 8, 128)        147584    \n",
            "_________________________________________________________________\n",
            "batch_normalization_5 (Batch (None, 13, 8, 128)        512       \n",
            "_________________________________________________________________\n",
            "max_pooling2d_2 (MaxPooling2 (None, 6, 4, 128)         0         \n",
            "_________________________________________________________________\n",
            "dropout_2 (Dropout)          (None, 6, 4, 128)         0         \n",
            "_________________________________________________________________\n",
            "flatten (Flatten)            (None, 3072)              0         \n",
            "_________________________________________________________________\n",
            "dropout_3 (Dropout)          (None, 3072)              0         \n",
            "_________________________________________________________________\n",
            "dense (Dense)                (None, 1024)              3146752   \n",
            "_________________________________________________________________\n",
            "dropout_4 (Dropout)          (None, 1024)              0         \n",
            "_________________________________________________________________\n",
            "dense_1 (Dense)              (None, 6)                 6150      \n",
            "=================================================================\n",
            "Total params: 3,441,702\n",
            "Trainable params: 3,440,806\n",
            "Non-trainable params: 896\n",
            "_________________________________________________________________\n"
          ],
          "name": "stdout"
        }
      ]
    },
    {
      "cell_type": "markdown",
      "metadata": {
        "id": "cMXDM6NTWiGi",
        "colab_type": "text"
      },
      "source": [
        "# Testing the Model"
      ]
    },
    {
      "cell_type": "code",
      "metadata": {
        "id": "5_Kiwi7xXPaT",
        "colab_type": "code",
        "colab": {}
      },
      "source": [
        "test_generator.reset()"
      ],
      "execution_count": null,
      "outputs": []
    },
    {
      "cell_type": "code",
      "metadata": {
        "id": "J0ewnlD3Xkfh",
        "colab_type": "code",
        "colab": {
          "base_uri": "https://localhost:8080/",
          "height": 34
        },
        "outputId": "c72e2bb6-9bc4-484e-8828-371248cc89b9"
      },
      "source": [
        "test_steps_per_epoch = np.math.ceil(test_generator.samples / test_generator.batch_size)\n",
        "pred=model.predict(test_generator,verbose=1,steps=test_steps_per_epoch)"
      ],
      "execution_count": null,
      "outputs": [
        {
          "output_type": "stream",
          "text": [
            "8885/8885 [==============================] - 7194s 810ms/step\n"
          ],
          "name": "stdout"
        }
      ]
    },
    {
      "cell_type": "code",
      "metadata": {
        "id": "7VqHwIknYS5X",
        "colab_type": "code",
        "colab": {}
      },
      "source": [
        "predicted_class_indices=np.argmax(pred,axis=1)"
      ],
      "execution_count": null,
      "outputs": []
    },
    {
      "cell_type": "markdown",
      "metadata": {
        "id": "Fsu_-mqabD1n",
        "colab_type": "text"
      },
      "source": [
        "# Mapping the predicted labels with their unique id's"
      ]
    },
    {
      "cell_type": "code",
      "metadata": {
        "id": "HG20diyMYU0q",
        "colab_type": "code",
        "colab": {}
      },
      "source": [
        "labels = (train_generator.class_indices)\n",
        "labels = dict((v,k) for k,v in labels.items())\n",
        "predictions = [labels[k] for k in predicted_class_indices]"
      ],
      "execution_count": null,
      "outputs": []
    },
    {
      "cell_type": "markdown",
      "metadata": {
        "id": "hyHf212DbSVM",
        "colab_type": "text"
      },
      "source": [
        "# Constructing dataframe with predicted and true label comparision"
      ]
    },
    {
      "cell_type": "code",
      "metadata": {
        "id": "S1ylm_JnYefC",
        "colab_type": "code",
        "colab": {}
      },
      "source": [
        "filenames=test_generator.filenames\n",
        "results=pd.DataFrame({\"image\":filenames,\n",
        "                      \"predictions\":predictions})"
      ],
      "execution_count": null,
      "outputs": []
    },
    {
      "cell_type": "code",
      "metadata": {
        "id": "aQ1832yxZYdE",
        "colab_type": "code",
        "colab": {
          "base_uri": "https://localhost:8080/",
          "height": 51
        },
        "outputId": "2ea14159-b7d3-4cae-d4b8-1477898b10f1"
      },
      "source": [
        "true_and_predicted_labels = pd.merge(df_test[['id','image','masterCategory']], results, on=\"image\")\n",
        "true_and_predicted_labels.head()\n",
        "x = true_and_predicted_labels['masterCategory'].unique()\n",
        "print(x)"
      ],
      "execution_count": null,
      "outputs": [
        {
          "output_type": "stream",
          "text": [
            "['Footwear' 'Apparel' 'Accessories' 'Personal Care' 'Free Items'\n",
            " 'Sporting Goods']\n"
          ],
          "name": "stdout"
        }
      ]
    },
    {
      "cell_type": "code",
      "metadata": {
        "id": "99LozVAdK9Op",
        "colab_type": "code",
        "colab": {
          "base_uri": "https://localhost:8080/",
          "height": 204
        },
        "outputId": "a32b60a4-2857-41f8-a8b3-1862ccf07387"
      },
      "source": [
        "true_and_predicted_labels['correct_label'] = np.where(true_and_predicted_labels.masterCategory == true_and_predicted_labels.predictions, 1, 0)\n",
        "true_and_predicted_labels.head()\n"
      ],
      "execution_count": null,
      "outputs": [
        {
          "output_type": "execute_result",
          "data": {
            "text/html": [
              "<div>\n",
              "<style scoped>\n",
              "    .dataframe tbody tr th:only-of-type {\n",
              "        vertical-align: middle;\n",
              "    }\n",
              "\n",
              "    .dataframe tbody tr th {\n",
              "        vertical-align: top;\n",
              "    }\n",
              "\n",
              "    .dataframe thead th {\n",
              "        text-align: right;\n",
              "    }\n",
              "</style>\n",
              "<table border=\"1\" class=\"dataframe\">\n",
              "  <thead>\n",
              "    <tr style=\"text-align: right;\">\n",
              "      <th></th>\n",
              "      <th>id</th>\n",
              "      <th>image</th>\n",
              "      <th>masterCategory</th>\n",
              "      <th>predictions</th>\n",
              "      <th>correct_label</th>\n",
              "    </tr>\n",
              "  </thead>\n",
              "  <tbody>\n",
              "    <tr>\n",
              "      <th>0</th>\n",
              "      <td>10264</td>\n",
              "      <td>10264.jpg</td>\n",
              "      <td>Footwear</td>\n",
              "      <td>Footwear</td>\n",
              "      <td>1</td>\n",
              "    </tr>\n",
              "    <tr>\n",
              "      <th>1</th>\n",
              "      <td>32958</td>\n",
              "      <td>32958.jpg</td>\n",
              "      <td>Apparel</td>\n",
              "      <td>Apparel</td>\n",
              "      <td>1</td>\n",
              "    </tr>\n",
              "    <tr>\n",
              "      <th>2</th>\n",
              "      <td>25591</td>\n",
              "      <td>25591.jpg</td>\n",
              "      <td>Apparel</td>\n",
              "      <td>Apparel</td>\n",
              "      <td>1</td>\n",
              "    </tr>\n",
              "    <tr>\n",
              "      <th>3</th>\n",
              "      <td>48445</td>\n",
              "      <td>48445.jpg</td>\n",
              "      <td>Apparel</td>\n",
              "      <td>Apparel</td>\n",
              "      <td>1</td>\n",
              "    </tr>\n",
              "    <tr>\n",
              "      <th>4</th>\n",
              "      <td>18538</td>\n",
              "      <td>18538.jpg</td>\n",
              "      <td>Footwear</td>\n",
              "      <td>Footwear</td>\n",
              "      <td>1</td>\n",
              "    </tr>\n",
              "  </tbody>\n",
              "</table>\n",
              "</div>"
            ],
            "text/plain": [
              "      id      image masterCategory predictions  correct_label\n",
              "0  10264  10264.jpg       Footwear    Footwear              1\n",
              "1  32958  32958.jpg        Apparel     Apparel              1\n",
              "2  25591  25591.jpg        Apparel     Apparel              1\n",
              "3  48445  48445.jpg        Apparel     Apparel              1\n",
              "4  18538  18538.jpg       Footwear    Footwear              1"
            ]
          },
          "metadata": {
            "tags": []
          },
          "execution_count": 34
        }
      ]
    },
    {
      "cell_type": "code",
      "metadata": {
        "id": "yLEF3fbNcDj5",
        "colab_type": "code",
        "colab": {
          "base_uri": "https://localhost:8080/",
          "height": 34
        },
        "outputId": "aa01ee25-5e67-4309-d0e0-c780fa05a982"
      },
      "source": [
        "print('Test prediction accuracy:', true_and_predicted_labels['correct_label'].sum()/len(true_and_predicted_labels.predictions)*100)"
      ],
      "execution_count": null,
      "outputs": [
        {
          "output_type": "stream",
          "text": [
            "Test prediction accuracy: 98.80697805289815\n"
          ],
          "name": "stdout"
        }
      ]
    },
    {
      "cell_type": "code",
      "metadata": {
        "id": "LxMzFPUJCPGJ",
        "colab_type": "code",
        "colab": {
          "base_uri": "https://localhost:8080/",
          "height": 68
        },
        "outputId": "9f420aaf-b242-49e4-a0fd-0b9af14333dd"
      },
      "source": [
        "score = model.evaluate(valid_generator)\n",
        "print('Test loss:', score[0])\n",
        "print('Test accuracy:', score[1])"
      ],
      "execution_count": null,
      "outputs": [
        {
          "output_type": "stream",
          "text": [
            "278/278 [==============================] - 48s 172ms/step - loss: 0.1651 - accuracy: 0.9874\n",
            "Test loss: 0.16507580876350403\n",
            "Test accuracy: 0.9873930811882019\n"
          ],
          "name": "stdout"
        }
      ]
    },
    {
      "cell_type": "markdown",
      "metadata": {
        "id": "6bo-84UnWu0o",
        "colab_type": "text"
      },
      "source": [
        "# Model Evaluation"
      ]
    },
    {
      "cell_type": "code",
      "metadata": {
        "id": "iBqgYDc1APAn",
        "colab_type": "code",
        "colab": {
          "base_uri": "https://localhost:8080/",
          "height": 282
        },
        "outputId": "78d312b1-760f-4a81-ab3d-6df54e496c7d"
      },
      "source": [
        "# Plot loss per iteration\n",
        "plt.plot(model_output.history['loss'], label='loss')\n",
        "plt.plot(model_output.history['val_loss'], label='val_loss')\n",
        "plt.legend()"
      ],
      "execution_count": null,
      "outputs": [
        {
          "output_type": "execute_result",
          "data": {
            "text/plain": [
              "<matplotlib.legend.Legend at 0x7fcc7d160e48>"
            ]
          },
          "metadata": {
            "tags": []
          },
          "execution_count": 37
        },
        {
          "output_type": "display_data",
          "data": {
            "image/png": "[encoded data removed]",
            "text/plain": [
              "<Figure size 432x288 with 1 Axes>"
            ]
          },
          "metadata": {
            "tags": [],
            "needs_background": "light"
          }
        }
      ]
    },
    {
      "cell_type": "code",
      "metadata": {
        "id": "H_kIcRH3AQKc",
        "colab_type": "code",
        "colab": {
          "base_uri": "https://localhost:8080/",
          "height": 282
        },
        "outputId": "b9341ced-3074-497a-d876-e7ec0b005cea"
      },
      "source": [
        "# Plot accuracy per iteration\n",
        "plt.plot(model_output.history['accuracy'], label='acc')\n",
        "plt.plot(model_output.history['val_accuracy'], label='val_acc')\n",
        "plt.legend()"
      ],
      "execution_count": null,
      "outputs": [
        {
          "output_type": "execute_result",
          "data": {
            "text/plain": [
              "<matplotlib.legend.Legend at 0x7fcc23e42be0>"
            ]
          },
          "metadata": {
            "tags": []
          },
          "execution_count": 38
        },
        {
          "output_type": "display_data",
          "data": {
            "image/png": "[encoded data removed]",
            "text/plain": [
              "<Figure size 432x288 with 1 Axes>"
            ]
          },
          "metadata": {
            "tags": [],
            "needs_background": "light"
          }
        }
      ]
    },
    {
      "cell_type": "markdown",
      "metadata": {
        "id": "IP_PtoSZXYNP",
        "colab_type": "text"
      },
      "source": [
        "# Confusion Matrix"
      ]
    },
    {
      "cell_type": "code",
      "metadata": {
        "id": "VhMOZ9OC4FzI",
        "colab_type": "code",
        "colab": {
          "base_uri": "https://localhost:8080/",
          "height": 51
        },
        "outputId": "31bfce53-864a-4166-e0bd-9e5f2851910d"
      },
      "source": [
        "labels_x = (valid_generator.class_indices)\n",
        "labels_x = dict((v,k) for k,v in labels_x.items())\n",
        "predictions_x = [labels[k] for k in y_pred]\n",
        "\n",
        "filenames_x=valid_generator.filenames\n",
        "results_x=pd.DataFrame({\"image\":filenames_x,\n",
        "                      \"predictions\":predictions_x})\n",
        "\n",
        "true_and_predicted_labels_x = pd.merge(df_test[['image','masterCategory']], results, on=\"image\")\n",
        "true_and_predicted_labels_x.head()\n",
        "xy = true_and_predicted_labels['predictions'].unique()\n",
        "print(xy)"
      ],
      "execution_count": null,
      "outputs": [
        {
          "output_type": "stream",
          "text": [
            "['Footwear' 'Apparel' 'Accessories' 'Personal Care' 'Free Items'\n",
            " 'Sporting Goods']\n"
          ],
          "name": "stdout"
        }
      ]
    },
    {
      "cell_type": "code",
      "metadata": {
        "id": "H7fWhjqyAdks",
        "colab_type": "code",
        "colab": {
          "base_uri": "https://localhost:8080/",
          "height": 447
        },
        "outputId": "3dc2942f-911b-41eb-85f4-6cfb4e5ba2cd"
      },
      "source": [
        "# Plot confusion matrix\n",
        "from sklearn.metrics import confusion_matrix\n",
        "import itertools\n",
        "\n",
        "def plot_confusion_matrix(cm, classes,\n",
        "                          normalize=False,\n",
        "                          title='Confusion matrix',\n",
        "                          cmap=plt.cm.Blues):\n",
        "  \"\"\"\n",
        "  This function prints and plots the confusion matrix.\n",
        "  Normalization can be applied by setting `normalize=True`.\n",
        "  \"\"\"\n",
        "  if normalize:\n",
        "      cm = cm.astype('float') / cm.sum(axis=1)[:, np.newaxis]\n",
        "      print(\"Normalized confusion matrix\")\n",
        "  else:\n",
        "      print('Confusion matrix, without normalization')\n",
        "\n",
        "  print(cm)\n",
        "\n",
        "  plt.imshow(cm, interpolation='nearest', cmap=cmap)\n",
        "  plt.title(title)\n",
        "  plt.colorbar()\n",
        "  tick_marks = np.arange(len(classes))\n",
        "  plt.xticks(tick_marks, classes, rotation=45)\n",
        "  plt.yticks(tick_marks, classes)\n",
        "\n",
        "  fmt = '.2f' if normalize else 'd'\n",
        "  thresh = cm.max() / 2.\n",
        "  for i, j in itertools.product(range(cm.shape[0]), range(cm.shape[1])):\n",
        "      plt.text(j, i, format(cm[i, j], fmt),\n",
        "               horizontalalignment=\"center\",\n",
        "               color=\"white\" if cm[i, j] > thresh else \"black\")\n",
        "\n",
        "  plt.tight_layout()\n",
        "  plt.ylabel('True label')\n",
        "  plt.xlabel('Predicted label')\n",
        "  plt.show()\n",
        "\n",
        "valid_generator.reset()\n",
        "valid_steps_per_epoch = np.math.ceil(valid_generator.samples / valid_generator.batch_size)\n",
        "p_test=model.predict(valid_generator,verbose=1,steps=valid_steps_per_epoch).argmax(axis=1)\n",
        "\n",
        "cm = confusion_matrix(valid_generator.classes, p_test)\n",
        "plot_confusion_matrix(cm, list(range(6)))\n",
        "\n",
        "\n"
      ],
      "execution_count": null,
      "outputs": [
        {
          "output_type": "stream",
          "text": [
            "278/278 [==============================] - 46s 166ms/step\n",
            "Confusion matrix, without normalization\n",
            "[[ 582 1079  480    3  108    3]\n",
            " [1070 2095  864    8  238    3]\n",
            " [ 472  889  372    5  106    0]\n",
            " [   4   10    7    0    0    0]\n",
            " [ 111  223  116    1   30    0]\n",
            " [   1    3    1    0    0    0]]\n"
          ],
          "name": "stdout"
        },
        {
          "output_type": "display_data",
          "data": {
            "image/png": "[encoded data removed]",
            "text/plain": [
              "<Figure size 432x288 with 2 Axes>"
            ]
          },
          "metadata": {
            "tags": [],
            "needs_background": "light"
          }
        }
      ]
    },
    {
      "cell_type": "markdown",
      "metadata": {
        "id": "iFe_qheHX1uT",
        "colab_type": "text"
      },
      "source": [
        "# Examples of Misclassified Images"
      ]
    },
    {
      "cell_type": "code",
      "metadata": {
        "id": "1q5EyllJ5hY3",
        "colab_type": "code",
        "colab": {}
      },
      "source": [
        "\n",
        "\n",
        "import cv2\n",
        "from google.colab.patches import cv2_imshow\n",
        "\n",
        "def plot_figures(figures, nrows = 1, ncols=1):\n",
        "    \"\"\"Plot a dictionary of figures.\n",
        "\n",
        "    Parameters\n",
        "    ----------\n",
        "    figures : <title, figure> dictionary\n",
        "    ncols : number of columns of subplots wanted in the display\n",
        "    nrows : number of rows of subplots wanted in the figure\n",
        "    \"\"\"\n",
        "\n",
        "    fig, axeslist = plt.subplots(ncols=ncols, nrows=nrows)\n",
        "    for ind,title in enumerate(figures):\n",
        "        axeslist.ravel()[ind].imshow(cv2.cvtColor(figures[title], cv2.COLOR_BGR2RGB))\n",
        "        axeslist.ravel()[ind].set_title(title)\n",
        "        axeslist.ravel()[ind].set_axis_off()\n",
        "    plt.tight_layout() # optional\n",
        "    \n",
        "def img_path(img):\n",
        "    return images_data+img\n",
        "\n",
        "def load_image(img):\n",
        "    #resized_fac = \n",
        "    img     = cv2.imread(img_path(img))\n",
        "    w, h, _ = img.shape\n",
        "    #resized = cv2.resize(img, (int(h*resized_fac), int(w*resized_fac)), interpolation = cv2.INTER_AREA)\n",
        "    return img\n",
        "\n"
      ],
      "execution_count": null,
      "outputs": []
    },
    {
      "cell_type": "code",
      "metadata": {
        "id": "rZQ4-z_MOf2b",
        "colab_type": "code",
        "colab": {
          "base_uri": "https://localhost:8080/",
          "height": 314
        },
        "outputId": "695d4c4f-1bd1-4d88-d958-db2b544ec5a1"
      },
      "source": [
        "misclassified_idx = pd.DataFrame()\n",
        "misclassified_idx = true_and_predicted_labels.loc[true_and_predicted_labels['correct_label'] != 1].copy()\n",
        "# generation of a dictionary of (title, images)\n",
        "figures = {misclassified_idx.predictions[i]+\" \"+misclassified_idx.masterCategory[i]+str(i): load_image(row.image) for i, row in misclassified_idx.sample(4).iterrows()}\n",
        "#plot of the images in a figure, with 2 rows and 3 columns\n",
        "print(load_image(misclassified_idx.iloc[0].image).shape)\n",
        "plot_figures(figures, 2, 2)"
      ],
      "execution_count": null,
      "outputs": [
        {
          "output_type": "stream",
          "text": [
            "(80, 60, 3)\n"
          ],
          "name": "stdout"
        },
        {
          "output_type": "display_data",
          "data": {
            "image/png": "[encoded data removed]",
            "text/plain": [
              "<Figure size 432x288 with 4 Axes>"
            ]
          },
          "metadata": {
            "tags": [],
            "needs_background": "light"
          }
        }
      ]
    }
  ]
}
