{
  "nbformat": 4,
  "nbformat_minor": 0,
  "metadata": {
    "colab": {
      "name": "ModelOptimization.ipynb",
      "provenance": [],
      "collapsed_sections": [],
      "mount_file_id": "1k3MDVSZUyWLLpi0tIGvciihMWeyz0N65",
      "authorship_tag": "ABX9TyPCBqk5hgOK39vjCXSqb3jh",
      "include_colab_link": true
    },
    "kernelspec": {
      "name": "python3",
      "display_name": "Python 3"
    },
    "accelerator": "GPU"
  },
  "cells": [
    {
      "cell_type": "markdown",
      "metadata": {
        "id": "view-in-github",
        "colab_type": "text"
      },
      "source": [
        "<a href=\"https://colab.research.google.com/github/vferman2000/Springboard/blob/master/ModelOptimization.ipynb\" target=\"_parent\"><img src=\"https://colab.research.google.com/assets/colab-badge.svg\" alt=\"Open In Colab\"/></a>"
      ]
    },
    {
      "cell_type": "markdown",
      "metadata": {
        "id": "QZwr1TwJQe_X",
        "colab_type": "text"
      },
      "source": [
        "# Fashion Image Classification Project\n",
        "\n",
        "The objective of the project is to build a Convolutional Neural Network model to classify fashion product images using TensorFow and Keras functional API.  The model will then predict the class of a given input image.\n",
        "\n",
        "The dataset can be downloaded from https://www.kaggle.com/paramaggarwal/fashion-product-images-dataset\n",
        "\n",
        "The platform selected for the project is Google Collab.\n",
        "\n",
        "Different optimization techniques will be used to yield a classification system that is robust enough to address the needs of businesses requiring  a product catalog to classify items in an efficient and automated manner.\n",
        "\n",
        "\n",
        "\n"
      ]
    },
    {
      "cell_type": "code",
      "metadata": {
        "id": "Mac9tAiOzTti",
        "colab_type": "code",
        "colab": {
          "base_uri": "https://localhost:8080/",
          "height": 34
        },
        "outputId": "b748a01a-f295-4e10-dd5f-2a6bb175d730"
      },
      "source": [
        "# Install TensorFlow\n",
        "import tensorflow as tf \n",
        "tf.test.gpu_device_name()"
      ],
      "execution_count": null,
      "outputs": [
        {
          "output_type": "execute_result",
          "data": {
            "text/plain": [
              "'/device:GPU:0'"
            ]
          },
          "metadata": {
            "tags": []
          },
          "execution_count": 58
        }
      ]
    },
    {
      "cell_type": "code",
      "metadata": {
        "id": "syYEveD9zaW3",
        "colab_type": "code",
        "colab": {}
      },
      "source": [
        "# importing additional libraries\n",
        "\n",
        "import numpy as np\n",
        "import pandas as pd\n",
        "import matplotlib.pyplot as plt\n",
        "from tensorflow.keras.layers import Input, Conv2D, Dense, Flatten, Dropout, GlobalMaxPooling2D, MaxPooling2D, BatchNormalization\n",
        "from tensorflow.keras.models import Model\n",
        "from mpl_toolkits.mplot3d import Axes3D\n",
        "from sklearn.preprocessing import StandardScaler\n",
        "import matplotlib.image as mpimg\n",
        "from sklearn.model_selection import train_test_split\n",
        "import os"
      ],
      "execution_count": null,
      "outputs": []
    },
    {
      "cell_type": "markdown",
      "metadata": {
        "id": "kb_IOJcYQaIc",
        "colab_type": "text"
      },
      "source": [
        "# Mounting to Google Drive"
      ]
    },
    {
      "cell_type": "code",
      "metadata": {
        "id": "nzqG_5C3zfv7",
        "colab_type": "code",
        "colab": {
          "base_uri": "https://localhost:8080/",
          "height": 34
        },
        "outputId": "af747ea3-45c0-43f0-8d6f-1490ce1fb1e8"
      },
      "source": [
        "# Path to fashion product images files on Google Drive\n",
        "\n",
        "DATASET_PATH = \"/content/drive/My Drive/Springboard Data Science/CapstoneTwo/fashion-product-images-small/myntradataset/\"\n",
        "print(os.listdir(DATASET_PATH))"
      ],
      "execution_count": null,
      "outputs": [
        {
          "output_type": "stream",
          "text": [
            "['images', 'styles.csv']\n"
          ],
          "name": "stdout"
        }
      ]
    },
    {
      "cell_type": "code",
      "metadata": {
        "id": "RlPeQpEkz15Y",
        "colab_type": "code",
        "colab": {}
      },
      "source": [
        "# Reading df_style pandas dataframe which contains images attributes\n",
        "# Some rows have an extra column in their productDisplayName which will be ommitted.\n",
        "\n",
        "df_styles = pd.read_csv(DATASET_PATH + 'styles.csv', usecols = lambda column : column not in range(11))\n",
        "\n",
        "df_styles['image'] = df_styles.apply(lambda row: str(row['id']) + \".jpg\", axis=1)\n",
        "\n",
        "df_styles['masterCategory'] = df_styles.masterCategory.apply(lambda row: 'NA' if row is np.nan else row)"
      ],
      "execution_count": null,
      "outputs": []
    },
    {
      "cell_type": "markdown",
      "metadata": {
        "id": "VZoUXhqhyrKe",
        "colab_type": "text"
      },
      "source": [
        "There are 7 distinct product categories in the dataset.  As shown below, the categories are unevenly distributed.  The data will need to be stratified for balance."
      ]
    },
    {
      "cell_type": "code",
      "metadata": {
        "id": "HV9nsF4kQHdM",
        "colab_type": "code",
        "colab": {
          "base_uri": "https://localhost:8080/",
          "height": 153
        },
        "outputId": "7a1ccac4-e37f-4a13-8e42-14639ae8822e"
      },
      "source": [
        "df_styles.masterCategory.value_counts()"
      ],
      "execution_count": null,
      "outputs": [
        {
          "output_type": "execute_result",
          "data": {
            "text/plain": [
              "Apparel           21400\n",
              "Accessories       11289\n",
              "Footwear           9222\n",
              "Personal Care      2404\n",
              "Free Items          105\n",
              "Sporting Goods       25\n",
              "Home                  1\n",
              "Name: masterCategory, dtype: int64"
            ]
          },
          "metadata": {
            "tags": []
          },
          "execution_count": 6
        }
      ]
    },
    {
      "cell_type": "code",
      "metadata": {
        "id": "Sefe2qXCWM1I",
        "colab_type": "code",
        "colab": {}
      },
      "source": [
        "# There is only one sample in the Home category.  It will be omitted.\n",
        "df_styles_labels = df_styles[df_styles.masterCategory != 'Home']"
      ],
      "execution_count": null,
      "outputs": []
    },
    {
      "cell_type": "markdown",
      "metadata": {
        "id": "nWvAxjAEaJii",
        "colab_type": "text"
      },
      "source": [
        "Splitting dataset into train, validation and test subsets where each subset is stratisfied by the values in the masterCategory column of df_styles dataframe\n"
      ]
    },
    {
      "cell_type": "code",
      "metadata": {
        "id": "ye_lnS19q-Yb",
        "colab_type": "code",
        "colab": {}
      },
      "source": [
        "def split_stratified_into_train_val_test(df_input, stratify_colname='y',\n",
        "                                         frac_train=0.60, frac_val=0.20, frac_test=0.20,\n",
        "                                         random_state=None):\n",
        "    '''\n",
        "    Splits a Pandas dataframe into three subsets (train, val, and test)\n",
        "    following fractional ratios provided by the user, where each subset is\n",
        "    stratified by the values in a specific column (that is, each subset has\n",
        "    the same relative frequency of the values in the column). It performs this\n",
        "    splitting by running train_test_split() twice.\n",
        "\n",
        "    Parameters\n",
        "    ----------\n",
        "    df_input : Pandas dataframe\n",
        "        Input dataframe to be split.\n",
        "    stratify_colname : str\n",
        "        The name of the column that will be used for stratification. Usually\n",
        "        this column would be for the label.\n",
        "    frac_train : float\n",
        "    frac_val   : float\n",
        "    frac_test  : float\n",
        "        The ratios with which the dataframe will be split into train, val, and\n",
        "        test data. The values should be expressed as float fractions and should\n",
        "        sum to 1.0.\n",
        "    random_state : int, None, or RandomStateInstance\n",
        "        Value to be passed to train_test_split().\n",
        "\n",
        "    Returns\n",
        "    -------\n",
        "    df_train, df_val, df_test :\n",
        "        Dataframes containing the three splits.\n",
        "    '''\n",
        "\n",
        "    if frac_train + frac_val + frac_test != 1.0:\n",
        "        raise ValueError('fractions %f, %f, %f do not add up to 1.0' % \\\n",
        "                         (frac_train, frac_val, frac_test))\n",
        "\n",
        "    if stratify_colname not in df_styles.columns:\n",
        "        raise ValueError('%s is not a column in the dataframe' % (stratify_colname))\n",
        "\n",
        "    X = df_input # Contains all columns.\n",
        "    y = df_input[[stratify_colname]] # Dataframe of just the column on which to stratify.\n",
        "\n",
        "    # Split original dataframe into train and temp dataframes.\n",
        "    df_train, df_temp, y_train, y_temp = train_test_split(X,\n",
        "                                                          y,\n",
        "                                                          stratify=y,\n",
        "                                                          test_size=(1.0 - frac_train),\n",
        "                                                          random_state=random_state)\n",
        "\n",
        "    # Split the temp dataframe into val and test dataframes.\n",
        "    relative_frac_test = frac_test / (frac_val + frac_test)\n",
        "    df_validation, df_test, y_validation, y_test = train_test_split(df_temp,\n",
        "                                                      y_temp,\n",
        "                                                      stratify=y_temp,\n",
        "                                                      test_size=relative_frac_test,\n",
        "                                                      random_state=random_state)\n",
        "\n",
        "    assert len(df_input) == len(df_train) + len(df_validation) + len(df_test)\n",
        "\n",
        "    return df_train, df_validation, df_test"
      ],
      "execution_count": null,
      "outputs": []
    },
    {
      "cell_type": "code",
      "metadata": {
        "id": "QRlW3yv8fLaO",
        "colab_type": "code",
        "colab": {}
      },
      "source": [
        "df_train, df_validation, df_test = \\\n",
        "    split_stratified_into_train_val_test(df_styles_labels, stratify_colname='masterCategory', frac_train=0.60, frac_val=0.20, frac_test=0.20)"
      ],
      "execution_count": null,
      "outputs": []
    },
    {
      "cell_type": "code",
      "metadata": {
        "id": "bf4ZipqP0o9e",
        "colab_type": "code",
        "colab": {}
      },
      "source": [
        "y_test = df_test.masterCategory\n",
        "df_test_subset, df_control_subset, y_test_subset, y_control_subset = train_test_split(df_test, y_test, test_size=.50, stratify=y_test)"
      ],
      "execution_count": null,
      "outputs": []
    },
    {
      "cell_type": "code",
      "metadata": {
        "id": "q_l8oaRe0qva",
        "colab_type": "code",
        "colab": {
          "base_uri": "https://localhost:8080/",
          "height": 85
        },
        "outputId": "e8bfa2ce-b957-406a-b63e-eee59815cb5a"
      },
      "source": [
        "print('The train subset has', len(df_train),'samples')\n",
        "print('The validation subset has', len(df_validation),'samples')\n",
        "print('The test subset has', len(df_test_subset),'samples')\n",
        "print('The control subset has', len(df_control_subset),'samples')"
      ],
      "execution_count": null,
      "outputs": [
        {
          "output_type": "stream",
          "text": [
            "The train subset has 26667 samples\n",
            "The validation subset has 8889 samples\n",
            "The test subset has 4444 samples\n",
            "The control subset has 4445 samples\n"
          ],
          "name": "stdout"
        }
      ]
    },
    {
      "cell_type": "markdown",
      "metadata": {
        "id": "u7g8RDTPZ0jn",
        "colab_type": "text"
      },
      "source": [
        "There are six unique categories in the masterCategory column that will be used as classes in the model."
      ]
    },
    {
      "cell_type": "code",
      "metadata": {
        "id": "nQXngWJJXQXE",
        "colab_type": "code",
        "colab": {
          "base_uri": "https://localhost:8080/",
          "height": 136
        },
        "outputId": "2ca23a66-7383-4c4a-ea60-de82179c6145"
      },
      "source": [
        "df_train.masterCategory.value_counts()"
      ],
      "execution_count": null,
      "outputs": [
        {
          "output_type": "execute_result",
          "data": {
            "text/plain": [
              "Apparel           12840\n",
              "Accessories        6773\n",
              "Footwear           5533\n",
              "Personal Care      1443\n",
              "Free Items           63\n",
              "Sporting Goods       15\n",
              "Name: masterCategory, dtype: int64"
            ]
          },
          "metadata": {
            "tags": []
          },
          "execution_count": 18
        }
      ]
    },
    {
      "cell_type": "code",
      "metadata": {
        "id": "5m8ie4Dg0HZR",
        "colab_type": "code",
        "colab": {
          "base_uri": "https://localhost:8080/",
          "height": 34
        },
        "outputId": "d3db367a-16f8-4893-ee90-331450547144"
      },
      "source": [
        "# number of classes in masterCategory column of df_train\n",
        "K = len(set(df_train.iloc[:,2]))\n",
        "print('The number of classes is', K)"
      ],
      "execution_count": null,
      "outputs": [
        {
          "output_type": "stream",
          "text": [
            "The number of classes is 6\n"
          ],
          "name": "stdout"
        }
      ]
    },
    {
      "cell_type": "code",
      "metadata": {
        "id": "7xVCTj8M0VJ6",
        "colab_type": "code",
        "colab": {}
      },
      "source": [
        "# Path to images folder\n",
        "images_data = DATASET_PATH+\"images/\""
      ],
      "execution_count": null,
      "outputs": []
    },
    {
      "cell_type": "markdown",
      "metadata": {
        "id": "H-NFWo0aV3k5",
        "colab_type": "text"
      },
      "source": [
        "# Building the Convolutional Neural Network Model\n",
        "\n",
        "The input image is 80x60 in size with an RGB channel. We will build a CNN model with a convolution + pooling architecture, followed by a number of fully connected Dense layers. \n",
        "\n",
        "The activation function for the convolutional layers will be ReLU ((Rectified Linear Units). \n",
        "\n",
        "The output layer will utilize a softmax activation function for the multiclass classification.\n",
        "\n",
        "The hyperparameters that will be used are:\n",
        "MaxPooling2d(2, 2) which extracts certain features from the image and reduces its height and the width. By using 2 pooling layers, the height and width are 1/4 of the original sizes.\n",
        "\n",
        "BatchNormalization which regularizes and makes the training of convolutional neural networks more efficient.\n",
        "\n",
        "Dropout to avoid overfitting\n",
        "\n"
      ]
    },
    {
      "cell_type": "code",
      "metadata": {
        "id": "L6LZESjF0sv0",
        "colab_type": "code",
        "colab": {}
      },
      "source": [
        "# Build the convolutional Neural Network model using the functional API\n",
        "\n",
        "# Input node. image shape: 80 x 60 x 3 RGB channels\n",
        "i= Input(shape=(80, 60, 3))\n",
        "\n",
        "\n",
        "# 2D convolutional layer with 2 spatial dimensions (height and width)\n",
        "# Using more filters results in a more powerful model, but we risk overfitting due to increased parameter count.\n",
        "# 32 initial output feature maps that will progressively increase with network depth. (Starts low to check for overfitting)\n",
        "# A 3D filter with 3x3x3 dimensions\n",
        "# A ReLU activation funcion\n",
        "\n",
        "x = Conv2D(32, (3, 3), activation='relu', padding='valid')(i)\n",
        "x = BatchNormalization()(x)\n",
        "x = Conv2D(32, (3, 3), activation='relu', padding='valid')(x)\n",
        "x = BatchNormalization()(x)\n",
        "\n",
        "# Pooling layer to reduce dimensionality (max pooling takes the maximum value in the pooling window)\n",
        "x = MaxPooling2D((2, 2))(x)\n",
        "x = Dropout(0.2)(x)\n",
        "\n",
        "#Second convolutinal layer with increased number of feature maps\n",
        "x = Conv2D(64, (3, 3), activation='relu', padding='valid')(x)\n",
        "x = BatchNormalization()(x)\n",
        "x = Conv2D(64, (3, 3), activation='relu', padding='valid')(x)\n",
        "x = BatchNormalization()(x)\n",
        "x = MaxPooling2D((2, 2))(x)\n",
        "x = Dropout(0.2)(x)\n",
        "\n",
        "#Third convolutinal layer with increased number of feature maps\n",
        "x = Conv2D(128, (3, 3), activation='relu', padding='valid')(x)\n",
        "x = BatchNormalization()(x)\n",
        "x = Conv2D(128, (3, 3), activation='relu', padding='valid')(x)\n",
        "x = BatchNormalization()(x)\n",
        "x = MaxPooling2D((2, 2))(x)\n",
        "x = Dropout(0.2)(x)\n",
        "\n",
        "# Converting layer to 1 dimensional layer\n",
        "x = Flatten()(x)\n",
        "x = Dropout(0.2)(x)\n",
        "\n",
        "# Fully connected layer\n",
        "x = Dense(1024, activation='relu')(x)\n",
        "x = Dropout(0.2)(x)\n",
        "\n",
        "# Fully connected layer with Softmax activation function for multiclass classification probability\n",
        "x = Dense(K, activation='softmax')(x)\n",
        "\n",
        "model = Model(i, x)"
      ],
      "execution_count": null,
      "outputs": []
    },
    {
      "cell_type": "markdown",
      "metadata": {
        "id": "7wCOkDxcf-eC",
        "colab_type": "text"
      },
      "source": [
        "# Mapping images to MasterCategory classes in df_styles using ImageDataGenerator"
      ]
    },
    {
      "cell_type": "code",
      "metadata": {
        "id": "HhqeEc2u2g9z",
        "colab_type": "code",
        "colab": {
          "base_uri": "https://localhost:8080/",
          "height": 156
        },
        "outputId": "80860779-5c6b-4749-c9fe-4d7e00458bd3"
      },
      "source": [
        "# Using ImageDataGenerator to correlate images from image folder to masterCategory column in df_train, df_validation and df_test \n",
        "\n",
        "from keras.preprocessing.image import ImageDataGenerator\n",
        "HEIGHT = 80\n",
        "WIDTH = 60\n",
        "batch_size = 32\n",
        "datagen = ImageDataGenerator(rescale=1./255)\n",
        "test_datagen = ImageDataGenerator(rescale=1./255)\n",
        "\n",
        "train_generator=datagen.flow_from_dataframe(\n",
        "                    dataframe=df_train,\n",
        "                    directory=images_data,\n",
        "                    x_col=\"image\",\n",
        "                    y_col=\"masterCategory\",\n",
        "                    batch_size=batch_size,\n",
        "                    seed=42,\n",
        "                    shuffle=True,\n",
        "                    class_mode=\"categorical\",\n",
        "                    classes=['Footwear', 'Apparel', 'Accessories', 'Personal Care','Free Items','Sporting Goods'],\n",
        "                    target_size=(HEIGHT,WIDTH))\n",
        "\n",
        "valid_generator=test_datagen.flow_from_dataframe(\n",
        "                    dataframe=df_validation,\n",
        "                    directory=images_data,\n",
        "                    x_col=\"image\",\n",
        "                    y_col=\"masterCategory\",\n",
        "                    batch_size=batch_size,\n",
        "                    seed=42,\n",
        "                    shuffle=True,\n",
        "                    class_mode=\"categorical\",\n",
        "                    classes=['Footwear', 'Apparel', 'Accessories', 'Personal Care', 'Free Items','Sporting Goods'],\n",
        "                    target_size=(HEIGHT,WIDTH))\n",
        "\n",
        "test_generator=test_datagen.flow_from_dataframe(\n",
        "                    dataframe=df_test_subset,\n",
        "                    directory=images_data,\n",
        "                    x_col=\"image\",\n",
        "                    batch_size=1,\n",
        "                    seed=42,\n",
        "                    shuffle=False,\n",
        "                    class_mode=None,\n",
        "                    target_size=(HEIGHT,WIDTH))"
      ],
      "execution_count": null,
      "outputs": [
        {
          "output_type": "stream",
          "text": [
            "/usr/local/lib/python3.6/dist-packages/keras_preprocessing/image/dataframe_iterator.py:282: UserWarning: Found 4 invalid image filename(s) in x_col=\"image\". These filename(s) will be ignored.\n",
            "  .format(n_invalid, x_col)\n"
          ],
          "name": "stderr"
        },
        {
          "output_type": "stream",
          "text": [
            "Found 26663 validated image filenames belonging to 6 classes.\n",
            "Found 8889 validated image filenames belonging to 6 classes.\n",
            "Found 4443 validated image filenames.\n"
          ],
          "name": "stdout"
        },
        {
          "output_type": "stream",
          "text": [
            "/usr/local/lib/python3.6/dist-packages/keras_preprocessing/image/dataframe_iterator.py:282: UserWarning: Found 1 invalid image filename(s) in x_col=\"image\". These filename(s) will be ignored.\n",
            "  .format(n_invalid, x_col)\n"
          ],
          "name": "stderr"
        }
      ]
    },
    {
      "cell_type": "markdown",
      "metadata": {
        "id": "lwW9rQF7WX1K",
        "colab_type": "text"
      },
      "source": [
        "# Compiling and Fitting the Model"
      ]
    },
    {
      "cell_type": "markdown",
      "metadata": {
        "id": "vsUdMdrnpBSp",
        "colab_type": "text"
      },
      "source": [
        "1) Model compiled with:\n",
        "\n",
        "*   Adam optimizer\n",
        "*   learning rate of 0.001\n",
        "*   Categorical crossentropy\n",
        "*   Accuracy as the metric value\n",
        "\n"
      ]
    },
    {
      "cell_type": "code",
      "metadata": {
        "id": "uETdtdVJ26Mt",
        "colab_type": "code",
        "colab": {}
      },
      "source": [
        "# Compiling the model\n",
        "# default value lr = 0.001 for adam optimizer\n",
        "\n",
        "model.compile(optimizer='adam',\n",
        "        loss='categorical_crossentropy',\n",
        "        metrics=['accuracy'])"
      ],
      "execution_count": null,
      "outputs": []
    },
    {
      "cell_type": "code",
      "metadata": {
        "id": "RFYvjF6K27k0",
        "colab_type": "code",
        "colab": {
          "base_uri": "https://localhost:8080/",
          "height": 1000
        },
        "outputId": "61606eb1-0db2-4a68-f9db-f39af86c8cb2"
      },
      "source": [
        "# Fitting the model\n",
        "model_output_1 = model.fit(train_generator, validation_data=valid_generator, steps_per_epoch=int(train_generator.samples)/ batch_size, epochs=50)"
      ],
      "execution_count": null,
      "outputs": [
        {
          "output_type": "stream",
          "text": [
            "Epoch 1/50\n",
            "834/833 [==============================] - 152s 182ms/step - loss: 0.0094 - accuracy: 0.9977 - val_loss: 0.1558 - val_accuracy: 0.9862\n",
            "Epoch 2/50\n",
            "834/833 [==============================] - 153s 183ms/step - loss: 0.0079 - accuracy: 0.9981 - val_loss: 0.1252 - val_accuracy: 0.9874\n",
            "Epoch 3/50\n",
            "834/833 [==============================] - 151s 181ms/step - loss: 0.0070 - accuracy: 0.9977 - val_loss: 0.1963 - val_accuracy: 0.9839\n",
            "Epoch 4/50\n",
            "834/833 [==============================] - 151s 182ms/step - loss: 0.0053 - accuracy: 0.9983 - val_loss: 0.2073 - val_accuracy: 0.9691\n",
            "Epoch 5/50\n",
            "834/833 [==============================] - 154s 185ms/step - loss: 0.0097 - accuracy: 0.9973 - val_loss: 0.1539 - val_accuracy: 0.9865\n",
            "Epoch 6/50\n",
            "834/833 [==============================] - 152s 182ms/step - loss: 0.0061 - accuracy: 0.9980 - val_loss: 0.1834 - val_accuracy: 0.9766\n",
            "Epoch 7/50\n",
            "834/833 [==============================] - 154s 184ms/step - loss: 0.0070 - accuracy: 0.9981 - val_loss: 0.1684 - val_accuracy: 0.9847\n",
            "Epoch 8/50\n",
            "834/833 [==============================] - 153s 183ms/step - loss: 0.0046 - accuracy: 0.9989 - val_loss: 0.3221 - val_accuracy: 0.9707\n",
            "Epoch 9/50\n",
            "834/833 [==============================] - 153s 184ms/step - loss: 0.0074 - accuracy: 0.9983 - val_loss: 0.1199 - val_accuracy: 0.9884\n",
            "Epoch 10/50\n",
            "834/833 [==============================] - 152s 182ms/step - loss: 0.0062 - accuracy: 0.9980 - val_loss: 0.7375 - val_accuracy: 0.9188\n",
            "Epoch 11/50\n",
            "834/833 [==============================] - 152s 182ms/step - loss: 0.0025 - accuracy: 0.9993 - val_loss: 0.3018 - val_accuracy: 0.9746\n",
            "Epoch 12/50\n",
            "834/833 [==============================] - 151s 181ms/step - loss: 0.0050 - accuracy: 0.9986 - val_loss: 0.1473 - val_accuracy: 0.9838\n",
            "Epoch 13/50\n",
            "834/833 [==============================] - 151s 181ms/step - loss: 0.0053 - accuracy: 0.9986 - val_loss: 0.1426 - val_accuracy: 0.9881\n",
            "Epoch 14/50\n",
            "834/833 [==============================] - 151s 182ms/step - loss: 0.0067 - accuracy: 0.9982 - val_loss: 0.1741 - val_accuracy: 0.9881\n",
            "Epoch 15/50\n",
            "834/833 [==============================] - 152s 183ms/step - loss: 0.0079 - accuracy: 0.9981 - val_loss: 0.1506 - val_accuracy: 0.9856\n",
            "Epoch 16/50\n",
            "834/833 [==============================] - 151s 181ms/step - loss: 0.0081 - accuracy: 0.9983 - val_loss: 0.1480 - val_accuracy: 0.9881\n",
            "Epoch 17/50\n",
            "834/833 [==============================] - 152s 182ms/step - loss: 0.0049 - accuracy: 0.9983 - val_loss: 0.1502 - val_accuracy: 0.9892\n",
            "Epoch 18/50\n",
            "834/833 [==============================] - 151s 181ms/step - loss: 0.0076 - accuracy: 0.9982 - val_loss: 0.1268 - val_accuracy: 0.9874\n",
            "Epoch 19/50\n",
            "834/833 [==============================] - 151s 181ms/step - loss: 0.0079 - accuracy: 0.9980 - val_loss: 0.2893 - val_accuracy: 0.9778\n",
            "Epoch 20/50\n",
            "834/833 [==============================] - 152s 183ms/step - loss: 0.0069 - accuracy: 0.9983 - val_loss: 2.7729 - val_accuracy: 0.8572\n",
            "Epoch 21/50\n",
            "834/833 [==============================] - 152s 183ms/step - loss: 0.0063 - accuracy: 0.9983 - val_loss: 0.1978 - val_accuracy: 0.9718\n",
            "Epoch 22/50\n",
            "834/833 [==============================] - 151s 181ms/step - loss: 0.0055 - accuracy: 0.9985 - val_loss: 0.1764 - val_accuracy: 0.9886\n",
            "Epoch 23/50\n",
            "834/833 [==============================] - 151s 181ms/step - loss: 0.0063 - accuracy: 0.9988 - val_loss: 0.1583 - val_accuracy: 0.9890\n",
            "Epoch 24/50\n",
            "834/833 [==============================] - 151s 181ms/step - loss: 0.0050 - accuracy: 0.9990 - val_loss: 0.1356 - val_accuracy: 0.9856\n",
            "Epoch 25/50\n",
            "834/833 [==============================] - 153s 183ms/step - loss: 0.0043 - accuracy: 0.9988 - val_loss: 0.1796 - val_accuracy: 0.9877\n",
            "Epoch 26/50\n",
            "834/833 [==============================] - 152s 182ms/step - loss: 0.0057 - accuracy: 0.9985 - val_loss: 0.1683 - val_accuracy: 0.9872\n",
            "Epoch 27/50\n",
            "834/833 [==============================] - 153s 183ms/step - loss: 0.0050 - accuracy: 0.9985 - val_loss: 0.1616 - val_accuracy: 0.9865\n",
            "Epoch 28/50\n",
            "834/833 [==============================] - 151s 182ms/step - loss: 0.0056 - accuracy: 0.9986 - val_loss: 0.1506 - val_accuracy: 0.9875\n",
            "Epoch 29/50\n",
            "834/833 [==============================] - 152s 183ms/step - loss: 0.0053 - accuracy: 0.9985 - val_loss: 0.2360 - val_accuracy: 0.9775\n",
            "Epoch 30/50\n",
            "834/833 [==============================] - 152s 182ms/step - loss: 0.0059 - accuracy: 0.9986 - val_loss: 0.9661 - val_accuracy: 0.9178\n",
            "Epoch 31/50\n",
            "834/833 [==============================] - 151s 181ms/step - loss: 0.0105 - accuracy: 0.9979 - val_loss: 0.1518 - val_accuracy: 0.9899\n",
            "Epoch 32/50\n",
            "834/833 [==============================] - 151s 181ms/step - loss: 0.0061 - accuracy: 0.9984 - val_loss: 0.1790 - val_accuracy: 0.9874\n",
            "Epoch 33/50\n",
            "834/833 [==============================] - 153s 183ms/step - loss: 0.0063 - accuracy: 0.9987 - val_loss: 0.1360 - val_accuracy: 0.9895\n",
            "Epoch 34/50\n",
            "834/833 [==============================] - 151s 181ms/step - loss: 0.0054 - accuracy: 0.9987 - val_loss: 0.2152 - val_accuracy: 0.9844\n",
            "Epoch 35/50\n",
            "834/833 [==============================] - 153s 183ms/step - loss: 0.0059 - accuracy: 0.9987 - val_loss: 0.7237 - val_accuracy: 0.9404\n",
            "Epoch 36/50\n",
            "834/833 [==============================] - 151s 182ms/step - loss: 0.0061 - accuracy: 0.9987 - val_loss: 0.6339 - val_accuracy: 0.9497\n",
            "Epoch 37/50\n",
            "834/833 [==============================] - 153s 183ms/step - loss: 0.0062 - accuracy: 0.9986 - val_loss: 0.2718 - val_accuracy: 0.9704\n",
            "Epoch 38/50\n",
            "834/833 [==============================] - 152s 182ms/step - loss: 0.0054 - accuracy: 0.9987 - val_loss: 0.1665 - val_accuracy: 0.9890\n",
            "Epoch 39/50\n",
            "834/833 [==============================] - 152s 182ms/step - loss: 0.0035 - accuracy: 0.9990 - val_loss: 0.1945 - val_accuracy: 0.9886\n",
            "Epoch 40/50\n",
            "834/833 [==============================] - 151s 182ms/step - loss: 0.0067 - accuracy: 0.9986 - val_loss: 0.1886 - val_accuracy: 0.9877\n",
            "Epoch 41/50\n",
            "834/833 [==============================] - 153s 183ms/step - loss: 0.0051 - accuracy: 0.9987 - val_loss: 0.2080 - val_accuracy: 0.9856\n",
            "Epoch 42/50\n",
            "834/833 [==============================] - 151s 181ms/step - loss: 0.0073 - accuracy: 0.9984 - val_loss: 0.3801 - val_accuracy: 0.9796\n",
            "Epoch 43/50\n",
            "834/833 [==============================] - 152s 182ms/step - loss: 0.0073 - accuracy: 0.9982 - val_loss: 0.5533 - val_accuracy: 0.9587\n",
            "Epoch 44/50\n",
            "834/833 [==============================] - 152s 182ms/step - loss: 0.0056 - accuracy: 0.9984 - val_loss: 0.1813 - val_accuracy: 0.9863\n",
            "Epoch 45/50\n",
            "834/833 [==============================] - 153s 183ms/step - loss: 0.0050 - accuracy: 0.9988 - val_loss: 0.1924 - val_accuracy: 0.9856\n",
            "Epoch 46/50\n",
            "834/833 [==============================] - 152s 182ms/step - loss: 0.0059 - accuracy: 0.9989 - val_loss: 0.1644 - val_accuracy: 0.9874\n",
            "Epoch 47/50\n",
            "834/833 [==============================] - 153s 183ms/step - loss: 0.0029 - accuracy: 0.9993 - val_loss: 0.2672 - val_accuracy: 0.9779\n",
            "Epoch 48/50\n",
            "834/833 [==============================] - 152s 183ms/step - loss: 0.0095 - accuracy: 0.9985 - val_loss: 0.1919 - val_accuracy: 0.9832\n",
            "Epoch 49/50\n",
            "834/833 [==============================] - 153s 183ms/step - loss: 0.0053 - accuracy: 0.9986 - val_loss: 0.2074 - val_accuracy: 0.9890\n",
            "Epoch 50/50\n",
            "834/833 [==============================] - 153s 183ms/step - loss: 0.0055 - accuracy: 0.9987 - val_loss: 0.2056 - val_accuracy: 0.9851\n"
          ],
          "name": "stdout"
        }
      ]
    },
    {
      "cell_type": "markdown",
      "metadata": {
        "id": "bpE6Zmzcp7PC",
        "colab_type": "text"
      },
      "source": [
        "2) Model compiled with:\n",
        "\n",
        "*  Adam optimizer\n",
        "*  Exponential Decay optimization with an initial learning rate of 0.001\n",
        "*  Categorical crossentropy\n",
        "*  Accuracy as the metric value\n",
        "\n",
        "\n",
        "\n",
        "\n"
      ]
    },
    {
      "cell_type": "code",
      "metadata": {
        "id": "h0n4rdD_1Jyf",
        "colab_type": "code",
        "colab": {}
      },
      "source": [
        "# Compiling the model\n",
        "# Exponential Decay with an initial learning rate of 0.001\n",
        "\n",
        "lr_schedule = tf.optimizers.schedules.ExponentialDecay(\n",
        "    initial_learning_rate=1e-3,\n",
        "    decay_steps=10000,\n",
        "    decay_rate=0.9)\n",
        "optimizer = tf.optimizers.Adam(learning_rate=lr_schedule)\n",
        "\n",
        "model.compile(optimizer=optimizer,\n",
        "              loss='categorical_crossentropy',\n",
        "              metrics=['accuracy'])"
      ],
      "execution_count": null,
      "outputs": []
    },
    {
      "cell_type": "code",
      "metadata": {
        "id": "sfYYCkmu11Ai",
        "colab_type": "code",
        "colab": {
          "base_uri": "https://localhost:8080/",
          "height": 629
        },
        "outputId": "8e3ae355-c8f7-4486-aecb-153984ada156"
      },
      "source": [
        "callback = tf.keras.callbacks.EarlyStopping(monitor='loss', patience=3)\n",
        "model_output_1 = model.fit(train_generator, validation_data=valid_generator, steps_per_epoch=int(train_generator.samples)/ batch_size, epochs=50, callbacks=[callback])"
      ],
      "execution_count": null,
      "outputs": [
        {
          "output_type": "stream",
          "text": [
            "Epoch 1/50\n",
            "834/833 [==============================] - 3778s 5s/step - loss: 0.1318 - accuracy: 0.9713 - val_loss: 0.0790 - val_accuracy: 0.9823\n",
            "Epoch 2/50\n",
            "834/833 [==============================] - 163s 195ms/step - loss: 0.0910 - accuracy: 0.9785 - val_loss: 0.0750 - val_accuracy: 0.9856\n",
            "Epoch 3/50\n",
            "834/833 [==============================] - 162s 195ms/step - loss: 0.0776 - accuracy: 0.9832 - val_loss: 0.0682 - val_accuracy: 0.9873\n",
            "Epoch 4/50\n",
            "834/833 [==============================] - 164s 196ms/step - loss: 0.0699 - accuracy: 0.9838 - val_loss: 0.0642 - val_accuracy: 0.9880\n",
            "Epoch 5/50\n",
            "834/833 [==============================] - 161s 194ms/step - loss: 0.0612 - accuracy: 0.9851 - val_loss: 0.0636 - val_accuracy: 0.9886\n",
            "Epoch 6/50\n",
            "834/833 [==============================] - 162s 195ms/step - loss: 0.0540 - accuracy: 0.9854 - val_loss: 0.0593 - val_accuracy: 0.9888\n",
            "Epoch 7/50\n",
            "834/833 [==============================] - 161s 193ms/step - loss: 0.0546 - accuracy: 0.9868 - val_loss: 0.0573 - val_accuracy: 0.9895\n",
            "Epoch 8/50\n",
            "834/833 [==============================] - 161s 193ms/step - loss: 0.0461 - accuracy: 0.9877 - val_loss: 0.0631 - val_accuracy: 0.9893\n",
            "Epoch 9/50\n",
            "834/833 [==============================] - 160s 191ms/step - loss: 0.0479 - accuracy: 0.9869 - val_loss: 0.0629 - val_accuracy: 0.9890\n",
            "Epoch 10/50\n",
            "834/833 [==============================] - 161s 193ms/step - loss: 0.0417 - accuracy: 0.9887 - val_loss: 0.0610 - val_accuracy: 0.9897\n",
            "Epoch 11/50\n",
            "834/833 [==============================] - 160s 192ms/step - loss: 0.0414 - accuracy: 0.9893 - val_loss: 0.0621 - val_accuracy: 0.9895\n",
            "Epoch 12/50\n",
            "834/833 [==============================] - 161s 193ms/step - loss: 0.0403 - accuracy: 0.9899 - val_loss: 0.0632 - val_accuracy: 0.9895\n",
            "Epoch 13/50\n",
            "834/833 [==============================] - 158s 190ms/step - loss: 0.0365 - accuracy: 0.9906 - val_loss: 0.0754 - val_accuracy: 0.9843\n",
            "Epoch 14/50\n",
            "834/833 [==============================] - 159s 191ms/step - loss: 0.0356 - accuracy: 0.9909 - val_loss: 0.0579 - val_accuracy: 0.9903\n",
            "Epoch 15/50\n",
            "834/833 [==============================] - 160s 192ms/step - loss: 0.0307 - accuracy: 0.9916 - val_loss: 0.0825 - val_accuracy: 0.9838\n",
            "Epoch 16/50\n",
            "834/833 [==============================] - 161s 193ms/step - loss: 0.0322 - accuracy: 0.9919 - val_loss: 0.0657 - val_accuracy: 0.9917\n",
            "Epoch 17/50\n",
            "834/833 [==============================] - 158s 190ms/step - loss: 0.0333 - accuracy: 0.9918 - val_loss: 0.0620 - val_accuracy: 0.9882\n",
            "Epoch 18/50\n",
            "834/833 [==============================] - 160s 192ms/step - loss: 0.0318 - accuracy: 0.9920 - val_loss: 0.0668 - val_accuracy: 0.9915\n"
          ],
          "name": "stdout"
        }
      ]
    },
    {
      "cell_type": "code",
      "metadata": {
        "id": "yWDCPdtw5DSW",
        "colab_type": "code",
        "colab": {}
      },
      "source": [
        "# This the first model chosesn as first model to be used in an ensemble model due to its high accuracy of 0.9915\n",
        "\n",
        "model.save('/content/drive/My Drive/Springboard Data Science/CapstoneTwo/model_3.h5')\n"
      ],
      "execution_count": null,
      "outputs": []
    },
    {
      "cell_type": "code",
      "metadata": {
        "id": "8zdMQr0jCgQu",
        "colab_type": "code",
        "colab": {
          "base_uri": "https://localhost:8080/",
          "height": 969
        },
        "outputId": "4c71fee0-8f0b-4c38-9ef6-8134809aab56"
      },
      "source": [
        "model.summary()"
      ],
      "execution_count": null,
      "outputs": [
        {
          "output_type": "stream",
          "text": [
            "Model: \"model\"\n",
            "_________________________________________________________________\n",
            "Layer (type)                 Output Shape              Param #   \n",
            "=================================================================\n",
            "input_1 (InputLayer)         [(None, 80, 60, 3)]       0         \n",
            "_________________________________________________________________\n",
            "conv2d (Conv2D)              (None, 78, 58, 32)        896       \n",
            "_________________________________________________________________\n",
            "batch_normalization (BatchNo (None, 78, 58, 32)        128       \n",
            "_________________________________________________________________\n",
            "conv2d_1 (Conv2D)            (None, 76, 56, 32)        9248      \n",
            "_________________________________________________________________\n",
            "batch_normalization_1 (Batch (None, 76, 56, 32)        128       \n",
            "_________________________________________________________________\n",
            "max_pooling2d (MaxPooling2D) (None, 38, 28, 32)        0         \n",
            "_________________________________________________________________\n",
            "dropout (Dropout)            (None, 38, 28, 32)        0         \n",
            "_________________________________________________________________\n",
            "conv2d_2 (Conv2D)            (None, 36, 26, 64)        18496     \n",
            "_________________________________________________________________\n",
            "batch_normalization_2 (Batch (None, 36, 26, 64)        256       \n",
            "_________________________________________________________________\n",
            "conv2d_3 (Conv2D)            (None, 34, 24, 64)        36928     \n",
            "_________________________________________________________________\n",
            "batch_normalization_3 (Batch (None, 34, 24, 64)        256       \n",
            "_________________________________________________________________\n",
            "max_pooling2d_1 (MaxPooling2 (None, 17, 12, 64)        0         \n",
            "_________________________________________________________________\n",
            "dropout_1 (Dropout)          (None, 17, 12, 64)        0         \n",
            "_________________________________________________________________\n",
            "conv2d_4 (Conv2D)            (None, 15, 10, 128)       73856     \n",
            "_________________________________________________________________\n",
            "batch_normalization_4 (Batch (None, 15, 10, 128)       512       \n",
            "_________________________________________________________________\n",
            "conv2d_5 (Conv2D)            (None, 13, 8, 128)        147584    \n",
            "_________________________________________________________________\n",
            "batch_normalization_5 (Batch (None, 13, 8, 128)        512       \n",
            "_________________________________________________________________\n",
            "max_pooling2d_2 (MaxPooling2 (None, 6, 4, 128)         0         \n",
            "_________________________________________________________________\n",
            "dropout_2 (Dropout)          (None, 6, 4, 128)         0         \n",
            "_________________________________________________________________\n",
            "flatten (Flatten)            (None, 3072)              0         \n",
            "_________________________________________________________________\n",
            "dropout_3 (Dropout)          (None, 3072)              0         \n",
            "_________________________________________________________________\n",
            "dense (Dense)                (None, 1024)              3146752   \n",
            "_________________________________________________________________\n",
            "dropout_4 (Dropout)          (None, 1024)              0         \n",
            "_________________________________________________________________\n",
            "dense_1 (Dense)              (None, 6)                 6150      \n",
            "=================================================================\n",
            "Total params: 3,441,702\n",
            "Trainable params: 3,440,806\n",
            "Non-trainable params: 896\n",
            "_________________________________________________________________\n"
          ],
          "name": "stdout"
        }
      ]
    },
    {
      "cell_type": "code",
      "metadata": {
        "id": "LxMzFPUJCPGJ",
        "colab_type": "code",
        "colab": {
          "base_uri": "https://localhost:8080/",
          "height": 68
        },
        "outputId": "5857229c-56eb-49b0-a40d-7a6986fd93d6"
      },
      "source": [
        "score_1 = model.evaluate(valid_generator)\n",
        "print('Test loss:', score_1[0])\n",
        "print('Test accuracy:', score_1[1])"
      ],
      "execution_count": null,
      "outputs": [
        {
          "output_type": "stream",
          "text": [
            "278/278 [==============================] - 39s 142ms/step - loss: 0.0668 - accuracy: 0.9915\n",
            "Test loss: 0.06681511551141739\n",
            "Test accuracy: 0.9914501309394836\n"
          ],
          "name": "stdout"
        }
      ]
    },
    {
      "cell_type": "markdown",
      "metadata": {
        "id": "6bo-84UnWu0o",
        "colab_type": "text"
      },
      "source": [
        "# Model Evaluation"
      ]
    },
    {
      "cell_type": "code",
      "metadata": {
        "id": "iBqgYDc1APAn",
        "colab_type": "code",
        "colab": {
          "base_uri": "https://localhost:8080/",
          "height": 282
        },
        "outputId": "44274a21-1c58-488a-fff0-db04b3a0b2f4"
      },
      "source": [
        "# Plot loss per iteration\n",
        "plt.plot(model_output_1.history['loss'], label='loss')\n",
        "plt.plot(model_output_1.history['val_loss'], label='val_loss')\n",
        "plt.legend()"
      ],
      "execution_count": null,
      "outputs": [
        {
          "output_type": "execute_result",
          "data": {
            "text/plain": [
              "<matplotlib.legend.Legend at 0x7fc8bdeb06a0>"
            ]
          },
          "metadata": {
            "tags": []
          },
          "execution_count": 110
        },
        {
          "output_type": "display_data",
          "data": {
            "image/png": "[encoded data removed]",
            "text/plain": [
              "<Figure size 432x288 with 1 Axes>"
            ]
          },
          "metadata": {
            "tags": [],
            "needs_background": "light"
          }
        }
      ]
    },
    {
      "cell_type": "code",
      "metadata": {
        "id": "H_kIcRH3AQKc",
        "colab_type": "code",
        "colab": {
          "base_uri": "https://localhost:8080/",
          "height": 282
        },
        "outputId": "edb9de6d-2b54-45a1-dbbe-3b6992cac7be"
      },
      "source": [
        "# Plot accuracy per iteration\n",
        "plt.plot(model_output_1.history['accuracy'], label='acc')\n",
        "plt.plot(model_output_1.history['val_accuracy'], label='val_acc')\n",
        "plt.legend()"
      ],
      "execution_count": null,
      "outputs": [
        {
          "output_type": "execute_result",
          "data": {
            "text/plain": [
              "<matplotlib.legend.Legend at 0x7fc8bde9a7b8>"
            ]
          },
          "metadata": {
            "tags": []
          },
          "execution_count": 111
        },
        {
          "output_type": "display_data",
          "data": {
            "image/png": "[encoded data removed]",
            "text/plain": [
              "<Figure size 432x288 with 1 Axes>"
            ]
          },
          "metadata": {
            "tags": [],
            "needs_background": "light"
          }
        }
      ]
    },
    {
      "cell_type": "markdown",
      "metadata": {
        "id": "IP_PtoSZXYNP",
        "colab_type": "text"
      },
      "source": [
        "# Confusion Matrix"
      ]
    },
    {
      "cell_type": "code",
      "metadata": {
        "id": "H7fWhjqyAdks",
        "colab_type": "code",
        "colab": {
          "base_uri": "https://localhost:8080/",
          "height": 447
        },
        "outputId": "8562e6ef-82cd-4c1e-e2bf-fd1ba2c8721c"
      },
      "source": [
        "# Plot confusion matrix\n",
        "from sklearn.metrics import confusion_matrix\n",
        "import itertools\n",
        "\n",
        "def plot_confusion_matrix(cm, classes,\n",
        "                          normalize=False,\n",
        "                          title='Confusion matrix',\n",
        "                          cmap=plt.cm.Blues):\n",
        "  \"\"\"\n",
        "  This function prints and plots the confusion matrix.\n",
        "  Normalization can be applied by setting `normalize=True`.\n",
        "  \"\"\"\n",
        "  if normalize:\n",
        "      cm = cm.astype('float') / cm.sum(axis=1)[:, np.newaxis]\n",
        "      print(\"Normalized confusion matrix\")\n",
        "  else:\n",
        "      print('Confusion matrix, without normalization')\n",
        "\n",
        "  print(cm)\n",
        "\n",
        "  plt.imshow(cm, interpolation='nearest', cmap=cmap)\n",
        "  plt.title(title)\n",
        "  plt.colorbar()\n",
        "  tick_marks = np.arange(len(classes))\n",
        "  plt.xticks(tick_marks, classes, rotation=45)\n",
        "  plt.yticks(tick_marks, classes)\n",
        "\n",
        "  fmt = '.2f' if normalize else 'd'\n",
        "  thresh = cm.max() / 2.\n",
        "  for i, j in itertools.product(range(cm.shape[0]), range(cm.shape[1])):\n",
        "      plt.text(j, i, format(cm[i, j], fmt),\n",
        "               horizontalalignment=\"center\",\n",
        "               color=\"white\" if cm[i, j] > thresh else \"black\")\n",
        "\n",
        "  plt.tight_layout()\n",
        "  plt.ylabel('True label')\n",
        "  plt.xlabel('Predicted label')\n",
        "  plt.show()\n",
        "\n",
        "valid_generator.reset()\n",
        "valid_steps_per_epoch = np.math.ceil(valid_generator.samples / valid_generator.batch_size)\n",
        "p_test=model.predict(valid_generator,verbose=1,steps=valid_steps_per_epoch).argmax(axis=1)\n",
        "\n",
        "cm = confusion_matrix(valid_generator.classes, p_test)\n",
        "plot_confusion_matrix(cm, list(range(6)))\n",
        "\n",
        "\n"
      ],
      "execution_count": null,
      "outputs": [
        {
          "output_type": "stream",
          "text": [
            "278/278 [==============================] - 39s 142ms/step\n",
            "Confusion matrix, without normalization\n",
            "[[ 594 1084  485    0   95    0]\n",
            " [1086 2086  875    0  229    4]\n",
            " [ 468  872  374    0  129    1]\n",
            " [   9    6    6    0    0    0]\n",
            " [ 115  244  100    0   22    0]\n",
            " [   0    1    4    0    0    0]]\n"
          ],
          "name": "stdout"
        },
        {
          "output_type": "display_data",
          "data": {
            "image/png": "[encoded data removed]",
            "text/plain": [
              "<Figure size 432x288 with 2 Axes>"
            ]
          },
          "metadata": {
            "tags": [],
            "needs_background": "light"
          }
        }
      ]
    },
    {
      "cell_type": "markdown",
      "metadata": {
        "id": "VOwad6YO5sCV",
        "colab_type": "text"
      },
      "source": [
        "# Model # 2"
      ]
    },
    {
      "cell_type": "code",
      "metadata": {
        "id": "3NkVibZo7W_e",
        "colab_type": "code",
        "colab": {}
      },
      "source": [
        "# Build the convolutional Neural Network model using the functional API\n",
        "\n",
        "# Input node. image shape: 80 x 60 x 3 RGB channels\n",
        "i= Input(shape=(80, 60, 3))\n",
        "\n",
        "\n",
        "# 2D convolutional layer with 2 spatial dimensions (height and width)\n",
        "# Using more filters results in a more powerful model, but we risk overfitting due to increased parameter count.\n",
        "# 32 initial output feature maps that will progressively increase with network depth. (Starts low to check for overfitting)\n",
        "# A 3D filter with 3x3x3 dimensions\n",
        "# A ReLU activation funcion\n",
        "\n",
        "x = Conv2D(32, (3, 3), activation='relu', padding='valid')(i)\n",
        "x = BatchNormalization()(x)\n",
        "x = Conv2D(32, (3, 3), activation='relu', padding='valid')(x)\n",
        "x = BatchNormalization()(x)\n",
        "\n",
        "# Pooling layer to reduce dimensionality (max pooling takes the maximum value in the pooling window)\n",
        "x = MaxPooling2D((2, 2))(x)\n",
        "x = Dropout(0.2)(x)\n",
        "\n",
        "#Second convolutinal layer with increased number of feature maps\n",
        "x = Conv2D(64, (3, 3), activation='relu', padding='valid')(x)\n",
        "x = BatchNormalization()(x)\n",
        "x = Conv2D(64, (3, 3), activation='relu', padding='valid')(x)\n",
        "x = BatchNormalization()(x)\n",
        "x = MaxPooling2D((2, 2))(x)\n",
        "x = Dropout(0.2)(x)\n",
        "\n",
        "#Third convolutinal layer with increased number of feature maps\n",
        "x = Conv2D(128, (3, 3), activation='relu', padding='valid')(x)\n",
        "x = BatchNormalization()(x)\n",
        "x = Conv2D(128, (3, 3), activation='relu', padding='valid')(x)\n",
        "x = BatchNormalization()(x)\n",
        "x = MaxPooling2D((2, 2))(x)\n",
        "x = Dropout(0.2)(x)\n",
        "\n",
        "# Converting layer to 1 dimensional layer\n",
        "x = Flatten()(x)\n",
        "x = Dropout(0.2)(x)\n",
        "\n",
        "# Fully connected layer\n",
        "x = Dense(1024, activation='relu')(x)\n",
        "x = Dropout(0.2)(x)\n",
        "\n",
        "# Fully connected layer with Softmax activation function for multiclass classification probability\n",
        "x = Dense(K, activation='softmax')(x)\n",
        "\n",
        "model_2 = Model(i, x)"
      ],
      "execution_count": null,
      "outputs": []
    },
    {
      "cell_type": "markdown",
      "metadata": {
        "id": "iSH5MDxQsEJs",
        "colab_type": "text"
      },
      "source": [
        "3) Model compiled with:\n",
        "\n",
        "*  Stochastic Gradient Descent (SGD) optimizer\n",
        "*  Exponential Decay optimization with an initial learning rate of 0.01\n",
        "*  Categorical crossentropy\n",
        "*  Accuracy as the metric value\n"
      ]
    },
    {
      "cell_type": "code",
      "metadata": {
        "id": "07n9dId14_yu",
        "colab_type": "code",
        "colab": {}
      },
      "source": [
        "# Compiling the model\n",
        "#Exponential Decay with an initial learning rate of 0.01\n",
        "\n",
        "lr_schedule = tf.optimizers.schedules.ExponentialDecay(\n",
        "    initial_learning_rate=1e-2,\n",
        "    decay_steps=10000,\n",
        "    decay_rate=0.9)\n",
        "optimizer = tf.optimizers.SGD(learning_rate=lr_schedule)\n",
        "\n",
        "model_2.compile(optimizer=optimizer,\n",
        "              loss='categorical_crossentropy',\n",
        "              metrics=['accuracy'])"
      ],
      "execution_count": null,
      "outputs": []
    },
    {
      "cell_type": "code",
      "metadata": {
        "id": "Z0HYmrfB6sOh",
        "colab_type": "code",
        "colab": {
          "base_uri": "https://localhost:8080/",
          "height": 1000
        },
        "outputId": "b20aab0c-03af-45ad-9d57-5f34d0df6f62"
      },
      "source": [
        "# Fitting the model\n",
        "callback = tf.keras.callbacks.EarlyStopping(monitor='loss', patience=3)\n",
        "model_output_2 = model_2.fit(train_generator, validation_data=valid_generator, \n",
        "                         steps_per_epoch=int(train_generator.samples)/ batch_size, epochs=50, callbacks=[callback] )"
      ],
      "execution_count": null,
      "outputs": [
        {
          "output_type": "stream",
          "text": [
            "Epoch 1/50\n",
            "834/833 [==============================] - 160s 192ms/step - loss: 0.3280 - accuracy: 0.9059 - val_loss: 0.1416 - val_accuracy: 0.9589\n",
            "Epoch 2/50\n",
            "834/833 [==============================] - 159s 191ms/step - loss: 0.1464 - accuracy: 0.9545 - val_loss: 0.1379 - val_accuracy: 0.9568\n",
            "Epoch 3/50\n",
            "834/833 [==============================] - 159s 190ms/step - loss: 0.1146 - accuracy: 0.9660 - val_loss: 0.0966 - val_accuracy: 0.9704\n",
            "Epoch 4/50\n",
            "834/833 [==============================] - 158s 190ms/step - loss: 0.0950 - accuracy: 0.9736 - val_loss: 0.1453 - val_accuracy: 0.9532\n",
            "Epoch 5/50\n",
            "834/833 [==============================] - 160s 191ms/step - loss: 0.0823 - accuracy: 0.9760 - val_loss: 0.0987 - val_accuracy: 0.9718\n",
            "Epoch 6/50\n",
            "834/833 [==============================] - 160s 191ms/step - loss: 0.0762 - accuracy: 0.9788 - val_loss: 0.0786 - val_accuracy: 0.9772\n",
            "Epoch 7/50\n",
            "834/833 [==============================] - 160s 192ms/step - loss: 0.0692 - accuracy: 0.9805 - val_loss: 0.2475 - val_accuracy: 0.9198\n",
            "Epoch 8/50\n",
            "834/833 [==============================] - 159s 191ms/step - loss: 0.0632 - accuracy: 0.9815 - val_loss: 0.0647 - val_accuracy: 0.9813\n",
            "Epoch 9/50\n",
            "834/833 [==============================] - 160s 191ms/step - loss: 0.0572 - accuracy: 0.9834 - val_loss: 0.0717 - val_accuracy: 0.9807\n",
            "Epoch 10/50\n",
            "834/833 [==============================] - 158s 189ms/step - loss: 0.0574 - accuracy: 0.9832 - val_loss: 0.0725 - val_accuracy: 0.9789\n",
            "Epoch 11/50\n",
            "834/833 [==============================] - 160s 192ms/step - loss: 0.0515 - accuracy: 0.9850 - val_loss: 0.1273 - val_accuracy: 0.9598\n",
            "Epoch 12/50\n",
            "834/833 [==============================] - 160s 192ms/step - loss: 0.0481 - accuracy: 0.9869 - val_loss: 0.1016 - val_accuracy: 0.9667\n",
            "Epoch 13/50\n",
            "834/833 [==============================] - 160s 192ms/step - loss: 0.0463 - accuracy: 0.9863 - val_loss: 0.0619 - val_accuracy: 0.9836\n",
            "Epoch 14/50\n",
            "834/833 [==============================] - 157s 188ms/step - loss: 0.0426 - accuracy: 0.9879 - val_loss: 0.0588 - val_accuracy: 0.9840\n",
            "Epoch 15/50\n",
            "834/833 [==============================] - 161s 193ms/step - loss: 0.0388 - accuracy: 0.9889 - val_loss: 0.0617 - val_accuracy: 0.9836\n",
            "Epoch 16/50\n",
            "834/833 [==============================] - 158s 189ms/step - loss: 0.0375 - accuracy: 0.9896 - val_loss: 0.0823 - val_accuracy: 0.9793\n",
            "Epoch 17/50\n",
            "834/833 [==============================] - 156s 187ms/step - loss: 0.0365 - accuracy: 0.9891 - val_loss: 0.0582 - val_accuracy: 0.9846\n",
            "Epoch 18/50\n",
            "834/833 [==============================] - 157s 189ms/step - loss: 0.0352 - accuracy: 0.9896 - val_loss: 0.0639 - val_accuracy: 0.9809\n",
            "Epoch 19/50\n",
            "834/833 [==============================] - 161s 193ms/step - loss: 0.0337 - accuracy: 0.9901 - val_loss: 0.0667 - val_accuracy: 0.9817\n",
            "Epoch 20/50\n",
            "834/833 [==============================] - 159s 190ms/step - loss: 0.0301 - accuracy: 0.9916 - val_loss: 0.0549 - val_accuracy: 0.9859\n",
            "Epoch 21/50\n",
            "834/833 [==============================] - 160s 192ms/step - loss: 0.0303 - accuracy: 0.9910 - val_loss: 0.0654 - val_accuracy: 0.9848\n",
            "Epoch 22/50\n",
            "834/833 [==============================] - 159s 191ms/step - loss: 0.0277 - accuracy: 0.9919 - val_loss: 0.0570 - val_accuracy: 0.9856\n",
            "Epoch 23/50\n",
            "834/833 [==============================] - 160s 192ms/step - loss: 0.0274 - accuracy: 0.9920 - val_loss: 0.0530 - val_accuracy: 0.9868\n",
            "Epoch 24/50\n",
            "834/833 [==============================] - 158s 189ms/step - loss: 0.0263 - accuracy: 0.9916 - val_loss: 0.0578 - val_accuracy: 0.9859\n",
            "Epoch 25/50\n",
            "834/833 [==============================] - 161s 193ms/step - loss: 0.0239 - accuracy: 0.9926 - val_loss: 0.0676 - val_accuracy: 0.9841\n",
            "Epoch 26/50\n",
            "834/833 [==============================] - 160s 192ms/step - loss: 0.0230 - accuracy: 0.9930 - val_loss: 0.0591 - val_accuracy: 0.9853\n",
            "Epoch 27/50\n",
            "834/833 [==============================] - 160s 192ms/step - loss: 0.0221 - accuracy: 0.9936 - val_loss: 0.0568 - val_accuracy: 0.9853\n",
            "Epoch 28/50\n",
            "834/833 [==============================] - 160s 192ms/step - loss: 0.0208 - accuracy: 0.9940 - val_loss: 0.0530 - val_accuracy: 0.9891\n",
            "Epoch 29/50\n",
            "834/833 [==============================] - 157s 188ms/step - loss: 0.0200 - accuracy: 0.9940 - val_loss: 0.4528 - val_accuracy: 0.8919\n",
            "Epoch 30/50\n",
            "834/833 [==============================] - 159s 191ms/step - loss: 0.0203 - accuracy: 0.9943 - val_loss: 0.0656 - val_accuracy: 0.9838\n",
            "Epoch 31/50\n",
            "834/833 [==============================] - 158s 189ms/step - loss: 0.0210 - accuracy: 0.9934 - val_loss: 0.0829 - val_accuracy: 0.9772\n",
            "Epoch 32/50\n",
            "834/833 [==============================] - 159s 190ms/step - loss: 0.0177 - accuracy: 0.9949 - val_loss: 0.0684 - val_accuracy: 0.9853\n",
            "Epoch 33/50\n",
            "834/833 [==============================] - 158s 189ms/step - loss: 0.0174 - accuracy: 0.9946 - val_loss: 0.0807 - val_accuracy: 0.9825\n",
            "Epoch 34/50\n",
            "834/833 [==============================] - 159s 190ms/step - loss: 0.0185 - accuracy: 0.9946 - val_loss: 0.0597 - val_accuracy: 0.9840\n",
            "Epoch 35/50\n",
            "834/833 [==============================] - 158s 189ms/step - loss: 0.0186 - accuracy: 0.9943 - val_loss: 0.0583 - val_accuracy: 0.9849\n",
            "Epoch 36/50\n",
            "834/833 [==============================] - 160s 191ms/step - loss: 0.0156 - accuracy: 0.9953 - val_loss: 0.0604 - val_accuracy: 0.9868\n",
            "Epoch 37/50\n",
            "834/833 [==============================] - 159s 191ms/step - loss: 0.0162 - accuracy: 0.9952 - val_loss: 0.2408 - val_accuracy: 0.9469\n",
            "Epoch 38/50\n",
            "834/833 [==============================] - 159s 191ms/step - loss: 0.0156 - accuracy: 0.9950 - val_loss: 0.1708 - val_accuracy: 0.9538\n",
            "Epoch 39/50\n",
            "834/833 [==============================] - 158s 190ms/step - loss: 0.0135 - accuracy: 0.9960 - val_loss: 0.0589 - val_accuracy: 0.9853\n",
            "Epoch 40/50\n",
            "834/833 [==============================] - 160s 192ms/step - loss: 0.0143 - accuracy: 0.9961 - val_loss: 0.0606 - val_accuracy: 0.9868\n",
            "Epoch 41/50\n",
            "834/833 [==============================] - 159s 191ms/step - loss: 0.0141 - accuracy: 0.9956 - val_loss: 0.0605 - val_accuracy: 0.9866\n",
            "Epoch 42/50\n",
            "834/833 [==============================] - 161s 193ms/step - loss: 0.0143 - accuracy: 0.9953 - val_loss: 0.0544 - val_accuracy: 0.9877\n"
          ],
          "name": "stdout"
        }
      ]
    },
    {
      "cell_type": "code",
      "metadata": {
        "id": "pBtb3hlu8TDc",
        "colab_type": "code",
        "colab": {}
      },
      "source": [
        "# This the second model chosesn as first model to be used in an ensemble model due to its high accuracy of 0.9877\n",
        "\n",
        "model_2.save('/content/drive/My Drive/Springboard Data Science/CapstoneTwo/model_4.h5')\n"
      ],
      "execution_count": null,
      "outputs": []
    },
    {
      "cell_type": "code",
      "metadata": {
        "id": "fRvKXQ3j7DBD",
        "colab_type": "code",
        "colab": {
          "base_uri": "https://localhost:8080/",
          "height": 68
        },
        "outputId": "f5fa1c57-97ed-41d7-b7e5-8a7f77079524"
      },
      "source": [
        "score_2 = model_2.evaluate(valid_generator)\n",
        "print('Test loss:', score_2[0])\n",
        "print('Test accuracy:', score_2[1])"
      ],
      "execution_count": null,
      "outputs": [
        {
          "output_type": "stream",
          "text": [
            "278/278 [==============================] - 39s 141ms/step - loss: 0.0544 - accuracy: 0.9877\n",
            "Test loss: 0.054395657032728195\n",
            "Test accuracy: 0.9877376556396484\n"
          ],
          "name": "stdout"
        }
      ]
    },
    {
      "cell_type": "code",
      "metadata": {
        "id": "kuGuQU7G8lHh",
        "colab_type": "code",
        "colab": {
          "base_uri": "https://localhost:8080/",
          "height": 282
        },
        "outputId": "dd3cf6bd-5026-420d-a704-9c7d19b254c3"
      },
      "source": [
        "# Plot loss per iteration\n",
        "plt.plot(model_output_2.history['loss'], label='loss')\n",
        "plt.plot(model_output_2.history['val_loss'], label='val_loss')\n",
        "plt.legend()\n"
      ],
      "execution_count": null,
      "outputs": [
        {
          "output_type": "execute_result",
          "data": {
            "text/plain": [
              "<matplotlib.legend.Legend at 0x7fc8bac93f98>"
            ]
          },
          "metadata": {
            "tags": []
          },
          "execution_count": 119
        },
        {
          "output_type": "display_data",
          "data": {
            "image/png": "[encoded data removed]",
            "text/plain": [
              "<Figure size 432x288 with 1 Axes>"
            ]
          },
          "metadata": {
            "tags": [],
            "needs_background": "light"
          }
        }
      ]
    },
    {
      "cell_type": "code",
      "metadata": {
        "id": "Rs8Bdc8J8sPF",
        "colab_type": "code",
        "colab": {
          "base_uri": "https://localhost:8080/",
          "height": 284
        },
        "outputId": "a5b827c0-b971-4c98-eb71-67e266015e8a"
      },
      "source": [
        "# Plot accuracy per iteration\n",
        "plt.plot(model_output_2.history['accuracy'], label='acc')\n",
        "plt.plot(model_output_2.history['val_accuracy'], label='val_acc')\n",
        "plt.legend()"
      ],
      "execution_count": null,
      "outputs": [
        {
          "output_type": "execute_result",
          "data": {
            "text/plain": [
              "<matplotlib.legend.Legend at 0x7fc8bac01208>"
            ]
          },
          "metadata": {
            "tags": []
          },
          "execution_count": 120
        },
        {
          "output_type": "display_data",
          "data": {
            "image/png": "[encoded data removed]",
            "text/plain": [
              "<Figure size 432x288 with 1 Axes>"
            ]
          },
          "metadata": {
            "tags": [],
            "needs_background": "light"
          }
        }
      ]
    },
    {
      "cell_type": "code",
      "metadata": {
        "id": "FMLHVrdL8yzj",
        "colab_type": "code",
        "colab": {
          "base_uri": "https://localhost:8080/",
          "height": 447
        },
        "outputId": "577d94e5-26c9-46bc-bbdf-328b3c8adf87"
      },
      "source": [
        "# Plot confusion matrix\n",
        "from sklearn.metrics import confusion_matrix\n",
        "import itertools\n",
        "\n",
        "def plot_confusion_matrix(cm, classes,\n",
        "                          normalize=False,\n",
        "                          title='Confusion matrix',\n",
        "                          cmap=plt.cm.Blues):\n",
        "  \"\"\"\n",
        "  This function prints and plots the confusion matrix.\n",
        "  Normalization can be applied by setting `normalize=True`.\n",
        "  \"\"\"\n",
        "  if normalize:\n",
        "      cm = cm.astype('float') / cm.sum(axis=1)[:, np.newaxis]\n",
        "      print(\"Normalized confusion matrix\")\n",
        "  else:\n",
        "      print('Confusion matrix, without normalization')\n",
        "\n",
        "  print(cm)\n",
        "\n",
        "  plt.imshow(cm, interpolation='nearest', cmap=cmap)\n",
        "  plt.title(title)\n",
        "  plt.colorbar()\n",
        "  tick_marks = np.arange(len(classes))\n",
        "  plt.xticks(tick_marks, classes, rotation=45)\n",
        "  plt.yticks(tick_marks, classes)\n",
        "\n",
        "  fmt = '.2f' if normalize else 'd'\n",
        "  thresh = cm.max() / 2.\n",
        "  for i, j in itertools.product(range(cm.shape[0]), range(cm.shape[1])):\n",
        "      plt.text(j, i, format(cm[i, j], fmt),\n",
        "               horizontalalignment=\"center\",\n",
        "               color=\"white\" if cm[i, j] > thresh else \"black\")\n",
        "\n",
        "  plt.tight_layout()\n",
        "  plt.ylabel('True label')\n",
        "  plt.xlabel('Predicted label')\n",
        "  plt.show()\n",
        "\n",
        "valid_generator.reset()\n",
        "valid_steps_per_epoch = np.math.ceil(valid_generator.samples / valid_generator.batch_size)\n",
        "p_test=model_2.predict(valid_generator,verbose=1,steps=valid_steps_per_epoch).argmax(axis=1)\n",
        "\n",
        "cm = confusion_matrix(valid_generator.classes, p_test)\n",
        "plot_confusion_matrix(cm, list(range(6)))"
      ],
      "execution_count": null,
      "outputs": [
        {
          "output_type": "stream",
          "text": [
            "278/278 [==============================] - 39s 142ms/step\n",
            "Confusion matrix, without normalization\n",
            "[[ 641 1045  449    2  121    0]\n",
            " [1026 2129  896    3  226    0]\n",
            " [ 446  889  406    2  101    0]\n",
            " [   5    7    5    0    4    0]\n",
            " [ 132  230   91    0   28    0]\n",
            " [   1    4    0    0    0    0]]\n"
          ],
          "name": "stdout"
        },
        {
          "output_type": "display_data",
          "data": {
            "image/png": "[encoded data removed]",
            "text/plain": [
              "<Figure size 432x288 with 2 Axes>"
            ]
          },
          "metadata": {
            "tags": [],
            "needs_background": "light"
          }
        }
      ]
    },
    {
      "cell_type": "markdown",
      "metadata": {
        "id": "f-Com1SntUuD",
        "colab_type": "text"
      },
      "source": [
        "# Parameter averaging across models using selected models"
      ]
    },
    {
      "cell_type": "code",
      "metadata": {
        "id": "ow0LFtmyu4t0",
        "colab_type": "code",
        "colab": {}
      },
      "source": [
        "from keras.models import load_model\n",
        "models=[]\n",
        "\n",
        "model1=tf.keras.models.load_model('/content/drive/My Drive/Springboard Data Science/CapstoneTwo/model_3.h5') # load model\n",
        "model2=tf.keras.models.load_model('/content/drive/My Drive/Springboard Data Science/CapstoneTwo/model_4.h5') # load model\n",
        "\n",
        "\n",
        "models.append(model1)\n",
        "models.append(model2)"
      ],
      "execution_count": null,
      "outputs": []
    },
    {
      "cell_type": "code",
      "metadata": {
        "id": "KjEg6H62xLTc",
        "colab_type": "code",
        "colab": {
          "base_uri": "https://localhost:8080/",
          "height": 34
        },
        "outputId": "b64937ba-242b-4a5b-c521-35e9e6823b41"
      },
      "source": [
        "print(models)"
      ],
      "execution_count": null,
      "outputs": [
        {
          "output_type": "stream",
          "text": [
            "[<tensorflow.python.keras.engine.training.Model object at 0x7fc8b87d9438>, <tensorflow.python.keras.engine.training.Model object at 0x7fc8b7a16d30>]\n"
          ],
          "name": "stdout"
        }
      ]
    },
    {
      "cell_type": "code",
      "metadata": {
        "id": "mQglmSKKvr6H",
        "colab_type": "code",
        "colab": {}
      },
      "source": [
        "def ensembleModels(models, model_input):\n",
        "    # collect outputs of models in a list\n",
        "    yModels=[model(model_input) for model in models] \n",
        "    # averaging outputs\n",
        "    yAvg=layers.average(yModels) \n",
        "    # build model from same input and avg output\n",
        "    modelEns = Model(inputs=model_input, outputs=yAvg, name='ensemble')  \n",
        "   \n",
        "    return modelEns"
      ],
      "execution_count": null,
      "outputs": []
    },
    {
      "cell_type": "code",
      "metadata": {
        "id": "NNqOoFJIvwNl",
        "colab_type": "code",
        "colab": {
          "base_uri": "https://localhost:8080/",
          "height": 221
        },
        "outputId": "b9637986-8289-442f-cc42-8f7d9e4bd1a8"
      },
      "source": [
        "model_input = Input(shape=(80,60,3))\n",
        "modelEns = ensembleModels(models, model_input)\n",
        "model.summary()"
      ],
      "execution_count": null,
      "outputs": [
        {
          "output_type": "stream",
          "text": [
            "Model: \"model_22\"\n",
            "_________________________________________________________________\n",
            "Layer (type)                 Output Shape              Param #   \n",
            "=================================================================\n",
            "input_29 (InputLayer)        [(None, 80, 60, 3)]       0         \n",
            "_________________________________________________________________\n",
            "dense_20 (Dense)             (None, 80, 60, 1)         4         \n",
            "=================================================================\n",
            "Total params: 4\n",
            "Trainable params: 4\n",
            "Non-trainable params: 0\n",
            "_________________________________________________________________\n"
          ],
          "name": "stdout"
        }
      ]
    },
    {
      "cell_type": "code",
      "metadata": {
        "id": "BRTttqXYldWi",
        "colab_type": "code",
        "colab": {}
      },
      "source": [
        "from tensorflow.keras import layers\n",
        "def get_model():\n",
        "    inputs = keras.Input(shape=(80,60,3))\n",
        "    outputs = layers.Dense(1)(inputs)\n",
        "    return keras.Model(inputs, outputs)\n",
        "\n",
        "\n",
        "model1 = get_model()\n",
        "model2 = get_model()\n",
        "\n",
        "inputs = tf.keras.Input(shape=(80,60,3))\n",
        "y1 = model1(inputs)\n",
        "y2 = model2(inputs)\n",
        "\n",
        "\n",
        "outputs = layers.average([y1, y2])\n",
        "ensemble_model = keras.Model(inputs=inputs, outputs=outputs)"
      ],
      "execution_count": null,
      "outputs": []
    },
    {
      "cell_type": "code",
      "metadata": {
        "id": "H1ob7c35897v",
        "colab_type": "code",
        "colab": {
          "base_uri": "https://localhost:8080/",
          "height": 799
        },
        "outputId": "be33decd-a32a-4274-d132-fe1bdd4f6742"
      },
      "source": [
        "\n",
        "\n",
        "lr_schedule = tf.optimizers.schedules.ExponentialDecay(\n",
        "    initial_learning_rate=1e-2,\n",
        "    decay_steps=10000,\n",
        "    decay_rate=0.9)\n",
        "optimizer = tf.optimizers.Adam(learning_rate=lr_schedule)\n",
        "\n",
        "modelEns.compile(optimizer=optimizer,\n",
        "              loss='categorical_crossentropy',\n",
        "              metrics=['accuracy'])\n",
        "\n",
        "model_output_3=modelEns.fit(train_generator, validation_data=valid_generator, steps_per_epoch=int(train_generator.samples)/ batch_size, epochs=50, callbacks=[callback])"
      ],
      "execution_count": null,
      "outputs": [
        {
          "output_type": "stream",
          "text": [
            "Epoch 1/50\n",
            "834/833 [==============================] - 165s 198ms/step - loss: 0.0907 - accuracy: 0.9284 - val_loss: 0.1034 - val_accuracy: 0.9277\n",
            "Epoch 2/50\n",
            "834/833 [==============================] - 163s 196ms/step - loss: 0.0879 - accuracy: 0.9292 - val_loss: 0.0962 - val_accuracy: 0.9325\n",
            "Epoch 3/50\n",
            "834/833 [==============================] - 164s 197ms/step - loss: 0.0827 - accuracy: 0.9304 - val_loss: 0.0969 - val_accuracy: 0.9336\n",
            "Epoch 4/50\n",
            "834/833 [==============================] - 164s 196ms/step - loss: 0.0789 - accuracy: 0.9335 - val_loss: 0.0912 - val_accuracy: 0.9376\n",
            "Epoch 5/50\n",
            "834/833 [==============================] - 165s 197ms/step - loss: 0.0764 - accuracy: 0.9332 - val_loss: 0.0930 - val_accuracy: 0.9271\n",
            "Epoch 6/50\n",
            "834/833 [==============================] - 164s 196ms/step - loss: 0.0782 - accuracy: 0.9321 - val_loss: 0.1828 - val_accuracy: 0.8464\n",
            "Epoch 7/50\n",
            "834/833 [==============================] - 165s 198ms/step - loss: 0.0735 - accuracy: 0.9352 - val_loss: 0.1038 - val_accuracy: 0.9322\n",
            "Epoch 8/50\n",
            "834/833 [==============================] - 165s 198ms/step - loss: 0.0734 - accuracy: 0.9377 - val_loss: 0.0893 - val_accuracy: 0.9351\n",
            "Epoch 9/50\n",
            "834/833 [==============================] - 166s 199ms/step - loss: 0.0748 - accuracy: 0.9364 - val_loss: 0.0850 - val_accuracy: 0.9399\n",
            "Epoch 10/50\n",
            "834/833 [==============================] - 164s 197ms/step - loss: 0.0741 - accuracy: 0.9362 - val_loss: 0.0878 - val_accuracy: 0.9406\n",
            "Epoch 11/50\n",
            "834/833 [==============================] - 164s 197ms/step - loss: 0.0723 - accuracy: 0.9377 - val_loss: 0.0856 - val_accuracy: 0.9395\n",
            "Epoch 12/50\n",
            "834/833 [==============================] - 163s 195ms/step - loss: 0.0722 - accuracy: 0.9366 - val_loss: 0.0869 - val_accuracy: 0.9379\n",
            "Epoch 13/50\n",
            "834/833 [==============================] - 164s 197ms/step - loss: 0.0729 - accuracy: 0.9391 - val_loss: 0.0853 - val_accuracy: 0.9440\n",
            "Epoch 14/50\n",
            "834/833 [==============================] - 162s 195ms/step - loss: 0.0685 - accuracy: 0.9410 - val_loss: 0.0826 - val_accuracy: 0.9433\n",
            "Epoch 15/50\n",
            "834/833 [==============================] - 164s 196ms/step - loss: 0.0690 - accuracy: 0.9420 - val_loss: 0.0817 - val_accuracy: 0.9415\n",
            "Epoch 16/50\n",
            "834/833 [==============================] - 163s 196ms/step - loss: 0.0688 - accuracy: 0.9417 - val_loss: 0.0831 - val_accuracy: 0.9451\n",
            "Epoch 17/50\n",
            "834/833 [==============================] - 164s 197ms/step - loss: 0.0681 - accuracy: 0.9413 - val_loss: 0.0857 - val_accuracy: 0.9355\n",
            "Epoch 18/50\n",
            "834/833 [==============================] - 164s 197ms/step - loss: 0.0715 - accuracy: 0.9409 - val_loss: 0.0824 - val_accuracy: 0.9435\n",
            "Epoch 19/50\n",
            "834/833 [==============================] - 164s 196ms/step - loss: 0.0675 - accuracy: 0.9421 - val_loss: 0.0817 - val_accuracy: 0.9449\n",
            "Epoch 20/50\n",
            "834/833 [==============================] - 166s 198ms/step - loss: 0.0657 - accuracy: 0.9424 - val_loss: 0.0825 - val_accuracy: 0.9431\n",
            "Epoch 21/50\n",
            "834/833 [==============================] - 164s 196ms/step - loss: 0.0673 - accuracy: 0.9421 - val_loss: 0.0818 - val_accuracy: 0.9466\n",
            "Epoch 22/50\n",
            "834/833 [==============================] - 165s 197ms/step - loss: 0.0674 - accuracy: 0.9443 - val_loss: 0.0813 - val_accuracy: 0.9466\n",
            "Epoch 23/50\n",
            "834/833 [==============================] - 163s 196ms/step - loss: 0.0672 - accuracy: 0.9435 - val_loss: 0.0811 - val_accuracy: 0.9477\n"
          ],
          "name": "stdout"
        }
      ]
    },
    {
      "cell_type": "code",
      "metadata": {
        "id": "0dqsWaqW9lKU",
        "colab_type": "code",
        "colab": {}
      },
      "source": [
        "# saving the model\n",
        "model3.save('/content/drive/My Drive/Springboard Data Science/CapstoneTwo/model_5.h5')"
      ],
      "execution_count": null,
      "outputs": []
    },
    {
      "cell_type": "code",
      "metadata": {
        "id": "CnSEo9TB8pEL",
        "colab_type": "code",
        "colab": {
          "base_uri": "https://localhost:8080/",
          "height": 282
        },
        "outputId": "b46f941e-978f-4204-8f7d-6baa4fff544b"
      },
      "source": [
        "# Plot loss per iteration\n",
        "plt.plot(model_output_3.history['loss'], label='loss')\n",
        "plt.plot(model_output_3.history['val_loss'], label='val_loss')\n",
        "plt.legend()\n"
      ],
      "execution_count": null,
      "outputs": [
        {
          "output_type": "execute_result",
          "data": {
            "text/plain": [
              "<matplotlib.legend.Legend at 0x7fc8702e0320>"
            ]
          },
          "metadata": {
            "tags": []
          },
          "execution_count": 193
        },
        {
          "output_type": "display_data",
          "data": {
            "image/png": "[encoded data removed]",
            "text/plain": [
              "<Figure size 432x288 with 1 Axes>"
            ]
          },
          "metadata": {
            "tags": [],
            "needs_background": "light"
          }
        }
      ]
    },
    {
      "cell_type": "code",
      "metadata": {
        "id": "dQ3JW9C39F4_",
        "colab_type": "code",
        "colab": {
          "base_uri": "https://localhost:8080/",
          "height": 284
        },
        "outputId": "898e59e4-4738-4dc5-f6a7-5b9e38006fcd"
      },
      "source": [
        "# Plot accuracy per iteration\n",
        "plt.plot(model_output_2.history['accuracy'], label='acc')\n",
        "plt.plot(model_output_2.history['val_accuracy'], label='val_acc')\n",
        "plt.legend()"
      ],
      "execution_count": null,
      "outputs": [
        {
          "output_type": "execute_result",
          "data": {
            "text/plain": [
              "<matplotlib.legend.Legend at 0x7fc870256c88>"
            ]
          },
          "metadata": {
            "tags": []
          },
          "execution_count": 194
        },
        {
          "output_type": "display_data",
          "data": {
            "image/png": "[encoded data removed]",
            "text/plain": [
              "<Figure size 432x288 with 1 Axes>"
            ]
          },
          "metadata": {
            "tags": [],
            "needs_background": "light"
          }
        }
      ]
    }
  ]
}