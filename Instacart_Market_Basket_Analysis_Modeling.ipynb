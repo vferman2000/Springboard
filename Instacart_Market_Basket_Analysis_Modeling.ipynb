{
 "cells": [
  {
   "cell_type": "markdown",
   "metadata": {},
   "source": [
    "## Instacart Market Basket Analysis - Final Analysis-test\n",
    "\n",
    "Instacart is a technology company providing a same day delivery grocery service to users across the U.S and Canada. Users place their grocery orders through the Instacart app and a personal Instacart shopper delivers the order to their home.\n",
    "\n",
    "Instacart made public an anonymized data of 3 million Instacart shoppers presenting researchers with the challenge of predicting which previously purchased products will be in the user’s next order. \n",
    "\n",
    "This report includes the following processes:\n",
    "\n",
    "- the selection of Instacart users <br>\n",
    "- data extraction <br>\n",
    "- features model creation\n",
    "- splitting of data into train and test data <br>\n",
    "- 3 Machine Learning models <br> \n",
    "- testing and prediction <br>\n",
    "\n",
    "Files downloaded from Kaggle website as part of the Kaggle Instacart Market Basket Analysis competition:\n",
    "- orders.csv <br>\n",
    "- order_products__prior.csv <br>\n",
    "- order_products__train.csv <br>\n",
    "- products.csv <br>\n",
    "- aisles.csv <br>\n",
    "- departments.csv <br>\n",
    "\n",
    "Data source: https://www.kaggle.com/c/instacart-market-basket-analysis"
   ]
  },
  {
   "cell_type": "code",
   "execution_count": 1,
   "metadata": {},
   "outputs": [],
   "source": [
    "import pandas as pd\n",
    "import numpy as np\n",
    "import matplotlib.pyplot as plt"
   ]
  },
  {
   "cell_type": "code",
   "execution_count": 9,
   "metadata": {},
   "outputs": [],
   "source": [
    "# Reading csv files into Pandas DataFrames\n",
    "\n",
    "filename_orders_file = 'files/orders.csv'\n",
    "filename_products_prior = 'files/order_products__prior.csv'\n",
    "filename_products_train= 'files/order_products__train.csv'\n",
    "filename_products = 'files/products.csv'\n",
    "filename_aisles = 'files/aisles.csv'\n",
    "filename_departments = 'files/departments.csv'\n",
    "\n",
    "orders = pd.read_csv(filename_orders_file , dtype={\n",
    "            'order_id': np.int32,\n",
    "            'user_id': np.int32,\n",
    "            'eval_set': 'category',\n",
    "            'order_number': np.int16,\n",
    "            'order_dow': np.int8,\n",
    "            'order_hour_of_day': np.int8,\n",
    "            'days_since_prior_order': np.float32})\n",
    "order_products_prior = pd.read_csv(filename_products_prior, dtype={\n",
    "            'order_id': np.int32,\n",
    "            'product_id': np.uint16,\n",
    "            'add_to_cart_order': np.int16,\n",
    "            'reordered': np.int8})\n",
    "order_products_train= pd.read_csv(filename_products_train, dtype={\n",
    "            'order_id': np.int32,\n",
    "            'product_id': np.uint16,\n",
    "            'add_to_cart_order': np.int16,\n",
    "            'reordered': np.int8})\n",
    "products = pd.read_csv(filename_products, dtype={\n",
    "            'order_id': np.int32,\n",
    "            'product_id': np.uint16,\n",
    "            'aisle_id': np.uint8,\n",
    "            'department_id': np.uint8})\n",
    "aisles = pd.read_csv(filename_aisles)\n",
    "departments = pd.read_csv(filename_departments)"
   ]
  },
  {
   "cell_type": "markdown",
   "metadata": {},
   "source": [
    "# Sample selection"
   ]
  },
  {
   "cell_type": "code",
   "execution_count": 10,
   "metadata": {},
   "outputs": [],
   "source": [
    "# Orders with train eval_set are selected\n",
    "orders_train = orders.loc[orders['eval_set'] == 'train']"
   ]
  },
  {
   "cell_type": "code",
   "execution_count": 11,
   "metadata": {},
   "outputs": [
    {
     "name": "stdout",
     "output_type": "stream",
     "text": [
      "Data sample has 50515 unique users\n"
     ]
    }
   ],
   "source": [
    "# A random selection of users is made from orders\n",
    "unique_orders = pd.DataFrame(orders_train['user_id'].unique(), columns=['user_id'])\n",
    "selected_users = unique_orders.sample(frac = 0.385)\n",
    "print(\"Data sample has\",len(selected_users), \"unique users\")"
   ]
  },
  {
   "cell_type": "code",
   "execution_count": 12,
   "metadata": {},
   "outputs": [
    {
     "data": {
      "text/html": [
       "<div>\n",
       "<style scoped>\n",
       "    .dataframe tbody tr th:only-of-type {\n",
       "        vertical-align: middle;\n",
       "    }\n",
       "\n",
       "    .dataframe tbody tr th {\n",
       "        vertical-align: top;\n",
       "    }\n",
       "\n",
       "    .dataframe thead th {\n",
       "        text-align: right;\n",
       "    }\n",
       "</style>\n",
       "<table border=\"1\" class=\"dataframe\">\n",
       "  <thead>\n",
       "    <tr style=\"text-align: right;\">\n",
       "      <th></th>\n",
       "      <th>order_id</th>\n",
       "      <th>user_id</th>\n",
       "      <th>eval_set</th>\n",
       "      <th>order_number</th>\n",
       "      <th>order_dow</th>\n",
       "      <th>order_hour_of_day</th>\n",
       "      <th>days_since_prior_order</th>\n",
       "    </tr>\n",
       "  </thead>\n",
       "  <tbody>\n",
       "    <tr>\n",
       "      <th>11</th>\n",
       "      <td>2168274</td>\n",
       "      <td>2</td>\n",
       "      <td>prior</td>\n",
       "      <td>1</td>\n",
       "      <td>2</td>\n",
       "      <td>11</td>\n",
       "      <td>NaN</td>\n",
       "    </tr>\n",
       "    <tr>\n",
       "      <th>12</th>\n",
       "      <td>1501582</td>\n",
       "      <td>2</td>\n",
       "      <td>prior</td>\n",
       "      <td>2</td>\n",
       "      <td>5</td>\n",
       "      <td>10</td>\n",
       "      <td>10.0</td>\n",
       "    </tr>\n",
       "  </tbody>\n",
       "</table>\n",
       "</div>"
      ],
      "text/plain": [
       "    order_id  user_id eval_set  order_number  order_dow  order_hour_of_day  \\\n",
       "11   2168274        2    prior             1          2                 11   \n",
       "12   1501582        2    prior             2          5                 10   \n",
       "\n",
       "    days_since_prior_order  \n",
       "11                     NaN  \n",
       "12                    10.0  "
      ]
     },
     "execution_count": 12,
     "metadata": {},
     "output_type": "execute_result"
    }
   ],
   "source": [
    "#train orders \n",
    "selected_users = orders['user_id'].isin(selected_users['user_id'])\n",
    "orders_tr = orders[selected_users]\n",
    "orders_tr.head(2)"
   ]
  },
  {
   "cell_type": "code",
   "execution_count": 13,
   "metadata": {},
   "outputs": [
    {
     "data": {
      "text/html": [
       "<div>\n",
       "<style scoped>\n",
       "    .dataframe tbody tr th:only-of-type {\n",
       "        vertical-align: middle;\n",
       "    }\n",
       "\n",
       "    .dataframe tbody tr th {\n",
       "        vertical-align: top;\n",
       "    }\n",
       "\n",
       "    .dataframe thead th {\n",
       "        text-align: right;\n",
       "    }\n",
       "</style>\n",
       "<table border=\"1\" class=\"dataframe\">\n",
       "  <thead>\n",
       "    <tr style=\"text-align: right;\">\n",
       "      <th></th>\n",
       "      <th>order_id</th>\n",
       "      <th>user_id</th>\n",
       "      <th>eval_set</th>\n",
       "      <th>order_number</th>\n",
       "      <th>order_dow</th>\n",
       "      <th>order_hour_of_day</th>\n",
       "      <th>days_since_prior_order</th>\n",
       "      <th>product_id</th>\n",
       "      <th>add_to_cart_order</th>\n",
       "      <th>reordered</th>\n",
       "    </tr>\n",
       "  </thead>\n",
       "  <tbody>\n",
       "    <tr>\n",
       "      <th>0</th>\n",
       "      <td>2168274</td>\n",
       "      <td>2</td>\n",
       "      <td>prior</td>\n",
       "      <td>1</td>\n",
       "      <td>2</td>\n",
       "      <td>11</td>\n",
       "      <td>NaN</td>\n",
       "      <td>32792</td>\n",
       "      <td>1</td>\n",
       "      <td>0</td>\n",
       "    </tr>\n",
       "    <tr>\n",
       "      <th>1</th>\n",
       "      <td>2168274</td>\n",
       "      <td>2</td>\n",
       "      <td>prior</td>\n",
       "      <td>1</td>\n",
       "      <td>2</td>\n",
       "      <td>11</td>\n",
       "      <td>NaN</td>\n",
       "      <td>47766</td>\n",
       "      <td>2</td>\n",
       "      <td>0</td>\n",
       "    </tr>\n",
       "  </tbody>\n",
       "</table>\n",
       "</div>"
      ],
      "text/plain": [
       "   order_id  user_id eval_set  order_number  order_dow  order_hour_of_day  \\\n",
       "0   2168274        2    prior             1          2                 11   \n",
       "1   2168274        2    prior             1          2                 11   \n",
       "\n",
       "   days_since_prior_order  product_id  add_to_cart_order  reordered  \n",
       "0                     NaN       32792                  1          0  \n",
       "1                     NaN       47766                  2          0  "
      ]
     },
     "execution_count": 13,
     "metadata": {},
     "output_type": "execute_result"
    }
   ],
   "source": [
    "# order_products_prior is merged with selected train orders\n",
    "priors = pd.merge(orders_tr,order_products_prior,  on='order_id')\n",
    "priors.head(2)"
   ]
  },
  {
   "cell_type": "markdown",
   "metadata": {},
   "source": [
    "# Product features"
   ]
  },
  {
   "cell_type": "code",
   "execution_count": 14,
   "metadata": {},
   "outputs": [
    {
     "data": {
      "text/html": [
       "<div>\n",
       "<style scoped>\n",
       "    .dataframe tbody tr th:only-of-type {\n",
       "        vertical-align: middle;\n",
       "    }\n",
       "\n",
       "    .dataframe tbody tr th {\n",
       "        vertical-align: top;\n",
       "    }\n",
       "\n",
       "    .dataframe thead th {\n",
       "        text-align: right;\n",
       "    }\n",
       "</style>\n",
       "<table border=\"1\" class=\"dataframe\">\n",
       "  <thead>\n",
       "    <tr style=\"text-align: right;\">\n",
       "      <th></th>\n",
       "      <th>order_id</th>\n",
       "      <th>user_id</th>\n",
       "      <th>order_number</th>\n",
       "      <th>order_dow</th>\n",
       "      <th>order_hour_of_day</th>\n",
       "      <th>days_since_prior_order</th>\n",
       "      <th>product_id</th>\n",
       "      <th>add_to_cart_order</th>\n",
       "      <th>reordered</th>\n",
       "      <th>aisle_id</th>\n",
       "      <th>department_id</th>\n",
       "    </tr>\n",
       "  </thead>\n",
       "  <tbody>\n",
       "    <tr>\n",
       "      <th>0</th>\n",
       "      <td>2168274</td>\n",
       "      <td>2</td>\n",
       "      <td>1</td>\n",
       "      <td>2</td>\n",
       "      <td>11</td>\n",
       "      <td>NaN</td>\n",
       "      <td>32792</td>\n",
       "      <td>1</td>\n",
       "      <td>0</td>\n",
       "      <td>23</td>\n",
       "      <td>19</td>\n",
       "    </tr>\n",
       "    <tr>\n",
       "      <th>1</th>\n",
       "      <td>1901567</td>\n",
       "      <td>2</td>\n",
       "      <td>3</td>\n",
       "      <td>1</td>\n",
       "      <td>10</td>\n",
       "      <td>3.0</td>\n",
       "      <td>32792</td>\n",
       "      <td>2</td>\n",
       "      <td>1</td>\n",
       "      <td>23</td>\n",
       "      <td>19</td>\n",
       "    </tr>\n",
       "  </tbody>\n",
       "</table>\n",
       "</div>"
      ],
      "text/plain": [
       "   order_id  user_id  order_number  order_dow  order_hour_of_day  \\\n",
       "0   2168274        2             1          2                 11   \n",
       "1   1901567        2             3          1                 10   \n",
       "\n",
       "   days_since_prior_order  product_id  add_to_cart_order  reordered  aisle_id  \\\n",
       "0                     NaN       32792                  1          0        23   \n",
       "1                     3.0       32792                  2          1        23   \n",
       "\n",
       "   department_id  \n",
       "0             19  \n",
       "1             19  "
      ]
     },
     "execution_count": 14,
     "metadata": {},
     "output_type": "execute_result"
    }
   ],
   "source": [
    "# product information is added to users and orders selected. d_X dataframe is created and will be added features.\n",
    "df = pd.merge(priors.drop('eval_set',axis=1), products.drop('product_name', axis=1), on='product_id')\n",
    "df.head(2)"
   ]
  },
  {
   "cell_type": "code",
   "execution_count": 15,
   "metadata": {},
   "outputs": [],
   "source": [
    "# accounting for days_since_prior_order column NaN\n",
    "df['days_since_prior_order'].fillna(0, inplace = True)"
   ]
  },
  {
   "cell_type": "code",
   "execution_count": 16,
   "metadata": {},
   "outputs": [
    {
     "data": {
      "text/html": [
       "<div>\n",
       "<style scoped>\n",
       "    .dataframe tbody tr th:only-of-type {\n",
       "        vertical-align: middle;\n",
       "    }\n",
       "\n",
       "    .dataframe tbody tr th {\n",
       "        vertical-align: top;\n",
       "    }\n",
       "\n",
       "    .dataframe thead th {\n",
       "        text-align: right;\n",
       "    }\n",
       "</style>\n",
       "<table border=\"1\" class=\"dataframe\">\n",
       "  <thead>\n",
       "    <tr style=\"text-align: right;\">\n",
       "      <th></th>\n",
       "      <th>number_orders</th>\n",
       "      <th>number_reorders</th>\n",
       "      <th>reordered_ratio</th>\n",
       "    </tr>\n",
       "    <tr>\n",
       "      <th>product_id</th>\n",
       "      <th></th>\n",
       "      <th></th>\n",
       "      <th></th>\n",
       "    </tr>\n",
       "  </thead>\n",
       "  <tbody>\n",
       "    <tr>\n",
       "      <th>1</th>\n",
       "      <td>405</td>\n",
       "      <td>250</td>\n",
       "      <td>0.617284</td>\n",
       "    </tr>\n",
       "    <tr>\n",
       "      <th>2</th>\n",
       "      <td>25</td>\n",
       "      <td>5</td>\n",
       "      <td>0.200000</td>\n",
       "    </tr>\n",
       "  </tbody>\n",
       "</table>\n",
       "</div>"
      ],
      "text/plain": [
       "            number_orders  number_reorders  reordered_ratio\n",
       "product_id                                                 \n",
       "1                     405              250         0.617284\n",
       "2                      25                5         0.200000"
      ]
     },
     "execution_count": 16,
     "metadata": {},
     "output_type": "execute_result"
    }
   ],
   "source": [
    "#products reordered ratio\n",
    "reorder_ratio = pd.DataFrame()\n",
    "reorder_ratio['number_orders'] = df.groupby('product_id').size().astype(np.int16)\n",
    "reorder_ratio['number_reorders'] = df.groupby('product_id')['reordered'].apply(lambda x: x[x == 1].count()).astype(np.int16)\n",
    "reorder_ratio['reordered_ratio'] = reorder_ratio['number_reorders']/reorder_ratio['number_orders']\n",
    "reorder_ratio.head(2)"
   ]
  },
  {
   "cell_type": "code",
   "execution_count": 17,
   "metadata": {},
   "outputs": [
    {
     "data": {
      "text/html": [
       "<div>\n",
       "<style scoped>\n",
       "    .dataframe tbody tr th:only-of-type {\n",
       "        vertical-align: middle;\n",
       "    }\n",
       "\n",
       "    .dataframe tbody tr th {\n",
       "        vertical-align: top;\n",
       "    }\n",
       "\n",
       "    .dataframe thead th {\n",
       "        text-align: right;\n",
       "    }\n",
       "</style>\n",
       "<table border=\"1\" class=\"dataframe\">\n",
       "  <thead>\n",
       "    <tr style=\"text-align: right;\">\n",
       "      <th></th>\n",
       "      <th>avg_days_since_prior_order</th>\n",
       "    </tr>\n",
       "    <tr>\n",
       "      <th>product_id</th>\n",
       "      <th></th>\n",
       "    </tr>\n",
       "  </thead>\n",
       "  <tbody>\n",
       "    <tr>\n",
       "      <th>1</th>\n",
       "      <td>10.562963</td>\n",
       "    </tr>\n",
       "    <tr>\n",
       "      <th>2</th>\n",
       "      <td>7.960000</td>\n",
       "    </tr>\n",
       "  </tbody>\n",
       "</table>\n",
       "</div>"
      ],
      "text/plain": [
       "            avg_days_since_prior_order\n",
       "product_id                            \n",
       "1                            10.562963\n",
       "2                             7.960000"
      ]
     },
     "execution_count": 17,
     "metadata": {},
     "output_type": "execute_result"
    }
   ],
   "source": [
    "avg_order_time = pd.DataFrame()\n",
    "avg_order_time['avg_days_since_prior_order'] = df.groupby('product_id')['days_since_prior_order'].mean()\n",
    "avg_order_time.head(2)"
   ]
  },
  {
   "cell_type": "code",
   "execution_count": 18,
   "metadata": {},
   "outputs": [],
   "source": [
    "products_stats = pd.merge(reorder_ratio, avg_order_time, on='product_id')\n",
    "df = pd.merge(df, products_stats, on='product_id')"
   ]
  },
  {
   "cell_type": "markdown",
   "metadata": {},
   "source": [
    "# User behavior features"
   ]
  },
  {
   "cell_type": "code",
   "execution_count": 19,
   "metadata": {},
   "outputs": [
    {
     "data": {
      "text/html": [
       "<div>\n",
       "<style scoped>\n",
       "    .dataframe tbody tr th:only-of-type {\n",
       "        vertical-align: middle;\n",
       "    }\n",
       "\n",
       "    .dataframe tbody tr th {\n",
       "        vertical-align: top;\n",
       "    }\n",
       "\n",
       "    .dataframe thead th {\n",
       "        text-align: right;\n",
       "    }\n",
       "</style>\n",
       "<table border=\"1\" class=\"dataframe\">\n",
       "  <thead>\n",
       "    <tr style=\"text-align: right;\">\n",
       "      <th></th>\n",
       "      <th>user_average_days_between_orders</th>\n",
       "      <th>user_number_orders</th>\n",
       "    </tr>\n",
       "    <tr>\n",
       "      <th>user_id</th>\n",
       "      <th></th>\n",
       "      <th></th>\n",
       "    </tr>\n",
       "  </thead>\n",
       "  <tbody>\n",
       "    <tr>\n",
       "      <th>2</th>\n",
       "      <td>16.285715</td>\n",
       "      <td>15</td>\n",
       "    </tr>\n",
       "    <tr>\n",
       "      <th>8</th>\n",
       "      <td>23.333334</td>\n",
       "      <td>4</td>\n",
       "    </tr>\n",
       "  </tbody>\n",
       "</table>\n",
       "</div>"
      ],
      "text/plain": [
       "         user_average_days_between_orders  user_number_orders\n",
       "user_id                                                      \n",
       "2                               16.285715                  15\n",
       "8                               23.333334                   4"
      ]
     },
     "execution_count": 19,
     "metadata": {},
     "output_type": "execute_result"
    }
   ],
   "source": [
    "avg_time_orders = pd.DataFrame()\n",
    "avg_time_orders['user_average_days_between_orders'] = orders_tr.groupby('user_id')['days_since_prior_order'].mean()\n",
    "avg_time_orders['user_number_orders'] = orders_tr.groupby('user_id').size().astype(np.int16)\n",
    "avg_time_orders.head(2)"
   ]
  },
  {
   "cell_type": "code",
   "execution_count": 20,
   "metadata": {},
   "outputs": [
    {
     "data": {
      "text/html": [
       "<div>\n",
       "<style scoped>\n",
       "    .dataframe tbody tr th:only-of-type {\n",
       "        vertical-align: middle;\n",
       "    }\n",
       "\n",
       "    .dataframe tbody tr th {\n",
       "        vertical-align: top;\n",
       "    }\n",
       "\n",
       "    .dataframe thead th {\n",
       "        text-align: right;\n",
       "    }\n",
       "</style>\n",
       "<table border=\"1\" class=\"dataframe\">\n",
       "  <thead>\n",
       "    <tr style=\"text-align: right;\">\n",
       "      <th></th>\n",
       "      <th>user_total_items</th>\n",
       "      <th>all_products</th>\n",
       "      <th>user_total_distinct_items</th>\n",
       "    </tr>\n",
       "    <tr>\n",
       "      <th>user_id</th>\n",
       "      <th></th>\n",
       "      <th></th>\n",
       "      <th></th>\n",
       "    </tr>\n",
       "  </thead>\n",
       "  <tbody>\n",
       "    <tr>\n",
       "      <th>2</th>\n",
       "      <td>195</td>\n",
       "      <td>{45066, 2573, 18961, 1559, 32792, 23, 22559, 1...</td>\n",
       "      <td>102</td>\n",
       "    </tr>\n",
       "    <tr>\n",
       "      <th>8</th>\n",
       "      <td>49</td>\n",
       "      <td>{11136, 8193, 17794, 26882, 39812, 24838, 651,...</td>\n",
       "      <td>36</td>\n",
       "    </tr>\n",
       "  </tbody>\n",
       "</table>\n",
       "</div>"
      ],
      "text/plain": [
       "         user_total_items                                       all_products  \\\n",
       "user_id                                                                        \n",
       "2                     195  {45066, 2573, 18961, 1559, 32792, 23, 22559, 1...   \n",
       "8                      49  {11136, 8193, 17794, 26882, 39812, 24838, 651,...   \n",
       "\n",
       "         user_total_distinct_items  \n",
       "user_id                             \n",
       "2                              102  \n",
       "8                               36  "
      ]
     },
     "execution_count": 20,
     "metadata": {},
     "output_type": "execute_result"
    }
   ],
   "source": [
    "user_products = pd.DataFrame()\n",
    "user_products['user_total_items'] = df.groupby('user_id').size().astype(np.int16)\n",
    "user_products['all_products'] =  df.groupby('user_id')['product_id'].apply(set)\n",
    "user_products['user_total_distinct_items'] = (user_products.all_products.map(len)).astype(np.int16)\n",
    "user_products.head(2)"
   ]
  },
  {
   "cell_type": "code",
   "execution_count": 21,
   "metadata": {},
   "outputs": [
    {
     "data": {
      "text/html": [
       "<div>\n",
       "<style scoped>\n",
       "    .dataframe tbody tr th:only-of-type {\n",
       "        vertical-align: middle;\n",
       "    }\n",
       "\n",
       "    .dataframe tbody tr th {\n",
       "        vertical-align: top;\n",
       "    }\n",
       "\n",
       "    .dataframe thead th {\n",
       "        text-align: right;\n",
       "    }\n",
       "</style>\n",
       "<table border=\"1\" class=\"dataframe\">\n",
       "  <thead>\n",
       "    <tr style=\"text-align: right;\">\n",
       "      <th></th>\n",
       "      <th>user_total_items</th>\n",
       "      <th>user_total_distinct_items</th>\n",
       "      <th>user_average_days_between_orders</th>\n",
       "      <th>user_number_orders</th>\n",
       "      <th>user_average_basket</th>\n",
       "    </tr>\n",
       "    <tr>\n",
       "      <th>user_id</th>\n",
       "      <th></th>\n",
       "      <th></th>\n",
       "      <th></th>\n",
       "      <th></th>\n",
       "      <th></th>\n",
       "    </tr>\n",
       "  </thead>\n",
       "  <tbody>\n",
       "    <tr>\n",
       "      <th>2</th>\n",
       "      <td>195</td>\n",
       "      <td>102</td>\n",
       "      <td>16.285715</td>\n",
       "      <td>15</td>\n",
       "      <td>13.00</td>\n",
       "    </tr>\n",
       "    <tr>\n",
       "      <th>8</th>\n",
       "      <td>49</td>\n",
       "      <td>36</td>\n",
       "      <td>23.333334</td>\n",
       "      <td>4</td>\n",
       "      <td>12.25</td>\n",
       "    </tr>\n",
       "  </tbody>\n",
       "</table>\n",
       "</div>"
      ],
      "text/plain": [
       "         user_total_items  user_total_distinct_items  \\\n",
       "user_id                                                \n",
       "2                     195                        102   \n",
       "8                      49                         36   \n",
       "\n",
       "         user_average_days_between_orders  user_number_orders  \\\n",
       "user_id                                                         \n",
       "2                               16.285715                  15   \n",
       "8                               23.333334                   4   \n",
       "\n",
       "         user_average_basket  \n",
       "user_id                       \n",
       "2                      13.00  \n",
       "8                      12.25  "
      ]
     },
     "execution_count": 21,
     "metadata": {},
     "output_type": "execute_result"
    }
   ],
   "source": [
    "users_shopping_behavior = pd.merge(user_products.drop('all_products', axis=1), avg_time_orders, on='user_id')\n",
    "users_shopping_behavior['user_average_basket'] = (user_products['user_total_items'] / avg_time_orders['user_number_orders'])\n",
    "users_shopping_behavior.head(2)"
   ]
  },
  {
   "cell_type": "code",
   "execution_count": 22,
   "metadata": {},
   "outputs": [
    {
     "data": {
      "text/html": [
       "<div>\n",
       "<style scoped>\n",
       "    .dataframe tbody tr th:only-of-type {\n",
       "        vertical-align: middle;\n",
       "    }\n",
       "\n",
       "    .dataframe tbody tr th {\n",
       "        vertical-align: top;\n",
       "    }\n",
       "\n",
       "    .dataframe thead th {\n",
       "        text-align: right;\n",
       "    }\n",
       "</style>\n",
       "<table border=\"1\" class=\"dataframe\">\n",
       "  <thead>\n",
       "    <tr style=\"text-align: right;\">\n",
       "      <th></th>\n",
       "      <th>order_id</th>\n",
       "      <th>user_id</th>\n",
       "      <th>order_number</th>\n",
       "      <th>order_dow</th>\n",
       "      <th>order_hour_of_day</th>\n",
       "      <th>days_since_prior_order</th>\n",
       "      <th>product_id</th>\n",
       "      <th>add_to_cart_order</th>\n",
       "      <th>reordered</th>\n",
       "      <th>aisle_id</th>\n",
       "      <th>department_id</th>\n",
       "      <th>number_orders</th>\n",
       "      <th>number_reorders</th>\n",
       "      <th>reordered_ratio</th>\n",
       "      <th>avg_days_since_prior_order</th>\n",
       "      <th>user_total_items</th>\n",
       "      <th>user_total_distinct_items</th>\n",
       "      <th>user_average_days_between_orders</th>\n",
       "      <th>user_number_orders</th>\n",
       "      <th>user_average_basket</th>\n",
       "    </tr>\n",
       "  </thead>\n",
       "  <tbody>\n",
       "    <tr>\n",
       "      <th>0</th>\n",
       "      <td>2168274</td>\n",
       "      <td>2</td>\n",
       "      <td>1</td>\n",
       "      <td>2</td>\n",
       "      <td>11</td>\n",
       "      <td>0.0</td>\n",
       "      <td>32792</td>\n",
       "      <td>1</td>\n",
       "      <td>0</td>\n",
       "      <td>23</td>\n",
       "      <td>19</td>\n",
       "      <td>379</td>\n",
       "      <td>233</td>\n",
       "      <td>0.614776</td>\n",
       "      <td>9.678101</td>\n",
       "      <td>195</td>\n",
       "      <td>102</td>\n",
       "      <td>16.285715</td>\n",
       "      <td>15</td>\n",
       "      <td>13.0</td>\n",
       "    </tr>\n",
       "    <tr>\n",
       "      <th>1</th>\n",
       "      <td>1901567</td>\n",
       "      <td>2</td>\n",
       "      <td>3</td>\n",
       "      <td>1</td>\n",
       "      <td>10</td>\n",
       "      <td>3.0</td>\n",
       "      <td>32792</td>\n",
       "      <td>2</td>\n",
       "      <td>1</td>\n",
       "      <td>23</td>\n",
       "      <td>19</td>\n",
       "      <td>379</td>\n",
       "      <td>233</td>\n",
       "      <td>0.614776</td>\n",
       "      <td>9.678101</td>\n",
       "      <td>195</td>\n",
       "      <td>102</td>\n",
       "      <td>16.285715</td>\n",
       "      <td>15</td>\n",
       "      <td>13.0</td>\n",
       "    </tr>\n",
       "  </tbody>\n",
       "</table>\n",
       "</div>"
      ],
      "text/plain": [
       "   order_id  user_id  order_number  order_dow  order_hour_of_day  \\\n",
       "0   2168274        2             1          2                 11   \n",
       "1   1901567        2             3          1                 10   \n",
       "\n",
       "   days_since_prior_order  product_id  add_to_cart_order  reordered  aisle_id  \\\n",
       "0                     0.0       32792                  1          0        23   \n",
       "1                     3.0       32792                  2          1        23   \n",
       "\n",
       "   department_id  number_orders  number_reorders  reordered_ratio  \\\n",
       "0             19            379              233         0.614776   \n",
       "1             19            379              233         0.614776   \n",
       "\n",
       "   avg_days_since_prior_order  user_total_items  user_total_distinct_items  \\\n",
       "0                    9.678101               195                        102   \n",
       "1                    9.678101               195                        102   \n",
       "\n",
       "   user_average_days_between_orders  user_number_orders  user_average_basket  \n",
       "0                         16.285715                  15                 13.0  \n",
       "1                         16.285715                  15                 13.0  "
      ]
     },
     "execution_count": 22,
     "metadata": {},
     "output_type": "execute_result"
    }
   ],
   "source": [
    "df = pd.merge(df, users_shopping_behavior, on = 'user_id')\n",
    "df.head(2)"
   ]
  },
  {
   "cell_type": "code",
   "execution_count": 23,
   "metadata": {},
   "outputs": [
    {
     "data": {
      "text/html": [
       "<div>\n",
       "<style scoped>\n",
       "    .dataframe tbody tr th:only-of-type {\n",
       "        vertical-align: middle;\n",
       "    }\n",
       "\n",
       "    .dataframe tbody tr th {\n",
       "        vertical-align: top;\n",
       "    }\n",
       "\n",
       "    .dataframe thead th {\n",
       "        text-align: right;\n",
       "    }\n",
       "</style>\n",
       "<table border=\"1\" class=\"dataframe\">\n",
       "  <thead>\n",
       "    <tr style=\"text-align: right;\">\n",
       "      <th></th>\n",
       "      <th>product_id</th>\n",
       "      <th>user_id</th>\n",
       "      <th>user_add_to_cart_order</th>\n",
       "    </tr>\n",
       "  </thead>\n",
       "  <tbody>\n",
       "    <tr>\n",
       "      <th>0</th>\n",
       "      <td>1</td>\n",
       "      <td>777</td>\n",
       "      <td>7.000000</td>\n",
       "    </tr>\n",
       "    <tr>\n",
       "      <th>1</th>\n",
       "      <td>1</td>\n",
       "      <td>1494</td>\n",
       "      <td>12.666667</td>\n",
       "    </tr>\n",
       "  </tbody>\n",
       "</table>\n",
       "</div>"
      ],
      "text/plain": [
       "   product_id  user_id  user_add_to_cart_order\n",
       "0           1      777                7.000000\n",
       "1           1     1494               12.666667"
      ]
     },
     "execution_count": 23,
     "metadata": {},
     "output_type": "execute_result"
    }
   ],
   "source": [
    "cart_order_user =  pd.DataFrame()\n",
    "cart_order_user['user_add_to_cart_order'] = df.groupby(['product_id','user_id'])['add_to_cart_order'].mean()\n",
    "cart_order_user = cart_order_user.reset_index()\n",
    "cart_order_user.head(2)"
   ]
  },
  {
   "cell_type": "code",
   "execution_count": 24,
   "metadata": {},
   "outputs": [
    {
     "data": {
      "text/html": [
       "<div>\n",
       "<style scoped>\n",
       "    .dataframe tbody tr th:only-of-type {\n",
       "        vertical-align: middle;\n",
       "    }\n",
       "\n",
       "    .dataframe tbody tr th {\n",
       "        vertical-align: top;\n",
       "    }\n",
       "\n",
       "    .dataframe thead th {\n",
       "        text-align: right;\n",
       "    }\n",
       "</style>\n",
       "<table border=\"1\" class=\"dataframe\">\n",
       "  <thead>\n",
       "    <tr style=\"text-align: right;\">\n",
       "      <th></th>\n",
       "      <th>order_id</th>\n",
       "      <th>user_id</th>\n",
       "      <th>order_number</th>\n",
       "      <th>order_dow</th>\n",
       "      <th>order_hour_of_day</th>\n",
       "      <th>days_since_prior_order</th>\n",
       "      <th>product_id</th>\n",
       "      <th>add_to_cart_order</th>\n",
       "      <th>reordered</th>\n",
       "      <th>aisle_id</th>\n",
       "      <th>...</th>\n",
       "      <th>number_orders</th>\n",
       "      <th>number_reorders</th>\n",
       "      <th>reordered_ratio</th>\n",
       "      <th>avg_days_since_prior_order</th>\n",
       "      <th>user_total_items</th>\n",
       "      <th>user_total_distinct_items</th>\n",
       "      <th>user_average_days_between_orders</th>\n",
       "      <th>user_number_orders</th>\n",
       "      <th>user_average_basket</th>\n",
       "      <th>user_add_to_cart_order</th>\n",
       "    </tr>\n",
       "  </thead>\n",
       "  <tbody>\n",
       "    <tr>\n",
       "      <th>0</th>\n",
       "      <td>2168274</td>\n",
       "      <td>2</td>\n",
       "      <td>1</td>\n",
       "      <td>2</td>\n",
       "      <td>11</td>\n",
       "      <td>0.0</td>\n",
       "      <td>32792</td>\n",
       "      <td>1</td>\n",
       "      <td>0</td>\n",
       "      <td>23</td>\n",
       "      <td>...</td>\n",
       "      <td>379</td>\n",
       "      <td>233</td>\n",
       "      <td>0.614776</td>\n",
       "      <td>9.678101</td>\n",
       "      <td>195</td>\n",
       "      <td>102</td>\n",
       "      <td>16.285715</td>\n",
       "      <td>15</td>\n",
       "      <td>13.0</td>\n",
       "      <td>1.222222</td>\n",
       "    </tr>\n",
       "    <tr>\n",
       "      <th>1</th>\n",
       "      <td>1901567</td>\n",
       "      <td>2</td>\n",
       "      <td>3</td>\n",
       "      <td>1</td>\n",
       "      <td>10</td>\n",
       "      <td>3.0</td>\n",
       "      <td>32792</td>\n",
       "      <td>2</td>\n",
       "      <td>1</td>\n",
       "      <td>23</td>\n",
       "      <td>...</td>\n",
       "      <td>379</td>\n",
       "      <td>233</td>\n",
       "      <td>0.614776</td>\n",
       "      <td>9.678101</td>\n",
       "      <td>195</td>\n",
       "      <td>102</td>\n",
       "      <td>16.285715</td>\n",
       "      <td>15</td>\n",
       "      <td>13.0</td>\n",
       "      <td>1.222222</td>\n",
       "    </tr>\n",
       "  </tbody>\n",
       "</table>\n",
       "<p>2 rows × 21 columns</p>\n",
       "</div>"
      ],
      "text/plain": [
       "   order_id  user_id  order_number  order_dow  order_hour_of_day  \\\n",
       "0   2168274        2             1          2                 11   \n",
       "1   1901567        2             3          1                 10   \n",
       "\n",
       "   days_since_prior_order  product_id  add_to_cart_order  reordered  aisle_id  \\\n",
       "0                     0.0       32792                  1          0        23   \n",
       "1                     3.0       32792                  2          1        23   \n",
       "\n",
       "   ...  number_orders  number_reorders  reordered_ratio  \\\n",
       "0  ...            379              233         0.614776   \n",
       "1  ...            379              233         0.614776   \n",
       "\n",
       "   avg_days_since_prior_order  user_total_items  user_total_distinct_items  \\\n",
       "0                    9.678101               195                        102   \n",
       "1                    9.678101               195                        102   \n",
       "\n",
       "   user_average_days_between_orders  user_number_orders  user_average_basket  \\\n",
       "0                         16.285715                  15                 13.0   \n",
       "1                         16.285715                  15                 13.0   \n",
       "\n",
       "   user_add_to_cart_order  \n",
       "0                1.222222  \n",
       "1                1.222222  \n",
       "\n",
       "[2 rows x 21 columns]"
      ]
     },
     "execution_count": 24,
     "metadata": {},
     "output_type": "execute_result"
    }
   ],
   "source": [
    "df = pd.merge(df, cart_order_user,on=['user_id','product_id'])\n",
    "df.head(2)"
   ]
  },
  {
   "cell_type": "code",
   "execution_count": 25,
   "metadata": {},
   "outputs": [
    {
     "data": {
      "text/html": [
       "<div>\n",
       "<style scoped>\n",
       "    .dataframe tbody tr th:only-of-type {\n",
       "        vertical-align: middle;\n",
       "    }\n",
       "\n",
       "    .dataframe tbody tr th {\n",
       "        vertical-align: top;\n",
       "    }\n",
       "\n",
       "    .dataframe thead th {\n",
       "        text-align: right;\n",
       "    }\n",
       "</style>\n",
       "<table border=\"1\" class=\"dataframe\">\n",
       "  <thead>\n",
       "    <tr style=\"text-align: right;\">\n",
       "      <th></th>\n",
       "      <th>product_id</th>\n",
       "      <th>user_id</th>\n",
       "      <th>user_day_of_week</th>\n",
       "    </tr>\n",
       "  </thead>\n",
       "  <tbody>\n",
       "    <tr>\n",
       "      <th>0</th>\n",
       "      <td>1</td>\n",
       "      <td>777</td>\n",
       "      <td>1.000000</td>\n",
       "    </tr>\n",
       "    <tr>\n",
       "      <th>1</th>\n",
       "      <td>1</td>\n",
       "      <td>1494</td>\n",
       "      <td>3.333333</td>\n",
       "    </tr>\n",
       "  </tbody>\n",
       "</table>\n",
       "</div>"
      ],
      "text/plain": [
       "   product_id  user_id  user_day_of_week\n",
       "0           1      777          1.000000\n",
       "1           1     1494          3.333333"
      ]
     },
     "execution_count": 25,
     "metadata": {},
     "output_type": "execute_result"
    }
   ],
   "source": [
    "day_of_week_user =  pd.DataFrame()\n",
    "day_of_week_user['user_day_of_week'] = df.groupby(['product_id','user_id'])['order_dow'].mean()\n",
    "day_of_week_user = day_of_week_user.reset_index()\n",
    "day_of_week_user.head(2)"
   ]
  },
  {
   "cell_type": "code",
   "execution_count": 26,
   "metadata": {},
   "outputs": [
    {
     "data": {
      "text/html": [
       "<div>\n",
       "<style scoped>\n",
       "    .dataframe tbody tr th:only-of-type {\n",
       "        vertical-align: middle;\n",
       "    }\n",
       "\n",
       "    .dataframe tbody tr th {\n",
       "        vertical-align: top;\n",
       "    }\n",
       "\n",
       "    .dataframe thead th {\n",
       "        text-align: right;\n",
       "    }\n",
       "</style>\n",
       "<table border=\"1\" class=\"dataframe\">\n",
       "  <thead>\n",
       "    <tr style=\"text-align: right;\">\n",
       "      <th></th>\n",
       "      <th>order_id</th>\n",
       "      <th>user_id</th>\n",
       "      <th>order_number</th>\n",
       "      <th>order_dow</th>\n",
       "      <th>order_hour_of_day</th>\n",
       "      <th>days_since_prior_order</th>\n",
       "      <th>product_id</th>\n",
       "      <th>add_to_cart_order</th>\n",
       "      <th>reordered</th>\n",
       "      <th>aisle_id</th>\n",
       "      <th>...</th>\n",
       "      <th>number_reorders</th>\n",
       "      <th>reordered_ratio</th>\n",
       "      <th>avg_days_since_prior_order</th>\n",
       "      <th>user_total_items</th>\n",
       "      <th>user_total_distinct_items</th>\n",
       "      <th>user_average_days_between_orders</th>\n",
       "      <th>user_number_orders</th>\n",
       "      <th>user_average_basket</th>\n",
       "      <th>user_add_to_cart_order</th>\n",
       "      <th>user_day_of_week</th>\n",
       "    </tr>\n",
       "  </thead>\n",
       "  <tbody>\n",
       "    <tr>\n",
       "      <th>0</th>\n",
       "      <td>2168274</td>\n",
       "      <td>2</td>\n",
       "      <td>1</td>\n",
       "      <td>2</td>\n",
       "      <td>11</td>\n",
       "      <td>0.0</td>\n",
       "      <td>32792</td>\n",
       "      <td>1</td>\n",
       "      <td>0</td>\n",
       "      <td>23</td>\n",
       "      <td>...</td>\n",
       "      <td>233</td>\n",
       "      <td>0.614776</td>\n",
       "      <td>9.678101</td>\n",
       "      <td>195</td>\n",
       "      <td>102</td>\n",
       "      <td>16.285715</td>\n",
       "      <td>15</td>\n",
       "      <td>13.0</td>\n",
       "      <td>1.222222</td>\n",
       "      <td>1.555556</td>\n",
       "    </tr>\n",
       "    <tr>\n",
       "      <th>1</th>\n",
       "      <td>1901567</td>\n",
       "      <td>2</td>\n",
       "      <td>3</td>\n",
       "      <td>1</td>\n",
       "      <td>10</td>\n",
       "      <td>3.0</td>\n",
       "      <td>32792</td>\n",
       "      <td>2</td>\n",
       "      <td>1</td>\n",
       "      <td>23</td>\n",
       "      <td>...</td>\n",
       "      <td>233</td>\n",
       "      <td>0.614776</td>\n",
       "      <td>9.678101</td>\n",
       "      <td>195</td>\n",
       "      <td>102</td>\n",
       "      <td>16.285715</td>\n",
       "      <td>15</td>\n",
       "      <td>13.0</td>\n",
       "      <td>1.222222</td>\n",
       "      <td>1.555556</td>\n",
       "    </tr>\n",
       "  </tbody>\n",
       "</table>\n",
       "<p>2 rows × 22 columns</p>\n",
       "</div>"
      ],
      "text/plain": [
       "   order_id  user_id  order_number  order_dow  order_hour_of_day  \\\n",
       "0   2168274        2             1          2                 11   \n",
       "1   1901567        2             3          1                 10   \n",
       "\n",
       "   days_since_prior_order  product_id  add_to_cart_order  reordered  aisle_id  \\\n",
       "0                     0.0       32792                  1          0        23   \n",
       "1                     3.0       32792                  2          1        23   \n",
       "\n",
       "   ...  number_reorders  reordered_ratio  avg_days_since_prior_order  \\\n",
       "0  ...              233         0.614776                    9.678101   \n",
       "1  ...              233         0.614776                    9.678101   \n",
       "\n",
       "   user_total_items  user_total_distinct_items  \\\n",
       "0               195                        102   \n",
       "1               195                        102   \n",
       "\n",
       "   user_average_days_between_orders  user_number_orders  user_average_basket  \\\n",
       "0                         16.285715                  15                 13.0   \n",
       "1                         16.285715                  15                 13.0   \n",
       "\n",
       "   user_add_to_cart_order  user_day_of_week  \n",
       "0                1.222222          1.555556  \n",
       "1                1.222222          1.555556  \n",
       "\n",
       "[2 rows x 22 columns]"
      ]
     },
     "execution_count": 26,
     "metadata": {},
     "output_type": "execute_result"
    }
   ],
   "source": [
    "df = pd.merge(df, day_of_week_user, on=['user_id','product_id'])\n",
    "df.head(2)"
   ]
  },
  {
   "cell_type": "code",
   "execution_count": 27,
   "metadata": {},
   "outputs": [
    {
     "data": {
      "text/html": [
       "<div>\n",
       "<style scoped>\n",
       "    .dataframe tbody tr th:only-of-type {\n",
       "        vertical-align: middle;\n",
       "    }\n",
       "\n",
       "    .dataframe tbody tr th {\n",
       "        vertical-align: top;\n",
       "    }\n",
       "\n",
       "    .dataframe thead th {\n",
       "        text-align: right;\n",
       "    }\n",
       "</style>\n",
       "<table border=\"1\" class=\"dataframe\">\n",
       "  <thead>\n",
       "    <tr style=\"text-align: right;\">\n",
       "      <th></th>\n",
       "      <th>product_id</th>\n",
       "      <th>user_id</th>\n",
       "      <th>user_order_hour_of_day</th>\n",
       "    </tr>\n",
       "  </thead>\n",
       "  <tbody>\n",
       "    <tr>\n",
       "      <th>0</th>\n",
       "      <td>1</td>\n",
       "      <td>777</td>\n",
       "      <td>7.000000</td>\n",
       "    </tr>\n",
       "    <tr>\n",
       "      <th>1</th>\n",
       "      <td>1</td>\n",
       "      <td>1494</td>\n",
       "      <td>8.666667</td>\n",
       "    </tr>\n",
       "  </tbody>\n",
       "</table>\n",
       "</div>"
      ],
      "text/plain": [
       "   product_id  user_id  user_order_hour_of_day\n",
       "0           1      777                7.000000\n",
       "1           1     1494                8.666667"
      ]
     },
     "execution_count": 27,
     "metadata": {},
     "output_type": "execute_result"
    }
   ],
   "source": [
    "avg_time_day_user = pd.DataFrame()\n",
    "avg_time_day_user['user_order_hour_of_day'] = df.groupby(['product_id','user_id'])['order_hour_of_day'].mean()\n",
    "avg_time_day_user = avg_time_day_user.reset_index()\n",
    "avg_time_day_user.head(2)"
   ]
  },
  {
   "cell_type": "code",
   "execution_count": 28,
   "metadata": {},
   "outputs": [
    {
     "data": {
      "text/html": [
       "<div>\n",
       "<style scoped>\n",
       "    .dataframe tbody tr th:only-of-type {\n",
       "        vertical-align: middle;\n",
       "    }\n",
       "\n",
       "    .dataframe tbody tr th {\n",
       "        vertical-align: top;\n",
       "    }\n",
       "\n",
       "    .dataframe thead th {\n",
       "        text-align: right;\n",
       "    }\n",
       "</style>\n",
       "<table border=\"1\" class=\"dataframe\">\n",
       "  <thead>\n",
       "    <tr style=\"text-align: right;\">\n",
       "      <th></th>\n",
       "      <th>order_id</th>\n",
       "      <th>user_id</th>\n",
       "      <th>order_number</th>\n",
       "      <th>order_dow</th>\n",
       "      <th>order_hour_of_day</th>\n",
       "      <th>days_since_prior_order</th>\n",
       "      <th>product_id</th>\n",
       "      <th>add_to_cart_order</th>\n",
       "      <th>reordered</th>\n",
       "      <th>aisle_id</th>\n",
       "      <th>...</th>\n",
       "      <th>reordered_ratio</th>\n",
       "      <th>avg_days_since_prior_order</th>\n",
       "      <th>user_total_items</th>\n",
       "      <th>user_total_distinct_items</th>\n",
       "      <th>user_average_days_between_orders</th>\n",
       "      <th>user_number_orders</th>\n",
       "      <th>user_average_basket</th>\n",
       "      <th>user_add_to_cart_order</th>\n",
       "      <th>user_day_of_week</th>\n",
       "      <th>user_order_hour_of_day</th>\n",
       "    </tr>\n",
       "  </thead>\n",
       "  <tbody>\n",
       "    <tr>\n",
       "      <th>0</th>\n",
       "      <td>2168274</td>\n",
       "      <td>2</td>\n",
       "      <td>1</td>\n",
       "      <td>2</td>\n",
       "      <td>11</td>\n",
       "      <td>0.0</td>\n",
       "      <td>32792</td>\n",
       "      <td>1</td>\n",
       "      <td>0</td>\n",
       "      <td>23</td>\n",
       "      <td>...</td>\n",
       "      <td>0.614776</td>\n",
       "      <td>9.678101</td>\n",
       "      <td>195</td>\n",
       "      <td>102</td>\n",
       "      <td>16.285715</td>\n",
       "      <td>15</td>\n",
       "      <td>13.0</td>\n",
       "      <td>1.222222</td>\n",
       "      <td>1.555556</td>\n",
       "      <td>10.555556</td>\n",
       "    </tr>\n",
       "    <tr>\n",
       "      <th>1</th>\n",
       "      <td>1901567</td>\n",
       "      <td>2</td>\n",
       "      <td>3</td>\n",
       "      <td>1</td>\n",
       "      <td>10</td>\n",
       "      <td>3.0</td>\n",
       "      <td>32792</td>\n",
       "      <td>2</td>\n",
       "      <td>1</td>\n",
       "      <td>23</td>\n",
       "      <td>...</td>\n",
       "      <td>0.614776</td>\n",
       "      <td>9.678101</td>\n",
       "      <td>195</td>\n",
       "      <td>102</td>\n",
       "      <td>16.285715</td>\n",
       "      <td>15</td>\n",
       "      <td>13.0</td>\n",
       "      <td>1.222222</td>\n",
       "      <td>1.555556</td>\n",
       "      <td>10.555556</td>\n",
       "    </tr>\n",
       "  </tbody>\n",
       "</table>\n",
       "<p>2 rows × 23 columns</p>\n",
       "</div>"
      ],
      "text/plain": [
       "   order_id  user_id  order_number  order_dow  order_hour_of_day  \\\n",
       "0   2168274        2             1          2                 11   \n",
       "1   1901567        2             3          1                 10   \n",
       "\n",
       "   days_since_prior_order  product_id  add_to_cart_order  reordered  aisle_id  \\\n",
       "0                     0.0       32792                  1          0        23   \n",
       "1                     3.0       32792                  2          1        23   \n",
       "\n",
       "   ...  reordered_ratio  avg_days_since_prior_order  user_total_items  \\\n",
       "0  ...         0.614776                    9.678101               195   \n",
       "1  ...         0.614776                    9.678101               195   \n",
       "\n",
       "   user_total_distinct_items  user_average_days_between_orders  \\\n",
       "0                        102                         16.285715   \n",
       "1                        102                         16.285715   \n",
       "\n",
       "   user_number_orders  user_average_basket  user_add_to_cart_order  \\\n",
       "0                  15                 13.0                1.222222   \n",
       "1                  15                 13.0                1.222222   \n",
       "\n",
       "   user_day_of_week  user_order_hour_of_day  \n",
       "0          1.555556               10.555556  \n",
       "1          1.555556               10.555556  \n",
       "\n",
       "[2 rows x 23 columns]"
      ]
     },
     "execution_count": 28,
     "metadata": {},
     "output_type": "execute_result"
    }
   ],
   "source": [
    "df = pd.merge(df, avg_time_day_user, on=['user_id','product_id'])\n",
    "df.head(2)"
   ]
  },
  {
   "cell_type": "markdown",
   "metadata": {},
   "source": [
    "# Time related features"
   ]
  },
  {
   "cell_type": "code",
   "execution_count": 29,
   "metadata": {},
   "outputs": [
    {
     "data": {
      "text/html": [
       "<div>\n",
       "<style scoped>\n",
       "    .dataframe tbody tr th:only-of-type {\n",
       "        vertical-align: middle;\n",
       "    }\n",
       "\n",
       "    .dataframe tbody tr th {\n",
       "        vertical-align: top;\n",
       "    }\n",
       "\n",
       "    .dataframe thead th {\n",
       "        text-align: right;\n",
       "    }\n",
       "</style>\n",
       "<table border=\"1\" class=\"dataframe\">\n",
       "  <thead>\n",
       "    <tr style=\"text-align: right;\">\n",
       "      <th></th>\n",
       "      <th>number_reorders_by_cart</th>\n",
       "      <th>avg_reorders</th>\n",
       "    </tr>\n",
       "    <tr>\n",
       "      <th>add_to_cart_order</th>\n",
       "      <th></th>\n",
       "      <th></th>\n",
       "    </tr>\n",
       "  </thead>\n",
       "  <tbody>\n",
       "    <tr>\n",
       "      <th>1</th>\n",
       "      <td>785298</td>\n",
       "      <td>0.099240</td>\n",
       "    </tr>\n",
       "    <tr>\n",
       "      <th>2</th>\n",
       "      <td>747529</td>\n",
       "      <td>0.094467</td>\n",
       "    </tr>\n",
       "  </tbody>\n",
       "</table>\n",
       "</div>"
      ],
      "text/plain": [
       "                   number_reorders_by_cart  avg_reorders\n",
       "add_to_cart_order                                       \n",
       "1                                   785298      0.099240\n",
       "2                                   747529      0.094467"
      ]
     },
     "execution_count": 29,
     "metadata": {},
     "output_type": "execute_result"
    }
   ],
   "source": [
    "cart_order = pd.DataFrame()\n",
    "cart_order['number_reorders_by_cart'] = df.groupby('add_to_cart_order')['reordered'].size()\n",
    "cart_order['avg_reorders'] = cart_order['number_reorders_by_cart']/(np.sum(cart_order['number_reorders_by_cart']))\n",
    "cart_order.head(2)"
   ]
  },
  {
   "cell_type": "code",
   "execution_count": 30,
   "metadata": {},
   "outputs": [
    {
     "data": {
      "text/html": [
       "<div>\n",
       "<style scoped>\n",
       "    .dataframe tbody tr th:only-of-type {\n",
       "        vertical-align: middle;\n",
       "    }\n",
       "\n",
       "    .dataframe tbody tr th {\n",
       "        vertical-align: top;\n",
       "    }\n",
       "\n",
       "    .dataframe thead th {\n",
       "        text-align: right;\n",
       "    }\n",
       "</style>\n",
       "<table border=\"1\" class=\"dataframe\">\n",
       "  <thead>\n",
       "    <tr style=\"text-align: right;\">\n",
       "      <th></th>\n",
       "      <th>order_id</th>\n",
       "      <th>user_id</th>\n",
       "      <th>order_number</th>\n",
       "      <th>order_dow</th>\n",
       "      <th>order_hour_of_day</th>\n",
       "      <th>days_since_prior_order</th>\n",
       "      <th>product_id</th>\n",
       "      <th>add_to_cart_order</th>\n",
       "      <th>reordered</th>\n",
       "      <th>aisle_id</th>\n",
       "      <th>...</th>\n",
       "      <th>user_total_items</th>\n",
       "      <th>user_total_distinct_items</th>\n",
       "      <th>user_average_days_between_orders</th>\n",
       "      <th>user_number_orders</th>\n",
       "      <th>user_average_basket</th>\n",
       "      <th>user_add_to_cart_order</th>\n",
       "      <th>user_day_of_week</th>\n",
       "      <th>user_order_hour_of_day</th>\n",
       "      <th>number_reorders_by_cart</th>\n",
       "      <th>avg_reorders</th>\n",
       "    </tr>\n",
       "  </thead>\n",
       "  <tbody>\n",
       "    <tr>\n",
       "      <th>0</th>\n",
       "      <td>2168274</td>\n",
       "      <td>2</td>\n",
       "      <td>1</td>\n",
       "      <td>2</td>\n",
       "      <td>11</td>\n",
       "      <td>0.0</td>\n",
       "      <td>32792</td>\n",
       "      <td>1</td>\n",
       "      <td>0</td>\n",
       "      <td>23</td>\n",
       "      <td>...</td>\n",
       "      <td>195</td>\n",
       "      <td>102</td>\n",
       "      <td>16.285715</td>\n",
       "      <td>15</td>\n",
       "      <td>13.0</td>\n",
       "      <td>1.222222</td>\n",
       "      <td>1.555556</td>\n",
       "      <td>10.555556</td>\n",
       "      <td>785298</td>\n",
       "      <td>0.09924</td>\n",
       "    </tr>\n",
       "    <tr>\n",
       "      <th>1</th>\n",
       "      <td>1199898</td>\n",
       "      <td>2</td>\n",
       "      <td>6</td>\n",
       "      <td>2</td>\n",
       "      <td>9</td>\n",
       "      <td>13.0</td>\n",
       "      <td>32792</td>\n",
       "      <td>1</td>\n",
       "      <td>1</td>\n",
       "      <td>23</td>\n",
       "      <td>...</td>\n",
       "      <td>195</td>\n",
       "      <td>102</td>\n",
       "      <td>16.285715</td>\n",
       "      <td>15</td>\n",
       "      <td>13.0</td>\n",
       "      <td>1.222222</td>\n",
       "      <td>1.555556</td>\n",
       "      <td>10.555556</td>\n",
       "      <td>785298</td>\n",
       "      <td>0.09924</td>\n",
       "    </tr>\n",
       "  </tbody>\n",
       "</table>\n",
       "<p>2 rows × 25 columns</p>\n",
       "</div>"
      ],
      "text/plain": [
       "   order_id  user_id  order_number  order_dow  order_hour_of_day  \\\n",
       "0   2168274        2             1          2                 11   \n",
       "1   1199898        2             6          2                  9   \n",
       "\n",
       "   days_since_prior_order  product_id  add_to_cart_order  reordered  aisle_id  \\\n",
       "0                     0.0       32792                  1          0        23   \n",
       "1                    13.0       32792                  1          1        23   \n",
       "\n",
       "   ...  user_total_items  user_total_distinct_items  \\\n",
       "0  ...               195                        102   \n",
       "1  ...               195                        102   \n",
       "\n",
       "   user_average_days_between_orders  user_number_orders  user_average_basket  \\\n",
       "0                         16.285715                  15                 13.0   \n",
       "1                         16.285715                  15                 13.0   \n",
       "\n",
       "   user_add_to_cart_order  user_day_of_week  user_order_hour_of_day  \\\n",
       "0                1.222222          1.555556               10.555556   \n",
       "1                1.222222          1.555556               10.555556   \n",
       "\n",
       "   number_reorders_by_cart  avg_reorders  \n",
       "0                   785298       0.09924  \n",
       "1                   785298       0.09924  \n",
       "\n",
       "[2 rows x 25 columns]"
      ]
     },
     "execution_count": 30,
     "metadata": {},
     "output_type": "execute_result"
    }
   ],
   "source": [
    "df = pd.merge(df, cart_order, on='add_to_cart_order')\n",
    "df.head(2)"
   ]
  },
  {
   "cell_type": "code",
   "execution_count": 31,
   "metadata": {},
   "outputs": [
    {
     "data": {
      "text/html": [
       "<div>\n",
       "<style scoped>\n",
       "    .dataframe tbody tr th:only-of-type {\n",
       "        vertical-align: middle;\n",
       "    }\n",
       "\n",
       "    .dataframe tbody tr th {\n",
       "        vertical-align: top;\n",
       "    }\n",
       "\n",
       "    .dataframe thead th {\n",
       "        text-align: right;\n",
       "    }\n",
       "</style>\n",
       "<table border=\"1\" class=\"dataframe\">\n",
       "  <thead>\n",
       "    <tr style=\"text-align: right;\">\n",
       "      <th></th>\n",
       "      <th>product_avg_day_of_week</th>\n",
       "    </tr>\n",
       "    <tr>\n",
       "      <th>product_id</th>\n",
       "      <th></th>\n",
       "    </tr>\n",
       "  </thead>\n",
       "  <tbody>\n",
       "    <tr>\n",
       "      <th>1</th>\n",
       "      <td>2.782716</td>\n",
       "    </tr>\n",
       "    <tr>\n",
       "      <th>2</th>\n",
       "      <td>3.160000</td>\n",
       "    </tr>\n",
       "  </tbody>\n",
       "</table>\n",
       "</div>"
      ],
      "text/plain": [
       "            product_avg_day_of_week\n",
       "product_id                         \n",
       "1                          2.782716\n",
       "2                          3.160000"
      ]
     },
     "execution_count": 31,
     "metadata": {},
     "output_type": "execute_result"
    }
   ],
   "source": [
    "avg_day_of_week = pd.DataFrame()\n",
    "avg_day_of_week['product_avg_day_of_week'] = df.groupby('product_id')['order_dow'].mean()\n",
    "avg_day_of_week.head(2)"
   ]
  },
  {
   "cell_type": "code",
   "execution_count": 32,
   "metadata": {},
   "outputs": [
    {
     "data": {
      "text/html": [
       "<div>\n",
       "<style scoped>\n",
       "    .dataframe tbody tr th:only-of-type {\n",
       "        vertical-align: middle;\n",
       "    }\n",
       "\n",
       "    .dataframe tbody tr th {\n",
       "        vertical-align: top;\n",
       "    }\n",
       "\n",
       "    .dataframe thead th {\n",
       "        text-align: right;\n",
       "    }\n",
       "</style>\n",
       "<table border=\"1\" class=\"dataframe\">\n",
       "  <thead>\n",
       "    <tr style=\"text-align: right;\">\n",
       "      <th></th>\n",
       "      <th>order_id</th>\n",
       "      <th>user_id</th>\n",
       "      <th>order_number</th>\n",
       "      <th>order_dow</th>\n",
       "      <th>order_hour_of_day</th>\n",
       "      <th>days_since_prior_order</th>\n",
       "      <th>product_id</th>\n",
       "      <th>add_to_cart_order</th>\n",
       "      <th>reordered</th>\n",
       "      <th>aisle_id</th>\n",
       "      <th>...</th>\n",
       "      <th>user_total_distinct_items</th>\n",
       "      <th>user_average_days_between_orders</th>\n",
       "      <th>user_number_orders</th>\n",
       "      <th>user_average_basket</th>\n",
       "      <th>user_add_to_cart_order</th>\n",
       "      <th>user_day_of_week</th>\n",
       "      <th>user_order_hour_of_day</th>\n",
       "      <th>number_reorders_by_cart</th>\n",
       "      <th>avg_reorders</th>\n",
       "      <th>product_avg_day_of_week</th>\n",
       "    </tr>\n",
       "  </thead>\n",
       "  <tbody>\n",
       "    <tr>\n",
       "      <th>0</th>\n",
       "      <td>2168274</td>\n",
       "      <td>2</td>\n",
       "      <td>1</td>\n",
       "      <td>2</td>\n",
       "      <td>11</td>\n",
       "      <td>0.0</td>\n",
       "      <td>32792</td>\n",
       "      <td>1</td>\n",
       "      <td>0</td>\n",
       "      <td>23</td>\n",
       "      <td>...</td>\n",
       "      <td>102</td>\n",
       "      <td>16.285715</td>\n",
       "      <td>15</td>\n",
       "      <td>13.0</td>\n",
       "      <td>1.222222</td>\n",
       "      <td>1.555556</td>\n",
       "      <td>10.555556</td>\n",
       "      <td>785298</td>\n",
       "      <td>0.09924</td>\n",
       "      <td>2.796834</td>\n",
       "    </tr>\n",
       "    <tr>\n",
       "      <th>1</th>\n",
       "      <td>1199898</td>\n",
       "      <td>2</td>\n",
       "      <td>6</td>\n",
       "      <td>2</td>\n",
       "      <td>9</td>\n",
       "      <td>13.0</td>\n",
       "      <td>32792</td>\n",
       "      <td>1</td>\n",
       "      <td>1</td>\n",
       "      <td>23</td>\n",
       "      <td>...</td>\n",
       "      <td>102</td>\n",
       "      <td>16.285715</td>\n",
       "      <td>15</td>\n",
       "      <td>13.0</td>\n",
       "      <td>1.222222</td>\n",
       "      <td>1.555556</td>\n",
       "      <td>10.555556</td>\n",
       "      <td>785298</td>\n",
       "      <td>0.09924</td>\n",
       "      <td>2.796834</td>\n",
       "    </tr>\n",
       "  </tbody>\n",
       "</table>\n",
       "<p>2 rows × 26 columns</p>\n",
       "</div>"
      ],
      "text/plain": [
       "   order_id  user_id  order_number  order_dow  order_hour_of_day  \\\n",
       "0   2168274        2             1          2                 11   \n",
       "1   1199898        2             6          2                  9   \n",
       "\n",
       "   days_since_prior_order  product_id  add_to_cart_order  reordered  aisle_id  \\\n",
       "0                     0.0       32792                  1          0        23   \n",
       "1                    13.0       32792                  1          1        23   \n",
       "\n",
       "   ...  user_total_distinct_items  user_average_days_between_orders  \\\n",
       "0  ...                        102                         16.285715   \n",
       "1  ...                        102                         16.285715   \n",
       "\n",
       "   user_number_orders  user_average_basket  user_add_to_cart_order  \\\n",
       "0                  15                 13.0                1.222222   \n",
       "1                  15                 13.0                1.222222   \n",
       "\n",
       "   user_day_of_week  user_order_hour_of_day  number_reorders_by_cart  \\\n",
       "0          1.555556               10.555556                   785298   \n",
       "1          1.555556               10.555556                   785298   \n",
       "\n",
       "   avg_reorders  product_avg_day_of_week  \n",
       "0       0.09924                 2.796834  \n",
       "1       0.09924                 2.796834  \n",
       "\n",
       "[2 rows x 26 columns]"
      ]
     },
     "execution_count": 32,
     "metadata": {},
     "output_type": "execute_result"
    }
   ],
   "source": [
    "df = pd.merge(df, avg_day_of_week, on='product_id', how='left')\n",
    "df.head(2)"
   ]
  },
  {
   "cell_type": "code",
   "execution_count": 33,
   "metadata": {},
   "outputs": [
    {
     "data": {
      "text/html": [
       "<div>\n",
       "<style scoped>\n",
       "    .dataframe tbody tr th:only-of-type {\n",
       "        vertical-align: middle;\n",
       "    }\n",
       "\n",
       "    .dataframe tbody tr th {\n",
       "        vertical-align: top;\n",
       "    }\n",
       "\n",
       "    .dataframe thead th {\n",
       "        text-align: right;\n",
       "    }\n",
       "</style>\n",
       "<table border=\"1\" class=\"dataframe\">\n",
       "  <thead>\n",
       "    <tr style=\"text-align: right;\">\n",
       "      <th></th>\n",
       "      <th>avg_order_hour_of_day</th>\n",
       "    </tr>\n",
       "    <tr>\n",
       "      <th>product_id</th>\n",
       "      <th></th>\n",
       "    </tr>\n",
       "  </thead>\n",
       "  <tbody>\n",
       "    <tr>\n",
       "      <th>1</th>\n",
       "      <td>13.523457</td>\n",
       "    </tr>\n",
       "    <tr>\n",
       "      <th>2</th>\n",
       "      <td>11.680000</td>\n",
       "    </tr>\n",
       "    <tr>\n",
       "      <th>3</th>\n",
       "      <td>13.851351</td>\n",
       "    </tr>\n",
       "  </tbody>\n",
       "</table>\n",
       "</div>"
      ],
      "text/plain": [
       "            avg_order_hour_of_day\n",
       "product_id                       \n",
       "1                       13.523457\n",
       "2                       11.680000\n",
       "3                       13.851351"
      ]
     },
     "execution_count": 33,
     "metadata": {},
     "output_type": "execute_result"
    }
   ],
   "source": [
    "avg_time_day = pd.DataFrame()\n",
    "avg_time_day['avg_order_hour_of_day'] = df.groupby('product_id')['order_hour_of_day'].mean()\n",
    "avg_time_day.head(3)"
   ]
  },
  {
   "cell_type": "code",
   "execution_count": 34,
   "metadata": {},
   "outputs": [],
   "source": [
    "df = pd.merge(df, avg_time_day, on='product_id', how='left')"
   ]
  },
  {
   "cell_type": "markdown",
   "metadata": {},
   "source": [
    "# Features dataframe"
   ]
  },
  {
   "cell_type": "code",
   "execution_count": 35,
   "metadata": {},
   "outputs": [
    {
     "data": {
      "text/html": [
       "<div>\n",
       "<style scoped>\n",
       "    .dataframe tbody tr th:only-of-type {\n",
       "        vertical-align: middle;\n",
       "    }\n",
       "\n",
       "    .dataframe tbody tr th {\n",
       "        vertical-align: top;\n",
       "    }\n",
       "\n",
       "    .dataframe thead th {\n",
       "        text-align: right;\n",
       "    }\n",
       "</style>\n",
       "<table border=\"1\" class=\"dataframe\">\n",
       "  <thead>\n",
       "    <tr style=\"text-align: right;\">\n",
       "      <th></th>\n",
       "      <th>order_id</th>\n",
       "      <th>user_id</th>\n",
       "      <th>order_number</th>\n",
       "      <th>order_dow</th>\n",
       "      <th>order_hour_of_day</th>\n",
       "      <th>days_since_prior_order</th>\n",
       "      <th>product_id</th>\n",
       "      <th>add_to_cart_order</th>\n",
       "      <th>reordered</th>\n",
       "      <th>aisle_id</th>\n",
       "      <th>...</th>\n",
       "      <th>user_average_days_between_orders</th>\n",
       "      <th>user_number_orders</th>\n",
       "      <th>user_average_basket</th>\n",
       "      <th>user_add_to_cart_order</th>\n",
       "      <th>user_day_of_week</th>\n",
       "      <th>user_order_hour_of_day</th>\n",
       "      <th>number_reorders_by_cart</th>\n",
       "      <th>avg_reorders</th>\n",
       "      <th>product_avg_day_of_week</th>\n",
       "      <th>avg_order_hour_of_day</th>\n",
       "    </tr>\n",
       "  </thead>\n",
       "  <tbody>\n",
       "    <tr>\n",
       "      <th>0</th>\n",
       "      <td>2168274</td>\n",
       "      <td>2</td>\n",
       "      <td>1</td>\n",
       "      <td>2</td>\n",
       "      <td>11</td>\n",
       "      <td>0.0</td>\n",
       "      <td>32792</td>\n",
       "      <td>1</td>\n",
       "      <td>0</td>\n",
       "      <td>23</td>\n",
       "      <td>...</td>\n",
       "      <td>16.285715</td>\n",
       "      <td>15</td>\n",
       "      <td>13.0</td>\n",
       "      <td>1.222222</td>\n",
       "      <td>1.555556</td>\n",
       "      <td>10.555556</td>\n",
       "      <td>785298</td>\n",
       "      <td>0.09924</td>\n",
       "      <td>2.796834</td>\n",
       "      <td>13.437995</td>\n",
       "    </tr>\n",
       "    <tr>\n",
       "      <th>1</th>\n",
       "      <td>1199898</td>\n",
       "      <td>2</td>\n",
       "      <td>6</td>\n",
       "      <td>2</td>\n",
       "      <td>9</td>\n",
       "      <td>13.0</td>\n",
       "      <td>32792</td>\n",
       "      <td>1</td>\n",
       "      <td>1</td>\n",
       "      <td>23</td>\n",
       "      <td>...</td>\n",
       "      <td>16.285715</td>\n",
       "      <td>15</td>\n",
       "      <td>13.0</td>\n",
       "      <td>1.222222</td>\n",
       "      <td>1.555556</td>\n",
       "      <td>10.555556</td>\n",
       "      <td>785298</td>\n",
       "      <td>0.09924</td>\n",
       "      <td>2.796834</td>\n",
       "      <td>13.437995</td>\n",
       "    </tr>\n",
       "  </tbody>\n",
       "</table>\n",
       "<p>2 rows × 27 columns</p>\n",
       "</div>"
      ],
      "text/plain": [
       "   order_id  user_id  order_number  order_dow  order_hour_of_day  \\\n",
       "0   2168274        2             1          2                 11   \n",
       "1   1199898        2             6          2                  9   \n",
       "\n",
       "   days_since_prior_order  product_id  add_to_cart_order  reordered  aisle_id  \\\n",
       "0                     0.0       32792                  1          0        23   \n",
       "1                    13.0       32792                  1          1        23   \n",
       "\n",
       "   ...  user_average_days_between_orders  user_number_orders  \\\n",
       "0  ...                         16.285715                  15   \n",
       "1  ...                         16.285715                  15   \n",
       "\n",
       "   user_average_basket  user_add_to_cart_order  user_day_of_week  \\\n",
       "0                 13.0                1.222222          1.555556   \n",
       "1                 13.0                1.222222          1.555556   \n",
       "\n",
       "   user_order_hour_of_day  number_reorders_by_cart  avg_reorders  \\\n",
       "0               10.555556                   785298       0.09924   \n",
       "1               10.555556                   785298       0.09924   \n",
       "\n",
       "   product_avg_day_of_week  avg_order_hour_of_day  \n",
       "0                 2.796834              13.437995  \n",
       "1                 2.796834              13.437995  \n",
       "\n",
       "[2 rows x 27 columns]"
      ]
     },
     "execution_count": 35,
     "metadata": {},
     "output_type": "execute_result"
    }
   ],
   "source": [
    "df.head(2)"
   ]
  },
  {
   "cell_type": "code",
   "execution_count": 36,
   "metadata": {},
   "outputs": [
    {
     "name": "stdout",
     "output_type": "stream",
     "text": [
      "['order_id' 'user_id' 'order_number' 'order_dow' 'order_hour_of_day'\n",
      " 'days_since_prior_order' 'product_id' 'add_to_cart_order' 'reordered'\n",
      " 'aisle_id' 'department_id' 'number_orders' 'number_reorders'\n",
      " 'reordered_ratio' 'avg_days_since_prior_order' 'user_total_items'\n",
      " 'user_total_distinct_items' 'user_average_days_between_orders'\n",
      " 'user_number_orders' 'user_average_basket' 'user_add_to_cart_order'\n",
      " 'user_day_of_week' 'user_order_hour_of_day' 'number_reorders_by_cart'\n",
      " 'avg_reorders' 'product_avg_day_of_week' 'avg_order_hour_of_day']\n"
     ]
    }
   ],
   "source": [
    "#feature columns. Reordered column will be designated as the target variable.\n",
    "print(df.columns.values)"
   ]
  },
  {
   "cell_type": "markdown",
   "metadata": {},
   "source": [
    "# Data splitting and modeling"
   ]
  },
  {
   "cell_type": "code",
   "execution_count": 109,
   "metadata": {},
   "outputs": [
    {
     "name": "stdout",
     "output_type": "stream",
     "text": [
      "The sample has 50515 users\n"
     ]
    }
   ],
   "source": [
    "user_unique = pd.DataFrame(df['user_id'].unique(), columns=['user_id'])\n",
    "print('The sample has',len(user_unique),'users')"
   ]
  },
  {
   "cell_type": "code",
   "execution_count": 38,
   "metadata": {},
   "outputs": [],
   "source": [
    "#A split of 70% train and 30% test of unique users\n",
    "df_Xtr = user_unique.sample(frac = 0.7)\n",
    "df_Xt = user_unique.loc[~user_unique.user_id.isin(df_Xtr.user_id)]"
   ]
  },
  {
   "cell_type": "code",
   "execution_count": 39,
   "metadata": {},
   "outputs": [],
   "source": [
    "df_Xtrain = df.user_id.isin(df_Xtr.user_id)\n",
    "df_Xtest = df.user_id.isin(df_Xt.user_id)"
   ]
  },
  {
   "cell_type": "code",
   "execution_count": 40,
   "metadata": {},
   "outputs": [],
   "source": [
    "#adding data information to user\n",
    "df_Xtrain1 = df[df_Xtrain]\n",
    "df_Xtest1 = df[df_Xtest]"
   ]
  },
  {
   "cell_type": "code",
   "execution_count": 41,
   "metadata": {},
   "outputs": [],
   "source": [
    "#target variable is the reordered column\n",
    "ytrain, ytest = df_Xtrain1['reordered'].values, df_Xtest1['reordered'].values\n",
    "\n",
    "Xtrain, Xtest = df_Xtrain1.drop(['reordered'],axis=1), \\\n",
    "                df_Xtest1.drop(['reordered'],axis=1), \\"
   ]
  },
  {
   "cell_type": "code",
   "execution_count": 42,
   "metadata": {},
   "outputs": [],
   "source": [
    "from sklearn import preprocessing\n",
    "scaler = preprocessing.StandardScaler()"
   ]
  },
  {
   "cell_type": "code",
   "execution_count": 43,
   "metadata": {},
   "outputs": [],
   "source": [
    "#scaling train data\n",
    "Xtrain = pd.DataFrame(scaler.fit_transform(Xtrain), columns=Xtrain.columns).values"
   ]
  },
  {
   "cell_type": "code",
   "execution_count": 44,
   "metadata": {},
   "outputs": [],
   "source": [
    "#scaling test data\n",
    "Xtest = pd.DataFrame(scaler.fit_transform(Xtest), columns=Xtest.columns).values"
   ]
  },
  {
   "cell_type": "markdown",
   "metadata": {},
   "source": [
    "# Logistic Regression Model"
   ]
  },
  {
   "cell_type": "code",
   "execution_count": 45,
   "metadata": {},
   "outputs": [],
   "source": [
    "from sklearn.linear_model import LogisticRegression\n",
    "from sklearn.metrics import accuracy_score"
   ]
  },
  {
   "cell_type": "code",
   "execution_count": 46,
   "metadata": {},
   "outputs": [],
   "source": [
    "clf = LogisticRegression(solver='lbfgs', C=.1)"
   ]
  },
  {
   "cell_type": "code",
   "execution_count": 47,
   "metadata": {},
   "outputs": [
    {
     "data": {
      "text/plain": [
       "LogisticRegression(C=0.1, class_weight=None, dual=False, fit_intercept=True,\n",
       "                   intercept_scaling=1, l1_ratio=None, max_iter=100,\n",
       "                   multi_class='warn', n_jobs=None, penalty='l2',\n",
       "                   random_state=None, solver='lbfgs', tol=0.0001, verbose=0,\n",
       "                   warm_start=False)"
      ]
     },
     "execution_count": 47,
     "metadata": {},
     "output_type": "execute_result"
    }
   ],
   "source": [
    "#Fit the model on the trainng data.\n",
    "clf.fit(Xtrain, ytrain)"
   ]
  },
  {
   "cell_type": "code",
   "execution_count": 48,
   "metadata": {},
   "outputs": [
    {
     "name": "stdout",
     "output_type": "stream",
     "text": [
      "Accuracy: 72.25%\n"
     ]
    }
   ],
   "source": [
    "accuracy = accuracy_score(clf.predict(Xtest), ytest)\n",
    "print(\"Accuracy: %.2f%%\" % (accuracy * 100.0))"
   ]
  },
  {
   "cell_type": "code",
   "execution_count": 49,
   "metadata": {},
   "outputs": [],
   "source": [
    "from sklearn.model_selection import KFold\n",
    "\n",
    "def cv_score(clf, x, y, score_func=accuracy_score):\n",
    "    result = 0\n",
    "    nfold = 5\n",
    "    for train, test in KFold(nfold).split(x): # split data into train/test groups, 5 times\n",
    "        clf.fit(x[train], y[train]) # fit\n",
    "        result += score_func(clf.predict(x[test]), y[test]) # evaluate score function on held-out data\n",
    "    return result / nfold # average"
   ]
  },
  {
   "cell_type": "code",
   "execution_count": 50,
   "metadata": {},
   "outputs": [],
   "source": [
    "clf = LogisticRegression(solver='lbfgs')"
   ]
  },
  {
   "cell_type": "code",
   "execution_count": 51,
   "metadata": {},
   "outputs": [
    {
     "name": "stdout",
     "output_type": "stream",
     "text": [
      "Accuracy: 71.20%\n"
     ]
    }
   ],
   "source": [
    "score = cv_score(clf, Xtrain, ytrain)\n",
    "print(\"Accuracy: %.2f%%\" % (score * 100.0))"
   ]
  },
  {
   "cell_type": "code",
   "execution_count": 52,
   "metadata": {},
   "outputs": [
    {
     "name": "stdout",
     "output_type": "stream",
     "text": [
      "Accuracy: 71.20% C_highest: 1\n"
     ]
    }
   ],
   "source": [
    "Cs = [0.001, 0.1, 1, 10]\n",
    "\n",
    "max_score = 0\n",
    "\n",
    "for C in Cs:\n",
    "                                              \n",
    "    clf = LogisticRegression(solver='lbfgs', C=C)\n",
    "    score = cv_score(clf, Xtrain, ytrain)\n",
    "    \n",
    "    \n",
    "    if score > max_score:\n",
    "        max_score = score\n",
    "        av_score = max_score\n",
    "        C_highest = C\n",
    "\n",
    "print(\"Accuracy: %.2f%%\" % (av_score * 100.0), 'C_highest:', C_highest)"
   ]
  },
  {
   "cell_type": "markdown",
   "metadata": {},
   "source": [
    "# Logistic Regression roc_curve"
   ]
  },
  {
   "cell_type": "code",
   "execution_count": 53,
   "metadata": {},
   "outputs": [
    {
     "data": {
      "image/png": "[encoded data removed]",
      "text/plain": [
       "<Figure size 432x288 with 1 Axes>"
      ]
     },
     "metadata": {
      "needs_background": "light"
     },
     "output_type": "display_data"
    }
   ],
   "source": [
    "from sklearn.metrics import roc_curve, auc\n",
    "\n",
    "clf = LogisticRegression(solver='lbfgs',C=1)\n",
    "#Fit the model on the trainng data.\n",
    "clf.fit(Xtrain, ytrain)\n",
    "y_score = clf.predict_proba(Xtest)[:,1]\n",
    "\n",
    "fpr, tpr,_ = roc_curve(ytest, y_score)\n",
    "roc_auc = auc(fpr, tpr)\n",
    "\n",
    "plt.figure()\n",
    "plt.plot([0,1],[0,1], linestyle='--', color = 'black')\n",
    "plt.plot(fpr, tpr, color = 'green')\n",
    "plt.xlabel('False Positive Rate')\n",
    "plt.ylabel('True Positive Rate')\n",
    "plt.gca().set_aspect('equal', adjustable='box')"
   ]
  },
  {
   "cell_type": "markdown",
   "metadata": {},
   "source": [
    "# XGBoost Model"
   ]
  },
  {
   "cell_type": "code",
   "execution_count": 54,
   "metadata": {},
   "outputs": [
    {
     "name": "stdout",
     "output_type": "stream",
     "text": [
      "Requirement already satisfied: xgboost in c:\\users\\owner\\anaconda3\\lib\\site-packages (1.0.2)\n",
      "Requirement already satisfied: scipy in c:\\users\\owner\\anaconda3\\lib\\site-packages (from xgboost) (1.2.1)\n",
      "Requirement already satisfied: numpy in c:\\users\\owner\\anaconda3\\lib\\site-packages (from xgboost) (1.16.4)\n"
     ]
    }
   ],
   "source": [
    "import sys\n",
    "!{sys.executable} -m pip install xgboost"
   ]
  },
  {
   "cell_type": "code",
   "execution_count": 55,
   "metadata": {},
   "outputs": [],
   "source": [
    "from numpy import loadtxt\n",
    "from xgboost import XGBClassifier"
   ]
  },
  {
   "cell_type": "markdown",
   "metadata": {},
   "source": [
    "# XGBoost model with hypereparameter tuning"
   ]
  },
  {
   "cell_type": "code",
   "execution_count": 56,
   "metadata": {},
   "outputs": [
    {
     "name": "stdout",
     "output_type": "stream",
     "text": [
      "Randomized search..\n",
      "Fitting 2 folds for each of 3 candidates, totalling 6 fits\n"
     ]
    },
    {
     "name": "stderr",
     "output_type": "stream",
     "text": [
      "[Parallel(n_jobs=1)]: Using backend SequentialBackend with 1 concurrent workers.\n"
     ]
    },
    {
     "name": "stdout",
     "output_type": "stream",
     "text": [
      "[CV] silent=False, max_depth=6, learning_rate=0.1 ....................\n",
      "[CV] ..... silent=False, max_depth=6, learning_rate=0.1, total=29.7min\n"
     ]
    },
    {
     "name": "stderr",
     "output_type": "stream",
     "text": [
      "[Parallel(n_jobs=1)]: Done   1 out of   1 | elapsed: 29.7min remaining:    0.0s\n"
     ]
    },
    {
     "name": "stdout",
     "output_type": "stream",
     "text": [
      "[CV] silent=False, max_depth=6, learning_rate=0.1 ....................\n",
      "[CV] ..... silent=False, max_depth=6, learning_rate=0.1, total=26.0min\n",
      "[CV] silent=False, max_depth=6, learning_rate=0 ......................\n",
      "[CV] ....... silent=False, max_depth=6, learning_rate=0, total=29.8min\n",
      "[CV] silent=False, max_depth=6, learning_rate=0 ......................\n",
      "[CV] ....... silent=False, max_depth=6, learning_rate=0, total=37.0min\n",
      "[CV] silent=False, max_depth=6, learning_rate=0.001 ..................\n",
      "[CV] ... silent=False, max_depth=6, learning_rate=0.001, total=32.1min\n",
      "[CV] silent=False, max_depth=6, learning_rate=0.001 ..................\n",
      "[CV] ... silent=False, max_depth=6, learning_rate=0.001, total=25.2min\n"
     ]
    },
    {
     "name": "stderr",
     "output_type": "stream",
     "text": [
      "[Parallel(n_jobs=1)]: Done   6 out of   6 | elapsed: 179.9min finished\n"
     ]
    },
    {
     "name": "stdout",
     "output_type": "stream",
     "text": [
      "Randomized search time: 10800.451380729675\n",
      "Best score: 0.5678688896880686\n",
      "Best params: \n",
      "learning_rate: 0.1\n",
      "max_depth: 6\n",
      "silent: False\n"
     ]
    }
   ],
   "source": [
    "from sklearn.model_selection import RandomizedSearchCV\n",
    "import time\n",
    "\n",
    "\n",
    "Xtrain, ytrain, Xtest, ytest = Xtrain, ytrain, Xtest, ytest\n",
    "clf = XGBClassifier()\n",
    "param_grid = {\n",
    "\n",
    "        'silent': [False],\n",
    "\n",
    "        'max_depth': [6, 10, 15, 20],\n",
    "\n",
    "        'learning_rate': [0.001, 0.01, 0.1, 0.2, 0,3]}\n",
    "\n",
    "\n",
    "randomized_clf = RandomizedSearchCV(clf, param_grid, n_iter=3, n_jobs=1, verbose=2, cv=2,\n",
    "scoring= 'accuracy', refit=False, random_state=42)\n",
    "print(\"Randomized search..\")\n",
    "search_time_start = time.time()\n",
    "randomized_clf.fit(Xtrain, ytrain)\n",
    "print(\"Randomized search time:\", time.time() - search_time_start)\n",
    "\n",
    "best_score = randomized_clf.best_score_\n",
    "best_params = randomized_clf.best_params_\n",
    "print(\"Best score: {}\".format(best_score))\n",
    "print(\"Best params: \")\n",
    "\n",
    "for param_name in sorted(best_params.keys()):\n",
    "\n",
    "    print('%s: %r' % (param_name, best_params[param_name]))"
   ]
  },
  {
   "cell_type": "code",
   "execution_count": 58,
   "metadata": {},
   "outputs": [
    {
     "name": "stdout",
     "output_type": "stream",
     "text": [
      "[20:42:52] WARNING: C:\\Users\\Administrator\\workspace\\xgboost-win64_release_1.0.0\\src\\gbm\\gbtree.cc:138: Tree method is automatically selected to be 'approx' for faster speed. To use old behavior (exact greedy algorithm on single machine), set tree_method to 'exact'.\n"
     ]
    },
    {
     "data": {
      "text/plain": [
       "XGBClassifier(base_score=0.5, booster=None, colsample_bylevel=1,\n",
       "              colsample_bynode=1, colsample_bytree=1, gamma=0, gpu_id=-1,\n",
       "              importance_type='gain', interaction_constraints=None,\n",
       "              learning_rate=0.1, max_delta_step=0, max_depth=6,\n",
       "              min_child_weight=1, missing=nan, monotone_constraints=None,\n",
       "              n_estimators=100, n_jobs=0, num_parallel_tree=1,\n",
       "              objective='binary:logistic', random_state=0, reg_alpha=0,\n",
       "              reg_lambda=1, scale_pos_weight=1, silent=False, subsample=1,\n",
       "              tree_method=None, validate_parameters=False, verbosity=None)"
      ]
     },
     "execution_count": 58,
     "metadata": {},
     "output_type": "execute_result"
    }
   ],
   "source": [
    "model = XGBClassifier(\n",
    "learning_rate=0.1,\n",
    "max_depth=6,\n",
    "silent=False\n",
    ")\n",
    "\n",
    "model.fit(Xtrain, ytrain)"
   ]
  },
  {
   "cell_type": "code",
   "execution_count": 92,
   "metadata": {},
   "outputs": [],
   "source": [
    "y_pred_XB = model.predict(Xtest)"
   ]
  },
  {
   "cell_type": "code",
   "execution_count": 93,
   "metadata": {},
   "outputs": [
    {
     "name": "stdout",
     "output_type": "stream",
     "text": [
      "Confusion Matrix:\n",
      "[[ 772905  210241]\n",
      " [  94805 1304506]]\n",
      "Classification Report:\n",
      "              precision    recall  f1-score   support\n",
      "\n",
      "           0       0.91      0.59      0.71    983146\n",
      "           1       0.77      0.96      0.85   1399311\n",
      "\n",
      "    accuracy                           0.81   2382457\n",
      "   macro avg       0.84      0.77      0.78   2382457\n",
      "weighted avg       0.83      0.81      0.80   2382457\n",
      "\n",
      "Accuracy: 0.8054596578238348\n",
      "\n",
      "\n",
      "Precision:              0.77\n",
      "Recall:                 0.96\n"
     ]
    },
    {
     "data": {
      "image/png": "[encoded data removed]",
      "text/plain": [
       "<Figure size 432x288 with 2 Axes>"
      ]
     },
     "metadata": {},
     "output_type": "display_data"
    }
   ],
   "source": [
    "from sklearn.metrics import classification_report\n",
    "print(\"Confusion Matrix:\")\n",
    "print(result)\n",
    "result1 = classification_report(ytest, y_pred_XB)\n",
    "print(\"Classification Report:\",)\n",
    "print (result1)\n",
    "result2 = accuracy_score(ytest,y_pred_XB)\n",
    "print(\"Accuracy:\",result2)\n",
    "\n",
    "def plot_confusion_matrix(cm,title='Confusion matrix', cmap=plt.cm.Greens):\n",
    "    plt.imshow(cm, interpolation='nearest',cmap=cmap)\n",
    "    plt.title(title)\n",
    "    plt.colorbar()\n",
    "    plt.tight_layout()\n",
    "    plt.ylabel('True label')\n",
    "    plt.xlabel('Predicted label')\n",
    "    \n",
    "y_true = ytest\n",
    "y_pred_XB = model.predict(Xtest)\n",
    "\n",
    "\n",
    "conf = confusion_matrix(y_true, y_pred_XB)\n",
    "\n",
    "print ('\\n')\n",
    "print (\"Precision:              %0.2f\" %(conf[1, 1] / (conf[1, 1] + conf[0, 1])))\n",
    "print (\"Recall:                 %0.2f\"% (conf[1, 1] / (conf[1, 1] + conf[1, 0])))\n",
    "    \n",
    "cm=confusion_matrix(y_true, y_pred_XB, labels=[0, 1])\n",
    "    \n",
    "plt.figure()\n",
    "plot_confusion_matrix(cm)"
   ]
  },
  {
   "cell_type": "code",
   "execution_count": 94,
   "metadata": {},
   "outputs": [
    {
     "data": {
      "text/plain": [
       "<matplotlib.axes._subplots.AxesSubplot at 0x21fd2491e10>"
      ]
     },
     "execution_count": 94,
     "metadata": {},
     "output_type": "execute_result"
    },
    {
     "data": {
      "image/png": "[encoded data removed]",
      "text/plain": [
       "<Figure size 432x288 with 1 Axes>"
      ]
     },
     "metadata": {},
     "output_type": "display_data"
    }
   ],
   "source": [
    "from xgboost import plot_importance\n",
    "plot_importance(model)"
   ]
  },
  {
   "cell_type": "code",
   "execution_count": 95,
   "metadata": {},
   "outputs": [
    {
     "data": {
      "image/png": "[encoded data removed]",
      "text/plain": [
       "<Figure size 432x288 with 1 Axes>"
      ]
     },
     "metadata": {},
     "output_type": "display_data"
    }
   ],
   "source": [
    "y_score = model.predict_proba(Xtest)[:,1]\n",
    "\n",
    "fpr, tpr,_ = roc_curve(ytest, y_score)\n",
    "roc_auc = auc(fpr, tpr)\n",
    "\n",
    "plt.figure()\n",
    "# Plotting .\n",
    "plt.plot([0,1],[0,1], linestyle='--', color = 'black')\n",
    "plt.plot(fpr, tpr, color = 'green')\n",
    "plt.xlabel('False Positive Rate')\n",
    "plt.ylabel('True Positive Rate')\n",
    "plt.gca().set_aspect('equal', adjustable='box')"
   ]
  },
  {
   "cell_type": "markdown",
   "metadata": {},
   "source": [
    "# XGBoost model without parameter tuning"
   ]
  },
  {
   "cell_type": "code",
   "execution_count": 61,
   "metadata": {},
   "outputs": [
    {
     "name": "stdout",
     "output_type": "stream",
     "text": [
      "[22:27:50] WARNING: C:\\Users\\Administrator\\workspace\\xgboost-win64_release_1.0.0\\src\\gbm\\gbtree.cc:138: Tree method is automatically selected to be 'approx' for faster speed. To use old behavior (exact greedy algorithm on single machine), set tree_method to 'exact'.\n"
     ]
    },
    {
     "data": {
      "text/plain": [
       "XGBClassifier(base_score=0.5, booster=None, colsample_bylevel=1,\n",
       "              colsample_bynode=1, colsample_bytree=1, gamma=0, gpu_id=-1,\n",
       "              importance_type='gain', interaction_constraints=None,\n",
       "              learning_rate=0.300000012, max_delta_step=0, max_depth=6,\n",
       "              min_child_weight=1, missing=nan, monotone_constraints=None,\n",
       "              n_estimators=100, n_jobs=0, num_parallel_tree=1,\n",
       "              objective='binary:logistic', random_state=0, reg_alpha=0,\n",
       "              reg_lambda=1, scale_pos_weight=1, subsample=1, tree_method=None,\n",
       "              validate_parameters=False, verbosity=None)"
      ]
     },
     "execution_count": 61,
     "metadata": {},
     "output_type": "execute_result"
    }
   ],
   "source": [
    "model2 = XGBClassifier()\n",
    "\n",
    "model2.fit(Xtrain, ytrain)"
   ]
  },
  {
   "cell_type": "code",
   "execution_count": 62,
   "metadata": {},
   "outputs": [],
   "source": [
    "y_pred = model2.predict(Xtest)\n",
    "predictions = [round(value) for value in y_pred]"
   ]
  },
  {
   "cell_type": "code",
   "execution_count": 64,
   "metadata": {},
   "outputs": [
    {
     "name": "stdout",
     "output_type": "stream",
     "text": [
      "Accuracy: 78.68%\n"
     ]
    }
   ],
   "source": [
    "accuracy = accuracy_score(ytest, predictions)\n",
    "print(\"Accuracy: %.2f%%\" % (accuracy * 100.0))"
   ]
  },
  {
   "cell_type": "markdown",
   "metadata": {},
   "source": [
    "# Random Forest Model"
   ]
  },
  {
   "cell_type": "code",
   "execution_count": 80,
   "metadata": {},
   "outputs": [],
   "source": [
    "from sklearn.ensemble import RandomForestClassifier"
   ]
  },
  {
   "cell_type": "code",
   "execution_count": 81,
   "metadata": {},
   "outputs": [],
   "source": [
    "classifier = RandomForestClassifier(n_estimators = 50)"
   ]
  },
  {
   "cell_type": "code",
   "execution_count": 82,
   "metadata": {},
   "outputs": [
    {
     "data": {
      "text/plain": [
       "RandomForestClassifier(bootstrap=True, class_weight=None, criterion='gini',\n",
       "                       max_depth=None, max_features='auto', max_leaf_nodes=None,\n",
       "                       min_impurity_decrease=0.0, min_impurity_split=None,\n",
       "                       min_samples_leaf=1, min_samples_split=2,\n",
       "                       min_weight_fraction_leaf=0.0, n_estimators=50,\n",
       "                       n_jobs=None, oob_score=False, random_state=None,\n",
       "                       verbose=0, warm_start=False)"
      ]
     },
     "execution_count": 82,
     "metadata": {},
     "output_type": "execute_result"
    }
   ],
   "source": [
    "classifier.fit(Xtrain,ytrain)"
   ]
  },
  {
   "cell_type": "code",
   "execution_count": 83,
   "metadata": {},
   "outputs": [],
   "source": [
    "y_pred = classifier.predict(Xtest)"
   ]
  },
  {
   "cell_type": "code",
   "execution_count": 84,
   "metadata": {},
   "outputs": [
    {
     "name": "stdout",
     "output_type": "stream",
     "text": [
      "Confusion Matrix:\n",
      "[[ 772905  210241]\n",
      " [  94805 1304506]]\n",
      "Classification Report:\n",
      "              precision    recall  f1-score   support\n",
      "\n",
      "           0       0.89      0.79      0.84    983146\n",
      "           1       0.86      0.93      0.90   1399311\n",
      "\n",
      "    accuracy                           0.87   2382457\n",
      "   macro avg       0.88      0.86      0.87   2382457\n",
      "weighted avg       0.87      0.87      0.87   2382457\n",
      "\n",
      "Accuracy: 0.8719615925911779\n",
      "\n",
      "\n",
      "Precision:              0.86\n",
      "Recall:                 0.93\n"
     ]
    },
    {
     "data": {
      "image/png": "[encoded data removed]",
      "text/plain": [
       "<Figure size 432x288 with 2 Axes>"
      ]
     },
     "metadata": {},
     "output_type": "display_data"
    }
   ],
   "source": [
    "from sklearn.metrics import classification_report\n",
    "result = confusion_matrix(ytest, y_pred)\n",
    "print(\"Confusion Matrix:\")\n",
    "print(result)\n",
    "result1 = classification_report(ytest, y_pred)\n",
    "print(\"Classification Report:\",)\n",
    "print (result1)\n",
    "result2 = accuracy_score(ytest,y_pred)\n",
    "print(\"Accuracy:\",result2)\n",
    "\n",
    "def plot_confusion_matrix(cm,title='Confusion matrix', cmap=plt.cm.Greens):\n",
    "    plt.imshow(cm, interpolation='nearest',cmap=cmap)\n",
    "    plt.title(title)\n",
    "    plt.colorbar()\n",
    "    plt.tight_layout()\n",
    "    plt.ylabel('True label')\n",
    "    plt.xlabel('Predicted label')\n",
    "    \n",
    "y_true = ytest\n",
    "y_pred = classifier.predict(Xtest)\n",
    "\n",
    "\n",
    "conf = confusion_matrix(y_true, y_pred)\n",
    "\n",
    "print ('\\n')\n",
    "print (\"Precision:              %0.2f\" %(conf[1, 1] / (conf[1, 1] + conf[0, 1])))\n",
    "print (\"Recall:                 %0.2f\"% (conf[1, 1] / (conf[1, 1] + conf[1, 0])))\n",
    "    \n",
    "cm=confusion_matrix(y_true, y_pred, labels=[0, 1])\n",
    "    \n",
    "plt.figure()\n",
    "plot_confusion_matrix(cm)"
   ]
  },
  {
   "cell_type": "code",
   "execution_count": 85,
   "metadata": {},
   "outputs": [
    {
     "data": {
      "image/png": "[encoded data removed]",
      "text/plain": [
       "<Figure size 432x288 with 1 Axes>"
      ]
     },
     "metadata": {},
     "output_type": "display_data"
    }
   ],
   "source": [
    "y_score = classifier.predict_proba(Xtest)[:,1]\n",
    "\n",
    "fpr, tpr,_ = roc_curve(ytest, y_score)\n",
    "roc_auc = auc(fpr, tpr)\n",
    "\n",
    "plt.figure()\n",
    "# Plotting our Baseline..\n",
    "plt.plot([0,1],[0,1], linestyle='--', color = 'black')\n",
    "plt.plot(fpr, tpr, color = 'green')\n",
    "plt.xlabel('False Positive Rate')\n",
    "plt.ylabel('True Positive Rate')\n",
    "plt.gca().set_aspect('equal', adjustable='box')"
   ]
  },
  {
   "cell_type": "code",
   "execution_count": 104,
   "metadata": {},
   "outputs": [
    {
     "name": "stdout",
     "output_type": "stream",
     "text": [
      "Feature ranking:\n",
      "1. feature 20 (0.141404)\n",
      "2. feature 2 (0.125195)\n",
      "3. feature 19 (0.076693)\n",
      "4. feature 21 (0.059235)\n",
      "5. feature 5 (0.051846)\n",
      "6. feature 12 (0.051600)\n",
      "7. feature 3 (0.047954)\n",
      "8. feature 17 (0.038987)\n",
      "9. feature 14 (0.038904)\n",
      "10. feature 4 (0.036079)\n",
      "11. feature 18 (0.033749)\n",
      "12. feature 11 (0.027278)\n",
      "13. feature 15 (0.027005)\n",
      "14. feature 16 (0.025094)\n",
      "15. feature 0 (0.023346)\n",
      "16. feature 23 (0.020760)\n",
      "17. feature 7 (0.020507)\n",
      "18. feature 1 (0.020178)\n",
      "19. feature 22 (0.019771)\n",
      "20. feature 10 (0.018930)\n",
      "21. feature 24 (0.018503)\n",
      "22. feature 13 (0.018035)\n",
      "23. feature 25 (0.017912)\n",
      "24. feature 6 (0.017682)\n",
      "25. feature 8 (0.013713)\n",
      "26. feature 9 (0.009640)\n"
     ]
    },
    {
     "data": {
      "image/png": "[encoded data removed]",
      "text/plain": [
       "<Figure size 864x288 with 1 Axes>"
      ]
     },
     "metadata": {},
     "output_type": "display_data"
    }
   ],
   "source": [
    "importances = classifier.feature_importances_\n",
    "std = np.std([tree.feature_importances_ for tree in classifier.estimators_],\n",
    "             axis=0)\n",
    "indices = np.argsort(importances)[::-1]\n",
    "\n",
    "# Print the feature ranking\n",
    "print(\"Feature ranking:\")\n",
    "\n",
    "for f in range(Xtrain.shape[1]):\n",
    "    print(\"%d. feature %d (%f)\" % (f + 1, indices[f], importances[indices[f]]))\n",
    "\n",
    "# Plot the feature importances of the forest\n",
    "plt.figure(figsize=(12,4))\n",
    "plt.title(\"Feature importances\")\n",
    "plt.bar(range(Xtrain.shape[1]), importances[indices],\n",
    "       color=\"b\", yerr=std[indices], align=\"center\")\n",
    "plt.xticks(range(Xtrain.shape[1]), indices)\n",
    "plt.xlim([-1, Xtrain.shape[1]])\n",
    "plt.show()"
   ]
  },
  {
   "cell_type": "markdown",
   "metadata": {},
   "source": [
    "# Constructing a Predicted Shopping cart"
   ]
  },
  {
   "cell_type": "code",
   "execution_count": 86,
   "metadata": {},
   "outputs": [],
   "source": [
    "cart_prediction = pd.DataFrame({'Actual': ytest.flatten(), 'Predicted': y_pred.flatten()})"
   ]
  },
  {
   "cell_type": "code",
   "execution_count": 87,
   "metadata": {},
   "outputs": [
    {
     "data": {
      "text/html": [
       "<div>\n",
       "<style scoped>\n",
       "    .dataframe tbody tr th:only-of-type {\n",
       "        vertical-align: middle;\n",
       "    }\n",
       "\n",
       "    .dataframe tbody tr th {\n",
       "        vertical-align: top;\n",
       "    }\n",
       "\n",
       "    .dataframe thead th {\n",
       "        text-align: right;\n",
       "    }\n",
       "</style>\n",
       "<table border=\"1\" class=\"dataframe\">\n",
       "  <thead>\n",
       "    <tr style=\"text-align: right;\">\n",
       "      <th></th>\n",
       "      <th>order_id</th>\n",
       "      <th>user_id</th>\n",
       "      <th>product_id</th>\n",
       "      <th>product_name</th>\n",
       "    </tr>\n",
       "  </thead>\n",
       "  <tbody>\n",
       "    <tr>\n",
       "      <th>0</th>\n",
       "      <td>1036038</td>\n",
       "      <td>520</td>\n",
       "      <td>45948</td>\n",
       "      <td>Gluten Free 7 Grain Bread</td>\n",
       "    </tr>\n",
       "    <tr>\n",
       "      <th>1</th>\n",
       "      <td>1935491</td>\n",
       "      <td>9431</td>\n",
       "      <td>45948</td>\n",
       "      <td>Gluten Free 7 Grain Bread</td>\n",
       "    </tr>\n",
       "  </tbody>\n",
       "</table>\n",
       "</div>"
      ],
      "text/plain": [
       "   order_id  user_id  product_id               product_name\n",
       "0   1036038      520       45948  Gluten Free 7 Grain Bread\n",
       "1   1935491     9431       45948  Gluten Free 7 Grain Bread"
      ]
     },
     "execution_count": 87,
     "metadata": {},
     "output_type": "execute_result"
    }
   ],
   "source": [
    "Xtest_inverse = scaler.inverse_transform(Xtest)\n",
    "customer_information = pd.DataFrame(Xtest_inverse)\n",
    "\n",
    "customer_cart = pd.DataFrame()\n",
    "customer_cart['order_id'] = customer_information.iloc[:,0].astype(int)\n",
    "customer_cart['user_id'] = customer_information.iloc[:,1].astype(int)\n",
    "customer_cart['product_id'] = customer_information.iloc[:,6].astype(int)\n",
    "\n",
    "customer_cart = pd.merge(customer_cart, products[['product_id','product_name']])\n",
    "customer_cart.head(2)"
   ]
  },
  {
   "cell_type": "code",
   "execution_count": 88,
   "metadata": {},
   "outputs": [
    {
     "data": {
      "text/html": [
       "<div>\n",
       "<style scoped>\n",
       "    .dataframe tbody tr th:only-of-type {\n",
       "        vertical-align: middle;\n",
       "    }\n",
       "\n",
       "    .dataframe tbody tr th {\n",
       "        vertical-align: top;\n",
       "    }\n",
       "\n",
       "    .dataframe thead th {\n",
       "        text-align: right;\n",
       "    }\n",
       "</style>\n",
       "<table border=\"1\" class=\"dataframe\">\n",
       "  <thead>\n",
       "    <tr style=\"text-align: right;\">\n",
       "      <th></th>\n",
       "      <th>order_id</th>\n",
       "      <th>user_id</th>\n",
       "      <th>product_id</th>\n",
       "      <th>product_name</th>\n",
       "      <th>Actual</th>\n",
       "      <th>Predicted</th>\n",
       "    </tr>\n",
       "  </thead>\n",
       "  <tbody>\n",
       "    <tr>\n",
       "      <th>0</th>\n",
       "      <td>1036038</td>\n",
       "      <td>520</td>\n",
       "      <td>45948</td>\n",
       "      <td>Gluten Free 7 Grain Bread</td>\n",
       "      <td>0</td>\n",
       "      <td>0</td>\n",
       "    </tr>\n",
       "    <tr>\n",
       "      <th>1</th>\n",
       "      <td>1935491</td>\n",
       "      <td>9431</td>\n",
       "      <td>45948</td>\n",
       "      <td>Gluten Free 7 Grain Bread</td>\n",
       "      <td>1</td>\n",
       "      <td>1</td>\n",
       "    </tr>\n",
       "  </tbody>\n",
       "</table>\n",
       "</div>"
      ],
      "text/plain": [
       "   order_id  user_id  product_id               product_name  Actual  Predicted\n",
       "0   1036038      520       45948  Gluten Free 7 Grain Bread       0          0\n",
       "1   1935491     9431       45948  Gluten Free 7 Grain Bread       1          1"
      ]
     },
     "execution_count": 88,
     "metadata": {},
     "output_type": "execute_result"
    }
   ],
   "source": [
    "customer_cart = pd.concat([customer_cart, cart_prediction], axis = 1)\n",
    "customer_cart.head(2)"
   ]
  },
  {
   "cell_type": "code",
   "execution_count": 108,
   "metadata": {},
   "outputs": [
    {
     "data": {
      "text/html": [
       "<div>\n",
       "<style scoped>\n",
       "    .dataframe tbody tr th:only-of-type {\n",
       "        vertical-align: middle;\n",
       "    }\n",
       "\n",
       "    .dataframe tbody tr th {\n",
       "        vertical-align: top;\n",
       "    }\n",
       "\n",
       "    .dataframe thead th {\n",
       "        text-align: right;\n",
       "    }\n",
       "</style>\n",
       "<table border=\"1\" class=\"dataframe\">\n",
       "  <thead>\n",
       "    <tr style=\"text-align: right;\">\n",
       "      <th></th>\n",
       "      <th>index</th>\n",
       "      <th>order_id</th>\n",
       "      <th>user_id</th>\n",
       "      <th>product_id</th>\n",
       "      <th>product_name</th>\n",
       "      <th>Actual</th>\n",
       "      <th>Predicted</th>\n",
       "    </tr>\n",
       "  </thead>\n",
       "  <tbody>\n",
       "    <tr>\n",
       "      <th>38</th>\n",
       "      <td>605428</td>\n",
       "      <td>130554</td>\n",
       "      <td>9431</td>\n",
       "      <td>21938</td>\n",
       "      <td>Green Bell Pepper</td>\n",
       "      <td>1</td>\n",
       "      <td>1</td>\n",
       "    </tr>\n",
       "    <tr>\n",
       "      <th>47</th>\n",
       "      <td>862328</td>\n",
       "      <td>130554</td>\n",
       "      <td>9431</td>\n",
       "      <td>23383</td>\n",
       "      <td>Super Natural Organic Whole Milk</td>\n",
       "      <td>1</td>\n",
       "      <td>1</td>\n",
       "    </tr>\n",
       "    <tr>\n",
       "      <th>13</th>\n",
       "      <td>199059</td>\n",
       "      <td>130554</td>\n",
       "      <td>9431</td>\n",
       "      <td>27845</td>\n",
       "      <td>Organic Whole Milk</td>\n",
       "      <td>1</td>\n",
       "      <td>1</td>\n",
       "    </tr>\n",
       "    <tr>\n",
       "      <th>25</th>\n",
       "      <td>316163</td>\n",
       "      <td>130554</td>\n",
       "      <td>9431</td>\n",
       "      <td>8518</td>\n",
       "      <td>Organic Red Onion</td>\n",
       "      <td>0</td>\n",
       "      <td>0</td>\n",
       "    </tr>\n",
       "    <tr>\n",
       "      <th>80</th>\n",
       "      <td>1791651</td>\n",
       "      <td>130554</td>\n",
       "      <td>9431</td>\n",
       "      <td>36737</td>\n",
       "      <td>Pizza Uncured Pepperoni Gluten Free</td>\n",
       "      <td>0</td>\n",
       "      <td>0</td>\n",
       "    </tr>\n",
       "    <tr>\n",
       "      <th>55</th>\n",
       "      <td>929413</td>\n",
       "      <td>130554</td>\n",
       "      <td>9431</td>\n",
       "      <td>30169</td>\n",
       "      <td>Total 2% All Natural Plain Greek Yogurt</td>\n",
       "      <td>1</td>\n",
       "      <td>1</td>\n",
       "    </tr>\n",
       "    <tr>\n",
       "      <th>83</th>\n",
       "      <td>1873231</td>\n",
       "      <td>130554</td>\n",
       "      <td>9431</td>\n",
       "      <td>28038</td>\n",
       "      <td>Soft Baked Double Chocolate Brownie Cookies</td>\n",
       "      <td>0</td>\n",
       "      <td>1</td>\n",
       "    </tr>\n",
       "    <tr>\n",
       "      <th>62</th>\n",
       "      <td>1306430</td>\n",
       "      <td>130554</td>\n",
       "      <td>9431</td>\n",
       "      <td>42307</td>\n",
       "      <td>Organic Reduced Fat 2% Cottage Cheese</td>\n",
       "      <td>1</td>\n",
       "      <td>1</td>\n",
       "    </tr>\n",
       "    <tr>\n",
       "      <th>4</th>\n",
       "      <td>105063</td>\n",
       "      <td>130554</td>\n",
       "      <td>9431</td>\n",
       "      <td>49683</td>\n",
       "      <td>Cucumber Kirby</td>\n",
       "      <td>1</td>\n",
       "      <td>1</td>\n",
       "    </tr>\n",
       "    <tr>\n",
       "      <th>50</th>\n",
       "      <td>873788</td>\n",
       "      <td>130554</td>\n",
       "      <td>9431</td>\n",
       "      <td>48679</td>\n",
       "      <td>Organic Garnet Sweet Potato (Yam)</td>\n",
       "      <td>1</td>\n",
       "      <td>1</td>\n",
       "    </tr>\n",
       "  </tbody>\n",
       "</table>\n",
       "</div>"
      ],
      "text/plain": [
       "      index  order_id  user_id  product_id  \\\n",
       "38   605428    130554     9431       21938   \n",
       "47   862328    130554     9431       23383   \n",
       "13   199059    130554     9431       27845   \n",
       "25   316163    130554     9431        8518   \n",
       "80  1791651    130554     9431       36737   \n",
       "55   929413    130554     9431       30169   \n",
       "83  1873231    130554     9431       28038   \n",
       "62  1306430    130554     9431       42307   \n",
       "4    105063    130554     9431       49683   \n",
       "50   873788    130554     9431       48679   \n",
       "\n",
       "                                   product_name  Actual  Predicted  \n",
       "38                            Green Bell Pepper       1          1  \n",
       "47             Super Natural Organic Whole Milk       1          1  \n",
       "13                           Organic Whole Milk       1          1  \n",
       "25                            Organic Red Onion       0          0  \n",
       "80          Pizza Uncured Pepperoni Gluten Free       0          0  \n",
       "55      Total 2% All Natural Plain Greek Yogurt       1          1  \n",
       "83  Soft Baked Double Chocolate Brownie Cookies       0          1  \n",
       "62        Organic Reduced Fat 2% Cottage Cheese       1          1  \n",
       "4                                Cucumber Kirby       1          1  \n",
       "50            Organic Garnet Sweet Potato (Yam)       1          1  "
      ]
     },
     "execution_count": 108,
     "metadata": {},
     "output_type": "execute_result"
    }
   ],
   "source": [
    "customer_sample = customer_cart.user_id == 9431\n",
    "\n",
    "selected_customer = customer_cart[customer_sample].reset_index()\n",
    "selected_customer.sort_values(by=['order_id'],ascending=True, inplace=True)\n",
    "selected_customer.head(10)"
   ]
  },
  {
   "cell_type": "code",
   "execution_count": null,
   "metadata": {},
   "outputs": [],
   "source": []
  },
  {
   "cell_type": "code",
   "execution_count": null,
   "metadata": {},
   "outputs": [],
   "source": []
  }
 ],
 "metadata": {
  "kernelspec": {
   "display_name": "Python 3",
   "language": "python",
   "name": "python3"
  },
  "language_info": {
   "codemirror_mode": {
    "name": "ipython",
    "version": 3
   },
   "file_extension": ".py",
   "mimetype": "text/x-python",
   "name": "python",
   "nbconvert_exporter": "python",
   "pygments_lexer": "ipython3",
   "version": "3.7.3"
  }
 },
 "nbformat": 4,
 "nbformat_minor": 2
}
