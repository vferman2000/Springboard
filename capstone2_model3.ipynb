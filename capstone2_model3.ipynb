{
  "nbformat": 4,
  "nbformat_minor": 0,
  "metadata": {
    "colab": {
      "name": "capstone2_model3.ipynb",
      "provenance": [],
      "collapsed_sections": [],
      "mount_file_id": "1IWUYfFpoyfjlVI8JJL0m0mJ7N5VV1jJX",
      "authorship_tag": "ABX9TyMM/AEYccznp+Dgm4ZD3yeM",
      "include_colab_link": true
    },
    "kernelspec": {
      "name": "python3",
      "display_name": "Python 3"
    },
    "accelerator": "GPU"
  },
  "cells": [
    {
      "cell_type": "markdown",
      "metadata": {
        "id": "view-in-github",
        "colab_type": "text"
      },
      "source": [
        "<a href=\"https://colab.research.google.com/github/vferman2000/Springboard/blob/master/capstone2_model3.ipynb\" target=\"_parent\"><img src=\"https://colab.research.google.com/assets/colab-badge.svg\" alt=\"Open In Colab\"/></a>"
      ]
    },
    {
      "cell_type": "markdown",
      "metadata": {
        "id": "QZwr1TwJQe_X",
        "colab_type": "text"
      },
      "source": [
        "# Fashion Image Classification Project"
      ]
    },
    {
      "cell_type": "code",
      "metadata": {
        "id": "Mac9tAiOzTti",
        "colab_type": "code",
        "outputId": "b66f911d-b9dc-4464-9181-901553ed5caf",
        "colab": {
          "base_uri": "https://localhost:8080/",
          "height": 34
        }
      },
      "source": [
        "import tensorflow as tf \n",
        "tf.test.gpu_device_name()"
      ],
      "execution_count": 0,
      "outputs": [
        {
          "output_type": "execute_result",
          "data": {
            "text/plain": [
              "'/device:GPU:0'"
            ]
          },
          "metadata": {
            "tags": []
          },
          "execution_count": 1
        }
      ]
    },
    {
      "cell_type": "code",
      "metadata": {
        "id": "syYEveD9zaW3",
        "colab_type": "code",
        "colab": {}
      },
      "source": [
        "# importing libraries\n",
        "\n",
        "import numpy as np\n",
        "import matplotlib.pyplot as plt\n",
        "from tensorflow.keras.layers import Input, Conv2D, Dense, Flatten, Dropout, GlobalMaxPooling2D, MaxPooling2D, BatchNormalization\n",
        "from tensorflow.keras.models import Model\n",
        "from mpl_toolkits.mplot3d import Axes3D\n",
        "from sklearn.preprocessing import StandardScaler\n",
        "import matplotlib.image as mpimg\n",
        "import numpy as np \n",
        "import pandas as pd \n",
        "import os"
      ],
      "execution_count": 0,
      "outputs": []
    },
    {
      "cell_type": "markdown",
      "metadata": {
        "id": "kb_IOJcYQaIc",
        "colab_type": "text"
      },
      "source": [
        ""
      ]
    },
    {
      "cell_type": "code",
      "metadata": {
        "id": "nzqG_5C3zfv7",
        "colab_type": "code",
        "outputId": "40854ec2-d7c6-49e7-9de3-a575be639430",
        "colab": {
          "base_uri": "https://localhost:8080/",
          "height": 34
        }
      },
      "source": [
        "# Path to fashion product images files on Google Drive\n",
        "\n",
        "DATASET_PATH = \"/content/drive/My Drive/Springboard Data Science/CapstoneTwo/fashion-product-images-small/myntradataset/\"\n",
        "print(os.listdir(DATASET_PATH))"
      ],
      "execution_count": 0,
      "outputs": [
        {
          "output_type": "stream",
          "text": [
            "['images', 'styles.csv']\n"
          ],
          "name": "stdout"
        }
      ]
    },
    {
      "cell_type": "code",
      "metadata": {
        "id": "RlPeQpEkz15Y",
        "colab_type": "code",
        "outputId": "da5533e0-4e48-4279-c3e4-e7393aed5fcf",
        "colab": {
          "base_uri": "https://localhost:8080/",
          "height": 54
        }
      },
      "source": [
        "# Reading df_style pandas dataframe which contains images attributes\n",
        "\n",
        "df_styles = pd.read_csv(DATASET_PATH + 'styles.csv', error_bad_lines=False)\n",
        "df_styles['image'] = df_styles.apply(lambda row: str(row['id']) + \".jpg\", axis=1)\n",
        "#df_styles['image'] = df_styles.id.apply(lambda row: \"%s.jpg\" % row)\n",
        "\n",
        "df_styles['masterCategory'] = df_styles.masterCategory.apply(lambda row: 'NA' if row is np.nan else row)"
      ],
      "execution_count": 0,
      "outputs": [
        {
          "output_type": "stream",
          "text": [
            "b'Skipping line 6044: expected 10 fields, saw 11\\nSkipping line 6569: expected 10 fields, saw 11\\nSkipping line 7399: expected 10 fields, saw 11\\nSkipping line 7939: expected 10 fields, saw 11\\nSkipping line 9026: expected 10 fields, saw 11\\nSkipping line 10264: expected 10 fields, saw 11\\nSkipping line 10427: expected 10 fields, saw 11\\nSkipping line 10905: expected 10 fields, saw 11\\nSkipping line 11373: expected 10 fields, saw 11\\nSkipping line 11945: expected 10 fields, saw 11\\nSkipping line 14112: expected 10 fields, saw 11\\nSkipping line 14532: expected 10 fields, saw 11\\nSkipping line 15076: expected 10 fields, saw 12\\nSkipping line 29906: expected 10 fields, saw 11\\nSkipping line 31625: expected 10 fields, saw 11\\nSkipping line 33020: expected 10 fields, saw 11\\nSkipping line 35748: expected 10 fields, saw 11\\nSkipping line 35962: expected 10 fields, saw 11\\nSkipping line 37770: expected 10 fields, saw 11\\nSkipping line 38105: expected 10 fields, saw 11\\nSkipping line 38275: expected 10 fields, saw 11\\nSkipping line 38404: expected 10 fields, saw 12\\n'\n"
          ],
          "name": "stderr"
        }
      ]
    },
    {
      "cell_type": "code",
      "metadata": {
        "id": "Az8Tw0n1z-wa",
        "colab_type": "code",
        "colab": {}
      },
      "source": [
        "# df_train_validation = df_styles.sample(frac = 0.8)[df_styles['masterCategory'] != 'NA']\n",
        "# df_test = df_styles.loc[~df_styles.id.isin(df_train_validation.id)]\n",
        "# df_train = df_train_validation.sample(frac = 0.9)\n",
        "# df_validation = df_train_validation.loc[~df_styles.id.isin(df_train.id)]"
      ],
      "execution_count": 0,
      "outputs": []
    },
    {
      "cell_type": "code",
      "metadata": {
        "id": "onLv8FztC33S",
        "colab_type": "code",
        "outputId": "08235735-2a34-428e-8acd-1d0ac874030a",
        "colab": {
          "base_uri": "https://localhost:8080/",
          "height": 52
        }
      },
      "source": [
        "# Selecting a sample of image id's from df_style dataframe to construct train, validation, test data\n",
        "\n",
        "df_selected = df_styles.sample(frac = 0.75)\n",
        "df_train_validation = df_selected.sample(frac = 0.8)[df_selected['masterCategory'] != 'NA']\n",
        "df_test = df_selected.loc[~df_selected.id.isin(df_train_validation.id)]\n",
        "df_train = df_train_validation.sample(frac = 0.9)\n",
        "df_validation = df_train_validation.loc[~df_selected.id.isin(df_train.id)]"
      ],
      "execution_count": 0,
      "outputs": [
        {
          "output_type": "stream",
          "text": [
            "/usr/local/lib/python3.6/dist-packages/ipykernel_launcher.py:2: UserWarning: Boolean Series key will be reindexed to match DataFrame index.\n",
            "  \n"
          ],
          "name": "stderr"
        }
      ]
    },
    {
      "cell_type": "code",
      "metadata": {
        "id": "5m8ie4Dg0HZR",
        "colab_type": "code",
        "outputId": "6222f6cd-0b0d-4cb3-c8ef-9bb043f77b7d",
        "colab": {
          "base_uri": "https://localhost:8080/",
          "height": 34
        }
      },
      "source": [
        "# number of classes in masterCategory column of df_train\n",
        "\n",
        "K = len(set(df_train.iloc[:,2]))\n",
        "print(K)\n"
      ],
      "execution_count": 0,
      "outputs": [
        {
          "output_type": "stream",
          "text": [
            "7\n"
          ],
          "name": "stdout"
        }
      ]
    },
    {
      "cell_type": "code",
      "metadata": {
        "id": "7xVCTj8M0VJ6",
        "colab_type": "code",
        "colab": {}
      },
      "source": [
        "# Path to images folder\n",
        "\n",
        "images_data = DATASET_PATH+\"images/\""
      ],
      "execution_count": 0,
      "outputs": []
    },
    {
      "cell_type": "markdown",
      "metadata": {
        "id": "H-NFWo0aV3k5",
        "colab_type": "text"
      },
      "source": [
        "# Building the Convolutional Neural Network Model"
      ]
    },
    {
      "cell_type": "code",
      "metadata": {
        "id": "L6LZESjF0sv0",
        "colab_type": "code",
        "colab": {}
      },
      "source": [
        "# Build the convolutional Neural Network model using the functional API\n",
        "\n",
        "\n",
        "i= Input(shape=(80, 60, 3))\n",
        "# x = Conv2D(32, (3, 3), strides=2, activation='relu')(i)\n",
        "# x = Conv2D(64, (3, 3), strides=2, activation='relu')(x)\n",
        "# x = Conv2D(128, (3, 3), strides=2, activation='relu')(x)\n",
        "\n",
        "x = Conv2D(32, (3, 3), activation='relu', padding='same')(i)\n",
        "x = BatchNormalization()(x)\n",
        "x = Conv2D(32, (3, 3), activation='relu', padding='same')(x)\n",
        "x = BatchNormalization()(x)\n",
        "x = MaxPooling2D((2, 2))(x)\n",
        "x = Dropout(0.2)(x)\n",
        "x = Conv2D(64, (3, 3), activation='relu', padding='same')(x)\n",
        "x = BatchNormalization()(x)\n",
        "x = Conv2D(64, (3, 3), activation='relu', padding='same')(x)\n",
        "x = BatchNormalization()(x)\n",
        "x = MaxPooling2D((2, 2))(x)\n",
        "x = Dropout(0.2)(x)\n",
        "x = Conv2D(128, (3, 3), activation='relu', padding='same')(x)\n",
        "x = BatchNormalization()(x)\n",
        "x = Conv2D(128, (3, 3), activation='relu', padding='same')(x)\n",
        "x = BatchNormalization()(x)\n",
        "x = MaxPooling2D((2, 2))(x)\n",
        "x = Dropout(0.2)(x)\n",
        "\n",
        "x = GlobalMaxPooling2D()(x)\n",
        "x = Flatten()(x)\n",
        "x = Dropout(0.2)(x)\n",
        "x = Dense(1024, activation='relu')(x)\n",
        "x = Dropout(0.2)(x)\n",
        "x = Dense(K, activation='softmax')(x)\n",
        "\n",
        "model = Model(i, x)"
      ],
      "execution_count": 0,
      "outputs": []
    },
    {
      "cell_type": "code",
      "metadata": {
        "id": "HhqeEc2u2g9z",
        "colab_type": "code",
        "outputId": "c30e3a24-9a33-4768-8e75-a4661451a0f4",
        "colab": {
          "base_uri": "https://localhost:8080/",
          "height": 161
        }
      },
      "source": [
        "# Using ImageDataGenerator to correlate images from image folder to masterCategory column in df_train, df_validation an df_test \n",
        "\n",
        "from keras.preprocessing.image import ImageDataGenerator\n",
        "HEIGHT = 80\n",
        "WIDTH = 60\n",
        "batch_size = 32\n",
        "datagen = ImageDataGenerator(rescale=1./255)\n",
        "test_datagen = ImageDataGenerator(rescale=1./255)\n",
        "\n",
        "train_generator=datagen.flow_from_dataframe(\n",
        "                    dataframe=df_train,\n",
        "                    directory=images_data,\n",
        "                    x_col=\"image\",\n",
        "                    y_col=\"masterCategory\",\n",
        "                    batch_size=batch_size,\n",
        "                    seed=42,\n",
        "                    shuffle=True,\n",
        "                    class_mode=\"categorical\",\n",
        "                    classes=['Footwear', 'Apparel', 'Accessories', 'Personal Care','Free Items','Sporting Goods', 'Home'],\n",
        "                    target_size=(HEIGHT,WIDTH))\n",
        "\n",
        "valid_generator=test_datagen.flow_from_dataframe(\n",
        "                    dataframe=df_validation,\n",
        "                    directory=images_data,\n",
        "                    x_col=\"image\",\n",
        "                    y_col=\"masterCategory\",\n",
        "                    batch_size=batch_size,\n",
        "                    seed=42,\n",
        "                    shuffle=True,\n",
        "                    class_mode=\"categorical\",\n",
        "                    classes=['Footwear', 'Apparel', 'Accessories', 'Personal Care', 'Free Items','Sporting Goods','Home'],\n",
        "                    target_size=(HEIGHT,WIDTH))\n",
        "\n",
        "test_generator=test_datagen.flow_from_dataframe(\n",
        "                    dataframe=df_test,\n",
        "                    directory=images_data,\n",
        "                    x_col=\"image\",\n",
        "                    batch_size=batch_size,\n",
        "                    seed=42,\n",
        "                    shuffle=False,\n",
        "                    class_mode=None,\n",
        "                    target_size=(HEIGHT,WIDTH))"
      ],
      "execution_count": 0,
      "outputs": [
        {
          "output_type": "stream",
          "text": [
            "/usr/local/lib/python3.6/dist-packages/keras_preprocessing/image/dataframe_iterator.py:282: UserWarning: Found 2 invalid image filename(s) in x_col=\"image\". These filename(s) will be ignored.\n",
            "  .format(n_invalid, x_col)\n"
          ],
          "name": "stderr"
        },
        {
          "output_type": "stream",
          "text": [
            "Found 23987 validated image filenames belonging to 7 classes.\n"
          ],
          "name": "stdout"
        },
        {
          "output_type": "stream",
          "text": [
            "/usr/local/lib/python3.6/dist-packages/keras_preprocessing/image/dataframe_iterator.py:282: UserWarning: Found 1 invalid image filename(s) in x_col=\"image\". These filename(s) will be ignored.\n",
            "  .format(n_invalid, x_col)\n"
          ],
          "name": "stderr"
        },
        {
          "output_type": "stream",
          "text": [
            "Found 2664 validated image filenames belonging to 7 classes.\n",
            "Found 6663 validated image filenames.\n"
          ],
          "name": "stdout"
        }
      ]
    },
    {
      "cell_type": "markdown",
      "metadata": {
        "id": "lwW9rQF7WX1K",
        "colab_type": "text"
      },
      "source": [
        "# Compiling and Fitting the Model"
      ]
    },
    {
      "cell_type": "code",
      "metadata": {
        "id": "uETdtdVJ26Mt",
        "colab_type": "code",
        "colab": {}
      },
      "source": [
        "# Compiling the model\n",
        "\n",
        "model.compile(optimizer='adam',\n",
        "              loss='categorical_crossentropy',\n",
        "              metrics=['accuracy'])"
      ],
      "execution_count": 0,
      "outputs": []
    },
    {
      "cell_type": "code",
      "metadata": {
        "id": "RFYvjF6K27k0",
        "colab_type": "code",
        "outputId": "ea2452b2-79a5-4be1-be3e-3deb2e71a59b",
        "colab": {
          "base_uri": "https://localhost:8080/",
          "height": 194
        }
      },
      "source": [
        "# Fitting the model\n",
        "model_output = model.fit(train_generator, validation_data=valid_generator, steps_per_epoch=80, epochs=5)"
      ],
      "execution_count": 0,
      "outputs": [
        {
          "output_type": "stream",
          "text": [
            "Epoch 1/5\n",
            "80/80 [==============================] - 4197s 52s/step - loss: 1.3906 - accuracy: 0.6543 - val_loss: 1.5989 - val_accuracy: 0.2256\n",
            "Epoch 2/5\n",
            "80/80 [==============================] - 1722s 22s/step - loss: 0.5201 - accuracy: 0.8254 - val_loss: 1.9395 - val_accuracy: 0.1918\n",
            "Epoch 3/5\n",
            "80/80 [==============================] - 1478s 18s/step - loss: 0.3765 - accuracy: 0.8687 - val_loss: 1.4069 - val_accuracy: 0.4306\n",
            "Epoch 4/5\n",
            "80/80 [==============================] - 1371s 17s/step - loss: 0.3026 - accuracy: 0.9008 - val_loss: 2.0183 - val_accuracy: 0.2538\n",
            "Epoch 5/5\n",
            "80/80 [==============================] - 1267s 16s/step - loss: 0.2694 - accuracy: 0.9141 - val_loss: 0.3488 - val_accuracy: 0.9253\n"
          ],
          "name": "stdout"
        }
      ]
    },
    {
      "cell_type": "code",
      "metadata": {
        "id": "yWDCPdtw5DSW",
        "colab_type": "code",
        "colab": {}
      },
      "source": [
        "from keras.models import load_model\n",
        "model.save('/content/drive/My Drive/Springboard Data Science/CapstoneTwo/fifth_model.h5')"
      ],
      "execution_count": 0,
      "outputs": []
    },
    {
      "cell_type": "markdown",
      "metadata": {
        "id": "cMXDM6NTWiGi",
        "colab_type": "text"
      },
      "source": [
        "# Testing the Model"
      ]
    },
    {
      "cell_type": "code",
      "metadata": {
        "id": "5_Kiwi7xXPaT",
        "colab_type": "code",
        "colab": {}
      },
      "source": [
        "test_generator.reset()"
      ],
      "execution_count": 0,
      "outputs": []
    },
    {
      "cell_type": "code",
      "metadata": {
        "id": "J0ewnlD3Xkfh",
        "colab_type": "code",
        "outputId": "33451859-f2db-4f41-c40c-80eca26bce03",
        "colab": {
          "base_uri": "https://localhost:8080/",
          "height": 34
        }
      },
      "source": [
        "test_steps_per_epoch = np.math.ceil(test_generator.samples / test_generator.batch_size)\n",
        "pred=model.predict(test_generator,verbose=1,steps=test_steps_per_epoch)"
      ],
      "execution_count": 0,
      "outputs": [
        {
          "output_type": "stream",
          "text": [
            "209/209 [==============================] - 4810s 23s/step\n"
          ],
          "name": "stdout"
        }
      ]
    },
    {
      "cell_type": "code",
      "metadata": {
        "id": "7VqHwIknYS5X",
        "colab_type": "code",
        "colab": {}
      },
      "source": [
        "predicted_class_indices=np.argmax(pred,axis=1)"
      ],
      "execution_count": 0,
      "outputs": []
    },
    {
      "cell_type": "code",
      "metadata": {
        "id": "HG20diyMYU0q",
        "colab_type": "code",
        "colab": {}
      },
      "source": [
        "labels = (train_generator.class_indices)\n",
        "labels = dict((v,k) for k,v in labels.items())\n",
        "predictions = [labels[k] for k in predicted_class_indices]"
      ],
      "execution_count": 0,
      "outputs": []
    },
    {
      "cell_type": "code",
      "metadata": {
        "id": "S1ylm_JnYefC",
        "colab_type": "code",
        "colab": {}
      },
      "source": [
        "filenames=test_generator.filenames\n",
        "results=pd.DataFrame({\"image\":filenames,\n",
        "                      \"predictions\":predictions})"
      ],
      "execution_count": 0,
      "outputs": []
    },
    {
      "cell_type": "code",
      "metadata": {
        "id": "aQ1832yxZYdE",
        "colab_type": "code",
        "outputId": "741e3272-aa11-4e86-84a1-6fc5197cc0ac",
        "colab": {
          "base_uri": "https://localhost:8080/",
          "height": 52
        }
      },
      "source": [
        "true_and_predicted_labels = pd.merge(df_test[['id','image','masterCategory']], results, on=\"image\")\n",
        "true_and_predicted_labels.head()\n",
        "x = true_and_predicted_labels['masterCategory'].unique()\n",
        "print(x)"
      ],
      "execution_count": 0,
      "outputs": [
        {
          "output_type": "stream",
          "text": [
            "['Accessories' 'Footwear' 'Apparel' 'Personal Care' 'Free Items'\n",
            " 'Sporting Goods']\n"
          ],
          "name": "stdout"
        }
      ]
    },
    {
      "cell_type": "code",
      "metadata": {
        "id": "99LozVAdK9Op",
        "colab_type": "code",
        "outputId": "f3031424-6872-4b13-d8dd-96eb97b2b1d6",
        "colab": {
          "base_uri": "https://localhost:8080/",
          "height": 215
        }
      },
      "source": [
        "true_and_predicted_labels['correct_label'] = np.where(true_and_predicted_labels.masterCategory == true_and_predicted_labels.predictions, 1, 0)\n",
        "print('Test prediction accuracy:', true_and_predicted_labels['correct_label'].sum()/len(true_and_predicted_labels.predictions)*100)\n",
        "true_and_predicted_labels.head()\n"
      ],
      "execution_count": 0,
      "outputs": [
        {
          "output_type": "stream",
          "text": [
            "Test prediction accuracy: 91.25018760318176\n"
          ],
          "name": "stdout"
        },
        {
          "output_type": "execute_result",
          "data": {
            "text/html": [
              "<div>\n",
              "<style scoped>\n",
              "    .dataframe tbody tr th:only-of-type {\n",
              "        vertical-align: middle;\n",
              "    }\n",
              "\n",
              "    .dataframe tbody tr th {\n",
              "        vertical-align: top;\n",
              "    }\n",
              "\n",
              "    .dataframe thead th {\n",
              "        text-align: right;\n",
              "    }\n",
              "</style>\n",
              "<table border=\"1\" class=\"dataframe\">\n",
              "  <thead>\n",
              "    <tr style=\"text-align: right;\">\n",
              "      <th></th>\n",
              "      <th>id</th>\n",
              "      <th>image</th>\n",
              "      <th>masterCategory</th>\n",
              "      <th>predictions</th>\n",
              "      <th>correct_label</th>\n",
              "    </tr>\n",
              "  </thead>\n",
              "  <tbody>\n",
              "    <tr>\n",
              "      <th>0</th>\n",
              "      <td>46177</td>\n",
              "      <td>46177.jpg</td>\n",
              "      <td>Accessories</td>\n",
              "      <td>Accessories</td>\n",
              "      <td>1</td>\n",
              "    </tr>\n",
              "    <tr>\n",
              "      <th>1</th>\n",
              "      <td>7597</td>\n",
              "      <td>7597.jpg</td>\n",
              "      <td>Footwear</td>\n",
              "      <td>Footwear</td>\n",
              "      <td>1</td>\n",
              "    </tr>\n",
              "    <tr>\n",
              "      <th>2</th>\n",
              "      <td>41459</td>\n",
              "      <td>41459.jpg</td>\n",
              "      <td>Footwear</td>\n",
              "      <td>Footwear</td>\n",
              "      <td>1</td>\n",
              "    </tr>\n",
              "    <tr>\n",
              "      <th>3</th>\n",
              "      <td>11648</td>\n",
              "      <td>11648.jpg</td>\n",
              "      <td>Accessories</td>\n",
              "      <td>Accessories</td>\n",
              "      <td>1</td>\n",
              "    </tr>\n",
              "    <tr>\n",
              "      <th>4</th>\n",
              "      <td>54548</td>\n",
              "      <td>54548.jpg</td>\n",
              "      <td>Apparel</td>\n",
              "      <td>Apparel</td>\n",
              "      <td>1</td>\n",
              "    </tr>\n",
              "  </tbody>\n",
              "</table>\n",
              "</div>"
            ],
            "text/plain": [
              "      id      image masterCategory  predictions  correct_label\n",
              "0  46177  46177.jpg    Accessories  Accessories              1\n",
              "1   7597   7597.jpg       Footwear     Footwear              1\n",
              "2  41459  41459.jpg       Footwear     Footwear              1\n",
              "3  11648  11648.jpg    Accessories  Accessories              1\n",
              "4  54548  54548.jpg        Apparel      Apparel              1"
            ]
          },
          "metadata": {
            "tags": []
          },
          "execution_count": 62
        }
      ]
    },
    {
      "cell_type": "markdown",
      "metadata": {
        "id": "6bo-84UnWu0o",
        "colab_type": "text"
      },
      "source": [
        "# Model Evaluation"
      ]
    },
    {
      "cell_type": "code",
      "metadata": {
        "id": "v44nCrdS9qr6",
        "colab_type": "code",
        "outputId": "c3019e19-42ec-4829-861e-76b67be043f5",
        "colab": {
          "base_uri": "https://localhost:8080/",
          "height": 70
        }
      },
      "source": [
        "score = model.evaluate(valid_generator)\n",
        "print('Test loss:', score[0])\n",
        "print('Test accuracy:', score[1])"
      ],
      "execution_count": 0,
      "outputs": [
        {
          "output_type": "stream",
          "text": [
            "84/84 [==============================] - 11s 135ms/step - loss: 0.3488 - accuracy: 0.9253\n",
            "Test loss: 0.3488161265850067\n",
            "Test accuracy: 0.9253003001213074\n"
          ],
          "name": "stdout"
        }
      ]
    },
    {
      "cell_type": "code",
      "metadata": {
        "id": "iBqgYDc1APAn",
        "colab_type": "code",
        "outputId": "94ae04a3-e20a-45d1-ca00-517e91766a6e",
        "colab": {
          "base_uri": "https://localhost:8080/",
          "height": 282
        }
      },
      "source": [
        "# Plot loss per iteration\n",
        "plt.plot(model_output.history['loss'], label='loss')\n",
        "plt.plot(model_output.history['val_loss'], label='val_loss')\n",
        "plt.legend()"
      ],
      "execution_count": 0,
      "outputs": [
        {
          "output_type": "execute_result",
          "data": {
            "text/plain": [
              "<matplotlib.legend.Legend at 0x7fe4e3ec0a20>"
            ]
          },
          "metadata": {
            "tags": []
          },
          "execution_count": 24
        },
        {
          "output_type": "display_data",
          "data": {
            "image/png": "[encoded data removed]",
            "text/plain": [
              "<Figure size 432x288 with 1 Axes>"
            ]
          },
          "metadata": {
            "tags": [],
            "needs_background": "light"
          }
        }
      ]
    },
    {
      "cell_type": "code",
      "metadata": {
        "id": "H_kIcRH3AQKc",
        "colab_type": "code",
        "outputId": "4f29d49e-be6d-4226-b77a-962104acba10",
        "colab": {
          "base_uri": "https://localhost:8080/",
          "height": 282
        }
      },
      "source": [
        "# Plot accuracy per iteration\n",
        "plt.plot(model_output.history['accuracy'], label='acc')\n",
        "plt.plot(model_output.history['val_accuracy'], label='val_acc')\n",
        "plt.legend()"
      ],
      "execution_count": 0,
      "outputs": [
        {
          "output_type": "execute_result",
          "data": {
            "text/plain": [
              "<matplotlib.legend.Legend at 0x7fe4e3e7a780>"
            ]
          },
          "metadata": {
            "tags": []
          },
          "execution_count": 25
        },
        {
          "output_type": "display_data",
          "data": {
            "image/png": "[encoded data removed]",
            "text/plain": [
              "<Figure size 432x288 with 1 Axes>"
            ]
          },
          "metadata": {
            "tags": [],
            "needs_background": "light"
          }
        }
      ]
    },
    {
      "cell_type": "markdown",
      "metadata": {
        "id": "IP_PtoSZXYNP",
        "colab_type": "text"
      },
      "source": [
        "# Confusion Matrix"
      ]
    },
    {
      "cell_type": "code",
      "metadata": {
        "id": "qTlj3mn9DCKX",
        "colab_type": "code",
        "outputId": "c9a8bbe3-2b3b-4233-c541-3f2c9f70be47",
        "colab": {
          "base_uri": "https://localhost:8080/",
          "height": 141
        }
      },
      "source": [
        "#Confusion Matrix and Classification Report\n",
        "from sklearn.metrics import confusion_matrix\n",
        "from sklearn.metrics import classification_report\n",
        "\n",
        "# valid_steps_per_epoch = np.math.ceil(valid_generator.samples / valid_generator.batch_size)\n",
        "# valid_pred=model.predict(valid_generator,verbose=1,steps=valid_steps_per_epoch)\n",
        "# predicted_valid_classes=np.argmax(valid_pred,axis=1)\n",
        "\n",
        "# true_classes = valid_generator.classes\n",
        "# class_labels = ['Personal Care','Apparel','Accessories', 'Footwear', 'Free Items']\n",
        "\n",
        "# report = metrics.classification_report(true_classes, predicted_valid_classes, target_names=class_labels)\n",
        "# print(report)   \n",
        "\n",
        "valid_generator.reset()\n",
        "test_steps_per_epoch = np.math.ceil(valid_generator.samples / valid_generator.batch_size)\n",
        "Y_pred=model.predict(valid_generator,verbose=1,steps=test_steps_per_epoch)\n",
        "\n",
        "classes = valid_generator.classes\n",
        "y_pred = np.argmax(Y_pred, axis=-1)\n",
        "sum(y_pred==classes)/10000\n",
        "\n",
        "confusion_matrix(valid_generator.classes,y_pred)"
      ],
      "execution_count": 0,
      "outputs": [
        {
          "output_type": "stream",
          "text": [
            "84/84 [==============================] - 11s 129ms/step\n"
          ],
          "name": "stdout"
        },
        {
          "output_type": "execute_result",
          "data": {
            "text/plain": [
              "array([[168, 376, 139,   0,  30,   0],\n",
              "       [301, 672, 256,   0,  55,   0],\n",
              "       [117, 277,  91,   0,  26,   0],\n",
              "       [  1,   4,   0,   0,   0,   0],\n",
              "       [ 35,  76,  34,   0,   4,   0],\n",
              "       [  0,   2,   0,   0,   0,   0]])"
            ]
          },
          "metadata": {
            "tags": []
          },
          "execution_count": 31
        }
      ]
    },
    {
      "cell_type": "code",
      "metadata": {
        "id": "VhMOZ9OC4FzI",
        "colab_type": "code",
        "outputId": "b730d1b8-1222-43bb-b9a3-e6e454d7d007",
        "colab": {
          "base_uri": "https://localhost:8080/",
          "height": 34
        }
      },
      "source": [
        "labels_x = (valid_generator.class_indices)\n",
        "labels_x = dict((v,k) for k,v in labels_x.items())\n",
        "predictions_x = [labels[k] for k in predicted_valid_classes]\n",
        "\n",
        "filenames_x=valid_generator.filenames\n",
        "results_x=pd.DataFrame({\"image\":filenames_x,\n",
        "                      \"predictions\":predictions_x})\n",
        "\n",
        "true_and_predicted_labels_x = pd.merge(df_test[['image','masterCategory']], results, on=\"image\")\n",
        "true_and_predicted_labels_x.head()\n",
        "xy = true_and_predicted_labels['predictions'].unique()\n",
        "print(xy)"
      ],
      "execution_count": 0,
      "outputs": [
        {
          "output_type": "stream",
          "text": [
            "['Accessories' 'Apparel' 'Footwear' 'Personal Care']\n"
          ],
          "name": "stdout"
        }
      ]
    },
    {
      "cell_type": "code",
      "metadata": {
        "id": "H7fWhjqyAdks",
        "colab_type": "code",
        "outputId": "00b2482a-2cf8-442a-f6a6-e9356f08b7b8",
        "colab": {
          "base_uri": "https://localhost:8080/",
          "height": 453
        }
      },
      "source": [
        "# Plot confusion matrix\n",
        "from sklearn.metrics import confusion_matrix\n",
        "import itertools\n",
        "\n",
        "def plot_confusion_matrix(cm, classes,\n",
        "                          normalize=False,\n",
        "                          title='Confusion matrix',\n",
        "                          cmap=plt.cm.Blues):\n",
        "  \"\"\"\n",
        "  This function prints and plots the confusion matrix.\n",
        "  Normalization can be applied by setting `normalize=True`.\n",
        "  \"\"\"\n",
        "  if normalize:\n",
        "      cm = cm.astype('float') / cm.sum(axis=1)[:, np.newaxis]\n",
        "      print(\"Normalized confusion matrix\")\n",
        "  else:\n",
        "      print('Confusion matrix, without normalization')\n",
        "\n",
        "  print(cm)\n",
        "\n",
        "  plt.imshow(cm, interpolation='nearest', cmap=cmap)\n",
        "  plt.title(title)\n",
        "  plt.colorbar()\n",
        "  tick_marks = np.arange(len(classes))\n",
        "  plt.xticks(tick_marks, classes, rotation=45)\n",
        "  plt.yticks(tick_marks, classes)\n",
        "\n",
        "  fmt = '.2f' if normalize else 'd'\n",
        "  thresh = cm.max() / 2.\n",
        "  for i, j in itertools.product(range(cm.shape[0]), range(cm.shape[1])):\n",
        "      plt.text(j, i, format(cm[i, j], fmt),\n",
        "               horizontalalignment=\"center\",\n",
        "               color=\"white\" if cm[i, j] > thresh else \"black\")\n",
        "\n",
        "  plt.tight_layout()\n",
        "  plt.ylabel('True label')\n",
        "  plt.xlabel('Predicted label')\n",
        "  plt.show()\n",
        "\n",
        "valid_generator.reset()\n",
        "valid_steps_per_epoch = np.math.ceil(valid_generator.samples / valid_generator.batch_size)\n",
        "p_test=model.predict(valid_generator,verbose=1,steps=valid_steps_per_epoch).argmax(axis=1)\n",
        "\n",
        "cm = confusion_matrix(valid_generator.classes, p_test)\n",
        "plot_confusion_matrix(cm, list(range(6)))\n",
        "\n",
        "\n"
      ],
      "execution_count": 0,
      "outputs": [
        {
          "output_type": "stream",
          "text": [
            "84/84 [==============================] - 11s 132ms/step\n",
            "Confusion matrix, without normalization\n",
            "[[168 374 142   0  29   0]\n",
            " [325 675 226   0  58   0]\n",
            " [ 93 281 117   0  20   0]\n",
            " [  2   1   1   0   1   0]\n",
            " [ 34  75  33   0   7   0]\n",
            " [  0   1   1   0   0   0]]\n"
          ],
          "name": "stdout"
        },
        {
          "output_type": "display_data",
          "data": {
            "image/png": "[encoded data removed]",
            "text/plain": [
              "<Figure size 432x288 with 2 Axes>"
            ]
          },
          "metadata": {
            "tags": [],
            "needs_background": "light"
          }
        }
      ]
    },
    {
      "cell_type": "markdown",
      "metadata": {
        "id": "iFe_qheHX1uT",
        "colab_type": "text"
      },
      "source": [
        "# Examples of Misclassified Images"
      ]
    },
    {
      "cell_type": "code",
      "metadata": {
        "id": "1q5EyllJ5hY3",
        "colab_type": "code",
        "colab": {}
      },
      "source": [
        "misclassified_idx = pd.DataFrame()\n",
        "misclassified_idx = true_and_predicted_labels.loc[true_and_predicted_labels['correct_label'] == 0].copy()\n",
        "\n",
        "import cv2\n",
        "from google.colab.patches import cv2_imshow\n",
        "\n",
        "def plot_figures(figures, nrows = 1, ncols=1):\n",
        "    \"\"\"Plot a dictionary of figures.\n",
        "\n",
        "    Parameters\n",
        "    ----------\n",
        "    figures : <title, figure> dictionary\n",
        "    ncols : number of columns of subplots wanted in the display\n",
        "    nrows : number of rows of subplots wanted in the figure\n",
        "    \"\"\"\n",
        "\n",
        "    fig, axeslist = plt.subplots(ncols=ncols, nrows=nrows)\n",
        "    for ind,title in enumerate(figures):\n",
        "        axeslist.ravel()[ind].imshow(cv2.cvtColor(figures[title], cv2.COLOR_BGR2RGB))\n",
        "        axeslist.ravel()[ind].set_title(title)\n",
        "        axeslist.ravel()[ind].set_axis_off()\n",
        "    plt.tight_layout() # optional\n",
        "    \n",
        "def img_path(img):\n",
        "    return images_data+img\n",
        "\n",
        "def load_image(img):\n",
        "    resized_fac = 2\n",
        "    img     = cv2.imread(img_path(img))\n",
        "    w, h, _ = img.shape\n",
        "    #resized = cv2.resize(img, (int(h*resized_fac), int(w*resized_fac)), interpolation = cv2.INTER_AREA)\n",
        "    return img\n",
        "\n"
      ],
      "execution_count": 0,
      "outputs": []
    },
    {
      "cell_type": "code",
      "metadata": {
        "id": "rZQ4-z_MOf2b",
        "colab_type": "code",
        "outputId": "320b8930-0906-4db8-efe2-1c0ad59d2899",
        "colab": {
          "base_uri": "https://localhost:8080/",
          "height": 292
        }
      },
      "source": [
        "# generation of a dictionary of (title, images)\n",
        "figures = {misclassified_idx.predictions[i]+\" \"+misclassified_idx.masterCategory[i]+str(i): load_image(row.image) for i, row in misclassified_idx.sample(6).iterrows()}\n",
        "#plot of the images in a figure, with 2 rows and 3 columns\n",
        "print(load_image(misclassified_idx.iloc[0].image).shape)\n",
        "plot_figures(figures, 2, 3)"
      ],
      "execution_count": 0,
      "outputs": [
        {
          "output_type": "stream",
          "text": [
            "(80, 60, 3)\n"
          ],
          "name": "stdout"
        },
        {
          "output_type": "display_data",
          "data": {
            "image/png": "[encoded data removed]",
            "text/plain": [
              "<Figure size 432x288 with 6 Axes>"
            ]
          },
          "metadata": {
            "tags": [],
            "needs_background": "light"
          }
        }
      ]
    },
    {
      "cell_type": "code",
      "metadata": {
        "id": "9VvbpRSs8nth",
        "colab_type": "code",
        "outputId": "b22ab238-d945-45c9-b801-8142fff4a0ef",
        "colab": {
          "base_uri": "https://localhost:8080/",
          "height": 96
        }
      },
      "source": [
        "def img_path(img):\n",
        "    return images_data+img\n",
        "\n",
        "def load (img):\n",
        "    img = cv2.imread(img)\n",
        "    return img\n",
        "\n",
        "cv2_imshow(img)\n",
        "\n",
        "load(\"3215.jpg\")"
      ],
      "execution_count": 0,
      "outputs": [
        {
          "output_type": "display_data",
          "data": {
            "image/png": "[encoded data removed]",
            "text/plain": [
              "<PIL.Image.Image image mode=RGB size=60x80 at 0x7FE524B19DD8>"
            ]
          },
          "metadata": {
            "tags": []
          }
        }
      ]
    },
    {
      "cell_type": "code",
      "metadata": {
        "id": "864WG7DBR-es",
        "colab_type": "code",
        "outputId": "3c1707fe-ec89-45b0-9712-28960860e804",
        "colab": {
          "base_uri": "https://localhost:8080/",
          "height": 96
        }
      },
      "source": [
        "from google.colab.patches import cv2_imshow\n",
        "img = cv2.imread(DATASET_PATH+\"images/3215.jpg\")\n",
        "cv2_imshow(img)"
      ],
      "execution_count": 0,
      "outputs": [
        {
          "output_type": "display_data",
          "data": {
            "image/png": "[encoded data removed]",
            "text/plain": [
              "<PIL.Image.Image image mode=RGB size=60x80 at 0x7FE4E398B320>"
            ]
          },
          "metadata": {
            "tags": []
          }
        }
      ]
    }
  ]
}