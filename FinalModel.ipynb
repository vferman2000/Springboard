{
  "nbformat": 4,
  "nbformat_minor": 0,
  "metadata": {
    "colab": {
      "name": "FinalModel.ipynb",
      "provenance": [],
      "collapsed_sections": [],
      "mount_file_id": "1c7-ZWYBSN6NYjzNZgmIEcFW_hbE1bCRN",
      "authorship_tag": "ABX9TyPDuR1ioEmVmLSDh0JxlerE",
      "include_colab_link": true
    },
    "kernelspec": {
      "name": "python3",
      "display_name": "Python 3"
    },
    "accelerator": "GPU"
  },
  "cells": [
    {
      "cell_type": "markdown",
      "metadata": {
        "id": "view-in-github",
        "colab_type": "text"
      },
      "source": [
        "<a href=\"https://colab.research.google.com/github/vferman2000/Springboard/blob/master/FinalModel.ipynb\" target=\"_parent\"><img src=\"https://colab.research.google.com/assets/colab-badge.svg\" alt=\"Open In Colab\"/></a>"
      ]
    },
    {
      "cell_type": "markdown",
      "metadata": {
        "id": "QZwr1TwJQe_X",
        "colab_type": "text"
      },
      "source": [
        "# Fashion Image Classification Project\n",
        "\n",
        "The objective of the project is to build a Convolutional Neural Network model to classify fashion product images using TensorFow and Keras functional API.  The model will then predict the class of a given input image.\n",
        "\n",
        "The dataset can be downloaded from https://www.kaggle.com/paramaggarwal/fashion-product-images-dataset\n",
        "\n",
        "The platform selected for the project is Google Collab.\n",
        "\n",
        "Different optimization techniques will be used to yield a classification system that is robust enough to address the needs of businesses requiring  a product catalog to classify items in an efficient and automated manner.\n",
        "\n",
        "\n",
        "\n"
      ]
    },
    {
      "cell_type": "code",
      "metadata": {
        "id": "Mac9tAiOzTti",
        "colab_type": "code",
        "colab": {
          "base_uri": "https://localhost:8080/",
          "height": 35
        },
        "outputId": "328db8a0-4e3f-4172-deb8-f085e80c1b99"
      },
      "source": [
        "# Install TensorFlow\n",
        "import tensorflow as tf \n",
        "tf.test.gpu_device_name()"
      ],
      "execution_count": null,
      "outputs": [
        {
          "output_type": "execute_result",
          "data": {
            "application/vnd.google.colaboratory.intrinsic": {
              "type": "string"
            },
            "text/plain": [
              "'/device:GPU:0'"
            ]
          },
          "metadata": {
            "tags": []
          },
          "execution_count": 1
        }
      ]
    },
    {
      "cell_type": "code",
      "metadata": {
        "id": "syYEveD9zaW3",
        "colab_type": "code",
        "colab": {}
      },
      "source": [
        "# importing additional libraries\n",
        "\n",
        "import numpy as np\n",
        "import pandas as pd\n",
        "import matplotlib.pyplot as plt\n",
        "from tensorflow.keras.layers import Input, Conv2D, Dense, Flatten, Dropout, GlobalMaxPooling2D, MaxPooling2D, BatchNormalization\n",
        "from tensorflow.keras.models import Model\n",
        "from mpl_toolkits.mplot3d import Axes3D\n",
        "from sklearn.preprocessing import StandardScaler\n",
        "import matplotlib.image as mpimg\n",
        "from sklearn.model_selection import train_test_split\n",
        "import os"
      ],
      "execution_count": null,
      "outputs": []
    },
    {
      "cell_type": "markdown",
      "metadata": {
        "id": "kb_IOJcYQaIc",
        "colab_type": "text"
      },
      "source": [
        "# Mounting to Google Drive"
      ]
    },
    {
      "cell_type": "code",
      "metadata": {
        "id": "nzqG_5C3zfv7",
        "colab_type": "code",
        "colab": {
          "base_uri": "https://localhost:8080/",
          "height": 34
        },
        "outputId": "2daea673-e732-49ef-b487-6dc7ad7d50d2"
      },
      "source": [
        "# Path to fashion product images files on Google Drive\n",
        "\n",
        "DATASET_PATH = \"/content/drive/My Drive/Springboard Data Science/CapstoneTwo/fashion-product-images-small/myntradataset/\"\n",
        "print(os.listdir(DATASET_PATH))"
      ],
      "execution_count": null,
      "outputs": [
        {
          "output_type": "stream",
          "text": [
            "['images', 'styles.csv']\n"
          ],
          "name": "stdout"
        }
      ]
    },
    {
      "cell_type": "code",
      "metadata": {
        "id": "RlPeQpEkz15Y",
        "colab_type": "code",
        "colab": {}
      },
      "source": [
        "# Reading df_style pandas dataframe which contains images attributes\n",
        "# Some rows have an extra column in their productDisplayName which will be ommitted.\n",
        "df_styles = pd.read_csv(DATASET_PATH + 'styles.csv', usecols = lambda column : column not in range(11))\n",
        "\n",
        "df_styles['image'] = df_styles.apply(lambda row: str(row['id']) + \".jpg\", axis=1)\n",
        "\n",
        "df_styles['masterCategory'] = df_styles.masterCategory.apply(lambda row: 'NA' if row is np.nan else row)"
      ],
      "execution_count": null,
      "outputs": []
    },
    {
      "cell_type": "markdown",
      "metadata": {
        "id": "VZoUXhqhyrKe",
        "colab_type": "text"
      },
      "source": [
        "There are 7 distinct product categories in the dataset.  As shown below, the categories are unevenly distributed.  The data will need to be stratified for balance."
      ]
    },
    {
      "cell_type": "code",
      "metadata": {
        "id": "HV9nsF4kQHdM",
        "colab_type": "code",
        "colab": {
          "base_uri": "https://localhost:8080/",
          "height": 153
        },
        "outputId": "c61fc703-3e66-425e-9360-2bd62753a842"
      },
      "source": [
        "df_styles.masterCategory.value_counts()\n"
      ],
      "execution_count": null,
      "outputs": [
        {
          "output_type": "execute_result",
          "data": {
            "text/plain": [
              "Apparel           21400\n",
              "Accessories       11289\n",
              "Footwear           9222\n",
              "Personal Care      2404\n",
              "Free Items          105\n",
              "Sporting Goods       25\n",
              "Home                  1\n",
              "Name: masterCategory, dtype: int64"
            ]
          },
          "metadata": {
            "tags": []
          },
          "execution_count": 48
        }
      ]
    },
    {
      "cell_type": "code",
      "metadata": {
        "id": "MvITHJNnDF0X",
        "colab_type": "code",
        "colab": {}
      },
      "source": [
        "# Home and Sporting Goods classes will be added to Free Items class due low number of samples in the class\n",
        "\n",
        "new_class_assignment = {'Home':'Free Items', 'Sporting Goods': 'Free Items'}\n",
        "df_styles = df_styles.replace(new_class_assignment)"
      ],
      "execution_count": null,
      "outputs": []
    },
    {
      "cell_type": "code",
      "metadata": {
        "id": "VazIqEv_L7Jp",
        "colab_type": "code",
        "colab": {
          "base_uri": "https://localhost:8080/",
          "height": 119
        },
        "outputId": "33dcd965-296b-46fc-f6e6-9360e1326e92"
      },
      "source": [
        "df_styles.masterCategory.value_counts()"
      ],
      "execution_count": null,
      "outputs": [
        {
          "output_type": "execute_result",
          "data": {
            "text/plain": [
              "Apparel          21400\n",
              "Accessories      11289\n",
              "Footwear          9222\n",
              "Personal Care     2404\n",
              "Free Items         131\n",
              "Name: masterCategory, dtype: int64"
            ]
          },
          "metadata": {
            "tags": []
          },
          "execution_count": 50
        }
      ]
    },
    {
      "cell_type": "markdown",
      "metadata": {
        "id": "nWvAxjAEaJii",
        "colab_type": "text"
      },
      "source": [
        "Splitting dataset into train, validation and test subsets where each subset is stratisfied by the values in the masterCategory column of df_styles dataframe\n"
      ]
    },
    {
      "cell_type": "code",
      "metadata": {
        "id": "ye_lnS19q-Yb",
        "colab_type": "code",
        "colab": {}
      },
      "source": [
        "# function to stratify train, validation and test data in 5 classes\n",
        "\n",
        "def split_stratified_into_train_val_test(df_input, stratify_colname='y',\n",
        "                                         frac_train=0.70, frac_val=0.10, frac_test=0.20,\n",
        "                                         random_state=None):\n",
        "    '''\n",
        "    Splits a Pandas dataframe into three subsets (train, val, and test)\n",
        "    where each subset is stratified by the values in a specific column. \n",
        "\n",
        "\n",
        "    Returns\n",
        "    -------\n",
        "    df_train, df_val, df_test :\n",
        "        Dataframes containing the three splits.\n",
        "    '''\n",
        "\n",
        "    if frac_train + frac_val + frac_test != 1.0:\n",
        "        raise ValueError('fractions %f, %f, %f do not add up to 1.0' % \\\n",
        "                         (frac_train, frac_val, frac_test))\n",
        "\n",
        "    if stratify_colname not in df_styles.columns:\n",
        "        raise ValueError('%s is not a column in the dataframe' % (stratify_colname))\n",
        "\n",
        "    X = df_input # Contains all columns.\n",
        "    y = df_input[[stratify_colname]] # Dataframe of just the column on which to stratify.\n",
        "\n",
        "    # Split original dataframe into train and temp dataframes.\n",
        "    df_train, df_temp, y_train, y_temp = train_test_split(X,\n",
        "                                                          y,\n",
        "                                                          stratify=y,\n",
        "                                                          test_size=(1.0 - frac_train),\n",
        "                                                          random_state=random_state)\n",
        "\n",
        "    # Split the temp dataframe into val and test dataframes.\n",
        "    relative_frac_test = frac_test / (frac_val + frac_test)\n",
        "    df_validation, df_test, y_validation, y_test = train_test_split(df_temp,\n",
        "                                                      y_temp,\n",
        "                                                      stratify=y_temp,\n",
        "                                                      test_size=relative_frac_test,\n",
        "                                                      random_state=random_state)\n",
        "\n",
        "    assert len(df_input) == len(df_train) + len(df_validation) + len(df_test)\n",
        "\n",
        "    return df_train, df_validation, df_test"
      ],
      "execution_count": null,
      "outputs": []
    },
    {
      "cell_type": "code",
      "metadata": {
        "id": "QRlW3yv8fLaO",
        "colab_type": "code",
        "colab": {}
      },
      "source": [
        "# Splitting data\n",
        "\n",
        "df_train, df_validation, df_test = \\\n",
        "    split_stratified_into_train_val_test(df_styles, stratify_colname='masterCategory', frac_train=0.70, frac_val=0.10, frac_test=0.20)"
      ],
      "execution_count": null,
      "outputs": []
    },
    {
      "cell_type": "code",
      "metadata": {
        "id": "bf4ZipqP0o9e",
        "colab_type": "code",
        "colab": {}
      },
      "source": [
        "# Creating a control group that will be used as unseen data for the model ensemble later in the project\n",
        "\n",
        "y_test = df_test.masterCategory\n",
        "df_test_subset, df_control_subset, y_test_subset, y_control_subset = train_test_split(df_test, y_test, test_size=.50, stratify=y_test)"
      ],
      "execution_count": null,
      "outputs": []
    },
    {
      "cell_type": "code",
      "metadata": {
        "id": "q_l8oaRe0qva",
        "colab_type": "code",
        "colab": {
          "base_uri": "https://localhost:8080/",
          "height": 85
        },
        "outputId": "ea2de239-dd23-4f33-cd92-b12e723ab115"
      },
      "source": [
        "print('The train subset has', len(df_train),'samples')\n",
        "print('The validation subset has', len(df_validation),'samples')\n",
        "print('The test subset has', len(df_test_subset),'samples')\n",
        "print('The control subset has', len(df_control_subset),'samples')"
      ],
      "execution_count": null,
      "outputs": [
        {
          "output_type": "stream",
          "text": [
            "The train subset has 31112 samples\n",
            "The validation subset has 4444 samples\n",
            "The test subset has 4445 samples\n",
            "The control subset has 4445 samples\n"
          ],
          "name": "stdout"
        }
      ]
    },
    {
      "cell_type": "markdown",
      "metadata": {
        "id": "u7g8RDTPZ0jn",
        "colab_type": "text"
      },
      "source": [
        "There are five unique categories in the masterCategory column that will be used as classes in the model."
      ]
    },
    {
      "cell_type": "code",
      "metadata": {
        "id": "nQXngWJJXQXE",
        "colab_type": "code",
        "colab": {
          "base_uri": "https://localhost:8080/",
          "height": 119
        },
        "outputId": "ade7d326-daeb-4e33-9bdc-07e6bdfe1189"
      },
      "source": [
        "df_train.masterCategory.value_counts()"
      ],
      "execution_count": null,
      "outputs": [
        {
          "output_type": "execute_result",
          "data": {
            "text/plain": [
              "Apparel          14980\n",
              "Accessories       7902\n",
              "Footwear          6455\n",
              "Personal Care     1683\n",
              "Free Items          92\n",
              "Name: masterCategory, dtype: int64"
            ]
          },
          "metadata": {
            "tags": []
          },
          "execution_count": 55
        }
      ]
    },
    {
      "cell_type": "code",
      "metadata": {
        "id": "5m8ie4Dg0HZR",
        "colab_type": "code",
        "colab": {
          "base_uri": "https://localhost:8080/",
          "height": 34
        },
        "outputId": "73174dad-5c81-4ca3-a7d3-a0f8c97bbf11"
      },
      "source": [
        "# number of classes in masterCategory column of df_train\n",
        "K = len(set(df_train.iloc[:,2]))\n",
        "print('The number of classes is', K)"
      ],
      "execution_count": null,
      "outputs": [
        {
          "output_type": "stream",
          "text": [
            "The number of classes is 5\n"
          ],
          "name": "stdout"
        }
      ]
    },
    {
      "cell_type": "code",
      "metadata": {
        "id": "7xVCTj8M0VJ6",
        "colab_type": "code",
        "colab": {}
      },
      "source": [
        "# Path to images folder\n",
        "images_data = DATASET_PATH+\"images/\""
      ],
      "execution_count": null,
      "outputs": []
    },
    {
      "cell_type": "markdown",
      "metadata": {
        "id": "v3fVtuHYhrb4",
        "colab_type": "text"
      },
      "source": [
        "# Mapping images to MasterCategory classes in df_styles using ImageDataGenerator"
      ]
    },
    {
      "cell_type": "code",
      "metadata": {
        "id": "q5rD6i-Khpvd",
        "colab_type": "code",
        "colab": {
          "base_uri": "https://localhost:8080/",
          "height": 122
        },
        "outputId": "17b552a9-32cb-4493-8ee1-aa83f2b65549"
      },
      "source": [
        "# Using ImageDataGenerator to correlate images from image folder to masterCategory column in df_train, df_validation and df_test \n",
        "\n",
        "from keras.preprocessing.image import ImageDataGenerator\n",
        "HEIGHT = 80\n",
        "WIDTH = 60\n",
        "batch_size = 32\n",
        "datagen = ImageDataGenerator(rescale=1./255)\n",
        "test_datagen = ImageDataGenerator(rescale=1./255)\n",
        "\n",
        "train_generator=datagen.flow_from_dataframe(\n",
        "                    dataframe=df_train,\n",
        "                    directory=images_data,\n",
        "                    x_col=\"image\",\n",
        "                    y_col=\"masterCategory\",\n",
        "                    batch_size=batch_size,\n",
        "                    seed=42,\n",
        "                    shuffle=True,\n",
        "                    class_mode=\"categorical\",\n",
        "                    classes=['Footwear', 'Apparel', 'Accessories', 'Personal Care','Free Items'],\n",
        "                    target_size=(HEIGHT,WIDTH))\n",
        "\n",
        "valid_generator=test_datagen.flow_from_dataframe(\n",
        "                    dataframe=df_validation,\n",
        "                    directory=images_data,\n",
        "                    x_col=\"image\",\n",
        "                    y_col=\"masterCategory\",\n",
        "                    batch_size=batch_size,\n",
        "                    seed=42,\n",
        "                    shuffle=True,\n",
        "                    class_mode=\"categorical\",\n",
        "                    classes=['Footwear', 'Apparel', 'Accessories', 'Personal Care','Free Items'],\n",
        "                    target_size=(HEIGHT,WIDTH))\n",
        "\n",
        "test_generator=test_datagen.flow_from_dataframe(\n",
        "                    dataframe=df_test_subset,\n",
        "                    directory=images_data,\n",
        "                    x_col=\"image\",\n",
        "                    batch_size=1,\n",
        "                    seed=42,\n",
        "                    shuffle=False,\n",
        "                    class_mode=None,\n",
        "                    target_size=(HEIGHT,WIDTH))"
      ],
      "execution_count": null,
      "outputs": [
        {
          "output_type": "stream",
          "text": [
            "/usr/local/lib/python3.6/dist-packages/keras_preprocessing/image/dataframe_iterator.py:282: UserWarning: Found 4 invalid image filename(s) in x_col=\"image\". These filename(s) will be ignored.\n",
            "  .format(n_invalid, x_col)\n"
          ],
          "name": "stderr"
        },
        {
          "output_type": "stream",
          "text": [
            "Found 31108 validated image filenames belonging to 5 classes.\n",
            "Found 4444 validated image filenames belonging to 5 classes.\n",
            "Found 4445 validated image filenames.\n"
          ],
          "name": "stdout"
        }
      ]
    },
    {
      "cell_type": "markdown",
      "metadata": {
        "id": "H-NFWo0aV3k5",
        "colab_type": "text"
      },
      "source": [
        "# Building the Convolutional Neural Network Model\n",
        "\n",
        "The input image is 80x60 in size with an RGB channel. We will build a CNN model with a convolution + pooling architecture, followed by a number of fully connected Dense layers. \n",
        "\n",
        "The activation function for the convolutional layers will be ReLU ((Rectified Linear Units). \n",
        "\n",
        "The output layer will utilize a softmax activation function for the multiclass classification.\n",
        "\n",
        "The hyperparameters that will be used are:\n",
        "MaxPooling2d(2, 2) which extracts certain features from the image and reduces its height and the width. By using 2 pooling layers, the height and width are 1/4 of the original sizes.\n",
        "\n",
        "BatchNormalization which regularizes and makes the training of convolutional neural networks more efficient.\n",
        "\n",
        "Dropout to avoid overfitting\n",
        "\n"
      ]
    },
    {
      "cell_type": "code",
      "metadata": {
        "id": "L6LZESjF0sv0",
        "colab_type": "code",
        "colab": {}
      },
      "source": [
        "\n",
        "  #Model architecture\n",
        "  # 2D convolutional layer with 2 spatial dimensions (height and width)\n",
        "  # Using more filters results in a more powerful model, but we risk overfitting due to increased parameter count.\n",
        "  # 32 initial output feature maps that will progressively increase with network depth. (Starts low to check for overfitting)\n",
        "  # A 3D filter with 3x3x3 dimensions\n",
        "  # A ReLU activation funcion\n",
        "\n",
        "def get_model():\n",
        "\n",
        "  input_shape=(80, 60, 3)\n",
        "  filter=(3,3) \n",
        "  activation_fnc='relu' \n",
        "  padding='valid'\n",
        "  pool_size=(2,2)\n",
        "  dropout=(.02)\n",
        "  \n",
        "\n",
        "  # Input node. image shape: 80 x 60 x 3 RGB channels\n",
        "  # Input node. image shape: 80 x 60 x 3 RGB channels\n",
        "  i= Input(shape=(input_shape))\n",
        "\n",
        "\n",
        "  # 2D convolutional layer with 2 spatial dimensions (height and width)\n",
        "  # Using more filters results in a more powerful model, but we risk overfitting due to increased parameter count.\n",
        "  # 32 initial output feature maps that will progressively increase with network depth. (Starts low to check for overfitting)\n",
        "  # A 3D filter with 3x3x3 dimensions\n",
        "  # A ReLU activation funcion\n",
        "\n",
        "  x = Conv2D(32, (filter), activation=activation_fnc, padding=padding)(i)\n",
        "  x = BatchNormalization()(x)\n",
        "  x = Conv2D(32, (filter), activation=activation_fnc, padding=padding)(x)\n",
        "  x = BatchNormalization()(x)\n",
        "\n",
        "  # Pooling layer to reduce dimensionality (max pooling takes the maximum value in the pooling window)\n",
        "  x = MaxPooling2D(pool_size)(x)\n",
        "  x = Dropout(dropout)(x)\n",
        "\n",
        "  #Second convolutinal layer with increased number of feature maps\n",
        "  x = Conv2D(64, (filter), activation=activation_fnc, padding=padding)(x)\n",
        "  x = BatchNormalization()(x)\n",
        "  x = Conv2D(64, (filter), activation=activation_fnc, padding=padding)(x)\n",
        "  x = BatchNormalization()(x)\n",
        "  x = MaxPooling2D(pool_size)(x)\n",
        "  x = Dropout(dropout)(x)\n",
        "\n",
        "  #Third convolutinal layer with increased number of feature maps\n",
        "  x = Conv2D(128, (filter), activation=activation_fnc, padding=padding)(x)\n",
        "  x = BatchNormalization()(x)\n",
        "  x = Conv2D(128, (filter), activation=activation_fnc, padding=padding)(x)\n",
        "  x = BatchNormalization()(x)\n",
        "  x = MaxPooling2D(pool_size)(x)\n",
        "  x = Dropout(dropout)(x)\n",
        "\n",
        "  # Converting layer to 1 dimensional layer\n",
        "  x = Flatten()(x)\n",
        "  x = Dropout(dropout)(x)\n",
        "\n",
        "  # Fully connected layer\n",
        "  x = Dense(1024, activation=activation_fnc)(x)\n",
        "  x = Dropout(dropout)(x)\n",
        "\n",
        "  # Fully connected layer with Softmax activation function for multiclass classification probability\n",
        "  x = Dense(K, activation='softmax')(x)\n",
        "\n",
        "  model = Model(i, x)\n",
        " \n",
        "  return model\n",
        "\n"
      ],
      "execution_count": null,
      "outputs": []
    },
    {
      "cell_type": "code",
      "metadata": {
        "id": "0RVu4TMTN7wC",
        "colab_type": "code",
        "colab": {}
      },
      "source": [
        "#Function to define hyperparameters of chosen optimizers\n",
        "#An Exponential Decay Schedule is constructed at different initial learning rates depending on the optimizers\n",
        "\n",
        "def getOptimizer(optName):\n",
        "  \n",
        "    if optName == 'Adam':\n",
        "        lr_schedule = tf.optimizers.schedules.ExponentialDecay(\n",
        "          initial_learning_rate=1e-3,\n",
        "          decay_steps=10000,\n",
        "          decay_rate=0.9)\n",
        "        xoptimizer = tf.optimizers.Adam(learning_rate=lr_schedule)\n",
        "    \n",
        "    if optName == 'Sgd':\n",
        "        lr_schedule = tf.optimizers.schedules.ExponentialDecay(\n",
        "          initial_learning_rate=1e-2,\n",
        "          decay_steps=10000,\n",
        "         decay_rate=0.9)\n",
        "        xoptimizer = tf.optimizers.SGD(learning_rate=lr_schedule)\n",
        "        \n",
        "    return xoptimizer"
      ],
      "execution_count": null,
      "outputs": []
    },
    {
      "cell_type": "markdown",
      "metadata": {
        "id": "VrwQL-cmN2wV",
        "colab_type": "text"
      },
      "source": [
        "# Compiling and Fitting the Models"
      ]
    },
    {
      "cell_type": "markdown",
      "metadata": {
        "id": "U79LS8-DOSFx",
        "colab_type": "text"
      },
      "source": [
        "1) Model # 1 compiled with:\n",
        "\n",
        "*  Adams optimizer\n",
        "*  Exponential Decay optimization with an initial learning rate of 0.001\n",
        "*  Categorical crossentropy\n",
        "*  Accuracy as the metric value\n"
      ]
    },
    {
      "cell_type": "markdown",
      "metadata": {
        "id": "n-FntCJ8nKPl",
        "colab_type": "text"
      },
      "source": [
        "2) Model # 2 compiled with:\n",
        "\n",
        "*  Stochastic Gradient Descend (SGD) optimizer\n",
        "*  Exponential Decay optimization with an initial learning rate of 0.01\n",
        "*  Categorical crossentropy\n",
        "*  Accuracy as the metric value\n"
      ]
    },
    {
      "cell_type": "code",
      "metadata": {
        "id": "ZdI92iM0iEpt",
        "colab_type": "code",
        "colab": {
          "base_uri": "https://localhost:8080/",
          "height": 1000
        },
        "outputId": "32aeb2ed-3073-4bae-f2a6-93944a23ad51"
      },
      "source": [
        "# Calls convolutional neural network model using get_model() function \n",
        "# Compiles model using two different optimizers 'Adam' and 'Sgd'\n",
        "# Updates optimizers hyperparameters using getOptimizer() function\n",
        "# Fits model on train data \n",
        "# Destroys object so that compiler reinitiates weights  \n",
        "\n",
        "loss='categorical_crossentropy'\n",
        "metrics=['accuracy']\n",
        "monitor='loss'\n",
        "patience=3\n",
        "epochs = 50\n",
        "DATASET_PATH_MODEL = \"/content/drive/My Drive/Springboard Data Science/CapstoneTwo/\"\n",
        "callback = tf.keras.callbacks.EarlyStopping(monitor=monitor, patience=patience)\n",
        "\n",
        "model_output = []\n",
        "\n",
        "model1 = get_model()\n",
        "\n",
        "model1.summary()\n",
        "model1.compile(loss=loss, optimizer=getOptimizer('Adam'), metrics=metrics)\n",
        "model_output_1 = model1.fit(train_generator, validation_data=valid_generator, steps_per_epoch=int(train_generator.samples)/ batch_size, epochs=epochs, callbacks=[callback])\n",
        "model_output.append(model_output_1)\n",
        "model1.save(DATASET_PATH_MODEL+'model_1.h5')\n",
        "score_1 = model1.evaluate(valid_generator)\n",
        "print('Test loss model1:', score_1[0])\n",
        "print('Test accuracy model1:', score_1[1])\n",
        "tf.keras.backend.clear_session()# destroy object\n",
        "\n",
        "model2 = get_model()\n",
        "\n",
        "train_generator.reset()\n",
        "valid_generator.reset()\n",
        "model2.compile(loss=loss, optimizer=getOptimizer('Sgd'), metrics=metrics)\n",
        "model_output_2 = model2.fit(train_generator, validation_data=valid_generator, steps_per_epoch=int(train_generator.samples)/ batch_size, epochs=epochs, callbacks=[callback])\n",
        "model_output.append(model_output_2)\n",
        "model2.save(DATASET_PATH_MODEL+'model_2.h5')\n",
        "score_2 = model2.evaluate(valid_generator)\n",
        "print('Test loss model2:', score_2[0])\n",
        "print('Test accuracy model2:', score_2[1])\n",
        "tf.keras.backend.clear_session() # destroy object\n",
        "\n",
        "\n",
        "\n"
      ],
      "execution_count": null,
      "outputs": [
        {
          "output_type": "stream",
          "text": [
            "Model: \"model\"\n",
            "_________________________________________________________________\n",
            "Layer (type)                 Output Shape              Param #   \n",
            "=================================================================\n",
            "input_1 (InputLayer)         [(None, 80, 60, 3)]       0         \n",
            "_________________________________________________________________\n",
            "conv2d (Conv2D)              (None, 78, 58, 32)        896       \n",
            "_________________________________________________________________\n",
            "batch_normalization (BatchNo (None, 78, 58, 32)        128       \n",
            "_________________________________________________________________\n",
            "conv2d_1 (Conv2D)            (None, 76, 56, 32)        9248      \n",
            "_________________________________________________________________\n",
            "batch_normalization_1 (Batch (None, 76, 56, 32)        128       \n",
            "_________________________________________________________________\n",
            "max_pooling2d (MaxPooling2D) (None, 38, 28, 32)        0         \n",
            "_________________________________________________________________\n",
            "dropout (Dropout)            (None, 38, 28, 32)        0         \n",
            "_________________________________________________________________\n",
            "conv2d_2 (Conv2D)            (None, 36, 26, 64)        18496     \n",
            "_________________________________________________________________\n",
            "batch_normalization_2 (Batch (None, 36, 26, 64)        256       \n",
            "_________________________________________________________________\n",
            "conv2d_3 (Conv2D)            (None, 34, 24, 64)        36928     \n",
            "_________________________________________________________________\n",
            "batch_normalization_3 (Batch (None, 34, 24, 64)        256       \n",
            "_________________________________________________________________\n",
            "max_pooling2d_1 (MaxPooling2 (None, 17, 12, 64)        0         \n",
            "_________________________________________________________________\n",
            "dropout_1 (Dropout)          (None, 17, 12, 64)        0         \n",
            "_________________________________________________________________\n",
            "conv2d_4 (Conv2D)            (None, 15, 10, 128)       73856     \n",
            "_________________________________________________________________\n",
            "batch_normalization_4 (Batch (None, 15, 10, 128)       512       \n",
            "_________________________________________________________________\n",
            "conv2d_5 (Conv2D)            (None, 13, 8, 128)        147584    \n",
            "_________________________________________________________________\n",
            "batch_normalization_5 (Batch (None, 13, 8, 128)        512       \n",
            "_________________________________________________________________\n",
            "max_pooling2d_2 (MaxPooling2 (None, 6, 4, 128)         0         \n",
            "_________________________________________________________________\n",
            "dropout_2 (Dropout)          (None, 6, 4, 128)         0         \n",
            "_________________________________________________________________\n",
            "flatten (Flatten)            (None, 3072)              0         \n",
            "_________________________________________________________________\n",
            "dropout_3 (Dropout)          (None, 3072)              0         \n",
            "_________________________________________________________________\n",
            "dense (Dense)                (None, 1024)              3146752   \n",
            "_________________________________________________________________\n",
            "dropout_4 (Dropout)          (None, 1024)              0         \n",
            "_________________________________________________________________\n",
            "dense_1 (Dense)              (None, 5)                 5125      \n",
            "=================================================================\n",
            "Total params: 3,440,677\n",
            "Trainable params: 3,439,781\n",
            "Non-trainable params: 896\n",
            "_________________________________________________________________\n",
            "Epoch 1/50\n",
            "973/972 [==============================] - 3585s 4s/step - loss: 0.2398 - accuracy: 0.9434 - val_loss: 0.1203 - val_accuracy: 0.9658\n",
            "Epoch 2/50\n",
            "973/972 [==============================] - 153s 157ms/step - loss: 0.0890 - accuracy: 0.9752 - val_loss: 0.1033 - val_accuracy: 0.9689\n",
            "Epoch 3/50\n",
            "973/972 [==============================] - 155s 159ms/step - loss: 0.0734 - accuracy: 0.9801 - val_loss: 0.1691 - val_accuracy: 0.9518\n",
            "Epoch 4/50\n",
            "973/972 [==============================] - 155s 159ms/step - loss: 0.0695 - accuracy: 0.9816 - val_loss: 0.4184 - val_accuracy: 0.9269\n",
            "Epoch 5/50\n",
            "973/972 [==============================] - 156s 161ms/step - loss: 0.0544 - accuracy: 0.9858 - val_loss: 0.0698 - val_accuracy: 0.9842\n",
            "Epoch 6/50\n",
            "973/972 [==============================] - 156s 160ms/step - loss: 0.0442 - accuracy: 0.9891 - val_loss: 0.0563 - val_accuracy: 0.9845\n",
            "Epoch 7/50\n",
            "973/972 [==============================] - 157s 162ms/step - loss: 0.0407 - accuracy: 0.9896 - val_loss: 0.1437 - val_accuracy: 0.9633\n",
            "Epoch 8/50\n",
            "973/972 [==============================] - 157s 161ms/step - loss: 0.0368 - accuracy: 0.9905 - val_loss: 0.1020 - val_accuracy: 0.9809\n",
            "Epoch 9/50\n",
            "973/972 [==============================] - 158s 162ms/step - loss: 0.0305 - accuracy: 0.9921 - val_loss: 0.1787 - val_accuracy: 0.9685\n",
            "Epoch 10/50\n",
            "973/972 [==============================] - 158s 162ms/step - loss: 0.0283 - accuracy: 0.9932 - val_loss: 0.0862 - val_accuracy: 0.9824\n",
            "Epoch 11/50\n",
            "973/972 [==============================] - 158s 163ms/step - loss: 0.0209 - accuracy: 0.9947 - val_loss: 0.7116 - val_accuracy: 0.8951\n",
            "Epoch 12/50\n",
            "973/972 [==============================] - 157s 162ms/step - loss: 0.0249 - accuracy: 0.9938 - val_loss: 0.2785 - val_accuracy: 0.9397\n",
            "Epoch 13/50\n",
            "973/972 [==============================] - 158s 163ms/step - loss: 0.0298 - accuracy: 0.9927 - val_loss: 0.0747 - val_accuracy: 0.9847\n",
            "Epoch 14/50\n",
            "973/972 [==============================] - 157s 161ms/step - loss: 0.0118 - accuracy: 0.9970 - val_loss: 0.0674 - val_accuracy: 0.9874\n",
            "Epoch 15/50\n",
            "973/972 [==============================] - 157s 162ms/step - loss: 0.0199 - accuracy: 0.9951 - val_loss: 0.0783 - val_accuracy: 0.9858\n",
            "Epoch 16/50\n",
            "973/972 [==============================] - 156s 160ms/step - loss: 0.0135 - accuracy: 0.9966 - val_loss: 0.0872 - val_accuracy: 0.9854\n",
            "Epoch 17/50\n",
            "973/972 [==============================] - 157s 161ms/step - loss: 0.0155 - accuracy: 0.9960 - val_loss: 0.0935 - val_accuracy: 0.9865\n",
            "139/139 [==============================] - 19s 136ms/step - loss: 0.0935 - accuracy: 0.9865\n",
            "Test loss model1: 0.09350046515464783\n",
            "Test accuracy model1: 0.9864986538887024\n",
            "Epoch 1/50\n",
            "973/972 [==============================] - 155s 160ms/step - loss: 0.1894 - accuracy: 0.9446 - val_loss: 0.1317 - val_accuracy: 0.9550\n",
            "Epoch 2/50\n",
            "973/972 [==============================] - 162s 166ms/step - loss: 0.0698 - accuracy: 0.9809 - val_loss: 0.0790 - val_accuracy: 0.9741\n",
            "Epoch 3/50\n",
            "973/972 [==============================] - 161s 165ms/step - loss: 0.0441 - accuracy: 0.9887 - val_loss: 0.0626 - val_accuracy: 0.9804\n",
            "Epoch 4/50\n",
            "973/972 [==============================] - 158s 162ms/step - loss: 0.0324 - accuracy: 0.9914 - val_loss: 0.0559 - val_accuracy: 0.9829\n",
            "Epoch 5/50\n",
            "973/972 [==============================] - 158s 162ms/step - loss: 0.0215 - accuracy: 0.9947 - val_loss: 0.0534 - val_accuracy: 0.9847\n",
            "Epoch 6/50\n",
            "973/972 [==============================] - 155s 159ms/step - loss: 0.0153 - accuracy: 0.9963 - val_loss: 0.0462 - val_accuracy: 0.9872\n",
            "Epoch 7/50\n",
            "973/972 [==============================] - 155s 159ms/step - loss: 0.0114 - accuracy: 0.9972 - val_loss: 0.0528 - val_accuracy: 0.9849\n",
            "Epoch 8/50\n",
            "973/972 [==============================] - 154s 158ms/step - loss: 0.0086 - accuracy: 0.9980 - val_loss: 0.0429 - val_accuracy: 0.9876\n",
            "Epoch 9/50\n",
            "973/972 [==============================] - 154s 158ms/step - loss: 0.0063 - accuracy: 0.9987 - val_loss: 0.0474 - val_accuracy: 0.9865\n",
            "Epoch 10/50\n",
            "973/972 [==============================] - 154s 159ms/step - loss: 0.0057 - accuracy: 0.9987 - val_loss: 0.0459 - val_accuracy: 0.9867\n",
            "Epoch 11/50\n",
            "973/972 [==============================] - 155s 159ms/step - loss: 0.0044 - accuracy: 0.9993 - val_loss: 0.0456 - val_accuracy: 0.9872\n",
            "Epoch 12/50\n",
            "973/972 [==============================] - 153s 158ms/step - loss: 0.0039 - accuracy: 0.9992 - val_loss: 0.0479 - val_accuracy: 0.9869\n",
            "Epoch 13/50\n",
            "973/972 [==============================] - 155s 159ms/step - loss: 0.0032 - accuracy: 0.9993 - val_loss: 0.0497 - val_accuracy: 0.9865\n",
            "Epoch 14/50\n",
            "973/972 [==============================] - 156s 161ms/step - loss: 0.0029 - accuracy: 0.9995 - val_loss: 0.0494 - val_accuracy: 0.9865\n",
            "Epoch 15/50\n",
            "973/972 [==============================] - 158s 162ms/step - loss: 0.0026 - accuracy: 0.9995 - val_loss: 0.0452 - val_accuracy: 0.9883\n",
            "Epoch 16/50\n",
            "973/972 [==============================] - 157s 162ms/step - loss: 0.0023 - accuracy: 0.9996 - val_loss: 0.0478 - val_accuracy: 0.9878\n",
            "Epoch 17/50\n",
            "973/972 [==============================] - 159s 164ms/step - loss: 0.0019 - accuracy: 0.9998 - val_loss: 0.0469 - val_accuracy: 0.9878\n",
            "Epoch 18/50\n",
            "973/972 [==============================] - 158s 162ms/step - loss: 0.0022 - accuracy: 0.9997 - val_loss: 0.0460 - val_accuracy: 0.9878\n",
            "Epoch 19/50\n",
            "973/972 [==============================] - 158s 163ms/step - loss: 0.0023 - accuracy: 0.9996 - val_loss: 0.0487 - val_accuracy: 0.9878\n",
            "Epoch 20/50\n",
            "973/972 [==============================] - 155s 160ms/step - loss: 0.0014 - accuracy: 0.9999 - val_loss: 0.0511 - val_accuracy: 0.9869\n",
            "Epoch 21/50\n",
            "973/972 [==============================] - 156s 161ms/step - loss: 0.0018 - accuracy: 0.9996 - val_loss: 0.0488 - val_accuracy: 0.9872\n",
            "Epoch 22/50\n",
            "973/972 [==============================] - 156s 160ms/step - loss: 0.0014 - accuracy: 0.9997 - val_loss: 0.0497 - val_accuracy: 0.9878\n",
            "Epoch 23/50\n",
            "973/972 [==============================] - 157s 162ms/step - loss: 0.0014 - accuracy: 0.9997 - val_loss: 0.0481 - val_accuracy: 0.9872\n",
            "139/139 [==============================] - 19s 140ms/step - loss: 0.0481 - accuracy: 0.9872\n",
            "Test loss model2: 0.04809379577636719\n",
            "Test accuracy model2: 0.9871737360954285\n"
          ],
          "name": "stdout"
        }
      ]
    },
    {
      "cell_type": "markdown",
      "metadata": {
        "id": "6bo-84UnWu0o",
        "colab_type": "text"
      },
      "source": [
        "# Model Evaluation"
      ]
    },
    {
      "cell_type": "code",
      "metadata": {
        "id": "SaePryW95z_s",
        "colab_type": "code",
        "colab": {
          "base_uri": "https://localhost:8080/",
          "height": 1000
        },
        "outputId": "879eff20-d6a7-45c7-d7f5-56e0c85210d2"
      },
      "source": [
        "hist_df1 = pd.DataFrame(model_output_1.history) \n",
        "hist_df2 = pd.DataFrame(model_output_2.history) \n",
        "\n",
        "hist1_csv_file = DATASET_PATH_MODEL+'history1.csv'\n",
        "with open(hist1_csv_file, mode='w') as f:\n",
        "    hist_df1.to_csv(f)\n",
        "\n",
        "hist2_csv_file = DATASET_PATH_MODEL+'history2.csv'\n",
        "with open(hist2_csv_file, mode='w') as f:\n",
        "    hist_df2.to_csv(f)\n",
        "\n",
        "#plot graph\n",
        "tf.keras.utils.plot_model(model1, to_file=DATASET_PATH_MODEL+'feature_extractor.png')"
      ],
      "execution_count": null,
      "outputs": [
        {
          "output_type": "execute_result",
          "data": {
            "image/png": "[encoded data removed]",
            "text/plain": [
              "<IPython.core.display.Image object>"
            ]
          },
          "metadata": {
            "tags": []
          },
          "execution_count": 149
        }
      ]
    },
    {
      "cell_type": "code",
      "metadata": {
        "id": "-nvbP_Z_Ampy",
        "colab_type": "code",
        "colab": {
          "base_uri": "https://localhost:8080/",
          "height": 295
        },
        "outputId": "409f9331-02ba-4b70-c65c-726032d34a61"
      },
      "source": [
        "\n",
        "def plots():\n",
        "\n",
        "  for i in model_output:\n",
        "\n",
        "      plt.plot(i.history['loss'], label='loss')\n",
        "      plt.plot(i.history['val_loss'], label='val_loss')\n",
        "      plt.title('Model loss', color='white')\n",
        "      plt.ylabel('Loss', color='white')\n",
        "      plt.xlabel('Iteration', color='white')\n",
        "      plt.legend()\n",
        "\n",
        "  \n",
        "plots()\n"
      ],
      "execution_count": null,
      "outputs": [
        {
          "output_type": "display_data",
          "data": {
            "image/png": "[encoded data removed]",
            "text/plain": [
              "<Figure size 432x288 with 1 Axes>"
            ]
          },
          "metadata": {
            "tags": [],
            "needs_background": "light"
          }
        }
      ]
    },
    {
      "cell_type": "markdown",
      "metadata": {
        "id": "kov6Z-fYmf6g",
        "colab_type": "text"
      },
      "source": [
        "##Model using Adam optimization"
      ]
    },
    {
      "cell_type": "code",
      "metadata": {
        "id": "iBqgYDc1APAn",
        "colab_type": "code",
        "colab": {
          "base_uri": "https://localhost:8080/",
          "height": 312
        },
        "outputId": "6e86b3f9-eba5-4e60-d378-7ca7034a12cf"
      },
      "source": [
        "# Plot loss per iteration\n",
        "# \n",
        "plt.plot(model_output_1.history['loss'], label='loss')\n",
        "plt.plot(model_output_1.history['val_loss'], label='val_loss')\n",
        "plt.title('Model 1 Loss', color='white')\n",
        "plt.ylabel('Loss', color='white')\n",
        "plt.xlabel('Iteration', color='white')\n",
        "plt.legend()"
      ],
      "execution_count": null,
      "outputs": [
        {
          "output_type": "execute_result",
          "data": {
            "text/plain": [
              "<matplotlib.legend.Legend at 0x7efbea7baef0>"
            ]
          },
          "metadata": {
            "tags": []
          },
          "execution_count": 78
        },
        {
          "output_type": "display_data",
          "data": {
            "image/png": "[encoded data removed]",
            "text/plain": [
              "<Figure size 432x288 with 1 Axes>"
            ]
          },
          "metadata": {
            "tags": [],
            "needs_background": "light"
          }
        }
      ]
    },
    {
      "cell_type": "code",
      "metadata": {
        "id": "H_kIcRH3AQKc",
        "colab_type": "code",
        "colab": {
          "base_uri": "https://localhost:8080/",
          "height": 312
        },
        "outputId": "4cb2e256-3b63-4c93-8c64-9062c98b0bc6"
      },
      "source": [
        "# Plot accuracy per iteration\n",
        "plt.plot(model_output_1.history['accuracy'], label='acc')\n",
        "plt.plot(model_output_1.history['val_accuracy'], label='val_acc')\n",
        "plt.title('Model 1 Accuracy', color='white')\n",
        "plt.ylabel('Accuracy', color='white')\n",
        "plt.xlabel('Iteration', color='white')"
      ],
      "execution_count": null,
      "outputs": [
        {
          "output_type": "execute_result",
          "data": {
            "text/plain": [
              "Text(0.5, 0, 'Iteration')"
            ]
          },
          "metadata": {
            "tags": []
          },
          "execution_count": 135
        },
        {
          "output_type": "display_data",
          "data": {
            "image/png": "[encoded data removed]",
            "text/plain": [
              "<Figure size 432x288 with 1 Axes>"
            ]
          },
          "metadata": {
            "tags": [],
            "needs_background": "light"
          }
        }
      ]
    },
    {
      "cell_type": "markdown",
      "metadata": {
        "id": "ilsBZWQem1bH",
        "colab_type": "text"
      },
      "source": [
        "##Model using Stochastic Gradient Descend"
      ]
    },
    {
      "cell_type": "code",
      "metadata": {
        "id": "45O_vM0wiCNa",
        "colab_type": "code",
        "colab": {
          "base_uri": "https://localhost:8080/",
          "height": 312
        },
        "outputId": "2d4f93a7-83f5-4aeb-d2f8-226fc587430c"
      },
      "source": [
        "# Plot loss per iteration\n",
        "plt.plot(model_output_2.history['loss'], label='loss')\n",
        "plt.plot(model_output_2.history['val_loss'], label='val_loss')\n",
        "plt.title('Model 2 Loss', color='white')\n",
        "plt.ylabel('Loss', color='white')\n",
        "plt.xlabel('Iteration', color='white')\n",
        "plt.legend()"
      ],
      "execution_count": null,
      "outputs": [
        {
          "output_type": "execute_result",
          "data": {
            "text/plain": [
              "<matplotlib.legend.Legend at 0x7efb9906b978>"
            ]
          },
          "metadata": {
            "tags": []
          },
          "execution_count": 138
        },
        {
          "output_type": "display_data",
          "data": {
            "image/png": "[encoded data removed]",
            "text/plain": [
              "<Figure size 432x288 with 1 Axes>"
            ]
          },
          "metadata": {
            "tags": [],
            "needs_background": "light"
          }
        }
      ]
    },
    {
      "cell_type": "code",
      "metadata": {
        "id": "p9vGsnDGiIPt",
        "colab_type": "code",
        "colab": {
          "base_uri": "https://localhost:8080/",
          "height": 312
        },
        "outputId": "328c08a7-092f-4202-dd7e-d4f7ac95b269"
      },
      "source": [
        "plt.plot(model_output_2.history['accuracy'], label='acc')\n",
        "plt.plot(model_output_2.history['val_accuracy'], label='val_acc')\n",
        "plt.title('Model 2 Accuracy', color='white')\n",
        "plt.ylabel('Accuracy', color='white')\n",
        "plt.xlabel('Iteration', color='white')"
      ],
      "execution_count": null,
      "outputs": [
        {
          "output_type": "execute_result",
          "data": {
            "text/plain": [
              "Text(0.5, 0, 'Iteration')"
            ]
          },
          "metadata": {
            "tags": []
          },
          "execution_count": 137
        },
        {
          "output_type": "display_data",
          "data": {
            "image/png": "[encoded data removed]",
            "text/plain": [
              "<Figure size 432x288 with 1 Axes>"
            ]
          },
          "metadata": {
            "tags": [],
            "needs_background": "light"
          }
        }
      ]
    },
    {
      "cell_type": "markdown",
      "metadata": {
        "id": "f-Com1SntUuD",
        "colab_type": "text"
      },
      "source": [
        "#Loading the models for predictions \n",
        "\n"
      ]
    },
    {
      "cell_type": "code",
      "metadata": {
        "id": "KY8R-coqO0di",
        "colab_type": "code",
        "colab": {}
      },
      "source": [
        "# Loading models for predictions and averaging\n",
        "\n",
        "from keras.models import load_model\n",
        "\n",
        "model_members = []\n",
        "\n",
        "for i in range(len(model_output)):\n",
        " \n",
        "  model_1 = tf.keras.models.load_model(DATASET_PATH_MODEL+'model_1.h5') # load model\n",
        "  model_members.append('model_1')\n",
        "\n",
        "  model_2 = tf.keras.models.load_model(DATASET_PATH_MODEL+'model_2.h5') # load model\n",
        "  model_members.append('model_2')"
      ],
      "execution_count": null,
      "outputs": []
    },
    {
      "cell_type": "markdown",
      "metadata": {
        "id": "rL5zSt5fr62K",
        "colab_type": "text"
      },
      "source": [
        "## Predictions on test data using loaded model"
      ]
    },
    {
      "cell_type": "code",
      "metadata": {
        "id": "4p0v3JE4O6l6",
        "colab_type": "code",
        "colab": {
          "base_uri": "https://localhost:8080/",
          "height": 238
        },
        "outputId": "e89e37ec-849f-42b5-c86f-e0d75e700d77"
      },
      "source": [
        "# Making predictions on test data using model 1 for comparison \n",
        "\n",
        "test_generator.reset()\n",
        "test_steps_per_epoch = np.math.ceil(test_generator.samples / test_generator.batch_size)\n",
        "pred=model_1.predict(test_generator,verbose=1,steps=test_steps_per_epoch)\n",
        "predicted_class_indices=np.argmax(pred,axis=1)\n",
        "\n",
        "# Building a dataframe that maps predictions to true classes\n",
        "\n",
        "labels = (train_generator.class_indices)\n",
        "labels = dict((v,k) for k,v in labels.items())\n",
        "predictions = [labels[k] for k in predicted_class_indices]\n",
        "filenames=test_generator.filenames\n",
        "results=pd.DataFrame({\"image\":filenames,\n",
        "                      \"predictions\":predictions})\n",
        "true_and_predicted_labels = pd.merge(df_test[['id','image','masterCategory']], results, on=\"image\")\n",
        "\n",
        "# Calculating percentage of correct predictions on test data\n",
        "\n",
        "true_and_predicted_labels['correct_label'] = np.where(true_and_predicted_labels.masterCategory == true_and_predicted_labels.predictions, 1, 0)\n",
        "print('Model_1 prediction accuracy on test subset:', true_and_predicted_labels['correct_label'].sum()/len(true_and_predicted_labels.predictions)*100)\n",
        "true_and_predicted_labels.head()"
      ],
      "execution_count": null,
      "outputs": [
        {
          "output_type": "stream",
          "text": [
            "4445/4445 [==============================] - 25s 6ms/step\n",
            "Model_1 prediction accuracy on test subset: 98.31271091113611\n"
          ],
          "name": "stdout"
        },
        {
          "output_type": "execute_result",
          "data": {
            "text/html": [
              "<div>\n",
              "<style scoped>\n",
              "    .dataframe tbody tr th:only-of-type {\n",
              "        vertical-align: middle;\n",
              "    }\n",
              "\n",
              "    .dataframe tbody tr th {\n",
              "        vertical-align: top;\n",
              "    }\n",
              "\n",
              "    .dataframe thead th {\n",
              "        text-align: right;\n",
              "    }\n",
              "</style>\n",
              "<table border=\"1\" class=\"dataframe\">\n",
              "  <thead>\n",
              "    <tr style=\"text-align: right;\">\n",
              "      <th></th>\n",
              "      <th>id</th>\n",
              "      <th>image</th>\n",
              "      <th>masterCategory</th>\n",
              "      <th>predictions</th>\n",
              "      <th>correct_label</th>\n",
              "    </tr>\n",
              "  </thead>\n",
              "  <tbody>\n",
              "    <tr>\n",
              "      <th>0</th>\n",
              "      <td>13729</td>\n",
              "      <td>13729.jpg</td>\n",
              "      <td>Apparel</td>\n",
              "      <td>Apparel</td>\n",
              "      <td>1</td>\n",
              "    </tr>\n",
              "    <tr>\n",
              "      <th>1</th>\n",
              "      <td>22192</td>\n",
              "      <td>22192.jpg</td>\n",
              "      <td>Footwear</td>\n",
              "      <td>Footwear</td>\n",
              "      <td>1</td>\n",
              "    </tr>\n",
              "    <tr>\n",
              "      <th>2</th>\n",
              "      <td>34183</td>\n",
              "      <td>34183.jpg</td>\n",
              "      <td>Apparel</td>\n",
              "      <td>Apparel</td>\n",
              "      <td>1</td>\n",
              "    </tr>\n",
              "    <tr>\n",
              "      <th>3</th>\n",
              "      <td>48486</td>\n",
              "      <td>48486.jpg</td>\n",
              "      <td>Apparel</td>\n",
              "      <td>Apparel</td>\n",
              "      <td>1</td>\n",
              "    </tr>\n",
              "    <tr>\n",
              "      <th>4</th>\n",
              "      <td>25637</td>\n",
              "      <td>25637.jpg</td>\n",
              "      <td>Accessories</td>\n",
              "      <td>Accessories</td>\n",
              "      <td>1</td>\n",
              "    </tr>\n",
              "  </tbody>\n",
              "</table>\n",
              "</div>"
            ],
            "text/plain": [
              "      id      image masterCategory  predictions  correct_label\n",
              "0  13729  13729.jpg        Apparel      Apparel              1\n",
              "1  22192  22192.jpg       Footwear     Footwear              1\n",
              "2  34183  34183.jpg        Apparel      Apparel              1\n",
              "3  48486  48486.jpg        Apparel      Apparel              1\n",
              "4  25637  25637.jpg    Accessories  Accessories              1"
            ]
          },
          "metadata": {
            "tags": []
          },
          "execution_count": 126
        }
      ]
    },
    {
      "cell_type": "markdown",
      "metadata": {
        "id": "EqCpD0fmrc8i",
        "colab_type": "text"
      },
      "source": [
        "##Example of misclassified predicted images"
      ]
    },
    {
      "cell_type": "code",
      "metadata": {
        "id": "sB2CcGvmqhX2",
        "colab_type": "code",
        "colab": {}
      },
      "source": [
        "import cv2\n",
        "from google.colab.patches import cv2_imshow\n",
        "\n",
        "def plot_figures(figures, nrows = 1, ncols=1):\n",
        "    \"\"\"Plot a dictionary of figures.\n",
        "\n",
        "    Parameters\n",
        "    ----------\n",
        "    figures : <title, figure> dictionary\n",
        "    ncols : number of columns of subplots wanted in the display\n",
        "    nrows : number of rows of subplots wanted in the figure\n",
        "    \"\"\"\n",
        "\n",
        "    fig, axeslist = plt.subplots(ncols=ncols, nrows=nrows)\n",
        "    for ind,title in enumerate(figures):\n",
        "        axeslist.ravel()[ind].imshow(cv2.cvtColor(figures[title], cv2.COLOR_BGR2RGB))\n",
        "        axeslist.ravel()[ind].set_title(title)\n",
        "        axeslist.ravel()[ind].set_axis_off()\n",
        "    plt.tight_layout() # optional\n",
        "    \n",
        "def img_path(img):\n",
        "    return images_data+img\n",
        "\n",
        "def load_image(img):\n",
        "    #resized_fac = \n",
        "    img     = cv2.imread(img_path(img))\n",
        "    w, h, _ = img.shape\n",
        "    #resized = cv2.resize(img, (int(h*resized_fac), int(w*resized_fac)), interpolation = cv2.INTER_AREA)\n",
        "    return img\n"
      ],
      "execution_count": null,
      "outputs": []
    },
    {
      "cell_type": "code",
      "metadata": {
        "id": "6leQW1wWqJ54",
        "colab_type": "code",
        "colab": {
          "base_uri": "https://localhost:8080/",
          "height": 314
        },
        "outputId": "4c79468b-0a6c-4339-ab34-1b70e0a6cd28"
      },
      "source": [
        "misclassified_idx = pd.DataFrame()\n",
        "misclassified_idx = true_and_predicted_labels.loc[true_and_predicted_labels['correct_label'] != 1].copy()\n",
        "# generation of a dictionary of (title, images)\n",
        "figures = {misclassified_idx.predictions[i]+\" \"+misclassified_idx.masterCategory[i]+str(i): load_image(row.image) for i, row in misclassified_idx.sample(4).iterrows()}\n",
        "#plot of the images in a figure, with 2 rows and 3 columns\n",
        "print(load_image(misclassified_idx.iloc[0].image).shape)\n",
        "plot_figures(figures, 2, 2)"
      ],
      "execution_count": null,
      "outputs": [
        {
          "output_type": "stream",
          "text": [
            "(80, 60, 3)\n"
          ],
          "name": "stdout"
        },
        {
          "output_type": "display_data",
          "data": {
            "image/png": "[encoded data removed]",
            "text/plain": [
              "<Figure size 432x288 with 4 Axes>"
            ]
          },
          "metadata": {
            "tags": [],
            "needs_background": "light"
          }
        }
      ]
    },
    {
      "cell_type": "markdown",
      "metadata": {
        "id": "rJUMHaXPoapV",
        "colab_type": "text"
      },
      "source": [
        "##Mapping and rescaling control data subset with ImageDataGenerator.\n",
        "##Control data subset will be used as unseen data"
      ]
    },
    {
      "cell_type": "markdown",
      "metadata": {
        "id": "Ew_Zd6MFrRyT",
        "colab_type": "text"
      },
      "source": [
        "# Ensemble Learning - Averaging predictions for better generalization"
      ]
    },
    {
      "cell_type": "markdown",
      "metadata": {
        "id": "wyOp4Y5Mo6uZ",
        "colab_type": "text"
      },
      "source": [
        "##Predictions on control subset"
      ]
    },
    {
      "cell_type": "code",
      "metadata": {
        "id": "nhtzVBmH1sA8",
        "colab_type": "code",
        "colab": {}
      },
      "source": [
        "# Mapping and rescaling control subset of unseen data \n",
        "\n",
        "HEIGHT = 80\n",
        "WIDTH = 60\n",
        "batch_size = 32\n",
        "datagen = ImageDataGenerator(rescale=1./255)\n",
        "test_datagen = ImageDataGenerator(rescale=1./255)\n",
        "\n",
        "control_generator=datagen.flow_from_dataframe(\n",
        "                    dataframe=df_control_subset,\n",
        "                    directory=images_data,\n",
        "                    x_col=\"image\",\n",
        "                    y_col=\"masterCategory\",\n",
        "                    batch_size=batch_size,\n",
        "                    seed=42,\n",
        "                    shuffle=False,\n",
        "                    class_mode=\"categorical\",\n",
        "                    classes=['Footwear', 'Apparel', 'Accessories', 'Personal Care', 'Free Items'],"
      ],
      "execution_count": null,
      "outputs": []
    },
    {
      "cell_type": "code",
      "metadata": {
        "id": "k-6Jmf_c1zWR",
        "colab_type": "code",
        "colab": {}
      },
      "source": [
        "# Model 1 predictions on the control subset\n",
        "# Close to 98.31 accuracy prediction on test subset\n",
        "\n",
        "test_steps_per_epoch = np.math.ceil(control_generator.samples / control_generator.batch_size)\n",
        "labels = (control_generator.classes)\n",
        "n_samples = 4445\n",
        "\n",
        "pred_1=model_1.predict(control_generator,verbose=1,steps=test_steps_per_epoch)\n",
        "predicted_class1=np.argmax(pred_1,axis=1)\n",
        "\n",
        "print(\"Model_1 prediction accuracy  on the control subset:\", sum(predicted_class1==labels)/n_samples)"
      ],
      "execution_count": null,
      "outputs": []
    },
    {
      "cell_type": "code",
      "metadata": {
        "id": "9zn8MI0gDmNX",
        "colab_type": "code",
        "colab": {
          "base_uri": "https://localhost:8080/",
          "height": 51
        },
        "outputId": "7dace0b0-8882-422d-89c7-3bbfd91d4ad6"
      },
      "source": [
        "# Model 2 predictions on the unseen data on control subset\n",
        "\n",
        "pred_2=model_2.predict(control_generator,verbose=1,steps=test_steps_per_epoch)\n",
        "predicted_class_indices=np.argmax(pred_2,axis=1)\n",
        "print(\"Model_2 prediction accuracy on the control subset:\", sum(predicted_class_indices==labels)/n_samples)"
      ],
      "execution_count": null,
      "outputs": [
        {
          "output_type": "stream",
          "text": [
            "139/139 [==============================] - 18s 131ms/step\n",
            "Model_2 prediction accuracy on the control subset: 0.9874015748031496\n"
          ],
          "name": "stdout"
        }
      ]
    },
    {
      "cell_type": "code",
      "metadata": {
        "id": "3zxukeZ8al2-",
        "colab_type": "code",
        "colab": {
          "base_uri": "https://localhost:8080/",
          "height": 34
        },
        "outputId": "dfc9dfba-6e85-474a-aa31-f0c894de1aae"
      },
      "source": [
        "#Averaging predictions of two models on unseen data\n",
        "\n",
        "finalpred1=(pred_1+pred_2)/2\n",
        "\n",
        "def acc(y, pred):\n",
        "     return np.equal(control_generator.classes, np.argmax(finalpred, axis=1)).mean()\n",
        "\n",
        "print(\"Accuracy of averaged predictions: \" + str(acc(control_generator.classes, finalpred1)))"
      ],
      "execution_count": null,
      "outputs": [
        {
          "output_type": "stream",
          "text": [
            "Accuracy of averaged predictions: 0.9903240324032403\n"
          ],
          "name": "stdout"
        }
      ]
    },
    {
      "cell_type": "markdown",
      "metadata": {
        "id": "LjWAHGskou1u",
        "colab_type": "text"
      },
      "source": [
        "##Classification Report and Confusion Matrix of Averaged Model"
      ]
    },
    {
      "cell_type": "code",
      "metadata": {
        "id": "6jdfmNZoZxGB",
        "colab_type": "code",
        "colab": {
          "base_uri": "https://localhost:8080/",
          "height": 719
        },
        "outputId": "c8089bea-c9d4-4e71-bd22-a43bd910cb07"
      },
      "source": [
        "# Plot confusion matrix of averaged model\n",
        "\n",
        "from sklearn.metrics import confusion_matrix\n",
        "import itertools\n",
        "from sklearn.metrics import classification_report\n",
        "\n",
        "result1 = classification_report(control_generator.classes, np.argmax(finalpred, axis=1))\n",
        "print(\"Classification Report of averaged model:\",)\n",
        "print (result1)\n",
        "\n",
        "def plot_confusion_matrix(cm, classes,\n",
        "                          normalize=True,\n",
        "                          title='Confusion matrix',\n",
        "                          cmap=plt.cm.Blues):\n",
        "  \"\"\"\n",
        "  Normalization can be applied by setting `normalize=True`.\n",
        "  \"\"\"\n",
        "  if normalize:\n",
        "      cm = cm.astype('float') / cm.sum(axis=1)[:, np.newaxis]\n",
        "      print(\"Normalized confusion matrix\")\n",
        "  else:\n",
        "      print('Confusion matrix, with normalization')\n",
        "\n",
        "  print(cm)\n",
        "\n",
        "  plt.imshow(cm, interpolation='nearest', cmap=cmap)\n",
        "  plt.title(title)\n",
        "  plt.colorbar()\n",
        "  tick_marks = np.arange(len(classes))\n",
        "  plt.xticks(tick_marks, classes, rotation=45)\n",
        "  plt.yticks(tick_marks, classes)\n",
        "\n",
        "  fmt = '.2f' if normalize else 'd'\n",
        "  thresh = cm.max() / 2.\n",
        "  for i, j in itertools.product(range(cm.shape[0]), range(cm.shape[1])):\n",
        "      plt.text(j, i, format(cm[i, j], fmt),\n",
        "               horizontalalignment=\"center\",\n",
        "               color=\"white\" if cm[i, j] > thresh else \"black\")\n",
        "\n",
        "  plt.tight_layout()\n",
        "  plt.ylabel('True label',color='white')\n",
        "  plt.xlabel('Predicted label',color='white')\n",
        "  plt.show()\n",
        "\n",
        "\n",
        "cm = confusion_matrix(control_generator.classes, np.argmax(finalpred, axis=1))\n",
        "plot_confusion_matrix(cm, list(range(5)))\n",
        "\n"
      ],
      "execution_count": null,
      "outputs": [
        {
          "output_type": "stream",
          "text": [
            "Classification Report of averaged model:\n",
            "              precision    recall  f1-score   support\n",
            "\n",
            "           0       0.98      0.99      0.98      1129\n",
            "           1       0.99      1.00      1.00      2139\n",
            "           2       1.00      1.00      1.00       923\n",
            "           3       0.75      0.23      0.35        13\n",
            "           4       0.98      0.97      0.98       240\n",
            "\n",
            "    accuracy                           0.99      4444\n",
            "   macro avg       0.94      0.84      0.86      4444\n",
            "weighted avg       0.99      0.99      0.99      4444\n",
            "\n",
            "Normalized confusion matrix\n",
            "[[9.86713906e-01 7.97165633e-03 8.85739593e-04 8.85739593e-04\n",
            "  3.54295837e-03]\n",
            " [4.20757363e-03 9.95792426e-01 0.00000000e+00 0.00000000e+00\n",
            "  0.00000000e+00]\n",
            " [2.16684724e-03 1.08342362e-03 9.96749729e-01 0.00000000e+00\n",
            "  0.00000000e+00]\n",
            " [6.92307692e-01 0.00000000e+00 0.00000000e+00 2.30769231e-01\n",
            "  7.69230769e-02]\n",
            " [1.66666667e-02 8.33333333e-03 0.00000000e+00 0.00000000e+00\n",
            "  9.75000000e-01]]\n"
          ],
          "name": "stdout"
        },
        {
          "output_type": "display_data",
          "data": {
            "image/png": "[encoded data removed]",
            "text/plain": [
              "<Figure size 432x288 with 2 Axes>"
            ]
          },
          "metadata": {
            "tags": [],
            "needs_background": "light"
          }
        }
      ]
    }
  ]
}